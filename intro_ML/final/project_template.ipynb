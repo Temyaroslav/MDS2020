{
 "cells": [
  {
   "cell_type": "code",
   "execution_count": 66,
   "metadata": {},
   "outputs": [],
   "source": [
    "import numpy as np\n",
    "import pandas as pd\n",
    "from scipy import stats\n",
    "import matplotlib.pyplot as plt\n",
    "import seaborn as sns"
   ]
  },
  {
   "cell_type": "markdown",
   "metadata": {},
   "source": [
    "This is a template for your final project. "
   ]
  },
  {
   "cell_type": "code",
   "execution_count": 67,
   "metadata": {},
   "outputs": [
    {
     "data": {
      "text/html": [
       "<div>\n",
       "<style scoped>\n",
       "    .dataframe tbody tr th:only-of-type {\n",
       "        vertical-align: middle;\n",
       "    }\n",
       "\n",
       "    .dataframe tbody tr th {\n",
       "        vertical-align: top;\n",
       "    }\n",
       "\n",
       "    .dataframe thead th {\n",
       "        text-align: right;\n",
       "    }\n",
       "</style>\n",
       "<table border=\"1\" class=\"dataframe\">\n",
       "  <thead>\n",
       "    <tr style=\"text-align: right;\">\n",
       "      <th></th>\n",
       "      <th>imdb_title_id</th>\n",
       "      <th>title</th>\n",
       "      <th>original_title</th>\n",
       "      <th>year</th>\n",
       "      <th>date_published</th>\n",
       "      <th>genre</th>\n",
       "      <th>duration</th>\n",
       "      <th>country</th>\n",
       "      <th>language</th>\n",
       "      <th>director</th>\n",
       "      <th>...</th>\n",
       "      <th>actors</th>\n",
       "      <th>description</th>\n",
       "      <th>avg_vote</th>\n",
       "      <th>votes</th>\n",
       "      <th>budget</th>\n",
       "      <th>usa_gross_income</th>\n",
       "      <th>worlwide_gross_income</th>\n",
       "      <th>metascore</th>\n",
       "      <th>reviews_from_users</th>\n",
       "      <th>reviews_from_critics</th>\n",
       "    </tr>\n",
       "  </thead>\n",
       "  <tbody>\n",
       "    <tr>\n",
       "      <th>0</th>\n",
       "      <td>tt0000574</td>\n",
       "      <td>The Story of the Kelly Gang</td>\n",
       "      <td>The Story of the Kelly Gang</td>\n",
       "      <td>1906</td>\n",
       "      <td>1906-12-26</td>\n",
       "      <td>Biography, Crime, Drama</td>\n",
       "      <td>70</td>\n",
       "      <td>Australia</td>\n",
       "      <td>NaN</td>\n",
       "      <td>Charles Tait</td>\n",
       "      <td>...</td>\n",
       "      <td>Elizabeth Tait, John Tait, Norman Campbell, Be...</td>\n",
       "      <td>True story of notorious Australian outlaw Ned ...</td>\n",
       "      <td>6.1</td>\n",
       "      <td>537</td>\n",
       "      <td>$ 2250</td>\n",
       "      <td>NaN</td>\n",
       "      <td>NaN</td>\n",
       "      <td>NaN</td>\n",
       "      <td>7.0</td>\n",
       "      <td>7.0</td>\n",
       "    </tr>\n",
       "    <tr>\n",
       "      <th>1</th>\n",
       "      <td>tt0001892</td>\n",
       "      <td>Den sorte drøm</td>\n",
       "      <td>Den sorte drøm</td>\n",
       "      <td>1911</td>\n",
       "      <td>1911-08-19</td>\n",
       "      <td>Drama</td>\n",
       "      <td>53</td>\n",
       "      <td>Germany, Denmark</td>\n",
       "      <td>NaN</td>\n",
       "      <td>Urban Gad</td>\n",
       "      <td>...</td>\n",
       "      <td>Asta Nielsen, Valdemar Psilander, Gunnar Helse...</td>\n",
       "      <td>Two men of high rank are both wooing the beaut...</td>\n",
       "      <td>5.9</td>\n",
       "      <td>171</td>\n",
       "      <td>NaN</td>\n",
       "      <td>NaN</td>\n",
       "      <td>NaN</td>\n",
       "      <td>NaN</td>\n",
       "      <td>4.0</td>\n",
       "      <td>2.0</td>\n",
       "    </tr>\n",
       "    <tr>\n",
       "      <th>2</th>\n",
       "      <td>tt0002101</td>\n",
       "      <td>Cleopatra</td>\n",
       "      <td>Cleopatra</td>\n",
       "      <td>1912</td>\n",
       "      <td>1912-11-13</td>\n",
       "      <td>Drama, History</td>\n",
       "      <td>100</td>\n",
       "      <td>USA</td>\n",
       "      <td>English</td>\n",
       "      <td>Charles L. Gaskill</td>\n",
       "      <td>...</td>\n",
       "      <td>Helen Gardner, Pearl Sindelar, Miss Fielding, ...</td>\n",
       "      <td>The fabled queen of Egypt's affair with Roman ...</td>\n",
       "      <td>5.2</td>\n",
       "      <td>420</td>\n",
       "      <td>$ 45000</td>\n",
       "      <td>NaN</td>\n",
       "      <td>NaN</td>\n",
       "      <td>NaN</td>\n",
       "      <td>24.0</td>\n",
       "      <td>3.0</td>\n",
       "    </tr>\n",
       "  </tbody>\n",
       "</table>\n",
       "<p>3 rows × 22 columns</p>\n",
       "</div>"
      ],
      "text/plain": [
       "  imdb_title_id                        title               original_title  \\\n",
       "0     tt0000574  The Story of the Kelly Gang  The Story of the Kelly Gang   \n",
       "1     tt0001892               Den sorte drøm               Den sorte drøm   \n",
       "2     tt0002101                    Cleopatra                    Cleopatra   \n",
       "\n",
       "   year date_published                    genre  duration           country  \\\n",
       "0  1906     1906-12-26  Biography, Crime, Drama        70         Australia   \n",
       "1  1911     1911-08-19                    Drama        53  Germany, Denmark   \n",
       "2  1912     1912-11-13           Drama, History       100               USA   \n",
       "\n",
       "  language            director  ...  \\\n",
       "0      NaN        Charles Tait  ...   \n",
       "1      NaN           Urban Gad  ...   \n",
       "2  English  Charles L. Gaskill  ...   \n",
       "\n",
       "                                              actors  \\\n",
       "0  Elizabeth Tait, John Tait, Norman Campbell, Be...   \n",
       "1  Asta Nielsen, Valdemar Psilander, Gunnar Helse...   \n",
       "2  Helen Gardner, Pearl Sindelar, Miss Fielding, ...   \n",
       "\n",
       "                                         description avg_vote votes   budget  \\\n",
       "0  True story of notorious Australian outlaw Ned ...      6.1   537   $ 2250   \n",
       "1  Two men of high rank are both wooing the beaut...      5.9   171      NaN   \n",
       "2  The fabled queen of Egypt's affair with Roman ...      5.2   420  $ 45000   \n",
       "\n",
       "   usa_gross_income worlwide_gross_income metascore reviews_from_users  \\\n",
       "0               NaN                   NaN       NaN                7.0   \n",
       "1               NaN                   NaN       NaN                4.0   \n",
       "2               NaN                   NaN       NaN               24.0   \n",
       "\n",
       "   reviews_from_critics  \n",
       "0                   7.0  \n",
       "1                   2.0  \n",
       "2                   3.0  \n",
       "\n",
       "[3 rows x 22 columns]"
      ]
     },
     "execution_count": 67,
     "metadata": {},
     "output_type": "execute_result"
    }
   ],
   "source": [
    "full_dataset = pd.read_csv('IMDb movies.csv')\n",
    "full_dataset.head(3)"
   ]
  },
  {
   "cell_type": "markdown",
   "metadata": {},
   "source": [
    "### Part 1.\n",
    "\n",
    "Task formalization and Evaluation criteria\n",
    "\n",
    "### 1.1 Select your target variable, explain your choice. Separate target variable from the feature matrix."
   ]
  },
  {
   "cell_type": "markdown",
   "metadata": {},
   "source": [
    "Since we need to come up with a ML model to measure and predict the success of a movie it makes sense to choose a target variable from our dataset which can serve as some proxy of a movie's success. The potential candidates would be `avg_note`, `usa_gross_income`, `worldwise_gross_income`, `metascore` - which are variables that define either some sort of rating or the box office of the movie (i.e. gross income) and can be both considered as a measure of success of a movie. Let's check what proportion of these variables is missing:"
   ]
  },
  {
   "cell_type": "code",
   "execution_count": 68,
   "metadata": {},
   "outputs": [
    {
     "data": {
      "text/plain": [
       "avg_vote                 0.000000\n",
       "usa_gross_income         0.802452\n",
       "worlwide_gross_income    0.682116\n",
       "metascore                0.853616\n",
       "dtype: float64"
      ]
     },
     "execution_count": 68,
     "metadata": {},
     "output_type": "execute_result"
    }
   ],
   "source": [
    "full_dataset[['avg_vote', 'usa_gross_income', \n",
    "              'worlwide_gross_income', 'metascore']].isna().sum() / full_dataset.shape[0]"
   ]
  },
  {
   "cell_type": "markdown",
   "metadata": {},
   "source": [
    "We see that around 70-80% of data is missing for `usa_gross_income` and `worlwide_gross_income`, therefore it would be impractical to use one of them as a target variable. The same goes to `metascore` variable. Therefore, it makes sense for the film-making company to use `avg_vote` variable as a measure of success for a movie. As an example, the decision making process for the company could be as follows: the company decides to produce a movie only if the predicted rating is above the certain threshold, otherwise it doesn't produce it."
   ]
  },
  {
   "cell_type": "markdown",
   "metadata": {},
   "source": [
    "That being said, I think we also need to adjust `avg_vote` by the number of votes. For example, if a movie receives 9 out of 10 from 5 voters it doesn't necessarily mean that the rating is higher than for a movie with 8.9 rating from a thousand voters. Let's check it for some arbitrary high rating:"
   ]
  },
  {
   "cell_type": "code",
   "execution_count": 69,
   "metadata": {},
   "outputs": [
    {
     "data": {
      "image/png": "[encoded data removed]",
      "text/plain": [
       "<Figure size 432x288 with 1 Axes>"
      ]
     },
     "metadata": {
      "needs_background": "light"
     },
     "output_type": "display_data"
    }
   ],
   "source": [
    "full_dataset[full_dataset['avg_vote'] == 9.0]['votes'].plot(kind='hist');\n",
    "plt.xlabel('votes')\n",
    "plt.grid()"
   ]
  },
  {
   "cell_type": "code",
   "execution_count": 70,
   "metadata": {},
   "outputs": [
    {
     "data": {
      "text/html": [
       "<div>\n",
       "<style scoped>\n",
       "    .dataframe tbody tr th:only-of-type {\n",
       "        vertical-align: middle;\n",
       "    }\n",
       "\n",
       "    .dataframe tbody tr th {\n",
       "        vertical-align: top;\n",
       "    }\n",
       "\n",
       "    .dataframe thead th {\n",
       "        text-align: right;\n",
       "    }\n",
       "</style>\n",
       "<table border=\"1\" class=\"dataframe\">\n",
       "  <thead>\n",
       "    <tr style=\"text-align: right;\">\n",
       "      <th></th>\n",
       "      <th>title</th>\n",
       "      <th>avg_vote</th>\n",
       "      <th>votes</th>\n",
       "    </tr>\n",
       "  </thead>\n",
       "  <tbody>\n",
       "    <tr>\n",
       "      <th>46756</th>\n",
       "      <td>The Dark Knight</td>\n",
       "      <td>9.0</td>\n",
       "      <td>2134569</td>\n",
       "    </tr>\n",
       "    <tr>\n",
       "      <th>15954</th>\n",
       "      <td>The Godfather: Part II</td>\n",
       "      <td>9.0</td>\n",
       "      <td>1032047</td>\n",
       "    </tr>\n",
       "    <tr>\n",
       "      <th>37286</th>\n",
       "      <td>Hababam Sinifi Sinifta Kaldi</td>\n",
       "      <td>9.0</td>\n",
       "      <td>20024</td>\n",
       "    </tr>\n",
       "    <tr>\n",
       "      <th>37370</th>\n",
       "      <td>Tosun Pasa</td>\n",
       "      <td>9.0</td>\n",
       "      <td>19637</td>\n",
       "    </tr>\n",
       "    <tr>\n",
       "      <th>19824</th>\n",
       "      <td>Maratonci trce pocasni krug</td>\n",
       "      <td>9.0</td>\n",
       "      <td>13305</td>\n",
       "    </tr>\n",
       "    <tr>\n",
       "      <th>41886</th>\n",
       "      <td>Sandesham</td>\n",
       "      <td>9.0</td>\n",
       "      <td>2936</td>\n",
       "    </tr>\n",
       "    <tr>\n",
       "      <th>23574</th>\n",
       "      <td>Vreme na nasilie</td>\n",
       "      <td>9.0</td>\n",
       "      <td>1928</td>\n",
       "    </tr>\n",
       "    <tr>\n",
       "      <th>38934</th>\n",
       "      <td>Opasen char</td>\n",
       "      <td>9.0</td>\n",
       "      <td>1468</td>\n",
       "    </tr>\n",
       "    <tr>\n",
       "      <th>51732</th>\n",
       "      <td>Shindisi</td>\n",
       "      <td>9.0</td>\n",
       "      <td>180</td>\n",
       "    </tr>\n",
       "    <tr>\n",
       "      <th>51858</th>\n",
       "      <td>Officer Arjun Singh IPS</td>\n",
       "      <td>9.0</td>\n",
       "      <td>115</td>\n",
       "    </tr>\n",
       "  </tbody>\n",
       "</table>\n",
       "</div>"
      ],
      "text/plain": [
       "                              title  avg_vote    votes\n",
       "46756               The Dark Knight       9.0  2134569\n",
       "15954        The Godfather: Part II       9.0  1032047\n",
       "37286  Hababam Sinifi Sinifta Kaldi       9.0    20024\n",
       "37370                    Tosun Pasa       9.0    19637\n",
       "19824   Maratonci trce pocasni krug       9.0    13305\n",
       "41886                     Sandesham       9.0     2936\n",
       "23574              Vreme na nasilie       9.0     1928\n",
       "38934                   Opasen char       9.0     1468\n",
       "51732                      Shindisi       9.0      180\n",
       "51858       Officer Arjun Singh IPS       9.0      115"
      ]
     },
     "execution_count": 70,
     "metadata": {},
     "output_type": "execute_result"
    }
   ],
   "source": [
    "full_dataset[full_dataset['avg_vote'] == 9.0][['title', 'avg_vote', 'votes']].sort_values(['votes'], ascending=False)"
   ]
  },
  {
   "cell_type": "markdown",
   "metadata": {},
   "source": [
    "Well it's clear that although having the same rating, the movie like 'The Godfather: Part II' is much more popular than 'Vreme na nasilie' with only few votes. Therefore, it's necessary for us to weight the target `avg_vote` by using the variable `votes`. Let's use the similar approach that IMDb uses for its top 250 movies (https://help.imdb.com/article/imdb/track-movies-tv/ratings-faq/G67Y87TFYYP6TWAV#):\n",
    "\n",
    "weighted rating (WR) = (v ÷ (v+m)) × R + (m ÷ (v+m)) × C\n",
    "\n",
    "Where:\n",
    "\n",
    "R = average for the movie (mean) = (rating)\n",
    "\n",
    "v = number of votes for the movie = (votes)\n",
    "\n",
    "m = minimum votes required to be listed in the Top Rated list (currently 25,000)\n",
    "\n",
    "C = the mean vote across the whole report\n",
    "\n",
    "Let's apply it to our dataset now:"
   ]
  },
  {
   "cell_type": "code",
   "execution_count": 71,
   "metadata": {},
   "outputs": [],
   "source": [
    "full_dataset['wtd_avg_vote'] = full_dataset['votes']/(full_dataset['votes'] + 25e3) * full_dataset['avg_vote'] + \\\n",
    "    25e3/(full_dataset['votes'] + 25e3) * full_dataset['avg_vote'].mean()"
   ]
  },
  {
   "cell_type": "markdown",
   "metadata": {},
   "source": [
    "Let's check if it fixed the issue from above:"
   ]
  },
  {
   "cell_type": "code",
   "execution_count": 72,
   "metadata": {},
   "outputs": [
    {
     "data": {
      "text/html": [
       "<div>\n",
       "<style scoped>\n",
       "    .dataframe tbody tr th:only-of-type {\n",
       "        vertical-align: middle;\n",
       "    }\n",
       "\n",
       "    .dataframe tbody tr th {\n",
       "        vertical-align: top;\n",
       "    }\n",
       "\n",
       "    .dataframe thead th {\n",
       "        text-align: right;\n",
       "    }\n",
       "</style>\n",
       "<table border=\"1\" class=\"dataframe\">\n",
       "  <thead>\n",
       "    <tr style=\"text-align: right;\">\n",
       "      <th></th>\n",
       "      <th>title</th>\n",
       "      <th>avg_vote</th>\n",
       "      <th>wtd_avg_vote</th>\n",
       "      <th>votes</th>\n",
       "    </tr>\n",
       "  </thead>\n",
       "  <tbody>\n",
       "    <tr>\n",
       "      <th>46756</th>\n",
       "      <td>The Dark Knight</td>\n",
       "      <td>9.0</td>\n",
       "      <td>8.965240</td>\n",
       "      <td>2134569</td>\n",
       "    </tr>\n",
       "    <tr>\n",
       "      <th>15954</th>\n",
       "      <td>The Godfather: Part II</td>\n",
       "      <td>9.0</td>\n",
       "      <td>8.928985</td>\n",
       "      <td>1032047</td>\n",
       "    </tr>\n",
       "    <tr>\n",
       "      <th>37286</th>\n",
       "      <td>Hababam Sinifi Sinifta Kaldi</td>\n",
       "      <td>9.0</td>\n",
       "      <td>7.332750</td>\n",
       "      <td>20024</td>\n",
       "    </tr>\n",
       "    <tr>\n",
       "      <th>37370</th>\n",
       "      <td>Tosun Pasa</td>\n",
       "      <td>9.0</td>\n",
       "      <td>7.318295</td>\n",
       "      <td>19637</td>\n",
       "    </tr>\n",
       "    <tr>\n",
       "      <th>19824</th>\n",
       "      <td>Maratonci trce pocasni krug</td>\n",
       "      <td>9.0</td>\n",
       "      <td>7.040301</td>\n",
       "      <td>13305</td>\n",
       "    </tr>\n",
       "    <tr>\n",
       "      <th>41886</th>\n",
       "      <td>Sandesham</td>\n",
       "      <td>9.0</td>\n",
       "      <td>6.312919</td>\n",
       "      <td>2936</td>\n",
       "    </tr>\n",
       "    <tr>\n",
       "      <th>23574</th>\n",
       "      <td>Vreme na nasilie</td>\n",
       "      <td>9.0</td>\n",
       "      <td>6.212334</td>\n",
       "      <td>1928</td>\n",
       "    </tr>\n",
       "    <tr>\n",
       "      <th>38934</th>\n",
       "      <td>Opasen char</td>\n",
       "      <td>9.0</td>\n",
       "      <td>6.163885</td>\n",
       "      <td>1468</td>\n",
       "    </tr>\n",
       "    <tr>\n",
       "      <th>51732</th>\n",
       "      <td>Shindisi</td>\n",
       "      <td>9.0</td>\n",
       "      <td>6.018813</td>\n",
       "      <td>180</td>\n",
       "    </tr>\n",
       "    <tr>\n",
       "      <th>51858</th>\n",
       "      <td>Officer Arjun Singh IPS</td>\n",
       "      <td>9.0</td>\n",
       "      <td>6.011098</td>\n",
       "      <td>115</td>\n",
       "    </tr>\n",
       "  </tbody>\n",
       "</table>\n",
       "</div>"
      ],
      "text/plain": [
       "                              title  avg_vote  wtd_avg_vote    votes\n",
       "46756               The Dark Knight       9.0      8.965240  2134569\n",
       "15954        The Godfather: Part II       9.0      8.928985  1032047\n",
       "37286  Hababam Sinifi Sinifta Kaldi       9.0      7.332750    20024\n",
       "37370                    Tosun Pasa       9.0      7.318295    19637\n",
       "19824   Maratonci trce pocasni krug       9.0      7.040301    13305\n",
       "41886                     Sandesham       9.0      6.312919     2936\n",
       "23574              Vreme na nasilie       9.0      6.212334     1928\n",
       "38934                   Opasen char       9.0      6.163885     1468\n",
       "51732                      Shindisi       9.0      6.018813      180\n",
       "51858       Officer Arjun Singh IPS       9.0      6.011098      115"
      ]
     },
     "execution_count": 72,
     "metadata": {},
     "output_type": "execute_result"
    }
   ],
   "source": [
    "full_dataset[full_dataset['avg_vote'] == 9.0][['title', 'avg_vote', 'wtd_avg_vote', 'votes']].sort_values(['votes'], ascending=False)"
   ]
  },
  {
   "cell_type": "markdown",
   "metadata": {},
   "source": [
    "Now `wtd_avg_note` actually makes more sense. Let's now separate the target variable `wtd_avg_vote` from the feature set:"
   ]
  },
  {
   "cell_type": "code",
   "execution_count": 73,
   "metadata": {},
   "outputs": [],
   "source": [
    "X = full_dataset.drop(['avg_vote', 'wtd_avg_vote', 'votes'], axis=1)\n",
    "y = full_dataset['wtd_avg_vote']"
   ]
  },
  {
   "cell_type": "markdown",
   "metadata": {},
   "source": [
    "### 1.2 Explain which task are you going to solve (is it a regression, classification or something else)? "
   ]
  },
  {
   "cell_type": "markdown",
   "metadata": {},
   "source": [
    "Since the decision of the company comes down to either produce a movie or not depending on the predicted rating (`wtd_avg_vote`), I think it makes sense to transform our target variable from continuous to a binary one and solve the classification task. One of the ways to come up with the threshold is to look at the distribution of `wtd_avg_vote`:"
   ]
  },
  {
   "cell_type": "code",
   "execution_count": 74,
   "metadata": {},
   "outputs": [
    {
     "data": {
      "text/plain": [
       "count    60198.000000\n",
       "mean         6.054640\n",
       "std          0.269320\n",
       "min          2.838021\n",
       "25%          5.988364\n",
       "50%          5.999973\n",
       "75%          6.023595\n",
       "max          9.262206\n",
       "Name: wtd_avg_vote, dtype: float64"
      ]
     },
     "execution_count": 74,
     "metadata": {},
     "output_type": "execute_result"
    },
    {
     "data": {
      "image/png": "[encoded data removed]",
      "text/plain": [
       "<Figure size 432x288 with 1 Axes>"
      ]
     },
     "metadata": {
      "needs_background": "light"
     },
     "output_type": "display_data"
    }
   ],
   "source": [
    "y.hist()\n",
    "y.describe()"
   ]
  },
  {
   "cell_type": "markdown",
   "metadata": {},
   "source": [
    "As we can see, both median and mean `wtd_avg_vote` come around 6.0, therefore I think we are safe to assume that a movie can be deemed successful if it gets `wtd_avg_vote` $\\ge$ 6.0 (out of 10) and everything below that can be considered average or unsuccessful. Therefore, let's transform our target varible to the binary one:"
   ]
  },
  {
   "cell_type": "code",
   "execution_count": 75,
   "metadata": {},
   "outputs": [],
   "source": [
    "rating_success_threshold = 6.0\n",
    "\n",
    "y_bin = y.apply(lambda x: 1. if x >= rating_success_threshold else 0)"
   ]
  },
  {
   "cell_type": "markdown",
   "metadata": {},
   "source": [
    "I believe solving a classification task is more beneficial for us rather than a regression task since all ratings below average are in a sense equally bad for the film-making company since it likely won't generate enough profit for them, therefore there is no need for us to distinguish them, so we should focus on prediciting either the movies is going to be successful or not using binary `avg_vote` target."
   ]
  },
  {
   "cell_type": "markdown",
   "metadata": {},
   "source": [
    "1.3 Select a metric. Is it already implemented in sklearn? If yes, import it. If not, it is time to write a function which will calculate it. "
   ]
  },
  {
   "cell_type": "markdown",
   "metadata": {},
   "source": [
    "Let's check if we are dealing with the case of imbalanced classification. For that let's plot the distribution of classes:"
   ]
  },
  {
   "cell_type": "code",
   "execution_count": 76,
   "metadata": {},
   "outputs": [
    {
     "data": {
      "image/png": "[encoded data removed]",
      "text/plain": [
       "<Figure size 432x288 with 1 Axes>"
      ]
     },
     "metadata": {
      "needs_background": "light"
     },
     "output_type": "display_data"
    }
   ],
   "source": [
    "y_bin.value_counts().plot(kind='bar')\n",
    "plt.grid()\n",
    "plt.show()"
   ]
  },
  {
   "cell_type": "markdown",
   "metadata": {},
   "source": [
    "As we can see, for the rating_success_threshold equal to 6 we are getting balanced classes as expected. Since for the film-making company it's important to make profit, we need to maximize the number of correct predictions on success of a movie. For that we can use precision, which quantifies the number of correct positive predictions made. But at the same time we don't want to miss out on investing into would-be successful movies, which can be quantified with recall - the number of correct positive predictions made out of all positive predictions that could have been made. Since both are improtant to us, let's use the F1 metric, which represents the weighted average of the precision and recall."
   ]
  },
  {
   "cell_type": "code",
   "execution_count": 77,
   "metadata": {},
   "outputs": [],
   "source": [
    "from sklearn.metrics import f1_score"
   ]
  },
  {
   "cell_type": "markdown",
   "metadata": {},
   "source": [
    "### Part 2.\n",
    "\n",
    "Explore and preprocess the data\n",
    "\n",
    "### 2.1 Split data into train and test"
   ]
  },
  {
   "cell_type": "markdown",
   "metadata": {},
   "source": [
    "In the further exploratory data analysis on train dataset we are going to use both the continuous target variable (y_train) and binary (y_bin_train). We might want to run some correlations between the features and the target variable, which should be more informative using the continuous target variable:"
   ]
  },
  {
   "cell_type": "code",
   "execution_count": 78,
   "metadata": {},
   "outputs": [],
   "source": [
    "from sklearn.model_selection import train_test_split\n",
    "\n",
    "X_train, X_test, y_bin_train, y_bin_test = train_test_split(X, y_bin, test_size=0.4, random_state=42)\n",
    "y_train = y[X_train.index]"
   ]
  },
  {
   "cell_type": "markdown",
   "metadata": {},
   "source": [
    "### 2.2 Explore you data: make plots, print tables. Make sure to write your observations.  Do not forget to fill-in missing values, define relevant columns transformatios. \n"
   ]
  },
  {
   "cell_type": "code",
   "execution_count": 79,
   "metadata": {},
   "outputs": [],
   "source": [
    "from sklearn.base import BaseEstimator, TransformerMixin\n",
    "\n",
    "from sklearn.impute import SimpleImputer\n",
    "from sklearn.preprocessing import OneHotEncoder, StandardScaler\n",
    "\n",
    "from sklearn.compose import ColumnTransformer\n",
    "from sklearn.pipeline import make_pipeline, Pipeline"
   ]
  },
  {
   "cell_type": "markdown",
   "metadata": {},
   "source": [
    "### Missing values"
   ]
  },
  {
   "cell_type": "markdown",
   "metadata": {},
   "source": [
    "First let's see if we have some variables which have more than 50% of data missing:"
   ]
  },
  {
   "cell_type": "code",
   "execution_count": 80,
   "metadata": {},
   "outputs": [
    {
     "data": {
      "text/plain": [
       "budget                   0.721524\n",
       "usa_gross_income         0.803533\n",
       "worlwide_gross_income    0.682845\n",
       "metascore                0.854366\n",
       "dtype: float64"
      ]
     },
     "execution_count": 80,
     "metadata": {},
     "output_type": "execute_result"
    }
   ],
   "source": [
    "prop_missing = X_train.isna().sum() / X_train.shape[0]\n",
    "prop_missing[prop_missing > 0.5]"
   ]
  },
  {
   "cell_type": "markdown",
   "metadata": {},
   "source": [
    "Since around 85% of `metascore` is missing and it represents the alternative to IMDb rating, we can safely drop this feature. Features `usa_gross_income` and `worldwide_gross_income` not only have more than 65% of missing values but also represent forward-looking features since when the company invests into the production of a movie it can't possible know about its future income, therefore to keep it more to the real-life conditions we have to drop them as well:"
   ]
  },
  {
   "cell_type": "code",
   "execution_count": 81,
   "metadata": {},
   "outputs": [],
   "source": [
    "X_train = X_train.drop(['metascore', 'usa_gross_income', 'worlwide_gross_income'], axis=1)\n",
    "X_test = X_test.drop(['metascore', 'usa_gross_income', 'worlwide_gross_income'], axis=1)"
   ]
  },
  {
   "cell_type": "markdown",
   "metadata": {},
   "source": [
    "Around 70% of `budget` observations are also missing. However, the budget of a movie might be a useful feature since higher budget might lead to a higher rating, but first we need to split the currency pair in which budget is denominated:"
   ]
  },
  {
   "cell_type": "code",
   "execution_count": 82,
   "metadata": {},
   "outputs": [],
   "source": [
    "X_train['budget_ccy'] = X_train['budget'].apply(lambda x: x.split(' ')[0] if not pd.isnull(x) else x)\n",
    "X_train['budget'] = X_train['budget'].apply(lambda x: x.split(' ')[1] if not pd.isnull(x) else x)\n",
    "\n",
    "X_test['budget_ccy'] = X_test['budget'].apply(lambda x: x.split(' ')[0] if not pd.isnull(x) else x)\n",
    "X_test['budget'] = X_test['budget'].apply(lambda x: x.split(' ')[1] if not pd.isnull(x) else x)"
   ]
  },
  {
   "cell_type": "code",
   "execution_count": 83,
   "metadata": {},
   "outputs": [
    {
     "data": {
      "text/plain": [
       "array([nan, 'CZK', '$', 'EUR', 'JPY', 'INR', 'CNY', 'HUF', 'CAD', 'AUD',\n",
       "       'GBP', 'ITL', 'BRL', 'FIM', 'DEM', 'FRF', 'ARS', 'ESP', 'PLN',\n",
       "       'EGP', 'SEK', 'DKK', 'SGD', 'BGL', 'NOK', 'ZAR', 'NZD', 'EEK',\n",
       "       'JMD', 'HKD', 'TRL', 'MXN', 'PKR', 'PTE', 'CHF', 'RUR', 'NLG',\n",
       "       'KRW', 'ISK', 'ATS', 'ROL', 'THB', 'LVL', 'IRR', 'PHP', 'IDR',\n",
       "       'BEF', 'NGN', 'MTL', 'DOP', 'LTL', 'COP', 'CLP', 'UAH', 'MYR',\n",
       "       'SKK', 'VEB', 'ILS', 'HRK', 'TWD', 'BDT', 'YUM'], dtype=object)"
      ]
     },
     "execution_count": 83,
     "metadata": {},
     "output_type": "execute_result"
    }
   ],
   "source": [
    "X_train['budget_ccy'].unique()"
   ]
  },
  {
   "cell_type": "code",
   "execution_count": 84,
   "metadata": {},
   "outputs": [
    {
     "data": {
      "text/plain": [
       "array([1911, 1912, 1913, 1914, 1915, 1916, 1917, 1918, 1919, 1920, 1921,\n",
       "       1922, 1923, 1924, 1925, 1926, 1927, 1928, 1929, 1930, 1931, 1932,\n",
       "       1933, 1934, 1935, 1936, 1937, 1938, 1939, 1940, 1941, 1942, 1943,\n",
       "       1944, 1945, 1946, 1947, 1948, 1949, 1950, 1951, 1952, 1953, 1954,\n",
       "       1955, 1956, 1957, 1958, 1959, 1960, 1961, 1962, 1963, 1964, 1965,\n",
       "       1966, 1967, 1968, 1969, 1970, 1971, 1972, 1973, 1974, 1975, 1976,\n",
       "       1977, 1978, 1979, 1980, 1981, 1982, 1983, 1984, 1985, 1986, 1987,\n",
       "       1988, 1989, 1990, 1991, 1992, 1993, 1994, 1995, 1996, 1997, 1998,\n",
       "       1999, 2000, 2001, 2002, 2003, 2004, 2005, 2006, 2007, 2008, 2009,\n",
       "       2010, 2011, 2012, 2013, 2014, 2015, 2016, 2017, 2018, 2019],\n",
       "      dtype=int64)"
      ]
     },
     "execution_count": 84,
     "metadata": {},
     "output_type": "execute_result"
    }
   ],
   "source": [
    "X_train['year'].sort_values().unique()"
   ]
  },
  {
   "cell_type": "markdown",
   "metadata": {},
   "source": [
    "As we can see there are quite a few currency pairs in which budgets are denominated. Moreover, in our dataset movies are present from 1911 to 2019, therefore it would be hard to consolidate all of them to some common denominated value (e.g. USD) and calculate correlations with the target variable. Instead, let's check if on average the rating is higher for the observations in which budget is present. If it holds true, we can transform `budget` variable into a binary feature depending on either it's present or not. If the assumption doesn't hold, we won't be able to use this feature in any useful way and will drop it:"
   ]
  },
  {
   "cell_type": "code",
   "execution_count": 85,
   "metadata": {},
   "outputs": [],
   "source": [
    "sample_missing = y_train[X_train[X_train['budget'].isna()].index].values\n",
    "sample_present = y_train[X_train[~X_train['budget'].isna()].index].values"
   ]
  },
  {
   "cell_type": "markdown",
   "metadata": {},
   "source": [
    "To test our hypothesis let's use t-test for two independent samples. For that we formulate the following hypothesis:"
   ]
  },
  {
   "cell_type": "markdown",
   "metadata": {},
   "source": [
    "$H_0\\colon$ average ratings are equal for observations with missing budget and without missing budget.\n",
    "\n",
    "$H_1\\colon$ average rating is higher for the observations with present budget"
   ]
  },
  {
   "cell_type": "markdown",
   "metadata": {},
   "source": [
    "Before using the t-test let's check if there are no gross deviations from the normality:"
   ]
  },
  {
   "cell_type": "code",
   "execution_count": 86,
   "metadata": {},
   "outputs": [
    {
     "data": {
      "image/png": "[encoded data removed]",
      "text/plain": [
       "<Figure size 720x576 with 2 Axes>"
      ]
     },
     "metadata": {
      "needs_background": "light"
     },
     "output_type": "display_data"
    },
    {
     "name": "stdout",
     "output_type": "stream",
     "text": [
      "Missing budget sample size: 26060\n",
      "Present budget sample size: 10058\n"
     ]
    }
   ],
   "source": [
    "plt.figure(figsize=(10, 8))\n",
    "plt.subplot(2, 2, 1)\n",
    "stats.probplot(sample_missing, dist='norm', plot=plt)\n",
    "plt.subplot(2, 2, 2)\n",
    "stats.probplot(sample_present, dist='norm', plot=plt)\n",
    "plt.show()\n",
    "print('Missing budget sample size:', len(sample_missing))\n",
    "print('Present budget sample size:', len(sample_present))"
   ]
  },
  {
   "cell_type": "markdown",
   "metadata": {},
   "source": [
    "As we can see there are visible deviations in the tails but the sample sizes are big enought for CLT to start working so we should be safe:"
   ]
  },
  {
   "cell_type": "code",
   "execution_count": 87,
   "metadata": {},
   "outputs": [
    {
     "name": "stdout",
     "output_type": "stream",
     "text": [
      "T test (one-sided): pvalue=8.435486474931808e-130\n"
     ]
    }
   ],
   "source": [
    "res = stats.ttest_ind(sample_present, sample_missing, equal_var=False)\n",
    "print(f'T test (one-sided): pvalue={res[1]/2}')"
   ]
  },
  {
   "cell_type": "markdown",
   "metadata": {},
   "source": [
    "pvalue is much less than 0.05, therefore we can reject the null hypothesis in favour of alternative, which means that movie observations with present budget have on average higher rating. Therefore, we can transform `budget` variable in binary variable `has_budget` in the following manner:"
   ]
  },
  {
   "cell_type": "code",
   "execution_count": 88,
   "metadata": {},
   "outputs": [],
   "source": [
    "X_train['has_budget'] = X_train['budget'].apply(lambda x: 0 if pd.isnull(x) else 1)\n",
    "X_test['has_budget'] = X_test['budget'].apply(lambda x: 0 if pd.isnull(x) else 1)\n",
    "\n",
    "del sample_missing, sample_present"
   ]
  },
  {
   "cell_type": "markdown",
   "metadata": {},
   "source": [
    "Finally let's test one more hypothesis that movies that have USD budget have on average higher rating:"
   ]
  },
  {
   "cell_type": "markdown",
   "metadata": {},
   "source": [
    "$H_0\\colon$ average ratings are equal for observations with USD budget and other denominated budgets\n",
    "\n",
    "$H_1\\colon$ average rating is higher for the observations with USD budget"
   ]
  },
  {
   "cell_type": "code",
   "execution_count": 89,
   "metadata": {},
   "outputs": [
    {
     "name": "stdout",
     "output_type": "stream",
     "text": [
      "USD budget movies sample size: 7642\n",
      "non-USD budget movies sample size: 2416\n"
     ]
    }
   ],
   "source": [
    "sample_usd = y_train[X_train[X_train['budget_ccy'] == '$'].index].values\n",
    "sample_non_usd = y_train[X_train[(X_train['budget_ccy'] != '$') & (~X_train['budget_ccy'].isna())].index].values\n",
    "\n",
    "print('USD budget movies sample size:', len(sample_usd))\n",
    "print('non-USD budget movies sample size:', len(sample_non_usd))"
   ]
  },
  {
   "cell_type": "code",
   "execution_count": 90,
   "metadata": {},
   "outputs": [
    {
     "name": "stdout",
     "output_type": "stream",
     "text": [
      "T test (one-sided): pvalue=8.11610989191985e-31\n"
     ]
    }
   ],
   "source": [
    "res = stats.ttest_ind(sample_usd, sample_non_usd, equal_var=False)\n",
    "print(f'T test (one-sided): pvalue={res[1]/2}')"
   ]
  },
  {
   "cell_type": "markdown",
   "metadata": {},
   "source": [
    "Again pvalue is much less than 0.05, therefore we can reject the null hypothesis in favour of alternative. Let's create new binary variable `usd_budget` and drop `budget` and `budget_ccy` from both train and test as we won't need them longer:"
   ]
  },
  {
   "cell_type": "code",
   "execution_count": 91,
   "metadata": {},
   "outputs": [],
   "source": [
    "X_train['usd_budget'] = X_train['budget_ccy'].apply(lambda x: 1 if x == '$' else 0)\n",
    "X_test['usd_budget'] = X_test['budget_ccy'].apply(lambda x: 1 if x == '$' else 0)\n",
    "\n",
    "X_train = X_train.drop(['budget', 'budget_ccy'], axis=1)\n",
    "X_test = X_test.drop(['budget', 'budget_ccy'], axis=1)\n",
    "\n",
    "del sample_usd, sample_non_usd"
   ]
  },
  {
   "cell_type": "markdown",
   "metadata": {},
   "source": [
    "Now let's look at features with less than 50% missing values:"
   ]
  },
  {
   "cell_type": "code",
   "execution_count": 92,
   "metadata": {},
   "outputs": [
    {
     "data": {
      "text/plain": [
       "country                 0.000111\n",
       "language                0.007143\n",
       "director                0.000443\n",
       "writer                  0.013151\n",
       "production_company      0.045684\n",
       "actors                  0.000471\n",
       "description             0.032698\n",
       "reviews_from_users      0.068581\n",
       "reviews_from_critics    0.136635\n",
       "dtype: float64"
      ]
     },
     "execution_count": 92,
     "metadata": {},
     "output_type": "execute_result"
    }
   ],
   "source": [
    "prop_missing[(prop_missing > 0.) & (prop_missing <= 0.5)]"
   ]
  },
  {
   "cell_type": "markdown",
   "metadata": {},
   "source": [
    "Missing values for features like `reviews_from_users`, `reviews_from_critics` can be imputed using means. For features like `country`, `language` we can use most frequent values but let's first transform them to take the first value in the series:"
   ]
  },
  {
   "cell_type": "code",
   "execution_count": 93,
   "metadata": {},
   "outputs": [],
   "source": [
    "X_train = X_train.drop(['reviews_from_users', 'reviews_from_critics'], axis=1)\n",
    "X_test = X_test.drop(['reviews_from_users', 'reviews_from_critics'], axis=1)"
   ]
  },
  {
   "cell_type": "code",
   "execution_count": 94,
   "metadata": {},
   "outputs": [],
   "source": [
    "X_train['language'] = X_train['language'].apply(lambda x: x if pd.isnull(x) else x.split(', ')[0])\n",
    "X_train['country'] = X_train['country'].apply(lambda x: x if pd.isnull(x) else x.split(', ')[0])\n",
    "\n",
    "X_test['language'] = X_test['language'].apply(lambda x: x if pd.isnull(x) else x.split(', ')[0])\n",
    "X_test['country'] = X_test['country'].apply(lambda x: x if pd.isnull(x) else x.split(', ')[0])"
   ]
  },
  {
   "cell_type": "markdown",
   "metadata": {},
   "source": [
    "I think we can simply drop the missing observations for features `director` and `actors` since there are only few missing:"
   ]
  },
  {
   "cell_type": "code",
   "execution_count": 95,
   "metadata": {},
   "outputs": [
    {
     "data": {
      "text/plain": [
       "director    16\n",
       "actors      17\n",
       "dtype: int64"
      ]
     },
     "execution_count": 95,
     "metadata": {},
     "output_type": "execute_result"
    }
   ],
   "source": [
    "X_train[['director', 'actors']].isna().sum()"
   ]
  },
  {
   "cell_type": "code",
   "execution_count": 96,
   "metadata": {},
   "outputs": [],
   "source": [
    "X_train = X_train.dropna(subset=['director', 'actors'])\n",
    "y_train = y_train[X_train.index]\n",
    "y_bin_train = y_bin_train[X_train.index]\n",
    "\n",
    "X_test = X_test.dropna(subset=['director', 'actors'])\n",
    "y_bin_test = y_bin_test[X_test.index]"
   ]
  },
  {
   "cell_type": "markdown",
   "metadata": {},
   "source": [
    "Features like `production_company` and `writer` I would like to impute with the most frequent value grouped by the year of issue. For that we would need to implement MostFreqGroupImputer class:"
   ]
  },
  {
   "cell_type": "code",
   "execution_count": 97,
   "metadata": {},
   "outputs": [],
   "source": [
    "class MostFreqGroupImputer(BaseEstimator, TransformerMixin):\n",
    "    '''\n",
    "    Class used for imputing missing values in a pd.DataFrame using the most frequent value within group\n",
    "    \n",
    "    Parameters\n",
    "    ----------    \n",
    "    group_cols : str\n",
    "        A column used to calculate the mode\n",
    "    Returns\n",
    "    -------\n",
    "    X : array-like\n",
    "        The array with imputed values in the target column\n",
    "    '''\n",
    "    def __init__(self, group_col):\n",
    "        assert type(group_col) == str, 'group_col should be a string'\n",
    "\n",
    "        self.group_col = group_col\n",
    "    \n",
    "    def fit(self, X, y=None):\n",
    "        assert X[self.group_col].isna().sum() == 0, 'There are missing values in the group_col'\n",
    "        \n",
    "        # Group dataset by `group_col` and calculate mode of all the other columns within this group\n",
    "        self.mapping = X.groupby(self.group_col).agg(lambda x: stats.mode(x)[0])\n",
    "        return self \n",
    "    \n",
    "    def transform(self, X, y=None):\n",
    "        X = X.copy()\n",
    "        # make sure that the imputer was fitted\n",
    "        assert self.mapping is not None\n",
    "        \n",
    "        # loop over all the groups\n",
    "        for index, row in self.mapping.iterrows():\n",
    "            \n",
    "            # Fill in missing values for the group `index` with the values `row`            \n",
    "            # your code here\n",
    "            X.loc[(X[self.group_col] == index) & (X.isna().any(axis=1))] = \\\n",
    "                X[(X[self.group_col] == index) & (X.isna().any(axis=1))].fillna(row)\n",
    "        \n",
    "        return X.values"
   ]
  },
  {
   "cell_type": "markdown",
   "metadata": {},
   "source": [
    "### Categorical variables"
   ]
  },
  {
   "cell_type": "code",
   "execution_count": 98,
   "metadata": {},
   "outputs": [
    {
     "data": {
      "text/html": [
       "<div>\n",
       "<style scoped>\n",
       "    .dataframe tbody tr th:only-of-type {\n",
       "        vertical-align: middle;\n",
       "    }\n",
       "\n",
       "    .dataframe tbody tr th {\n",
       "        vertical-align: top;\n",
       "    }\n",
       "\n",
       "    .dataframe thead th {\n",
       "        text-align: right;\n",
       "    }\n",
       "</style>\n",
       "<table border=\"1\" class=\"dataframe\">\n",
       "  <thead>\n",
       "    <tr style=\"text-align: right;\">\n",
       "      <th></th>\n",
       "      <th>imdb_title_id</th>\n",
       "      <th>title</th>\n",
       "      <th>original_title</th>\n",
       "      <th>date_published</th>\n",
       "      <th>genre</th>\n",
       "      <th>country</th>\n",
       "      <th>language</th>\n",
       "      <th>director</th>\n",
       "      <th>writer</th>\n",
       "      <th>production_company</th>\n",
       "      <th>actors</th>\n",
       "      <th>description</th>\n",
       "    </tr>\n",
       "  </thead>\n",
       "  <tbody>\n",
       "    <tr>\n",
       "      <th>count</th>\n",
       "      <td>36086</td>\n",
       "      <td>36086</td>\n",
       "      <td>36086</td>\n",
       "      <td>36086</td>\n",
       "      <td>36086</td>\n",
       "      <td>36082</td>\n",
       "      <td>35833</td>\n",
       "      <td>36086</td>\n",
       "      <td>35623</td>\n",
       "      <td>34450</td>\n",
       "      <td>36086</td>\n",
       "      <td>34908</td>\n",
       "    </tr>\n",
       "    <tr>\n",
       "      <th>unique</th>\n",
       "      <td>36086</td>\n",
       "      <td>34944</td>\n",
       "      <td>34947</td>\n",
       "      <td>15163</td>\n",
       "      <td>1012</td>\n",
       "      <td>128</td>\n",
       "      <td>123</td>\n",
       "      <td>16537</td>\n",
       "      <td>30164</td>\n",
       "      <td>14965</td>\n",
       "      <td>36075</td>\n",
       "      <td>34881</td>\n",
       "    </tr>\n",
       "    <tr>\n",
       "      <th>top</th>\n",
       "      <td>tt0093506</td>\n",
       "      <td>The Three Musketeers</td>\n",
       "      <td>The Three Musketeers</td>\n",
       "      <td>2008</td>\n",
       "      <td>Drama</td>\n",
       "      <td>USA</td>\n",
       "      <td>English</td>\n",
       "      <td>Jesús Franco</td>\n",
       "      <td>Jing Wong</td>\n",
       "      <td>Metro-Goldwyn-Mayer (MGM)</td>\n",
       "      <td>Nobuyo Ôyama, Noriko Ohara, Michiko Nomura, Ka...</td>\n",
       "      <td>Mail</td>\n",
       "    </tr>\n",
       "    <tr>\n",
       "      <th>freq</th>\n",
       "      <td>1</td>\n",
       "      <td>6</td>\n",
       "      <td>6</td>\n",
       "      <td>63</td>\n",
       "      <td>5122</td>\n",
       "      <td>14294</td>\n",
       "      <td>19402</td>\n",
       "      <td>52</td>\n",
       "      <td>41</td>\n",
       "      <td>786</td>\n",
       "      <td>6</td>\n",
       "      <td>3</td>\n",
       "    </tr>\n",
       "  </tbody>\n",
       "</table>\n",
       "</div>"
      ],
      "text/plain": [
       "       imdb_title_id                 title        original_title  \\\n",
       "count          36086                 36086                 36086   \n",
       "unique         36086                 34944                 34947   \n",
       "top        tt0093506  The Three Musketeers  The Three Musketeers   \n",
       "freq               1                     6                     6   \n",
       "\n",
       "       date_published  genre country language      director     writer  \\\n",
       "count           36086  36086   36082    35833         36086      35623   \n",
       "unique          15163   1012     128      123         16537      30164   \n",
       "top              2008  Drama     USA  English  Jesús Franco  Jing Wong   \n",
       "freq               63   5122   14294    19402            52         41   \n",
       "\n",
       "               production_company  \\\n",
       "count                       34450   \n",
       "unique                      14965   \n",
       "top     Metro-Goldwyn-Mayer (MGM)   \n",
       "freq                          786   \n",
       "\n",
       "                                                   actors description  \n",
       "count                                               36086       34908  \n",
       "unique                                              36075       34881  \n",
       "top     Nobuyo Ôyama, Noriko Ohara, Michiko Nomura, Ka...        Mail  \n",
       "freq                                                    6           3  "
      ]
     },
     "execution_count": 98,
     "metadata": {},
     "output_type": "execute_result"
    }
   ],
   "source": [
    "X_train[X_train.columns[X_train.dtypes == 'object']].describe()"
   ]
  },
  {
   "cell_type": "markdown",
   "metadata": {},
   "source": [
    "First of all, we can drop `imdb_title_id` variable since it's just a random identifier assigned to each movie. We can drop it both for train and test data. We also can drop `original_title` since it seems to be identical to the `title` feature. At the same time, feature `title` has just too many unique values (which is natural for the movie industry), therefore I think we won't be able to obtain any useful information from it and can drop it as well:"
   ]
  },
  {
   "cell_type": "code",
   "execution_count": 99,
   "metadata": {},
   "outputs": [],
   "source": [
    "X_train = X_train.drop(['imdb_title_id', 'original_title', 'title'], axis=1)\n",
    "X_test = X_test.drop(['imdb_title_id', 'original_title', 'title'], axis=1)"
   ]
  },
  {
   "cell_type": "markdown",
   "metadata": {},
   "source": [
    "`date_published` is not really a categorical variable, so let's parse all the publish dates and and break into two new variables `day` and `month` and drop the original one. We can do it both for the train and test data:"
   ]
  },
  {
   "cell_type": "code",
   "execution_count": 100,
   "metadata": {},
   "outputs": [],
   "source": [
    "X_train['date_published'] = pd.to_datetime(X_train['date_published'])\n",
    "X_train['day'] = X_train['date_published'].dt.day\n",
    "X_train['month'] = X_train['date_published'].dt.month\n",
    "X_train = X_train.drop(['date_published'], axis=1)\n",
    "\n",
    "X_test['date_published'] = pd.to_datetime(X_test['date_published'])\n",
    "X_test['day'] = X_test['date_published'].dt.day\n",
    "X_test['month'] = X_test['date_published'].dt.month\n",
    "X_test = X_test.drop(['date_published'], axis=1)"
   ]
  },
  {
   "cell_type": "markdown",
   "metadata": {},
   "source": [
    "Now let's transform the feature `genre`. For that we would need to check how many unique values there actually are:"
   ]
  },
  {
   "cell_type": "code",
   "execution_count": 101,
   "metadata": {},
   "outputs": [
    {
     "name": "stdout",
     "output_type": "stream",
     "text": [
      "Unique genres: 24\n"
     ]
    }
   ],
   "source": [
    "genres = set()\n",
    "X_train['genre'].apply(lambda x: genres.update(x.split(', ')))\n",
    "\n",
    "print('Unique genres:', len(genres))"
   ]
  },
  {
   "cell_type": "markdown",
   "metadata": {},
   "source": [
    "As we can see there are not that many unique genres so we should be just able to do k-hot encoding i.e. genres present in the movie are encoded with 1 and others are 0:"
   ]
  },
  {
   "cell_type": "code",
   "execution_count": 102,
   "metadata": {},
   "outputs": [
    {
     "name": "stdout",
     "output_type": "stream",
     "text": [
      "Missing genres in test: genre_Reality-TV, genre_Documentary\n"
     ]
    }
   ],
   "source": [
    "X_train = pd.concat([X_train.drop('genre', 1), X_train['genre'].str.get_dummies(sep=', ').add_prefix('genre_')], axis=1)\n",
    "X_test = pd.concat([X_test.drop('genre', 1), X_test['genre'].str.get_dummies(sep=', ').add_prefix('genre_')], axis=1)\n",
    "\n",
    "# missing genres in test\n",
    "missing_genres = list(set(filter(lambda x: 'genre_' in x, X_train.columns)) - set(filter(lambda x: 'genre_' in x, X_test .columns)))\n",
    "print('Missing genres in test:', ', '.join(missing_genres))\n",
    "X_test[missing_genres] = pd.DataFrame(np.zeros((X_test.shape[0], len(missing_genres))), index=X_test.index)"
   ]
  },
  {
   "cell_type": "markdown",
   "metadata": {},
   "source": [
    "Features like `country`, `language` and `production_company` have much more unique values, so instead of resorting to OneHotEncoding let's flag the ones that are considered successful (i.e. have mean `wtd_avg_vote` $\\ge 6.0$) and then use OrdinalEncoder to encode original features in order of popularity (e.g. top 10 countries/languages/production companies by frequency). First of all we need to transform `production_company` feature to take only the first company in the series:"
   ]
  },
  {
   "cell_type": "code",
   "execution_count": 103,
   "metadata": {},
   "outputs": [],
   "source": [
    "X_train['production_company'] = X_train['production_company'].apply(lambda x: x.split(', ')[0] if not pd.isnull(x) else x)\n",
    "X_test['production_company'] = X_test['production_company'].apply(lambda x: x.split(', ')[0] if not pd.isnull(x) else x)"
   ]
  },
  {
   "cell_type": "markdown",
   "metadata": {},
   "source": [
    "Now let's implement the method that would get us the popularity of supplied features by taking top N frequently met values. We will need it later for OrdinalEncoder:"
   ]
  },
  {
   "cell_type": "code",
   "execution_count": 104,
   "metadata": {},
   "outputs": [],
   "source": [
    "def get_frequencies(X_train, feautures: list, threshold: int, verbose=True):\n",
    "    res = {}\n",
    "    for feature in feautures:\n",
    "        res[feature] = X_train[feature].value_counts().sort_values()[-threshold:].index.tolist()\n",
    "        if verbose:\n",
    "            print(f'Most {threshold} popular {feature}:', ', '.join(res[feature]), '\\n')\n",
    "    return res"
   ]
  },
  {
   "cell_type": "code",
   "execution_count": 105,
   "metadata": {},
   "outputs": [
    {
     "name": "stdout",
     "output_type": "stream",
     "text": [
      "Most 15 popular country: South Korea, Sweden, Australia, Soviet Union, Turkey, Spain, Hong Kong, Germany, Canada, Japan, Italy, India, France, UK, USA \n",
      "\n",
      "Most 15 popular language: Danish, Swedish, Korean, Portuguese, Mandarin, Turkish, Cantonese, Russian, Hindi, German, Spanish, Japanese, Italian, French, English \n",
      "\n",
      "Most 15 popular production_company: Walt Disney Productions, First National Pictures, Shaw Brothers, Republic Pictures (I), New Line Cinema, Canal+, Universal International Pictures (UI), Mosfilm, RKO Radio Pictures, Universal Pictures, Twentieth Century Fox, Columbia Pictures, Paramount Pictures, Warner Bros., Metro-Goldwyn-Mayer (MGM) \n",
      "\n"
     ]
    }
   ],
   "source": [
    "freq = get_frequencies(X_train, ['country', 'language', 'production_company'], threshold=15)"
   ]
  },
  {
   "cell_type": "markdown",
   "metadata": {},
   "source": [
    "Now let's implement a helper method to add a flag to features with values that are considered successful (i.e. have mean `wtd_avg_vote` $\\ge 6.0$ ):"
   ]
  },
  {
   "cell_type": "code",
   "execution_count": 106,
   "metadata": {},
   "outputs": [],
   "source": [
    "def add_success_flags(X_train, X_test, y_train, features, threshold=rating_success_threshold, verbose=True):\n",
    "    X_train['wtd_avg_vote'] = y_train\n",
    "    \n",
    "    for feature in features:\n",
    "        successful = X_train.groupby([feature])['wtd_avg_vote'].mean()\n",
    "        successful = successful[successful >= threshold].index.tolist()\n",
    "        \n",
    "        if verbose:\n",
    "            print(f'Successful {feature}:', ', '.join(successful))\n",
    "        \n",
    "        X_train[f'successful_{feature}'] = X_train[feature].apply(lambda x: 1 if pd.isnull(x) or x in successful else 0)\n",
    "        X_test[f'successful_{feature}'] = X_test[feature].apply(lambda x: 1 if pd.isnull(x) or x in successful else 0)\n",
    "    \n",
    "    X_train = X_train.drop(['wtd_avg_vote'], axis=1)\n",
    "    \n",
    "    return X_train, X_test"
   ]
  },
  {
   "cell_type": "code",
   "execution_count": 107,
   "metadata": {},
   "outputs": [],
   "source": [
    "X_train, X_test = add_success_flags(X_train, X_test, y_train, ['country', 'language', 'production_company'], verbose=False)"
   ]
  },
  {
   "cell_type": "markdown",
   "metadata": {},
   "source": [
    "Let's now check how many unique `director`, `actors` and `writer` values are presented in the datasets:"
   ]
  },
  {
   "cell_type": "code",
   "execution_count": 108,
   "metadata": {
    "scrolled": true
   },
   "outputs": [
    {
     "name": "stdout",
     "output_type": "stream",
     "text": [
      "Unique directors: 22513\n",
      "Unique writers: 42958\n",
      "Unique actors: 294879\n"
     ]
    }
   ],
   "source": [
    "directors, writers, actors = set(), set(), set()\n",
    "X_train['director'].apply(lambda x: directors.update(x.split(', ')) if not pd.isnull(x) else _)\n",
    "X_train['writer'].apply(lambda x: writers.update(x.split(', ')) if not pd.isnull(x) else _)\n",
    "X_train['actors'].apply(lambda x: actors.update(x.split(', ')) if not pd.isnull(x) else _)\n",
    "\n",
    "X_test['director'].apply(lambda x: directors.update(x.split(', ')) if not pd.isnull(x) else _)\n",
    "X_test['writer'].apply(lambda x: writers.update(x.split(', ')) if not pd.isnull(x) else _)\n",
    "X_test['actors'].apply(lambda x: actors.update(x.split(', ')) if not pd.isnull(x) else _)\n",
    "\n",
    "print('Unique directors:', len(directors))\n",
    "print('Unique writers:', len(writers))\n",
    "print('Unique actors:', len(actors))"
   ]
  },
  {
   "cell_type": "markdown",
   "metadata": {},
   "source": [
    "As we can see there are too many unique values for `director`, `actors` and `writer` so we can't possibly do OHE for these. Therefore, let's repeat the same approach as we did for `country`, `language` and `production_company`. For that we would first need to get frequencies for these features, we will take 15 first actors/writers/directors for each movie and calculated how frequently they are encountered across the dataset. Finally, we will store 250 most frequently met people for OrdinalEncoder later:"
   ]
  },
  {
   "cell_type": "code",
   "execution_count": 109,
   "metadata": {},
   "outputs": [],
   "source": [
    "for feature in ['director', 'actors', 'writer']:\n",
    "    res = []\n",
    "    X_train[feature].apply(lambda x: res.extend(x.split(', ')[:15]) if not pd.isnull(x) else _)\n",
    "    freq[feature] = pd.Series(res).value_counts().sort_values()[-250:].index.tolist()"
   ]
  },
  {
   "cell_type": "markdown",
   "metadata": {},
   "source": [
    "Now let's try to get the sets of the most successful people and include them in a form of a binary variables like we did before:"
   ]
  },
  {
   "cell_type": "code",
   "execution_count": 110,
   "metadata": {},
   "outputs": [],
   "source": [
    "X_train['wtd_avg_vote_binary'] = y_bin_train\n",
    "\n",
    "for feature in ['director', 'actors', 'writer']:\n",
    "    res = []\n",
    "    X_train[X_train['wtd_avg_vote_binary'] == 1][feature].apply(lambda x: res.extend(x.split(', ')[:15]) if not pd.isnull(x) else _)\n",
    "    counts = pd.Series(res).value_counts().sort_values()\n",
    "    counts = counts[counts > counts.mean()]\n",
    "    successful = set(counts.index.tolist())\n",
    "    \n",
    "    # it's ok to put 1 when we have NaN since we are going to drop observations with missing actors, directors\n",
    "    X_train[f'successful_{feature}'] = X_train[feature].apply(lambda x: len(set(x.split(', ')[:15]) & successful) \\\n",
    "                                                              if not pd.isnull(x) else 0)\n",
    "    X_test[f'successful_{feature}'] = X_test[feature].apply(lambda x: len(set(x.split(', ')[:15]) & successful) \\\n",
    "                                                             if not pd.isnull(x) else 0)\n",
    "    \n",
    "X_train = X_train.drop(['wtd_avg_vote_binary'], axis=1)"
   ]
  },
  {
   "cell_type": "markdown",
   "metadata": {},
   "source": [
    "Let's check if our heuristics actually makes sense on example with movies of Christopher Nolan since he is usually considered a successful directors with strongs casts:"
   ]
  },
  {
   "cell_type": "code",
   "execution_count": 111,
   "metadata": {},
   "outputs": [
    {
     "data": {
      "text/html": [
       "<div>\n",
       "<style scoped>\n",
       "    .dataframe tbody tr th:only-of-type {\n",
       "        vertical-align: middle;\n",
       "    }\n",
       "\n",
       "    .dataframe tbody tr th {\n",
       "        vertical-align: top;\n",
       "    }\n",
       "\n",
       "    .dataframe thead th {\n",
       "        text-align: right;\n",
       "    }\n",
       "</style>\n",
       "<table border=\"1\" class=\"dataframe\">\n",
       "  <thead>\n",
       "    <tr style=\"text-align: right;\">\n",
       "      <th></th>\n",
       "      <th>director</th>\n",
       "      <th>writer</th>\n",
       "      <th>actors</th>\n",
       "      <th>successful_director</th>\n",
       "      <th>successful_actors</th>\n",
       "      <th>successful_writer</th>\n",
       "    </tr>\n",
       "  </thead>\n",
       "  <tbody>\n",
       "    <tr>\n",
       "      <th>35417</th>\n",
       "      <td>Christopher Nolan</td>\n",
       "      <td>Christopher Nolan, Jonathan Nolan</td>\n",
       "      <td>Guy Pearce, Carrie-Anne Moss, Joe Pantoliano, ...</td>\n",
       "      <td>1</td>\n",
       "      <td>8</td>\n",
       "      <td>2</td>\n",
       "    </tr>\n",
       "    <tr>\n",
       "      <th>42664</th>\n",
       "      <td>Christopher Nolan</td>\n",
       "      <td>Bob Kane, David S. Goyer</td>\n",
       "      <td>Christian Bale, Michael Caine, Liam Neeson, Ka...</td>\n",
       "      <td>1</td>\n",
       "      <td>13</td>\n",
       "      <td>2</td>\n",
       "    </tr>\n",
       "    <tr>\n",
       "      <th>55287</th>\n",
       "      <td>Christopher Nolan</td>\n",
       "      <td>Christopher Nolan</td>\n",
       "      <td>Leonardo DiCaprio, Joseph Gordon-Levitt, Ellen...</td>\n",
       "      <td>1</td>\n",
       "      <td>12</td>\n",
       "      <td>1</td>\n",
       "    </tr>\n",
       "    <tr>\n",
       "      <th>47427</th>\n",
       "      <td>Christopher Nolan</td>\n",
       "      <td>Jonathan Nolan, Christopher Nolan</td>\n",
       "      <td>Hugh Jackman, Christian Bale, Michael Caine, P...</td>\n",
       "      <td>1</td>\n",
       "      <td>12</td>\n",
       "      <td>2</td>\n",
       "    </tr>\n",
       "    <tr>\n",
       "      <th>55050</th>\n",
       "      <td>Christopher Nolan</td>\n",
       "      <td>Jonathan Nolan, Christopher Nolan</td>\n",
       "      <td>Christian Bale, Gary Oldman, Tom Hardy, Joseph...</td>\n",
       "      <td>1</td>\n",
       "      <td>13</td>\n",
       "      <td>2</td>\n",
       "    </tr>\n",
       "    <tr>\n",
       "      <th>48940</th>\n",
       "      <td>Christopher Nolan</td>\n",
       "      <td>Jonathan Nolan, Christopher Nolan</td>\n",
       "      <td>Ellen Burstyn, Matthew McConaughey, Mackenzie ...</td>\n",
       "      <td>1</td>\n",
       "      <td>12</td>\n",
       "      <td>2</td>\n",
       "    </tr>\n",
       "    <tr>\n",
       "      <th>32413</th>\n",
       "      <td>Christopher Nolan</td>\n",
       "      <td>Christopher Nolan</td>\n",
       "      <td>Jeremy Theobald, Alex Haw, Lucy Russell, John ...</td>\n",
       "      <td>1</td>\n",
       "      <td>1</td>\n",
       "      <td>1</td>\n",
       "    </tr>\n",
       "  </tbody>\n",
       "</table>\n",
       "</div>"
      ],
      "text/plain": [
       "                director                             writer  \\\n",
       "35417  Christopher Nolan  Christopher Nolan, Jonathan Nolan   \n",
       "42664  Christopher Nolan           Bob Kane, David S. Goyer   \n",
       "55287  Christopher Nolan                  Christopher Nolan   \n",
       "47427  Christopher Nolan  Jonathan Nolan, Christopher Nolan   \n",
       "55050  Christopher Nolan  Jonathan Nolan, Christopher Nolan   \n",
       "48940  Christopher Nolan  Jonathan Nolan, Christopher Nolan   \n",
       "32413  Christopher Nolan                  Christopher Nolan   \n",
       "\n",
       "                                                  actors  successful_director  \\\n",
       "35417  Guy Pearce, Carrie-Anne Moss, Joe Pantoliano, ...                    1   \n",
       "42664  Christian Bale, Michael Caine, Liam Neeson, Ka...                    1   \n",
       "55287  Leonardo DiCaprio, Joseph Gordon-Levitt, Ellen...                    1   \n",
       "47427  Hugh Jackman, Christian Bale, Michael Caine, P...                    1   \n",
       "55050  Christian Bale, Gary Oldman, Tom Hardy, Joseph...                    1   \n",
       "48940  Ellen Burstyn, Matthew McConaughey, Mackenzie ...                    1   \n",
       "32413  Jeremy Theobald, Alex Haw, Lucy Russell, John ...                    1   \n",
       "\n",
       "       successful_actors  successful_writer  \n",
       "35417                  8                  2  \n",
       "42664                 13                  2  \n",
       "55287                 12                  1  \n",
       "47427                 12                  2  \n",
       "55050                 13                  2  \n",
       "48940                 12                  2  \n",
       "32413                  1                  1  "
      ]
     },
     "execution_count": 111,
     "metadata": {},
     "output_type": "execute_result"
    }
   ],
   "source": [
    "X_train[X_train['director'] == 'Christopher Nolan'][['director', 'writer', 'actors', 'successful_director', 'successful_actors', 'successful_writer']]"
   ]
  },
  {
   "cell_type": "markdown",
   "metadata": {},
   "source": [
    "Feature `description` obviously would have too many unique values, therefore the only way for us to make use of it would be to encode observations where popular words are encountered. However, this would require filtering our most popular words with regards to stopwords which is usually a part of NLP libraries like NLTK. Given that we are not working with this library as a part of this project there is seemingly no useful way for us to use this feature, hence we will drop it:"
   ]
  },
  {
   "cell_type": "code",
   "execution_count": 112,
   "metadata": {},
   "outputs": [],
   "source": [
    "X_train = X_train.drop(['description', 'writer', 'director', 'actors'], axis=1)\n",
    "X_test = X_test.drop(['description', 'writer', 'director', 'actors'], axis=1)"
   ]
  },
  {
   "cell_type": "code",
   "execution_count": 113,
   "metadata": {},
   "outputs": [
    {
     "data": {
      "text/html": [
       "<div>\n",
       "<style scoped>\n",
       "    .dataframe tbody tr th:only-of-type {\n",
       "        vertical-align: middle;\n",
       "    }\n",
       "\n",
       "    .dataframe tbody tr th {\n",
       "        vertical-align: top;\n",
       "    }\n",
       "\n",
       "    .dataframe thead th {\n",
       "        text-align: right;\n",
       "    }\n",
       "</style>\n",
       "<table border=\"1\" class=\"dataframe\">\n",
       "  <thead>\n",
       "    <tr style=\"text-align: right;\">\n",
       "      <th></th>\n",
       "      <th>country</th>\n",
       "      <th>language</th>\n",
       "      <th>production_company</th>\n",
       "    </tr>\n",
       "  </thead>\n",
       "  <tbody>\n",
       "    <tr>\n",
       "      <th>count</th>\n",
       "      <td>36082</td>\n",
       "      <td>35833</td>\n",
       "      <td>34450</td>\n",
       "    </tr>\n",
       "    <tr>\n",
       "      <th>unique</th>\n",
       "      <td>128</td>\n",
       "      <td>123</td>\n",
       "      <td>14962</td>\n",
       "    </tr>\n",
       "    <tr>\n",
       "      <th>top</th>\n",
       "      <td>USA</td>\n",
       "      <td>English</td>\n",
       "      <td>Metro-Goldwyn-Mayer (MGM)</td>\n",
       "    </tr>\n",
       "    <tr>\n",
       "      <th>freq</th>\n",
       "      <td>14294</td>\n",
       "      <td>19402</td>\n",
       "      <td>786</td>\n",
       "    </tr>\n",
       "  </tbody>\n",
       "</table>\n",
       "</div>"
      ],
      "text/plain": [
       "       country language         production_company\n",
       "count    36082    35833                      34450\n",
       "unique     128      123                      14962\n",
       "top        USA  English  Metro-Goldwyn-Mayer (MGM)\n",
       "freq     14294    19402                        786"
      ]
     },
     "execution_count": 113,
     "metadata": {},
     "output_type": "execute_result"
    }
   ],
   "source": [
    "X_train[X_train.columns[X_train.dtypes == 'object']].describe()"
   ]
  },
  {
   "cell_type": "code",
   "execution_count": 114,
   "metadata": {},
   "outputs": [],
   "source": [
    "class MyOrdinalEncoder(BaseEstimator, TransformerMixin):\n",
    "    '''\n",
    "    Class used for encoding categorical features in a pd.DataFrame using the supplied categories and constant for unknown values\n",
    "    \n",
    "    Parameters\n",
    "    ----------    \n",
    "    group_cols : str\n",
    "        A column used to calculate the mean values\n",
    "    Returns\n",
    "    -------\n",
    "    X : array-like\n",
    "        The array with imputed values in the target column\n",
    "    '''\n",
    "    def __init__(self, categories, unknown_value=0):\n",
    "        assert type(categories) == list, 'categories should be a list of strings'\n",
    "\n",
    "        self.categories = categories\n",
    "        self.unknown_value = unknown_value\n",
    "    \n",
    "    def fit(self, X, y=None):\n",
    "        if type(X) is np.ndarray:\n",
    "            X = pd.DataFrame(X)\n",
    "        assert X.isna().sum().sum() == 0, 'There are missing values present!'\n",
    "        \n",
    "        return self \n",
    "    \n",
    "    def transform(self, X, y=None):\n",
    "        X = X.copy()\n",
    "        if type(X) is np.ndarray:\n",
    "            X = pd.DataFrame(X)\n",
    "        \n",
    "        # loop over all columns\n",
    "        for col in X.columns[X.dtypes == 'object']:\n",
    "            X[col] = X[col].apply(lambda x: self.unknown_value if x not in self.categories else self.categories.index(x) + 1)\n",
    "        \n",
    "        return X.values"
   ]
  },
  {
   "cell_type": "markdown",
   "metadata": {},
   "source": [
    "### Numerical variables"
   ]
  },
  {
   "cell_type": "code",
   "execution_count": 115,
   "metadata": {},
   "outputs": [
    {
     "data": {
      "text/plain": [
       "Index(['year', 'duration', 'has_budget', 'usd_budget', 'day', 'month',\n",
       "       'genre_Action', 'genre_Adult', 'genre_Adventure', 'genre_Animation',\n",
       "       'genre_Biography', 'genre_Comedy', 'genre_Crime', 'genre_Documentary',\n",
       "       'genre_Drama', 'genre_Family', 'genre_Fantasy', 'genre_Film-Noir',\n",
       "       'genre_History', 'genre_Horror', 'genre_Music', 'genre_Musical',\n",
       "       'genre_Mystery', 'genre_Reality-TV', 'genre_Romance', 'genre_Sci-Fi',\n",
       "       'genre_Sport', 'genre_Thriller', 'genre_War', 'genre_Western',\n",
       "       'successful_country', 'successful_language',\n",
       "       'successful_production_company', 'successful_director',\n",
       "       'successful_actors', 'successful_writer'],\n",
       "      dtype='object')"
      ]
     },
     "execution_count": 115,
     "metadata": {},
     "output_type": "execute_result"
    }
   ],
   "source": [
    "X_train.columns[X_train.dtypes != 'object']"
   ]
  },
  {
   "cell_type": "markdown",
   "metadata": {},
   "source": [
    "As we can see most of the numerical features were created from transforming our categorical features. However, let's have a closer look at some of them that we haven't touched:"
   ]
  },
  {
   "cell_type": "code",
   "execution_count": 116,
   "metadata": {},
   "outputs": [
    {
     "name": "stdout",
     "output_type": "stream",
     "text": [
      "Distribution of numerical features:\n"
     ]
    },
    {
     "name": "stderr",
     "output_type": "stream",
     "text": [
      "c:\\users\\yaroslav\\appdata\\local\\programs\\python\\python39\\lib\\site-packages\\pandas\\plotting\\_matplotlib\\tools.py:400: MatplotlibDeprecationWarning: \n",
      "The is_first_col function was deprecated in Matplotlib 3.4 and will be removed two minor releases later. Use ax.get_subplotspec().is_first_col() instead.\n",
      "  if ax.is_first_col():\n"
     ]
    },
    {
     "data": {
      "image/png": "[encoded data removed]",
      "text/plain": [
       "<Figure size 1080x720 with 6 Axes>"
      ]
     },
     "metadata": {
      "needs_background": "light"
     },
     "output_type": "display_data"
    }
   ],
   "source": [
    "numerical_columns = ['year', 'month', 'day', 'duration']\n",
    "\n",
    "print(\"Distribution of numerical features:\")\n",
    "X_train[numerical_columns].hist(bins=20, grid=True, figsize=(15, 10), layout=(2, 3))\n",
    "plt.show()"
   ]
  },
  {
   "cell_type": "markdown",
   "metadata": {},
   "source": [
    "Let's check if there is any visible correlation between our numerical features and target:"
   ]
  },
  {
   "cell_type": "code",
   "execution_count": 117,
   "metadata": {},
   "outputs": [
    {
     "data": {
      "image/png": "[encoded data removed]",
      "text/plain": [
       "<Figure size 432x288 with 2 Axes>"
      ]
     },
     "metadata": {
      "needs_background": "light"
     },
     "output_type": "display_data"
    }
   ],
   "source": [
    "X_train['wtd_avg_vote'] = y_train\n",
    "corrs = X_train[numerical_columns + ['wtd_avg_vote']].corr()\n",
    "sns.heatmap(corrs, annot=True)\n",
    "plt.show()\n",
    "X_train = X_train.drop(['wtd_avg_vote'], axis=1)"
   ]
  },
  {
   "cell_type": "markdown",
   "metadata": {},
   "source": [
    "As we can see only `duration` has somewhat non-zero correlation with the target variable so they should be potentially useful for our training dataset. We will apply StandardScaler to our numerical features."
   ]
  },
  {
   "cell_type": "markdown",
   "metadata": {},
   "source": [
    "#### Putting all preprocessings together"
   ]
  },
  {
   "cell_type": "code",
   "execution_count": 118,
   "metadata": {},
   "outputs": [],
   "source": [
    "pipe_language = make_pipeline(\n",
    "    SimpleImputer(strategy='most_frequent'),\n",
    "    MyOrdinalEncoder(freq['language']),\n",
    "    StandardScaler()\n",
    ")\n",
    "pipe_country = make_pipeline(\n",
    "    SimpleImputer(strategy='most_frequent'),\n",
    "    MyOrdinalEncoder(freq['country']),\n",
    "    StandardScaler()\n",
    ")\n",
    "pipe_company = make_pipeline(\n",
    "    MostFreqGroupImputer('year'),\n",
    "    MyOrdinalEncoder(freq['production_company']),\n",
    "    StandardScaler()\n",
    ")\n",
    "\n",
    "column_transformer = ColumnTransformer([\n",
    "    ('language', pipe_language, ['language']),\n",
    "    ('country', pipe_country, ['country']),\n",
    "    ('company', pipe_company, ['production_company', 'year']),\n",
    "    ('rest_num', StandardScaler(), ['year', 'month', 'day', 'duration'])\n",
    "], remainder='passthrough')"
   ]
  },
  {
   "cell_type": "markdown",
   "metadata": {},
   "source": [
    "### Part 3.\n",
    "\n",
    "Train and compare the models\n",
    "\n",
    "### 3.1. Select models, you are going to train, select hyperparameters that have to be tunes."
   ]
  },
  {
   "cell_type": "code",
   "execution_count": 119,
   "metadata": {},
   "outputs": [],
   "source": [
    "from sklearn.linear_model import LogisticRegression\n",
    "from sklearn.ensemble import RandomForestClassifier, GradientBoostingClassifier"
   ]
  },
  {
   "cell_type": "code",
   "execution_count": 120,
   "metadata": {},
   "outputs": [],
   "source": [
    "model = Pipeline([\n",
    "    ('preprocessing', column_transformer),\n",
    "    ('estimator', GradientBoostingClassifier())\n",
    "])\n",
    "\n",
    "param_grid = [\n",
    "    {\n",
    "        'estimator': [LogisticRegression(solver='liblinear')],\n",
    "        'estimator__penalty': ['l2', 'l1'],\n",
    "        'estimator__C': [0.1, 1, 10]\n",
    "    },\n",
    "    {\n",
    "        'estimator': [RandomForestClassifier()],\n",
    "        'estimator__n_estimators': [100, 150, 200],\n",
    "        'estimator__max_depth': [10, 20, 30],\n",
    "    },\n",
    "    {\n",
    "        'estimator': [GradientBoostingClassifier()],\n",
    "        'estimator__n_estimators': [100, 150, 200],\n",
    "        'estimator__max_depth': [10, 20, 30],\n",
    "    }\n",
    "]"
   ]
  },
  {
   "cell_type": "markdown",
   "metadata": {},
   "source": [
    "### 3.2 Use cross-validation to compare models and select best set of hyperparameters"
   ]
  },
  {
   "cell_type": "code",
   "execution_count": 121,
   "metadata": {},
   "outputs": [],
   "source": [
    "from sklearn.model_selection import GridSearchCV"
   ]
  },
  {
   "cell_type": "code",
   "execution_count": 122,
   "metadata": {},
   "outputs": [],
   "source": [
    "grid_pipe = GridSearchCV(model, \n",
    "                         param_grid=param_grid,\n",
    "                         scoring='f1',\n",
    "                         cv=5,\n",
    "                         refit=True,\n",
    "                         n_jobs=None  # for some reason -1 doesn't work for me when I'm trying to run on my local PC but works on coursera\n",
    "                        )"
   ]
  },
  {
   "cell_type": "code",
   "execution_count": 123,
   "metadata": {},
   "outputs": [],
   "source": [
    "# with n_jobs=None might take quite a bit of time\n",
    "grid_pipe.fit(X_train, y_bin_train);"
   ]
  },
  {
   "cell_type": "markdown",
   "metadata": {},
   "source": [
    "### 3.3 Which model and setup is the best? How does it perform on the test dataset? If you were to present this model to the client, how would you describe it?"
   ]
  },
  {
   "cell_type": "code",
   "execution_count": 124,
   "metadata": {},
   "outputs": [
    {
     "name": "stdout",
     "output_type": "stream",
     "text": [
      "Best model on CV:\n"
     ]
    },
    {
     "data": {
      "text/plain": [
       "RandomForestClassifier(max_depth=20, n_estimators=150)"
      ]
     },
     "execution_count": 124,
     "metadata": {},
     "output_type": "execute_result"
    }
   ],
   "source": [
    "print('Best model on CV:')\n",
    "grid_pipe.best_estimator_[1]"
   ]
  },
  {
   "cell_type": "code",
   "execution_count": 125,
   "metadata": {},
   "outputs": [
    {
     "data": {
      "text/plain": [
       "0.839424867792874"
      ]
     },
     "execution_count": 125,
     "metadata": {},
     "output_type": "execute_result"
    }
   ],
   "source": [
    "grid_pipe.best_score_"
   ]
  },
  {
   "cell_type": "markdown",
   "metadata": {},
   "source": [
    "#### Predicting on test:"
   ]
  },
  {
   "cell_type": "code",
   "execution_count": 126,
   "metadata": {},
   "outputs": [],
   "source": [
    "pred = grid_pipe.best_estimator_.predict(X_test[X_train.columns])"
   ]
  },
  {
   "cell_type": "code",
   "execution_count": 127,
   "metadata": {},
   "outputs": [
    {
     "data": {
      "text/plain": [
       "0.6593667305411077"
      ]
     },
     "execution_count": 127,
     "metadata": {},
     "output_type": "execute_result"
    }
   ],
   "source": [
    "f1_score(y_bin_test, pred)"
   ]
  },
  {
   "cell_type": "code",
   "execution_count": 128,
   "metadata": {},
   "outputs": [],
   "source": [
    "from sklearn.metrics import accuracy_score, precision_score, recall_score"
   ]
  },
  {
   "cell_type": "code",
   "execution_count": 129,
   "metadata": {},
   "outputs": [
    {
     "name": "stdout",
     "output_type": "stream",
     "text": [
      "Accuracy: 0.6897053322804538\n",
      "Precision: 0.7312284962558186\n",
      "Recall: 0.6003655699567962\n"
     ]
    }
   ],
   "source": [
    "print('Accuracy:', accuracy_score(y_bin_test, pred))\n",
    "print('Precision:', precision_score(y_bin_test, pred))\n",
    "print('Recall:', recall_score(y_bin_test, pred))"
   ]
  },
  {
   "cell_type": "markdown",
   "metadata": {},
   "source": [
    "If I was tasked with presenting our model (i.e. GradientBoostingClassifier), I would try to keep it simple and say that it uses a number of simple models like decision trees and constructs a more powerful model successively and greedily. Each successive model will try to correct the errors of the previous ones."
   ]
  }
 ],
 "metadata": {
  "kernelspec": {
   "display_name": "Python 3",
   "language": "python",
   "name": "python3"
  },
  "language_info": {
   "codemirror_mode": {
    "name": "ipython",
    "version": 3
   },
   "file_extension": ".py",
   "mimetype": "text/x-python",
   "name": "python",
   "nbconvert_exporter": "python",
   "pygments_lexer": "ipython3",
   "version": "3.9.4"
  }
 },
 "nbformat": 4,
 "nbformat_minor": 4
}
