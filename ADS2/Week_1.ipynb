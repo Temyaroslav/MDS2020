{
 "cells": [
  {
   "cell_type": "markdown",
   "id": "serious-ridge",
   "metadata": {},
   "source": [
    "#### DFS"
   ]
  },
  {
   "cell_type": "markdown",
   "id": "active-armenia",
   "metadata": {},
   "source": [
    "Вопрос 1\n",
    "\n",
    "Given an adjacency matrix for an undirected graph and a vertex, modify the dfs algorithm to output the number of vertices in the same graph component as the given one (counting the given one)."
   ]
  },
  {
   "cell_type": "code",
   "execution_count": 1,
   "id": "located-saskatchewan",
   "metadata": {},
   "outputs": [],
   "source": [
    "graph = []\n",
    "visited = []\n",
    "\n",
    "\n",
    "def dfs(v):\n",
    "    visited[v] = True\n",
    "    for i, u in enumerate(graph[v]):\n",
    "        if not visited[i] and u != 0:\n",
    "            dfs(i)\n",
    "\n",
    "\n",
    "def sameComponent(adj_list, vertex):\n",
    "    global graph, visited\n",
    "    graph = adj_list\n",
    "    n = len(graph)\n",
    "    visited = [False for i in range(n)]\n",
    "    vertex_count = 1\n",
    "    \n",
    "    #YOUR CODE GOES HERE\n",
    "    dfs(vertex)\n",
    "    \n",
    "    return sum(visited)\n",
    "  "
   ]
  },
  {
   "cell_type": "code",
   "execution_count": 2,
   "id": "confused-basement",
   "metadata": {},
   "outputs": [
    {
     "data": {
      "text/plain": [
       "True"
      ]
     },
     "execution_count": 2,
     "metadata": {},
     "output_type": "execute_result"
    }
   ],
   "source": [
    "adj_matrix = [[0, 1, 1], [1, 0, 0], [1, 0, 0]]\n",
    "vertex = 0\n",
    "\n",
    "sameComponent(adj_matrix, vertex) == 3"
   ]
  },
  {
   "cell_type": "markdown",
   "id": "committed-hierarchy",
   "metadata": {},
   "source": [
    "Вопрос 2\n",
    "\n",
    "Given the adjacency list of an undirected graph check if a graph is a tree."
   ]
  },
  {
   "cell_type": "code",
   "execution_count": 3,
   "id": "annual-acquisition",
   "metadata": {},
   "outputs": [],
   "source": [
    "graph = []\n",
    "visited = []\n",
    "\n",
    "# USE DFS\n",
    "def hasCycle(v, parent):\n",
    "    visited[v] = True\n",
    "    for u in graph[v]:\n",
    "        if not visited[u]:\n",
    "            if hasCycle(u, parent=v):\n",
    "                return True\n",
    "        elif u != parent:\n",
    "            return True\n",
    "    \n",
    "    return False\n",
    "\n",
    "def isTree(adj_list):\n",
    "    global graph, visited\n",
    "    n = len(adj_list)\n",
    "    \n",
    "    graph = adj_list\n",
    "    visited = [False for i in range(n)]\n",
    "    \n",
    "    is_tree = True\n",
    "    \n",
    "    # YOUR CODE GOES HERE\n",
    "    # no cycles \n",
    "    if hasCycle(0, -1):\n",
    "        is_tree = False\n",
    "    \n",
    "    # if any vertice not visited after DFS => not tree\n",
    "    for v in visited:\n",
    "        if not v:\n",
    "            return False\n",
    "    \n",
    "    return is_tree"
   ]
  },
  {
   "cell_type": "code",
   "execution_count": 4,
   "id": "every-tract",
   "metadata": {},
   "outputs": [
    {
     "data": {
      "text/plain": [
       "True"
      ]
     },
     "execution_count": 4,
     "metadata": {},
     "output_type": "execute_result"
    }
   ],
   "source": [
    "adj_list = [[1, 2], [0], [0]]\n",
    "isTree(adj_list)"
   ]
  },
  {
   "cell_type": "markdown",
   "id": "durable-pennsylvania",
   "metadata": {},
   "source": [
    "Вопрос 3\n",
    "\n",
    "Given a list of courses and a list of prerequisites for each course (in a form of a dict) output the list of courses sorted in such a way that each course appears in this list only after all it's prerequisites. If it is not possible, output -1."
   ]
  },
  {
   "cell_type": "code",
   "execution_count": 28,
   "id": "classical-counter",
   "metadata": {},
   "outputs": [],
   "source": [
    "def dfs(v, graph, visited, course_order):\n",
    "    visited[v] = True\n",
    "    for u in graph[v]:\n",
    "        if not visited[u]:\n",
    "            graph, visited, course_order = dfs(u, graph, visited, course_order)\n",
    "    course_order.append(v)\n",
    "    return graph, visited, course_order\n",
    "\n",
    "def sortCourses(course_list, prerequisites_dict):\n",
    "    n = len(course_list)\n",
    "    course_order = []\n",
    "    visited = [False for _ in range(n)]\n",
    "    \n",
    "    # init adj list\n",
    "    graph = [[] for _ in course_list]\n",
    "    for v in course_list:\n",
    "        if v in prerequisites_dict:\n",
    "            graph[v] = prerequisites_dict[v]\n",
    "            graph[v].sort()\n",
    "            \n",
    "    for v in range(n):\n",
    "        if not visited[v]:\n",
    "            graph, visited, course_order = dfs(v, graph, visited, course_order)\n",
    "    \n",
    "    if len(course_order) == 0:\n",
    "        return -1\n",
    "    \n",
    "    return course_order\n"
   ]
  },
  {
   "cell_type": "code",
   "execution_count": 29,
   "id": "inclusive-jacob",
   "metadata": {},
   "outputs": [
    {
     "data": {
      "text/plain": [
       "[0, 1, 2]"
      ]
     },
     "execution_count": 29,
     "metadata": {},
     "output_type": "execute_result"
    }
   ],
   "source": [
    "course_list = [0, 1, 2]\n",
    "prerequisites_dict = {2 : [1, 0], 1: [0]}\n",
    "\n",
    "sortCourses(course_list, prerequisites_dict)"
   ]
  },
  {
   "cell_type": "markdown",
   "id": "exciting-hacker",
   "metadata": {},
   "source": [
    "Вопрос 4\n",
    "\n",
    "Given the size of the chess board NxN and the coordinates of rooks, placed on the board, determine the minimum possible number of rooks left after performing the following operation:\n",
    "\n",
    "Select two rooks so that attack each other (they are on the same row or column of the board) and have one of them captures the other (remove one of them from the board)\n",
    "\n",
    "Repeat until there are no two rooks attacking each other."
   ]
  },
  {
   "cell_type": "code",
   "execution_count": 33,
   "id": "developing-turning",
   "metadata": {},
   "outputs": [],
   "source": [
    "def dfs(v, graph, visited):\n",
    "    visited[v] = True\n",
    "    for u in graph[v]:\n",
    "        if not visited[u]:\n",
    "            dfs(u, graph, visited)\n",
    "\n",
    "\n",
    "def minRooksLeft(board_size, coordinates):\n",
    "    # each entry in coordinates array looks like this: (x, y) - coordinates of the rook\n",
    "    n = len(coordinates)\n",
    "    rooks_left = 0\n",
    "    graph = [[] for _ in coordinates]\n",
    "    # adj list\n",
    "    for i, rook in enumerate(coordinates):\n",
    "        for j, other_rook in enumerate(coordinates):\n",
    "            if i != j and (rook[0] == other_rook[0] or rook[1] == other_rook[1]):\n",
    "                graph[i].append(j)\n",
    "    n = len(graph)\n",
    "    visited = [False for _ in range(n)]\n",
    "    for v in range(n):\n",
    "        if not visited[v]:\n",
    "            rooks_left += 1\n",
    "            dfs(v, graph, visited)\n",
    "\n",
    "    return rooks_left"
   ]
  },
  {
   "cell_type": "code",
   "execution_count": 34,
   "id": "flying-rocket",
   "metadata": {},
   "outputs": [
    {
     "data": {
      "text/plain": [
       "1"
      ]
     },
     "execution_count": 34,
     "metadata": {},
     "output_type": "execute_result"
    }
   ],
   "source": [
    "board_size = 4\n",
    "coordinates = [(0, 0), (0, 3), (3, 0)]\n",
    "\n",
    "minRooksLeft(board_size, coordinates)"
   ]
  },
  {
   "cell_type": "markdown",
   "id": "swiss-jurisdiction",
   "metadata": {},
   "source": [
    "#### BFS"
   ]
  },
  {
   "cell_type": "markdown",
   "id": "interstate-uganda",
   "metadata": {},
   "source": [
    "Вопрос 1\n",
    "\n",
    "Given an undirected (and unweighted) graph and a pair of vertices find the shortest path between a pair of vertices. Return -1 if vertices is not connected."
   ]
  },
  {
   "cell_type": "code",
   "execution_count": 40,
   "id": "identified-suite",
   "metadata": {},
   "outputs": [],
   "source": [
    "from collections import deque"
   ]
  },
  {
   "cell_type": "code",
   "execution_count": 43,
   "id": "seasonal-influence",
   "metadata": {},
   "outputs": [],
   "source": [
    "def distance(adj_list, v_from, v_to):\n",
    "    n = len(adj_list)\n",
    "    distance = -1\n",
    "    \n",
    "    visited = [False for i in range(n)]\n",
    "    Q = deque()\n",
    "    \n",
    "    Q.append((0, v_from))\n",
    "    visited[v_from] = True\n",
    "    \n",
    "    while Q:\n",
    "        d, v = Q.popleft()\n",
    "        if v == v_to:\n",
    "            return d\n",
    "        \n",
    "        for u in adj_list[v]:\n",
    "            if not visited[u]:\n",
    "                Q.append((d + 1, u))\n",
    "                visited[u] = True\n",
    "    \n",
    "    return distance"
   ]
  },
  {
   "cell_type": "code",
   "execution_count": 44,
   "id": "regulation-conference",
   "metadata": {},
   "outputs": [
    {
     "data": {
      "text/plain": [
       "2"
      ]
     },
     "execution_count": 44,
     "metadata": {},
     "output_type": "execute_result"
    }
   ],
   "source": [
    "adj_list = [[1], [0, 2], [1]]\n",
    "v_from, v_to = 0, 2\n",
    "\n",
    "distance(adj_list, v_from, v_to)"
   ]
  },
  {
   "cell_type": "markdown",
   "id": "different-leadership",
   "metadata": {},
   "source": [
    "Вопрос 2\n",
    "\n",
    "Given an adjacency list for a graph determine if a graph is bipartite. (A graph is bipartite if it's vertices can be divided in to two sets such that there is no edges between vertices that are in the different sets)."
   ]
  },
  {
   "cell_type": "code",
   "execution_count": 49,
   "id": "suffering-lloyd",
   "metadata": {},
   "outputs": [],
   "source": [
    "def isBipartite(adj_list):\n",
    "    n = len(adj_list)\n",
    "    is_bipartite = True\n",
    "    color = [0 for _ in range(n)]\n",
    "#     visited = [False for i in range(n)]\n",
    "    \n",
    "    for i in range(n):\n",
    "        if color[i] == 0:\n",
    "            Q = deque()\n",
    "            Q.append(i)\n",
    "            color[i] = 1\n",
    "            while Q:\n",
    "                v = Q.popleft()\n",
    "                for u in adj_list[v]:\n",
    "                    if color[u] == color[v]:\n",
    "                        return False\n",
    "                    if color[u] == 0:\n",
    "                        color[u] = color[v] % 2 + 1\n",
    "                        Q.append(u)\n",
    "    \n",
    "    return is_bipartite"
   ]
  },
  {
   "cell_type": "code",
   "execution_count": 50,
   "id": "finite-apple",
   "metadata": {},
   "outputs": [
    {
     "data": {
      "text/plain": [
       "True"
      ]
     },
     "execution_count": 50,
     "metadata": {},
     "output_type": "execute_result"
    }
   ],
   "source": [
    "adj_list = [[], [2], [1]]\n",
    "\n",
    "isBipartite(adj_list)"
   ]
  },
  {
   "cell_type": "code",
   "execution_count": 62,
   "id": "earned-matthew",
   "metadata": {},
   "outputs": [],
   "source": [
    "def maze2graph(maze):\n",
    "    height, width = len(maze), len(maze[0])\n",
    "    graph = {(x, y): [] for y in range(width) for x in range(height) if maze[x][y] != \"#\"}\n",
    "    \n",
    "    for v in graph.keys():\n",
    "        if v[1] - 1 >= 0 and (v[0], v[1] - 1) in graph:\n",
    "            graph[v].append((v[0], v[1] - 1))\n",
    "        if v[1] + 1 < width and (v[0], v[1] + 1) in graph:\n",
    "            graph[v].append((v[0], v[1] + 1))\n",
    "        if v[0] - 1 >= 0 and (v[0] - 1, v[1]) in graph:\n",
    "            graph[v].append((v[0] - 1, v[1]))\n",
    "        if v[0] + 1 < height and (v[0] + 1, v[1]) in graph:\n",
    "            graph[v].append((v[0] + 1, v[1]))\n",
    "    return graph"
   ]
  },
  {
   "cell_type": "code",
   "execution_count": 63,
   "id": "sensitive-wrapping",
   "metadata": {},
   "outputs": [
    {
     "data": {
      "text/plain": [
       "{(0, 0): [(1, 0)],\n",
       " (1, 0): [(1, 1), (0, 0)],\n",
       " (1, 1): [(1, 0), (1, 2)],\n",
       " (0, 2): [(1, 2)],\n",
       " (1, 2): [(1, 1), (0, 2)]}"
      ]
     },
     "execution_count": 63,
     "metadata": {},
     "output_type": "execute_result"
    }
   ],
   "source": [
    "maze2graph(['.#.', '..X'])"
   ]
  },
  {
   "cell_type": "code",
   "execution_count": 66,
   "id": "velvet-auckland",
   "metadata": {},
   "outputs": [],
   "source": [
    "def path2exit(maze, x, y):\n",
    "    height, width = len(maze), len(maze[0])\n",
    "\n",
    "    graph = {}\n",
    "    v_exit = None\n",
    "\n",
    "    # adj list\n",
    "    for m in range(height):\n",
    "        for k in range(width):\n",
    "            row_len = len(maze[m][k])\n",
    "            for i in range(row_len):\n",
    "                if maze[m][k][i] != '#':\n",
    "                    graph[(m, i)] = []\n",
    "                    # left-right\n",
    "                    if i - 1 >= 0 and maze[m][k][i - 1] != '#':\n",
    "                        graph[(m, i)].append((m, i - 1))\n",
    "                    if i + 1 < row_len and maze[m][k][i + 1] != '#':\n",
    "                        graph[(m, i)].append((m, i + 1))\n",
    "                    # up-down\n",
    "                    if m - 1 >= 0 and maze[m - 1][k][i] != '#':\n",
    "                        graph[(m, i)].append((m - 1, i))\n",
    "                    if m + 1 < height and maze[m + 1][k][i] != '#':\n",
    "                        graph[(m, i)].append((m + 1, i))\n",
    "                if maze[m][k][i] == 'X':\n",
    "                    v_exit = (m, i)\n",
    "\n",
    "    path = {i: [] for i in graph.keys()}\n",
    "    visited = {i: False for i in graph.keys()}\n",
    "\n",
    "    Q = deque()\n",
    "    Q.append((x, y))\n",
    "    visited[(x, y)] = True\n",
    "\n",
    "    while Q:\n",
    "        v_from = Q.popleft()\n",
    "        if v_from == v_exit:\n",
    "            return ''.join(path[v_from])\n",
    "        for v_to in graph[v_from]:\n",
    "            if not visited[v_to]:\n",
    "                if v_to[0] - v_from[0] == -1:\n",
    "                    path[v_to] += path[v_from] + ['U']\n",
    "                elif v_to[0] - v_from[0] == 1:\n",
    "                    path[v_to] += path[v_from] + ['D']\n",
    "                elif v_to[1] - v_from[1] == 1:\n",
    "                    path[v_to] += path[v_from] + ['R']\n",
    "                elif v_to[1] - v_from[1] == -1:\n",
    "                    path[v_to] += path[v_from] + ['L']\n",
    "                Q.append(v_to)\n",
    "                visited[v_to] = True\n",
    "\n",
    "    return -1"
   ]
  },
  {
   "cell_type": "code",
   "execution_count": 67,
   "id": "furnished-smith",
   "metadata": {},
   "outputs": [
    {
     "data": {
      "text/plain": [
       "'DRR'"
      ]
     },
     "execution_count": 67,
     "metadata": {},
     "output_type": "execute_result"
    }
   ],
   "source": [
    "maze = [['.#.'], ['..X']]\n",
    "x, y = 0, 0\n",
    "\n",
    "path2exit(maze, x, y)"
   ]
  },
  {
   "cell_type": "code",
   "execution_count": null,
   "id": "olympic-perspective",
   "metadata": {},
   "outputs": [],
   "source": []
  }
 ],
 "metadata": {
  "kernelspec": {
   "display_name": "Python 3",
   "language": "python",
   "name": "python3"
  },
  "language_info": {
   "codemirror_mode": {
    "name": "ipython",
    "version": 3
   },
   "file_extension": ".py",
   "mimetype": "text/x-python",
   "name": "python",
   "nbconvert_exporter": "python",
   "pygments_lexer": "ipython3",
   "version": "3.6.8"
  }
 },
 "nbformat": 4,
 "nbformat_minor": 5
}
