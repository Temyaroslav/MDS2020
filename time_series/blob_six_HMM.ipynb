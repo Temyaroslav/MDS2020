{
 "cells": [
  {
   "cell_type": "code",
   "execution_count": 6,
   "metadata": {},
   "outputs": [],
   "source": [
    "import os, pickle\n",
    "from tqdm import tqdm\n",
    "import numpy as np\n",
    "import pandas as pd\n",
    "\n",
    "from hmmlearn.hmm import GaussianHMM\n",
    "\n",
    "from matplotlib import cm, pyplot as plt\n",
    "from matplotlib.pyplot import figure\n",
    "from matplotlib.dates import YearLocator, MonthLocator\n",
    "import seaborn as sns\n",
    "sns.set()\n",
    "\n",
    "from loaders import DataLoader\n",
    "from strategies.hmm import StrategyHMM"
   ]
  },
  {
   "cell_type": "code",
   "execution_count": 7,
   "metadata": {},
   "outputs": [],
   "source": [
    "# lighter version of dataloader without features\n",
    "\n",
    "class DataLoader:\n",
    "    '''The following class will be used to load the data and apply few initial filtering/preprocessing steps'''\n",
    "    @classmethod\n",
    "    def load(cls, asset: str,\n",
    "             sampling: str = '1H',\n",
    "             year_start: int = 2000,\n",
    "             year_end: int = None):\n",
    "        if os.path.exists(f'data/{asset}.csv'):\n",
    "            data = pd.read_csv(f'data/{asset}.csv', header=None)\n",
    "        else:\n",
    "            raise FileNotFoundError('{asset}.csv was not found!')\n",
    "        data.columns = ['Date', 'Open', 'High', 'Low', 'Close', 'Volume']\n",
    "        data.iloc[:, 1:-1] /= 10e3\n",
    "        data['Date'] = pd.to_datetime(data['Date'])\n",
    "        if year_end is None:\n",
    "            year_end = data['Date'].dt.year.unique()[-1]\n",
    "        data = data[(data['Date'].dt.year >= year_start) & (data['Date'].dt.year <= year_end)]\n",
    "        data.reset_index(inplace=True, drop=True)\n",
    "        if sampling != '1H':\n",
    "            data = cls._resample(data, sampling)\n",
    "        # data = cls.featurise(data, sampling)\n",
    "        data['ln_Close'] = np.log(data['Close'] / data['Close'].shift(1))\n",
    "        # for each observation t add t+1 binary target\n",
    "        data['target'] = np.sign(data['ln_Close'].shift(-1))\n",
    "        # dropna from the last row\n",
    "        data.dropna(inplace=True)\n",
    "        # due to the nature of our data (only 2 decimal points) there are few occasions when close price is unchanged\n",
    "        # replacing them with the previous target to keep it binary\n",
    "        frac = round(data[data['target'] == 0].shape[0] / data.shape[0], 2)\n",
    "        print(f'Warning: {frac} fraction of data has zero targets. Replacing it with previous target.')\n",
    "        # data.loc[data['target'] == 0, 'target'] = 1\n",
    "        data['target'] = data['target'].replace(to_replace=0, method='ffill')\n",
    "\n",
    "        return data\n",
    "\n",
    "    @staticmethod\n",
    "    def _resample(data: pd.DataFrame, sampling):\n",
    "        data.set_index('Date', inplace=True)\n",
    "        data = data.resample(sampling).agg({\n",
    "            'Open': 'first',\n",
    "            'High': 'max',\n",
    "            'Low': 'min',\n",
    "            'Close': 'last'})\n",
    "        data.dropna(inplace=True)\n",
    "        data.reset_index(inplace=True)\n",
    "        return data"
   ]
  },
  {
   "cell_type": "code",
   "execution_count": 15,
   "metadata": {},
   "outputs": [
    {
     "name": "stdout",
     "output_type": "stream",
     "text": [
      "Warning: 0.0 fraction of data has zero targets. Replacing it with previous target.\n"
     ]
    }
   ],
   "source": [
    "df = DataLoader.load('ibm_trainval', sampling='1W', year_start=2000)"
   ]
  },
  {
   "cell_type": "code",
   "execution_count": 16,
   "metadata": {},
   "outputs": [
    {
     "data": {
      "text/html": [
       "<div>\n",
       "<style scoped>\n",
       "    .dataframe tbody tr th:only-of-type {\n",
       "        vertical-align: middle;\n",
       "    }\n",
       "\n",
       "    .dataframe tbody tr th {\n",
       "        vertical-align: top;\n",
       "    }\n",
       "\n",
       "    .dataframe thead th {\n",
       "        text-align: right;\n",
       "    }\n",
       "</style>\n",
       "<table border=\"1\" class=\"dataframe\">\n",
       "  <thead>\n",
       "    <tr style=\"text-align: right;\">\n",
       "      <th></th>\n",
       "      <th>Date</th>\n",
       "      <th>Open</th>\n",
       "      <th>High</th>\n",
       "      <th>Low</th>\n",
       "      <th>Close</th>\n",
       "      <th>ln_Close</th>\n",
       "      <th>target</th>\n",
       "    </tr>\n",
       "  </thead>\n",
       "  <tbody>\n",
       "    <tr>\n",
       "      <th>860</th>\n",
       "      <td>2016-07-03</td>\n",
       "      <td>146.01</td>\n",
       "      <td>152.97</td>\n",
       "      <td>142.50</td>\n",
       "      <td>152.32</td>\n",
       "      <td>0.037798</td>\n",
       "      <td>1.0</td>\n",
       "    </tr>\n",
       "    <tr>\n",
       "      <th>861</th>\n",
       "      <td>2016-07-10</td>\n",
       "      <td>151.19</td>\n",
       "      <td>154.60</td>\n",
       "      <td>149.95</td>\n",
       "      <td>154.46</td>\n",
       "      <td>0.013952</td>\n",
       "      <td>1.0</td>\n",
       "    </tr>\n",
       "    <tr>\n",
       "      <th>862</th>\n",
       "      <td>2016-07-17</td>\n",
       "      <td>154.60</td>\n",
       "      <td>161.40</td>\n",
       "      <td>154.60</td>\n",
       "      <td>159.77</td>\n",
       "      <td>0.033800</td>\n",
       "      <td>1.0</td>\n",
       "    </tr>\n",
       "    <tr>\n",
       "      <th>863</th>\n",
       "      <td>2016-07-24</td>\n",
       "      <td>159.36</td>\n",
       "      <td>162.16</td>\n",
       "      <td>157.89</td>\n",
       "      <td>162.07</td>\n",
       "      <td>0.014293</td>\n",
       "      <td>-1.0</td>\n",
       "    </tr>\n",
       "    <tr>\n",
       "      <th>864</th>\n",
       "      <td>2016-07-31</td>\n",
       "      <td>162.00</td>\n",
       "      <td>163.60</td>\n",
       "      <td>160.03</td>\n",
       "      <td>160.63</td>\n",
       "      <td>-0.008925</td>\n",
       "      <td>1.0</td>\n",
       "    </tr>\n",
       "  </tbody>\n",
       "</table>\n",
       "</div>"
      ],
      "text/plain": [
       "          Date    Open    High     Low   Close  ln_Close  target\n",
       "860 2016-07-03  146.01  152.97  142.50  152.32  0.037798     1.0\n",
       "861 2016-07-10  151.19  154.60  149.95  154.46  0.013952     1.0\n",
       "862 2016-07-17  154.60  161.40  154.60  159.77  0.033800     1.0\n",
       "863 2016-07-24  159.36  162.16  157.89  162.07  0.014293    -1.0\n",
       "864 2016-07-31  162.00  163.60  160.03  160.63 -0.008925     1.0"
      ]
     },
     "execution_count": 16,
     "metadata": {},
     "output_type": "execute_result"
    }
   ],
   "source": [
    "df.tail()"
   ]
  },
  {
   "cell_type": "code",
   "execution_count": 17,
   "metadata": {},
   "outputs": [
    {
     "name": "stdout",
     "output_type": "stream",
     "text": [
      "Model Score: 1761.8270750948152\n"
     ]
    }
   ],
   "source": [
    "hmm_model = GaussianHMM(n_components=2, covariance_type=\"full\", n_iter=1000)\n",
    "hmm_model.fit(df['ln_Close'].to_numpy().reshape(-1, 1))\n",
    "print(\"Model Score:\", hmm_model.score(df['ln_Close'].to_numpy().reshape(-1, 1)))"
   ]
  },
  {
   "cell_type": "code",
   "execution_count": 24,
   "metadata": {},
   "outputs": [],
   "source": [
    "def plot_in_sample_hidden_states(hmm_model, df):\n",
    "    hidden_states = hmm_model.predict(df['ln_Close'].to_numpy().reshape(-1, 1))\n",
    "    fig, axs = plt.subplots(\n",
    "        hmm_model.n_components,\n",
    "        sharex=True, sharey=True,\n",
    "        figsize=(10, 8)\n",
    "    )\n",
    "    colours = cm.rainbow(\n",
    "        np.linspace(0, 1, hmm_model.n_components)\n",
    "    )\n",
    "    for i, (ax, colour) in enumerate(zip(axs, colours)):\n",
    "        mask = hidden_states == i\n",
    "        ax.plot_date(\n",
    "            df['Date'][mask],\n",
    "            df['Close'][mask],\n",
    "            \".\", \n",
    "            linestyle='none',\n",
    "            c=colour)\n",
    "\n",
    "        ax.set_title(\"Hidden State #%s\" % i)\n",
    "        ax.xaxis.set_major_locator(YearLocator())\n",
    "        ax.xaxis.set_minor_locator(MonthLocator())\n",
    "#         ax.grid(True)\n",
    "    plt.savefig('HMM.jpg')\n",
    "    plt.show()\n",
    "\n",
    "    return hidden_states"
   ]
  },
  {
   "cell_type": "code",
   "execution_count": 25,
   "metadata": {},
   "outputs": [
    {
     "data": {
      "image/png": "[encoded data removed]",
      "text/plain": [
       "<Figure size 720x576 with 2 Axes>"
      ]
     },
     "metadata": {},
     "output_type": "display_data"
    }
   ],
   "source": [
    "states = plot_in_sample_hidden_states(hmm_model, df)"
   ]
  },
  {
   "cell_type": "code",
   "execution_count": 76,
   "metadata": {},
   "outputs": [
    {
     "data": {
      "text/plain": [
       "115"
      ]
     },
     "execution_count": 76,
     "metadata": {},
     "output_type": "execute_result"
    }
   ],
   "source": [
    "chg = np.diff(states)\n",
    "len(chg[chg != 0])"
   ]
  },
  {
   "cell_type": "code",
   "execution_count": 59,
   "metadata": {},
   "outputs": [],
   "source": [
    "# df['state'] = [0] * df.shape[0]"
   ]
  },
  {
   "cell_type": "code",
   "execution_count": 63,
   "metadata": {},
   "outputs": [],
   "source": [
    "strategy = StrategyHMM(2)\n",
    "window = 52 * 2"
   ]
  },
  {
   "cell_type": "code",
   "execution_count": 64,
   "metadata": {},
   "outputs": [
    {
     "name": "stderr",
     "output_type": "stream",
     "text": [
      "100%|██████████████████████████████████████████████████████████████████████████████| 1003/1003 [00:49<00:00, 20.41it/s]\n"
     ]
    }
   ],
   "source": [
    "predictions = [0] * window\n",
    "for i, idx in enumerate(tqdm(range(df.shape[0] - window))):\n",
    "    # slice the window\n",
    "    X = df.iloc[idx:idx + window, :]\n",
    "    strategy.fit(X)\n",
    "    # define the state\n",
    "#     df.loc[idx, 'state'] = strategy.predict(X)\n",
    "    predictions.append(strategy.predict(X))\n",
    "df['state'] = predictions"
   ]
  },
  {
   "cell_type": "code",
   "execution_count": 65,
   "metadata": {},
   "outputs": [
    {
     "data": {
      "text/plain": [
       "0.42005420054200543"
      ]
     },
     "execution_count": 65,
     "metadata": {},
     "output_type": "execute_result"
    }
   ],
   "source": [
    "df['state'].sum() / df.shape[0]"
   ]
  },
  {
   "cell_type": "code",
   "execution_count": 66,
   "metadata": {},
   "outputs": [
    {
     "data": {
      "text/plain": [
       "0    642\n",
       "1    465\n",
       "Name: state, dtype: int64"
      ]
     },
     "execution_count": 66,
     "metadata": {},
     "output_type": "execute_result"
    }
   ],
   "source": [
    "df['state'].value_counts()"
   ]
  },
  {
   "cell_type": "code",
   "execution_count": 74,
   "metadata": {},
   "outputs": [],
   "source": [
    "df['Date_id'] = df['Date'].apply(lambda x: f'{x.year}_{x.isocalendar().week}')"
   ]
  },
  {
   "cell_type": "code",
   "execution_count": 78,
   "metadata": {},
   "outputs": [],
   "source": [
    "with open('HMM2.pkl', 'wb') as f:\n",
    "    pickle.dump(df, f)"
   ]
  },
  {
   "cell_type": "code",
   "execution_count": null,
   "metadata": {},
   "outputs": [],
   "source": []
  }
 ],
 "metadata": {
  "interpreter": {
   "hash": "c7198a8443e565f3fd60497f6e312fbd6877efb06a5422cee5a9c16267717856"
  },
  "kernelspec": {
   "display_name": "Python 3 (ipykernel)",
   "language": "python",
   "name": "python3"
  },
  "language_info": {
   "codemirror_mode": {
    "name": "ipython",
    "version": 3
   },
   "file_extension": ".py",
   "mimetype": "text/x-python",
   "name": "python",
   "nbconvert_exporter": "python",
   "pygments_lexer": "ipython3",
   "version": "3.9.4"
  }
 },
 "nbformat": 4,
 "nbformat_minor": 2
}
