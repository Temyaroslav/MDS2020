{
 "cells": [
  {
   "cell_type": "code",
   "execution_count": 27,
   "metadata": {},
   "outputs": [],
   "source": [
    "import numpy as np\r\n",
    "\r\n",
    "from hmmlearn.hmm import GaussianHMM\r\n",
    "\r\n",
    "from matplotlib import cm, pyplot as plt\r\n",
    "from matplotlib.pyplot import figure\r\n",
    "from matplotlib.dates import YearLocator, MonthLocator\r\n",
    "\r\n",
    "from loaders import DataLoader"
   ]
  },
  {
   "cell_type": "code",
   "execution_count": 84,
   "metadata": {},
   "outputs": [
    {
     "name": "stdout",
     "output_type": "stream",
     "text": [
      "Warning: 0.0 fraction of data has zero targets. Replacing it with previous target.\n"
     ]
    }
   ],
   "source": [
    "df = DataLoader.load('ibm', sampling='1W', feature_sampling=1)"
   ]
  },
  {
   "cell_type": "code",
   "execution_count": 85,
   "metadata": {},
   "outputs": [
    {
     "data": {
      "text/html": [
       "<div>\n",
       "<style scoped>\n",
       "    .dataframe tbody tr th:only-of-type {\n",
       "        vertical-align: middle;\n",
       "    }\n",
       "\n",
       "    .dataframe tbody tr th {\n",
       "        vertical-align: top;\n",
       "    }\n",
       "\n",
       "    .dataframe thead th {\n",
       "        text-align: right;\n",
       "    }\n",
       "</style>\n",
       "<table border=\"1\" class=\"dataframe\">\n",
       "  <thead>\n",
       "    <tr style=\"text-align: right;\">\n",
       "      <th></th>\n",
       "      <th>Date</th>\n",
       "      <th>Open</th>\n",
       "      <th>High</th>\n",
       "      <th>Low</th>\n",
       "      <th>Close</th>\n",
       "      <th>ln_Close</th>\n",
       "      <th>shadow_up</th>\n",
       "      <th>shadow_down</th>\n",
       "      <th>hl_ratio</th>\n",
       "      <th>oc_diff</th>\n",
       "      <th>...</th>\n",
       "      <th>MA200</th>\n",
       "      <th>EWMA8</th>\n",
       "      <th>EWMA20</th>\n",
       "      <th>MACD</th>\n",
       "      <th>BB_high</th>\n",
       "      <th>BB_low</th>\n",
       "      <th>RSI</th>\n",
       "      <th>VOL8</th>\n",
       "      <th>VOL20</th>\n",
       "      <th>target</th>\n",
       "    </tr>\n",
       "  </thead>\n",
       "  <tbody>\n",
       "    <tr>\n",
       "      <th>1103</th>\n",
       "      <td>2021-02-28</td>\n",
       "      <td>118.50</td>\n",
       "      <td>124.35</td>\n",
       "      <td>118.440</td>\n",
       "      <td>118.93</td>\n",
       "      <td>-0.000504</td>\n",
       "      <td>5.42</td>\n",
       "      <td>0.060</td>\n",
       "      <td>1.049899</td>\n",
       "      <td>-0.43</td>\n",
       "      <td>...</td>\n",
       "      <td>136.95830</td>\n",
       "      <td>120.960980</td>\n",
       "      <td>121.848954</td>\n",
       "      <td>0.887974</td>\n",
       "      <td>131.342144</td>\n",
       "      <td>111.538856</td>\n",
       "      <td>45.734962</td>\n",
       "      <td>48.671798</td>\n",
       "      <td>52.817822</td>\n",
       "      <td>1.0</td>\n",
       "    </tr>\n",
       "    <tr>\n",
       "      <th>1104</th>\n",
       "      <td>2021-03-07</td>\n",
       "      <td>120.35</td>\n",
       "      <td>123.75</td>\n",
       "      <td>118.755</td>\n",
       "      <td>122.83</td>\n",
       "      <td>0.032266</td>\n",
       "      <td>0.92</td>\n",
       "      <td>1.595</td>\n",
       "      <td>1.042061</td>\n",
       "      <td>-2.48</td>\n",
       "      <td>...</td>\n",
       "      <td>136.79720</td>\n",
       "      <td>121.376318</td>\n",
       "      <td>121.942387</td>\n",
       "      <td>0.566069</td>\n",
       "      <td>130.986251</td>\n",
       "      <td>111.584749</td>\n",
       "      <td>50.686862</td>\n",
       "      <td>50.598172</td>\n",
       "      <td>53.794189</td>\n",
       "      <td>1.0</td>\n",
       "    </tr>\n",
       "    <tr>\n",
       "      <th>1105</th>\n",
       "      <td>2021-03-14</td>\n",
       "      <td>123.10</td>\n",
       "      <td>128.64</td>\n",
       "      <td>122.880</td>\n",
       "      <td>127.61</td>\n",
       "      <td>0.038177</td>\n",
       "      <td>1.03</td>\n",
       "      <td>0.220</td>\n",
       "      <td>1.046875</td>\n",
       "      <td>-4.51</td>\n",
       "      <td>...</td>\n",
       "      <td>136.68340</td>\n",
       "      <td>122.761580</td>\n",
       "      <td>122.482160</td>\n",
       "      <td>-0.279421</td>\n",
       "      <td>131.624342</td>\n",
       "      <td>112.107658</td>\n",
       "      <td>55.963867</td>\n",
       "      <td>54.944690</td>\n",
       "      <td>47.195606</td>\n",
       "      <td>1.0</td>\n",
       "    </tr>\n",
       "    <tr>\n",
       "      <th>1106</th>\n",
       "      <td>2021-03-21</td>\n",
       "      <td>127.77</td>\n",
       "      <td>130.99</td>\n",
       "      <td>127.340</td>\n",
       "      <td>128.90</td>\n",
       "      <td>0.010058</td>\n",
       "      <td>2.09</td>\n",
       "      <td>0.430</td>\n",
       "      <td>1.028663</td>\n",
       "      <td>-1.13</td>\n",
       "      <td>...</td>\n",
       "      <td>136.56800</td>\n",
       "      <td>124.125674</td>\n",
       "      <td>123.093383</td>\n",
       "      <td>-1.032291</td>\n",
       "      <td>131.704856</td>\n",
       "      <td>113.751144</td>\n",
       "      <td>57.285542</td>\n",
       "      <td>32.761602</td>\n",
       "      <td>45.353780</td>\n",
       "      <td>1.0</td>\n",
       "    </tr>\n",
       "    <tr>\n",
       "      <th>1107</th>\n",
       "      <td>2021-03-28</td>\n",
       "      <td>128.50</td>\n",
       "      <td>136.48</td>\n",
       "      <td>127.890</td>\n",
       "      <td>136.38</td>\n",
       "      <td>0.056408</td>\n",
       "      <td>0.10</td>\n",
       "      <td>0.610</td>\n",
       "      <td>1.067167</td>\n",
       "      <td>-7.88</td>\n",
       "      <td>...</td>\n",
       "      <td>136.48745</td>\n",
       "      <td>126.848857</td>\n",
       "      <td>124.358775</td>\n",
       "      <td>-2.490083</td>\n",
       "      <td>133.778629</td>\n",
       "      <td>113.911371</td>\n",
       "      <td>63.998465</td>\n",
       "      <td>45.497715</td>\n",
       "      <td>49.008527</td>\n",
       "      <td>-1.0</td>\n",
       "    </tr>\n",
       "  </tbody>\n",
       "</table>\n",
       "<p>5 rows × 23 columns</p>\n",
       "</div>"
      ],
      "text/plain": [
       "           Date    Open    High      Low   Close  ln_Close  shadow_up  \\\n",
       "1103 2021-02-28  118.50  124.35  118.440  118.93 -0.000504       5.42   \n",
       "1104 2021-03-07  120.35  123.75  118.755  122.83  0.032266       0.92   \n",
       "1105 2021-03-14  123.10  128.64  122.880  127.61  0.038177       1.03   \n",
       "1106 2021-03-21  127.77  130.99  127.340  128.90  0.010058       2.09   \n",
       "1107 2021-03-28  128.50  136.48  127.890  136.38  0.056408       0.10   \n",
       "\n",
       "      shadow_down  hl_ratio  oc_diff  ...      MA200       EWMA8      EWMA20  \\\n",
       "1103        0.060  1.049899    -0.43  ...  136.95830  120.960980  121.848954   \n",
       "1104        1.595  1.042061    -2.48  ...  136.79720  121.376318  121.942387   \n",
       "1105        0.220  1.046875    -4.51  ...  136.68340  122.761580  122.482160   \n",
       "1106        0.430  1.028663    -1.13  ...  136.56800  124.125674  123.093383   \n",
       "1107        0.610  1.067167    -7.88  ...  136.48745  126.848857  124.358775   \n",
       "\n",
       "          MACD     BB_high      BB_low        RSI       VOL8      VOL20  \\\n",
       "1103  0.887974  131.342144  111.538856  45.734962  48.671798  52.817822   \n",
       "1104  0.566069  130.986251  111.584749  50.686862  50.598172  53.794189   \n",
       "1105 -0.279421  131.624342  112.107658  55.963867  54.944690  47.195606   \n",
       "1106 -1.032291  131.704856  113.751144  57.285542  32.761602  45.353780   \n",
       "1107 -2.490083  133.778629  113.911371  63.998465  45.497715  49.008527   \n",
       "\n",
       "      target  \n",
       "1103     1.0  \n",
       "1104     1.0  \n",
       "1105     1.0  \n",
       "1106     1.0  \n",
       "1107    -1.0  \n",
       "\n",
       "[5 rows x 23 columns]"
      ]
     },
     "execution_count": 85,
     "metadata": {},
     "output_type": "execute_result"
    }
   ],
   "source": [
    "df.tail()"
   ]
  },
  {
   "cell_type": "code",
   "execution_count": 79,
   "metadata": {},
   "outputs": [
    {
     "data": {
      "text/plain": [
       "[<matplotlib.lines.Line2D at 0x21a8a106320>]"
      ]
     },
     "execution_count": 79,
     "metadata": {},
     "output_type": "execute_result"
    },
    {
     "data": {
      "image/png": "[encoded data removed]",
      "text/plain": [
       "<Figure size 432x288 with 1 Axes>"
      ]
     },
     "metadata": {
      "needs_background": "light"
     },
     "output_type": "display_data"
    }
   ],
   "source": [
    "plt.plot(df['Date'], df['Close'])"
   ]
  },
  {
   "cell_type": "code",
   "execution_count": 86,
   "metadata": {},
   "outputs": [
    {
     "name": "stdout",
     "output_type": "stream",
     "text": [
      "Model Score: 1961.8464741778712\n"
     ]
    }
   ],
   "source": [
    "hmm_model = GaussianHMM(n_components=2, covariance_type=\"full\", n_iter=1000)\r\n",
    "hmm_model.fit(df['ln_Close'].to_numpy().reshape(-1, 1))\r\n",
    "print(\"Model Score:\", hmm_model.score(df['ln_Close'].to_numpy().reshape(-1, 1)))"
   ]
  },
  {
   "cell_type": "code",
   "execution_count": 87,
   "metadata": {},
   "outputs": [],
   "source": [
    "def plot_in_sample_hidden_states(hmm_model, df):\r\n",
    "    hidden_states = hmm_model.predict(df['ln_Close'].to_numpy().reshape(-1, 1))\r\n",
    "    fig, axs = plt.subplots(\r\n",
    "        hmm_model.n_components,\r\n",
    "        sharex=True, sharey=True,\r\n",
    "        figsize=(10, 8)\r\n",
    "    )\r\n",
    "    colours = cm.rainbow(\r\n",
    "        np.linspace(0, 1, hmm_model.n_components)\r\n",
    "    )\r\n",
    "    for i, (ax, colour) in enumerate(zip(axs, colours)):\r\n",
    "        mask = hidden_states == i\r\n",
    "        ax.plot_date(\r\n",
    "            df['Date'][mask],\r\n",
    "            df['Close'][mask],\r\n",
    "            \".\", \r\n",
    "            linestyle='none',\r\n",
    "            c=colour)\r\n",
    "\r\n",
    "    ax.set_title(\"Hidden State #%s\" % i)\r\n",
    "    ax.xaxis.set_major_locator(YearLocator())\r\n",
    "    ax.xaxis.set_minor_locator(MonthLocator())\r\n",
    "    ax.grid(True)\r\n",
    "\r\n",
    "    plt.show()\r\n",
    "\r\n",
    "    return hidden_states"
   ]
  },
  {
   "cell_type": "code",
   "execution_count": 88,
   "metadata": {},
   "outputs": [
    {
     "data": {
      "image/png": "[encoded data removed]",
      "text/plain": [
       "<Figure size 720x576 with 2 Axes>"
      ]
     },
     "metadata": {
      "needs_background": "light"
     },
     "output_type": "display_data"
    }
   ],
   "source": [
    "states = plot_in_sample_hidden_states(hmm_model, df)"
   ]
  },
  {
   "cell_type": "code",
   "execution_count": 76,
   "metadata": {},
   "outputs": [
    {
     "data": {
      "text/plain": [
       "115"
      ]
     },
     "execution_count": 76,
     "metadata": {},
     "output_type": "execute_result"
    }
   ],
   "source": [
    "chg = np.diff(states)\r\n",
    "len(chg[chg != 0])"
   ]
  },
  {
   "cell_type": "code",
   "execution_count": null,
   "metadata": {},
   "outputs": [],
   "source": []
  }
 ],
 "metadata": {
  "interpreter": {
   "hash": "c7198a8443e565f3fd60497f6e312fbd6877efb06a5422cee5a9c16267717856"
  },
  "kernelspec": {
   "display_name": "Python 3.6.8 64-bit ('venv')",
   "name": "python3"
  },
  "language_info": {
   "codemirror_mode": {
    "name": "ipython",
    "version": 3
   },
   "file_extension": ".py",
   "mimetype": "text/x-python",
   "name": "python",
   "nbconvert_exporter": "python",
   "pygments_lexer": "ipython3",
   "version": "3.6.8"
  }
 },
 "nbformat": 4,
 "nbformat_minor": 2
}
