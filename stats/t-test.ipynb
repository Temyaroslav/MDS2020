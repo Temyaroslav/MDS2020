{
 "cells": [
  {
   "cell_type": "code",
   "execution_count": 4,
   "metadata": {},
   "outputs": [],
   "source": [
    "import numpy as np\n",
    "import matplotlib.pyplot as plt"
   ]
  },
  {
   "cell_type": "code",
   "execution_count": 1,
   "metadata": {},
   "outputs": [],
   "source": [
    "from scipy.stats import ttest_1samp\n",
    "from scipy.stats import ttest_ind"
   ]
  },
  {
   "cell_type": "code",
   "execution_count": 4,
   "metadata": {},
   "outputs": [
    {
     "data": {
      "text/plain": [
       "Ttest_1sampResult(statistic=2.905487990874558, pvalue=0.01743886090834335)"
      ]
     },
     "execution_count": 4,
     "metadata": {},
     "output_type": "execute_result"
    }
   ],
   "source": [
    "sample = [3, 5, 4, 6, 2, 3, 4, 5, 5, 4]\n",
    "mu0 = 3\n",
    "\n",
    "ttest_1samp(sample, mu0)"
   ]
  },
  {
   "cell_type": "code",
   "execution_count": 8,
   "metadata": {},
   "outputs": [
    {
     "data": {
      "text/plain": [
       "2.9054879908745583"
      ]
     },
     "execution_count": 8,
     "metadata": {},
     "output_type": "execute_result"
    }
   ],
   "source": [
    "# checking t-stat\n",
    "t_obs = (np.mean(sample) - mu0) / np.std(sample, ddof=1) * np.sqrt(len(sample))\n",
    "t_obs"
   ]
  },
  {
   "cell_type": "code",
   "execution_count": 9,
   "metadata": {},
   "outputs": [],
   "source": [
    "from scipy.stats import t"
   ]
  },
  {
   "cell_type": "code",
   "execution_count": 11,
   "metadata": {},
   "outputs": [
    {
     "data": {
      "text/plain": [
       "<scipy.stats._distn_infrastructure.rv_frozen at 0x7f22a5b12510>"
      ]
     },
     "execution_count": 11,
     "metadata": {},
     "output_type": "execute_result"
    }
   ],
   "source": [
    "T = t(df=len(sample) - 1)\n",
    "T"
   ]
  },
  {
   "cell_type": "code",
   "execution_count": 16,
   "metadata": {},
   "outputs": [
    {
     "data": {
      "image/png": "[encoded data removed]",
      "text/plain": [
       "<Figure size 432x288 with 1 Axes>"
      ]
     },
     "metadata": {
      "needs_background": "light"
     },
     "output_type": "display_data"
    }
   ],
   "source": [
    "x = np.linspace(-5, 5, 200)\n",
    "\n",
    "plt.plot(x, T.pdf(x))\n",
    "x_left = np.linspace(-5, -t_obs, 200)\n",
    "x_right = np.linspace(t_obs, 5, 200)\n",
    "plt.fill_between(x_left, T.pdf(x_left))\n",
    "plt.fill_between(x_right, T.pdf(x_right))\n",
    "plt.show()"
   ]
  },
  {
   "cell_type": "code",
   "execution_count": 19,
   "metadata": {},
   "outputs": [
    {
     "data": {
      "text/plain": [
       "0.017438860908343328"
      ]
     },
     "execution_count": 19,
     "metadata": {},
     "output_type": "execute_result"
    }
   ],
   "source": [
    "# lets find p-value\n",
    "p_val = T.cdf(-t_obs) * 2\n",
    "p_val"
   ]
  },
  {
   "cell_type": "markdown",
   "metadata": {},
   "source": [
    "#### Using simulations to check t-test"
   ]
  },
  {
   "cell_type": "code",
   "execution_count": 22,
   "metadata": {},
   "outputs": [
    {
     "name": "stdout",
     "output_type": "stream",
     "text": [
      "The result should be close to 5% : 0.051\n"
     ]
    }
   ],
   "source": [
    "# let's check how many time t-test will make type 1 error when sampling from ~Norm(0, 1)\n",
    "sample_size = 3\n",
    "iterations = int(10e3)\n",
    "significance_level = 0.05\n",
    "fp_counter = 0\n",
    "mu0 = 0 # since we are using standard normal distribution\n",
    "for i in range(iterations):\n",
    "    sample = np.random.normal(size=sample_size)\n",
    "    t_stat, p_val = ttest_1samp(sample, mu0)\n",
    "    if p_val < significance_level:\n",
    "        fp_counter += 1\n",
    "\n",
    "print(f'The result should be close to {int(significance_level * 100)}% :', fp_counter / iterations)"
   ]
  },
  {
   "cell_type": "code",
   "execution_count": 27,
   "metadata": {},
   "outputs": [
    {
     "name": "stdout",
     "output_type": "stream",
     "text": [
      "The result should be close to 5% : 0.0528\n"
     ]
    }
   ],
   "source": [
    "# let's check how many time t-test will make type 1 error when sampling from ~Uniform([-, 1])\n",
    "sample_size = 29  # the larger size,, the better results due to CLT\n",
    "iterations = int(10e3)\n",
    "significance_level = 0.05\n",
    "fp_counter = 0\n",
    "mu0 = 0 # since we are using [-1, 1] uniform distribution\n",
    "for i in range(iterations):\n",
    "    sample = np.random.uniform(low=-1, high=1, size=sample_size)\n",
    "    t_stat, p_val = ttest_1samp(sample, mu0)\n",
    "    if p_val < significance_level:\n",
    "        fp_counter += 1\n",
    "\n",
    "print(f'The result should be close to {int(significance_level * 100)}% :', fp_counter / iterations)"
   ]
  },
  {
   "cell_type": "code",
   "execution_count": 31,
   "metadata": {},
   "outputs": [
    {
     "name": "stdout",
     "output_type": "stream",
     "text": [
      "The result should be close to 5% : 0.0813\n"
     ]
    }
   ],
   "source": [
    "# let's check how many time t-test will make type 1 error when sampling from descrete rv\n",
    "sample_size = 50  # the larger size,, the better results due to CLT\n",
    "iterations = int(10e3)\n",
    "significance_level = 0.05\n",
    "population = [2, 3, 4, 1, 2.2, 4.4, 3.3, 6.6, 1000]\n",
    "fp_counter = 0\n",
    "mu0 = np.mean(population)\n",
    "for i in range(iterations):\n",
    "    sample = np.random.choice(population, size=sample_size)\n",
    "    t_stat, p_val = ttest_1samp(sample, mu0)\n",
    "    if p_val < significance_level:\n",
    "        fp_counter += 1\n",
    "\n",
    "print(f'The result should be close to {int(significance_level * 100)}% :', fp_counter / iterations)"
   ]
  },
  {
   "cell_type": "markdown",
   "metadata": {},
   "source": [
    "#### One tailed t-test"
   ]
  },
  {
   "cell_type": "markdown",
   "metadata": {},
   "source": [
    "$$H_0: \\mu = \\mu_0$$\n",
    "$$H_1: \\mu > \\mu_0$$"
   ]
  },
  {
   "cell_type": "code",
   "execution_count": 32,
   "metadata": {},
   "outputs": [
    {
     "name": "stdout",
     "output_type": "stream",
     "text": [
      "The result should be close to 5% : 0.0496\n"
     ]
    }
   ],
   "source": [
    "# let's check how many time t-test will make type 1 error when sampling from ~Norm(0, 1)\n",
    "sample_size = 3\n",
    "iterations = int(10e3)\n",
    "significance_level = 0.05\n",
    "fp_counter = 0\n",
    "mu0 = 0 # since we are using standard normal distribution\n",
    "for i in range(iterations):\n",
    "    sample = np.random.normal(size=sample_size)\n",
    "    t_stat, p_val = ttest_1samp(sample, mu0)\n",
    "    p_val /= 2  # as it's one-tailed now\n",
    "    \n",
    "    if t_stat > 0 and p_val < significance_level:\n",
    "        # rejecting null hypothesis\n",
    "        fp_counter += 1\n",
    "\n",
    "print(f'The result should be close to {int(significance_level * 100)}% :', fp_counter / iterations)"
   ]
  },
  {
   "cell_type": "markdown",
   "metadata": {},
   "source": [
    "#### 2 sample t-test"
   ]
  },
  {
   "cell_type": "code",
   "execution_count": 24,
   "metadata": {},
   "outputs": [],
   "source": [
    "sample1 = [47, 48, 51, 52, 52, 50, 47, 46, 52, 48, 49, 55, 52, 49, 52, 47, 50, 53, 48, 52]\n",
    "sample2 = [60, 58, 61, 61, 54, 57, 59, 63, 60, 61]"
   ]
  },
  {
   "cell_type": "code",
   "execution_count": 25,
   "metadata": {},
   "outputs": [
    {
     "name": "stdout",
     "output_type": "stream",
     "text": [
      "50.0 59.4\n"
     ]
    }
   ],
   "source": [
    "print(np.mean(sample1), np.mean(sample2))"
   ]
  },
  {
   "cell_type": "code",
   "execution_count": 26,
   "metadata": {},
   "outputs": [
    {
     "name": "stdout",
     "output_type": "stream",
     "text": [
      "-9.623189997698113 1.9624057660484677e-08\n"
     ]
    }
   ],
   "source": [
    "t_obs, p_val = ttest_ind(sample1, sample2, equal_var=False)\n",
    "print(t_obs, p_val)"
   ]
  },
  {
   "cell_type": "code",
   "execution_count": 20,
   "metadata": {},
   "outputs": [],
   "source": [
    "sample1 = [28, 33, 29, 31, 31]\n",
    "sample2 = [31, 36, 32, 32, 33]"
   ]
  },
  {
   "cell_type": "code",
   "execution_count": 22,
   "metadata": {},
   "outputs": [
    {
     "name": "stdout",
     "output_type": "stream",
     "text": [
      "-1.9595917942265415 0.08571854967273392\n"
     ]
    },
    {
     "data": {
      "text/plain": [
       "0.04285927483636696"
      ]
     },
     "execution_count": 22,
     "metadata": {},
     "output_type": "execute_result"
    }
   ],
   "source": [
    "t_obs, p_val = ttest_ind(sample1, sample2, equal_var=False)\n",
    "print(t_obs, p_val)\n",
    "p_val/2"
   ]
  }
 ],
 "metadata": {
  "kernelspec": {
   "display_name": "Python 3",
   "language": "python",
   "name": "python3"
  },
  "language_info": {
   "codemirror_mode": {
    "name": "ipython",
    "version": 3
   },
   "file_extension": ".py",
   "mimetype": "text/x-python",
   "name": "python",
   "nbconvert_exporter": "python",
   "pygments_lexer": "ipython3",
   "version": "3.8.5"
  }
 },
 "nbformat": 4,
 "nbformat_minor": 4
}
