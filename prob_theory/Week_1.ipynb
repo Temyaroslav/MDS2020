{
 "cells": [
  {
   "cell_type": "markdown",
   "id": "vocational-converter",
   "metadata": {},
   "source": [
    "Вопрос 1\n",
    "\n",
    "A fair coin is tossed 2 times. Provided that at least 1 head occurred, what's the probability that no tails occurred at all? Enter the exact value below (e.g., 13/28 or 0.12):"
   ]
  },
  {
   "cell_type": "markdown",
   "id": "varying-serial",
   "metadata": {},
   "source": [
    "Solution:\n",
    "\n",
    "A - no tails\n",
    "B - at least 1 head occurred\n",
    "P(A|B) - ?\n",
    "\n",
    "$\\Omega$ = HH, TT, HT, TH = 2**2\n",
    "\n",
    "#A & B = 1\n",
    "\n",
    "#B = 3\n",
    "\n",
    "P(A|B) = #(A & B) / #B = 1/3\n"
   ]
  },
  {
   "cell_type": "code",
   "execution_count": 1,
   "id": "vanilla-sport",
   "metadata": {},
   "outputs": [
    {
     "name": "stdout",
     "output_type": "stream",
     "text": [
      "=========================\n"
     ]
    }
   ],
   "source": [
    "print('=' * 25)"
   ]
  },
  {
   "cell_type": "markdown",
   "id": "exceptional-rugby",
   "metadata": {},
   "source": [
    "Вопрос 2\n",
    "\n",
    "Out of all 3-star hotels 25% cost more than 50 per night. Out of all hotels that cost more than 50 per night, 12.5% are 3-star hotels. If a random hotel is 3-star with probability p and its cost is more than 50 per night with probability q, what's the ratio p/q?"
   ]
  },
  {
   "cell_type": "markdown",
   "id": "romantic-overview",
   "metadata": {},
   "source": [
    "Solution:\n",
    "\n",
    "A - hotel is 3 star; B - is more than 50 per night. P(B|A) = 0.25; P(A|B) = 0.125\n",
    "\n",
    "P(B|A) = P(B & A) / P(A) ; P(A|B) = P(A & B) / P(B)\n",
    "\n",
    "P(A) / P(B) = P(A|B) / P(B|A) = 0.125/0.25 = 1/2"
   ]
  },
  {
   "cell_type": "code",
   "execution_count": 2,
   "id": "utility-constitutional",
   "metadata": {},
   "outputs": [
    {
     "name": "stdout",
     "output_type": "stream",
     "text": [
      "=========================\n"
     ]
    }
   ],
   "source": [
    "print('=' * 25)"
   ]
  },
  {
   "cell_type": "markdown",
   "id": "atomic-edward",
   "metadata": {},
   "source": [
    "Вопрос 3\n",
    "\n",
    "A fair coin is tossed 4 times. Provided that at least 2 heads occurred within the 4 tossings, what's the probability that at least one tail also occurred? Enter the exact value below (e.g., 13/28 or 0.12):"
   ]
  },
  {
   "cell_type": "markdown",
   "id": "sunrise-dominant",
   "metadata": {},
   "source": [
    "$\\Omega$ = 2**4 = 16\n",
    "\n",
    "P(B|A) = P(B & A) / P(A)\n",
    "\n",
    "P(A) = 1 - P(not A), where P(not A) - < 2 heads in 4 tossings\n",
    "\n",
    "P(notA) = 1/16 + 1/4 = 5/16 => P(A) = 11/16\n",
    "\n",
    "P(B & A) - >= 2 heads and >= 1 tail, then P(not (B & A)) = < 2 heads or < 1 tail = P(not A) + 1/16 = 6/16 => P(B & A) = 1 - 6/16 = 10/16\n",
    "\n",
    "P(B|A) = P(B & A) / P(A) = 10/16 / 11/16 = 10/11"
   ]
  },
  {
   "cell_type": "code",
   "execution_count": 3,
   "id": "arabic-chrome",
   "metadata": {},
   "outputs": [
    {
     "name": "stdout",
     "output_type": "stream",
     "text": [
      "=========================\n"
     ]
    }
   ],
   "source": [
    "print('=' * 25)"
   ]
  },
  {
   "cell_type": "markdown",
   "id": "agricultural-interstate",
   "metadata": {},
   "source": [
    "Вопрос 4\n",
    "\n",
    "Two fair dices are rolled simultaneously. Find the conditional probability of event \"both dice got equal values\" provided that the sum of values on dice is less or equal than six. Enter the exact value below (e.g., 13/28 or 0.12):"
   ]
  },
  {
   "cell_type": "markdown",
   "id": "respiratory-sitting",
   "metadata": {},
   "source": [
    "P(A|B) = P(A & B) / P(B)\n",
    "\n",
    "P(A & B) - both dice have equal values and the sum of values is <= 6\n",
    "\n",
    "B = 15 - sum of values is <= 6\n",
    "\n",
    "#P(A & B) = 3 (1 and 1, 2 and 2, 3 and 3)\n",
    "\n",
    "#B = 15 {1-1,2,3,4,5; 2-1,2,3,4; 3-1,2,3; 4-1,2; 5-1}\n",
    "\n",
    "P(A|B) = 3/15 = 1/5"
   ]
  },
  {
   "cell_type": "code",
   "execution_count": 4,
   "id": "helpful-cylinder",
   "metadata": {},
   "outputs": [
    {
     "name": "stdout",
     "output_type": "stream",
     "text": [
      "=========================\n"
     ]
    }
   ],
   "source": [
    "print('=' * 25)"
   ]
  },
  {
   "cell_type": "markdown",
   "id": "figured-residence",
   "metadata": {},
   "source": [
    "Вопрос 5\n",
    "\n",
    "A coin is tossed until it gives either 10 heads or 10 tails. Player A bets on 10 heads and player B bets on 10 tails. The game is unexpectedly interrupted after 15 tossings with 8 heads and 7 tails observed. What would be the fair ratio to split the prize pool between player A and B? Consider it to be the ratio of winning probabilities of the players."
   ]
  },
  {
   "cell_type": "markdown",
   "id": "stuck-mechanism",
   "metadata": {},
   "source": [
    "By drawing a binary tree of possible events it can be seen that the game will be over in the next 4 tosses. Therefore, for A to win the game we need to find the prob of at least 2 heads..\n",
    "\n",
    "P(A) - >=2 heads in 4 tosses. P(not A) = 1 - 1/16 (no heads) - 1/4 (one head) = 11/16\n",
    "\n",
    "Therefore the ratio is 11:5"
   ]
  },
  {
   "cell_type": "code",
   "execution_count": 5,
   "id": "european-operations",
   "metadata": {},
   "outputs": [
    {
     "name": "stdout",
     "output_type": "stream",
     "text": [
      "=========================\n"
     ]
    }
   ],
   "source": [
    "print('=' * 25)"
   ]
  },
  {
   "cell_type": "markdown",
   "id": "sacred-reward",
   "metadata": {},
   "source": [
    "Вопрос 6\n",
    "\n",
    "In blackjack there's a 52-cards deck (4 suits of 13 cards each: 2, 3, 4, 5, 6, 7, 8, 9, 10, Jack, Queen, King, Ace). Digits are count as their face value, Aces count for 11 and pictures count for 10. Player wins if the total value of his cards is greater than the total value of croupier's cards, provided that the first value doesn't exceed 21. Croupier has two pictures. Player has an ace. What's the probability that player wins as the next card is dealt?"
   ]
  },
  {
   "cell_type": "code",
   "execution_count": null,
   "id": "appropriate-humanitarian",
   "metadata": {},
   "outputs": [],
   "source": []
  },
  {
   "cell_type": "markdown",
   "id": "exciting-julian",
   "metadata": {},
   "source": [
    "Вопрос 6\n",
    "\n",
    "In a research of families with 1 kid, 20% of families showed that the kid and one of the parents were allergic. In 5% of cases one of the parents was allergic, but the kid wasn't, and in 10% of families kid was allergic despite that the parents weren't.\n",
    "\n",
    "\n",
    "If in this experiment a random kid turns out to be allergic, what's the probability that one of the parents also is?  Enter the exact value below (e.g., 13/28 or 0.12):"
   ]
  },
  {
   "cell_type": "code",
   "execution_count": null,
   "id": "major-accent",
   "metadata": {},
   "outputs": [],
   "source": []
  },
  {
   "cell_type": "markdown",
   "id": "straight-julian",
   "metadata": {},
   "source": [
    "Вопрос 7\n",
    "\n",
    "How many times (at least) a fair coin should be tossed to ensure that one or more heads are drawn with probability greater than 0.99?"
   ]
  },
  {
   "cell_type": "code",
   "execution_count": null,
   "id": "material-links",
   "metadata": {},
   "outputs": [],
   "source": []
  },
  {
   "cell_type": "markdown",
   "id": "cathedral-jewel",
   "metadata": {},
   "source": [
    "Вопрос 8\n",
    "\n",
    "Player picks a random ball from one of 3 boxes. It's known that for one box the probability of picking out white ball is 1/4, for another box it's 0 and for the last box it's 1/2. What's the probablity of player's picking a white ball if her choice of box is random. Enter the value:"
   ]
  },
  {
   "cell_type": "code",
   "execution_count": null,
   "id": "gentle-latter",
   "metadata": {},
   "outputs": [],
   "source": []
  },
  {
   "cell_type": "markdown",
   "id": "skilled-jason",
   "metadata": {},
   "source": [
    "Вопрос 9\n",
    "\n",
    "There are 5 white balls and 4 black balls in a box. Three random balls are taken out. \n",
    "What's the probability that out of the 3 balls the number of black balls is odd provided that the last taken ball was black? Enter the exact value below (e.g., 15/34 or 0.12):"
   ]
  },
  {
   "cell_type": "code",
   "execution_count": null,
   "id": "inclusive-public",
   "metadata": {},
   "outputs": [],
   "source": []
  },
  {
   "cell_type": "markdown",
   "id": "arbitrary-transsexual",
   "metadata": {},
   "source": [
    "Вопрос 10\n",
    "\n",
    "There's a rare disease that occurs in 1% of the population. There's a test that yields positive result on 99% of ill people, and false positive on 2% of healthy people. The test shows positive result on a patient. What's the probability that the patient does not have the disease? Enter the exact value below (e.g., 13/28 or 0.12):"
   ]
  },
  {
   "cell_type": "code",
   "execution_count": null,
   "id": "provincial-rugby",
   "metadata": {},
   "outputs": [],
   "source": []
  },
  {
   "cell_type": "markdown",
   "id": "rental-intersection",
   "metadata": {},
   "source": [
    "Вопрос 11\n",
    "\n",
    "Player got 10 blue and 10 red chips, and he was offered a game where he should distribute those chips into 2 similar boxes. (All chips should be placed in one of the boxes.) Then, another person randomly choose a box and then  takes out one random chip from this box (unless the box is empty). The player wins if a red chip is drawn and lose otherwise. What's the maximum probability of the player's winning outcome assuming that he distributes chips the right way?"
   ]
  },
  {
   "cell_type": "code",
   "execution_count": null,
   "id": "iraqi-colombia",
   "metadata": {},
   "outputs": [],
   "source": []
  },
  {
   "cell_type": "markdown",
   "id": "offensive-helen",
   "metadata": {},
   "source": [
    "#### Python for conditional probabilities"
   ]
  },
  {
   "cell_type": "code",
   "execution_count": 2,
   "id": "listed-praise",
   "metadata": {},
   "outputs": [],
   "source": [
    "from itertools import product"
   ]
  },
  {
   "cell_type": "code",
   "execution_count": 4,
   "id": "listed-smoke",
   "metadata": {},
   "outputs": [
    {
     "data": {
      "text/plain": [
       "[(1, 'a'), (1, 'b'), (1, 'c'), (2, 'a'), (2, 'b'), (2, 'c')]"
      ]
     },
     "execution_count": 4,
     "metadata": {},
     "output_type": "execute_result"
    }
   ],
   "source": [
    "list(product([1, 2], ['a', 'b', 'c']))"
   ]
  },
  {
   "cell_type": "code",
   "execution_count": 5,
   "id": "blank-austin",
   "metadata": {},
   "outputs": [],
   "source": [
    "n = 3  # number of coin tossings\n",
    "omega = set(product(['H', 'T'], repeat=n))"
   ]
  },
  {
   "cell_type": "code",
   "execution_count": 6,
   "id": "exact-authorization",
   "metadata": {},
   "outputs": [
    {
     "data": {
      "text/plain": [
       "{('H', 'H', 'H'),\n",
       " ('H', 'H', 'T'),\n",
       " ('H', 'T', 'H'),\n",
       " ('H', 'T', 'T'),\n",
       " ('T', 'H', 'H'),\n",
       " ('T', 'H', 'T'),\n",
       " ('T', 'T', 'H'),\n",
       " ('T', 'T', 'T')}"
      ]
     },
     "execution_count": 6,
     "metadata": {},
     "output_type": "execute_result"
    }
   ],
   "source": [
    "omega"
   ]
  },
  {
   "cell_type": "code",
   "execution_count": 7,
   "id": "emotional-solid",
   "metadata": {},
   "outputs": [
    {
     "data": {
      "text/plain": [
       "8"
      ]
     },
     "execution_count": 7,
     "metadata": {},
     "output_type": "execute_result"
    }
   ],
   "source": [
    "len(omega)"
   ]
  },
  {
   "cell_type": "code",
   "execution_count": 8,
   "id": "alive-register",
   "metadata": {},
   "outputs": [],
   "source": [
    "# events\n",
    "A = {om for om in omega if om[0] == 'T'}  # first tossing is tail\n",
    "B = {om for om in omega if om.count('T') == 2}"
   ]
  },
  {
   "cell_type": "code",
   "execution_count": 9,
   "id": "lasting-protection",
   "metadata": {},
   "outputs": [
    {
     "data": {
      "text/plain": [
       "{('T', 'H', 'H'), ('T', 'H', 'T'), ('T', 'T', 'H'), ('T', 'T', 'T')}"
      ]
     },
     "execution_count": 9,
     "metadata": {},
     "output_type": "execute_result"
    }
   ],
   "source": [
    "A"
   ]
  },
  {
   "cell_type": "code",
   "execution_count": 10,
   "id": "rough-average",
   "metadata": {},
   "outputs": [
    {
     "data": {
      "text/plain": [
       "{('H', 'T', 'T'), ('T', 'H', 'T'), ('T', 'T', 'H')}"
      ]
     },
     "execution_count": 10,
     "metadata": {},
     "output_type": "execute_result"
    }
   ],
   "source": [
    "B"
   ]
  },
  {
   "cell_type": "code",
   "execution_count": 11,
   "id": "super-sapphire",
   "metadata": {},
   "outputs": [],
   "source": [
    "def prob(X, omega):\n",
    "    # all otcomes have the same probability\n",
    "    return len(X) / len(omega)"
   ]
  },
  {
   "cell_type": "code",
   "execution_count": 12,
   "id": "altered-consideration",
   "metadata": {},
   "outputs": [],
   "source": [
    "def cond_prob(X, Y):\n",
    "    return len(X & Y) / len(Y)"
   ]
  },
  {
   "cell_type": "code",
   "execution_count": 13,
   "id": "molecular-patrol",
   "metadata": {},
   "outputs": [
    {
     "data": {
      "text/plain": [
       "0.5"
      ]
     },
     "execution_count": 13,
     "metadata": {},
     "output_type": "execute_result"
    }
   ],
   "source": [
    "prob(A, omega)"
   ]
  },
  {
   "cell_type": "code",
   "execution_count": 14,
   "id": "potential-borough",
   "metadata": {},
   "outputs": [
    {
     "data": {
      "text/plain": [
       "0.375"
      ]
     },
     "execution_count": 14,
     "metadata": {},
     "output_type": "execute_result"
    }
   ],
   "source": [
    "prob(B, omega)"
   ]
  },
  {
   "cell_type": "code",
   "execution_count": 22,
   "id": "phantom-delay",
   "metadata": {},
   "outputs": [
    {
     "data": {
      "text/plain": [
       "0.6666666666666666"
      ]
     },
     "execution_count": 22,
     "metadata": {},
     "output_type": "execute_result"
    }
   ],
   "source": [
    "cond_prob(A, B) # is not equal to P(A)"
   ]
  },
  {
   "cell_type": "code",
   "execution_count": 20,
   "id": "clear-affairs",
   "metadata": {},
   "outputs": [
    {
     "name": "stdout",
     "output_type": "stream",
     "text": [
      "0.25\n",
      "0.1875\n"
     ]
    }
   ],
   "source": [
    "# let's check if the prob of intersection is = product of prob of A, B\n",
    "print(prob(A & B, omega))\n",
    "print(prob(A, omega) * prob(B, omega))"
   ]
  },
  {
   "cell_type": "code",
   "execution_count": 23,
   "id": "tired-explorer",
   "metadata": {},
   "outputs": [],
   "source": [
    "def are_indep(X, Y, omega):\n",
    "    return prob(X & Y, omega) == prob(X, omega) * prob(Y, omega)"
   ]
  },
  {
   "cell_type": "code",
   "execution_count": 25,
   "id": "romance-snapshot",
   "metadata": {},
   "outputs": [
    {
     "data": {
      "text/plain": [
       "False"
      ]
     },
     "execution_count": 25,
     "metadata": {},
     "output_type": "execute_result"
    }
   ],
   "source": [
    "are_indep(A, B, omega)"
   ]
  },
  {
   "cell_type": "code",
   "execution_count": 26,
   "id": "hindu-technique",
   "metadata": {},
   "outputs": [],
   "source": [
    "C = {om for om in omega if om[1] == 'H'}"
   ]
  },
  {
   "cell_type": "code",
   "execution_count": 28,
   "id": "integrated-girlfriend",
   "metadata": {},
   "outputs": [
    {
     "data": {
      "text/plain": [
       "True"
      ]
     },
     "execution_count": 28,
     "metadata": {},
     "output_type": "execute_result"
    }
   ],
   "source": [
    "are_indep(A, C, omega)"
   ]
  },
  {
   "cell_type": "markdown",
   "id": "bound-maryland",
   "metadata": {},
   "source": [
    "PY Вопрос 1\n",
    "\n",
    "A fair coin is tossed 20 times. Consider events A: number of heads is even and B: less than 4 tails occurred. Use Python to findP(A∣B). Enter answer with 5 digits after decimal point.  "
   ]
  },
  {
   "cell_type": "code",
   "execution_count": 29,
   "id": "solved-conjunction",
   "metadata": {},
   "outputs": [],
   "source": [
    "n = 20\n",
    "\n",
    "omega = set(product(['H', 'T'], repeat=n))\n",
    "\n",
    "# events\n",
    "A = {om for om in omega if om.count('H') % 2 == 0}\n",
    "B = {om for om in omega if om.count('T') < 4}"
   ]
  },
  {
   "cell_type": "code",
   "execution_count": 31,
   "id": "governing-coffee",
   "metadata": {},
   "outputs": [
    {
     "data": {
      "text/plain": [
       "0.14137675795706883"
      ]
     },
     "execution_count": 31,
     "metadata": {},
     "output_type": "execute_result"
    }
   ],
   "source": [
    "cond_prob(A, B)"
   ]
  },
  {
   "cell_type": "markdown",
   "id": "ruled-christianity",
   "metadata": {},
   "source": [
    "PY Вопрос 2\n",
    "\n",
    "A fair dice is rolled 5 times. Consider events A: sum of all points is divisible by 3 and B: product of all points is larger than 500. For example, if the result of rolling is (5, 3, 2, 6, 3), then event A did not occur (because 5+3+2+6+3=19, not divisible by 3) and event B occurred (because 5×3×2×6×3=540>500). Use Python to find P(B∣A)."
   ]
  },
  {
   "cell_type": "code",
   "execution_count": 38,
   "id": "defined-nevada",
   "metadata": {},
   "outputs": [],
   "source": [
    "import numpy as np"
   ]
  },
  {
   "cell_type": "code",
   "execution_count": 40,
   "id": "weird-continent",
   "metadata": {},
   "outputs": [],
   "source": [
    "n = 5\n",
    "\n",
    "omega = set(product([1, 2, 3, 4, 5, 6], repeat=n))\n",
    "\n",
    "# events\n",
    "A = {om for om in omega if sum(om) % 3 == 0}\n",
    "B = {om for om in omega if np.prod(om) > 500}"
   ]
  },
  {
   "cell_type": "code",
   "execution_count": 41,
   "id": "forced-flush",
   "metadata": {},
   "outputs": [
    {
     "data": {
      "text/plain": [
       "0.30709876543209874"
      ]
     },
     "execution_count": 41,
     "metadata": {},
     "output_type": "execute_result"
    }
   ],
   "source": [
    "cond_prob(B, A)"
   ]
  },
  {
   "cell_type": "code",
   "execution_count": null,
   "id": "maritime-honolulu",
   "metadata": {},
   "outputs": [],
   "source": []
  }
 ],
 "metadata": {
  "kernelspec": {
   "display_name": "Python 3",
   "language": "python",
   "name": "python3"
  },
  "language_info": {
   "codemirror_mode": {
    "name": "ipython",
    "version": 3
   },
   "file_extension": ".py",
   "mimetype": "text/x-python",
   "name": "python",
   "nbconvert_exporter": "python",
   "pygments_lexer": "ipython3",
   "version": "3.6.8"
  }
 },
 "nbformat": 4,
 "nbformat_minor": 5
}
