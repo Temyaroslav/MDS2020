{
 "cells": [
  {
   "cell_type": "code",
   "execution_count": 1,
   "metadata": {},
   "outputs": [
    {
     "name": "stdout",
     "output_type": "stream",
     "text": [
      "Requirement already satisfied: causalinference in /opt/conda/lib/python3.7/site-packages (0.1.3)\n",
      "\u001b[33mWARNING: You are using pip version 20.3.1; however, version 21.3 is available.\n",
      "You should consider upgrading via the '/opt/conda/bin/python3 -m pip install --upgrade pip' command.\u001b[0m\n"
     ]
    }
   ],
   "source": [
    "!pip install causalinference"
   ]
  },
  {
   "cell_type": "code",
   "execution_count": 2,
   "metadata": {},
   "outputs": [],
   "source": [
    "import pandas as pd\n",
    "\n",
    "from scipy import stats\n",
    "import statsmodels.api as sm\n",
    "import statsmodels.formula.api as smf\n",
    "from sklearn.linear_model import LogisticRegression\n",
    "from sklearn.calibration import CalibratedClassifierCV\n",
    "\n",
    "from causalinference import CausalModel"
   ]
  },
  {
   "cell_type": "code",
   "execution_count": 3,
   "metadata": {},
   "outputs": [],
   "source": [
    "df = pd.read_csv('malocclusion.csv')"
   ]
  },
  {
   "cell_type": "code",
   "execution_count": 4,
   "metadata": {},
   "outputs": [
    {
     "data": {
      "text/html": [
       "<div>\n",
       "<style scoped>\n",
       "    .dataframe tbody tr th:only-of-type {\n",
       "        vertical-align: middle;\n",
       "    }\n",
       "\n",
       "    .dataframe tbody tr th {\n",
       "        vertical-align: top;\n",
       "    }\n",
       "\n",
       "    .dataframe thead th {\n",
       "        text-align: right;\n",
       "    }\n",
       "</style>\n",
       "<table border=\"1\" class=\"dataframe\">\n",
       "  <thead>\n",
       "    <tr style=\"text-align: right;\">\n",
       "      <th></th>\n",
       "      <th>dANB</th>\n",
       "      <th>dPPPM</th>\n",
       "      <th>dIMPA</th>\n",
       "      <th>dCoA</th>\n",
       "      <th>dGoPg</th>\n",
       "      <th>dCoGo</th>\n",
       "      <th>dT</th>\n",
       "      <th>Growth</th>\n",
       "      <th>Treatment</th>\n",
       "    </tr>\n",
       "  </thead>\n",
       "  <tbody>\n",
       "    <tr>\n",
       "      <th>0</th>\n",
       "      <td>-3.2</td>\n",
       "      <td>-1.1</td>\n",
       "      <td>-4.2</td>\n",
       "      <td>1.0</td>\n",
       "      <td>4.0</td>\n",
       "      <td>3.7</td>\n",
       "      <td>5</td>\n",
       "      <td>0</td>\n",
       "      <td>0</td>\n",
       "    </tr>\n",
       "    <tr>\n",
       "      <th>1</th>\n",
       "      <td>-0.6</td>\n",
       "      <td>-0.5</td>\n",
       "      <td>3.8</td>\n",
       "      <td>2.6</td>\n",
       "      <td>-0.1</td>\n",
       "      <td>1.4</td>\n",
       "      <td>3</td>\n",
       "      <td>1</td>\n",
       "      <td>0</td>\n",
       "    </tr>\n",
       "    <tr>\n",
       "      <th>2</th>\n",
       "      <td>-1.6</td>\n",
       "      <td>-3.1</td>\n",
       "      <td>-6.0</td>\n",
       "      <td>4.3</td>\n",
       "      <td>4.2</td>\n",
       "      <td>7.1</td>\n",
       "      <td>5</td>\n",
       "      <td>0</td>\n",
       "      <td>0</td>\n",
       "    </tr>\n",
       "    <tr>\n",
       "      <th>3</th>\n",
       "      <td>-1.1</td>\n",
       "      <td>-2.1</td>\n",
       "      <td>-12.1</td>\n",
       "      <td>14.1</td>\n",
       "      <td>20.7</td>\n",
       "      <td>17.5</td>\n",
       "      <td>9</td>\n",
       "      <td>0</td>\n",
       "      <td>0</td>\n",
       "    </tr>\n",
       "    <tr>\n",
       "      <th>4</th>\n",
       "      <td>-1.1</td>\n",
       "      <td>0.0</td>\n",
       "      <td>-6.7</td>\n",
       "      <td>7.7</td>\n",
       "      <td>8.8</td>\n",
       "      <td>11.0</td>\n",
       "      <td>5</td>\n",
       "      <td>0</td>\n",
       "      <td>0</td>\n",
       "    </tr>\n",
       "  </tbody>\n",
       "</table>\n",
       "</div>"
      ],
      "text/plain": [
       "   dANB  dPPPM  dIMPA  dCoA  dGoPg  dCoGo  dT  Growth  Treatment\n",
       "0  -3.2   -1.1   -4.2   1.0    4.0    3.7   5       0          0\n",
       "1  -0.6   -0.5    3.8   2.6   -0.1    1.4   3       1          0\n",
       "2  -1.6   -3.1   -6.0   4.3    4.2    7.1   5       0          0\n",
       "3  -1.1   -2.1  -12.1  14.1   20.7   17.5   9       0          0\n",
       "4  -1.1    0.0   -6.7   7.7    8.8   11.0   5       0          0"
      ]
     },
     "execution_count": 4,
     "metadata": {},
     "output_type": "execute_result"
    }
   ],
   "source": [
    "df.head()"
   ]
  },
  {
   "cell_type": "markdown",
   "metadata": {},
   "source": [
    "### Treatment on dANB"
   ]
  },
  {
   "cell_type": "markdown",
   "metadata": {},
   "source": [
    "Minimal sufficient adjustment set for estimating the effect of the Treatment on dANB is {Growth} since we can't include Unobserved Cofounders into our adjustment set. {Growth} is a valid adjustment set for (Treatment, dANB) since:\n",
    "1) {Growth} does not contain descendants of nodes on directed path from Treatment to dANB\n",
    "2) {Growth} blocks undirected paths from Treatment to dANB\n",
    "\n",
    "That being said, set {Growth, dT} could also be a valid adjustment set but we will proceed with the minimal sufficient set which is {Growth}."
   ]
  },
  {
   "cell_type": "markdown",
   "metadata": {},
   "source": [
    "Let's now use linear regression to estimate ATE:"
   ]
  },
  {
   "cell_type": "code",
   "execution_count": 5,
   "metadata": {},
   "outputs": [
    {
     "name": "stdout",
     "output_type": "stream",
     "text": [
      "                            OLS Regression Results                            \n",
      "==============================================================================\n",
      "Dep. Variable:                   dANB   R-squared:                       0.407\n",
      "Model:                            OLS   Adj. R-squared:                  0.398\n",
      "Method:                 Least Squares   F-statistic:                     48.04\n",
      "Date:                Tue, 12 Oct 2021   Prob (F-statistic):           1.31e-16\n",
      "Time:                        23:37:08   Log-Likelihood:                -251.17\n",
      "No. Observations:                 143   AIC:                             508.3\n",
      "Df Residuals:                     140   BIC:                             517.2\n",
      "Df Model:                           2                                         \n",
      "Covariance Type:            nonrobust                                         \n",
      "==============================================================================\n",
      "                 coef    std err          t      P>|t|      [0.025      0.975]\n",
      "------------------------------------------------------------------------------\n",
      "Intercept     -1.5600      0.181     -8.609      0.000      -1.918      -1.202\n",
      "Treatment      1.8560      0.240      7.724      0.000       1.381       2.331\n",
      "Growth         1.1740      0.244      4.812      0.000       0.692       1.656\n",
      "==============================================================================\n",
      "Omnibus:                        7.303   Durbin-Watson:                   2.122\n",
      "Prob(Omnibus):                  0.026   Jarque-Bera (JB):                7.911\n",
      "Skew:                           0.383   Prob(JB):                       0.0191\n",
      "Kurtosis:                       3.862   Cond. No.                         2.77\n",
      "==============================================================================\n",
      "\n",
      "Warnings:\n",
      "[1] Standard Errors assume that the covariance matrix of the errors is correctly specified.\n"
     ]
    }
   ],
   "source": [
    "model = smf.ols('dANB ~ Treatment + Growth', data=df)\n",
    "fitted = model.fit()\n",
    "print(fitted.summary())"
   ]
  },
  {
   "cell_type": "markdown",
   "metadata": {},
   "source": [
    "So by using linear regression we got ATE equal to $\\approx 1.86$. However, since linear regression only works good with trully linear models, let's use propensity score weighting to see if we get the similar result for ATE:"
   ]
  },
  {
   "cell_type": "code",
   "execution_count": 6,
   "metadata": {},
   "outputs": [],
   "source": [
    "cls = LogisticRegression()\n",
    "cls = CalibratedClassifierCV(cls)\n",
    "\n",
    "X = df[['Growth']]\n",
    "y = df[['Treatment']]\n",
    "cls.fit(X, y)\n",
    "df['e'] = cls.predict_proba(X)[:, 1].tolist()\n",
    "df['w'] = df['Treatment'] / df['e'] + (1 - df['Treatment']) / (1 - df['e'])"
   ]
  },
  {
   "cell_type": "code",
   "execution_count": 7,
   "metadata": {},
   "outputs": [
    {
     "name": "stdout",
     "output_type": "stream",
     "text": [
      "                            WLS Regression Results                            \n",
      "==============================================================================\n",
      "Dep. Variable:                   dANB   R-squared:                       0.386\n",
      "Model:                            WLS   Adj. R-squared:                  0.378\n",
      "Method:                 Least Squares   F-statistic:                     44.06\n",
      "Date:                Tue, 12 Oct 2021   Prob (F-statistic):           1.44e-15\n",
      "Time:                        23:37:08   Log-Likelihood:                -253.68\n",
      "No. Observations:                 143   AIC:                             513.4\n",
      "Df Residuals:                     140   BIC:                             522.3\n",
      "Df Model:                           2                                         \n",
      "Covariance Type:            nonrobust                                         \n",
      "==============================================================================\n",
      "                 coef    std err          t      P>|t|      [0.025      0.975]\n",
      "------------------------------------------------------------------------------\n",
      "Intercept     -1.5572      0.205     -7.609      0.000      -1.962      -1.153\n",
      "Treatment      1.8570      0.241      7.701      0.000       1.380       2.334\n",
      "Growth         1.1681      0.242      4.834      0.000       0.690       1.646\n",
      "==============================================================================\n",
      "Omnibus:                        4.472   Durbin-Watson:                   2.113\n",
      "Prob(Omnibus):                  0.107   Jarque-Bera (JB):                4.087\n",
      "Skew:                           0.312   Prob(JB):                        0.130\n",
      "Kurtosis:                       3.545   Cond. No.                         3.17\n",
      "==============================================================================\n",
      "\n",
      "Warnings:\n",
      "[1] Standard Errors assume that the covariance matrix of the errors is correctly specified.\n"
     ]
    }
   ],
   "source": [
    "model = smf.wls('dANB ~ Treatment + Growth', data=df, weights=df['w'])\n",
    "fitted = model.fit()\n",
    "print(fitted.summary())"
   ]
  },
  {
   "cell_type": "markdown",
   "metadata": {},
   "source": [
    "As we can we got the similar estimate for the ATE $\\approx 1.86$ which is in line wiht our linear regression model from above.\n",
    "\n",
    "Now let's estimate ATET using matching with Machalanobis distance since we basically force the control sample to be similar to the treated one."
   ]
  },
  {
   "cell_type": "code",
   "execution_count": 8,
   "metadata": {},
   "outputs": [],
   "source": [
    "adjustment_set = ['Growth']\n",
    "\n",
    "model = CausalModel(\n",
    "    Y=df['dANB'].values,\n",
    "    D=df['Treatment'].values,\n",
    "    X=df[adjustment_set].values\n",
    ")"
   ]
  },
  {
   "cell_type": "code",
   "execution_count": 9,
   "metadata": {},
   "outputs": [
    {
     "name": "stdout",
     "output_type": "stream",
     "text": [
      "\n",
      "Treatment Effect Estimates: Matching\n",
      "\n",
      "                     Est.       S.e.          z      P>|z|      [95% Conf. int.]\n",
      "--------------------------------------------------------------------------------\n",
      "           ATE      1.856      0.237      7.829      0.000      1.392      2.321\n",
      "           ATC      1.860      0.240      7.761      0.000      1.390      2.330\n",
      "           ATT      1.852      0.240      7.723      0.000      1.382      2.322\n",
      "\n"
     ]
    }
   ],
   "source": [
    "model.est_via_matching(bias_adj=True)\n",
    "print(model.estimates)"
   ]
  },
  {
   "cell_type": "markdown",
   "metadata": {},
   "source": [
    "As we can see ATET estimate is $\\approx 1.85$ which is very similar to ATE. "
   ]
  },
  {
   "cell_type": "markdown",
   "metadata": {},
   "source": [
    "### Treatment on Growth"
   ]
  },
  {
   "cell_type": "markdown",
   "metadata": {},
   "source": [
    "As we can see from DAG there is no suitable adjustment set to estimate the effect of the Treatment on Growth since we can't adjust on Unobserved Cofounders, therefore the causal effect would be zero in that case ($ATE=ATET=0$). What we can do instead is to try and use front-door adjustement in order to estimate if there is any effect of Treatment on Growth via a proxy node in our DAG. For that we would need our proxy node to:\n",
    "\n",
    "1. intercept all directed paths from Treatment to Growth\n",
    "2. have no ublocked path from Treatment to the proxy node\n",
    "3. have all backdoor paths from the proxy node to Growth to be blocked by Treatment\n",
    "\n",
    "There is a problem with the first condition in our case since there is no directed paths from Treatment to Growth but we can assume that there is some casual relationship in place and calculate the respective causal effect to prove that. In this case there is only node in DAG that would satisfy all the conditions - `dCoA`. If we assume that there is a causal relationship s.t. `Treatment`->`dCoA`->`Growth`, there would be no unblocked paths from `Treatment` to `dCoA` (blocked by `dCoPg` and `dCoGo` colliders) and one and only backdoor path from `dCoA` to `Growth` is blocked by the `Treatment`. \n",
    "\n",
    "That being said, let's evaluate ATE using front-door adjustment and see if it's close to zero since there is no causal effect `dCoA`->`Growth` present in original DAG. For that we are going to use the method from the library presented here (https://www.degeneratestate.org/posts/2018/Sep/03/causal-inference-with-python-part-3-frontdoor-adjustment/):"
   ]
  },
  {
   "cell_type": "code",
   "execution_count": 10,
   "metadata": {},
   "outputs": [],
   "source": [
    "def estimate_ate_frontdoor_linear(df, x, y, z):\n",
    "    \"\"\"\n",
    "    Estiamte the ATE of a system from a dataframe of samples `df`\n",
    "    using frontdoor adjustment and assuming linear models.\n",
    "    \n",
    "    Arguments\n",
    "    ---------\n",
    "    df: pandas.DataFrame\n",
    "    x: str\n",
    "    y: str\n",
    "    z: str\n",
    "    \n",
    "    Returns \n",
    "    -------\n",
    "    ATE: float\n",
    "    \"\"\"\n",
    "    x = df[x].values\n",
    "    y = df[y].values\n",
    "    z = df[z].values\n",
    "    \n",
    "    z_x_model = sm.OLS(z, sm.add_constant(x)).fit()\n",
    "    \n",
    "    z_bar = z_x_model.predict(sm.add_constant(x))\n",
    "    z_prime = z - z_bar\n",
    "\n",
    "    y_z_model = sm.OLS(y, sm.add_constant(z_prime)).fit()\n",
    "    \n",
    "    return y_z_model.params[1] * z_x_model.params[1]"
   ]
  },
  {
   "cell_type": "code",
   "execution_count": 11,
   "metadata": {},
   "outputs": [
    {
     "name": "stdout",
     "output_type": "stream",
     "text": [
      "ATE using front-door adjustment: -0.10280298739379183\n"
     ]
    }
   ],
   "source": [
    "print('ATE using front-door adjustment:', estimate_ate_frontdoor_linear(df, 'Treatment', 'Growth', 'dCoA'))"
   ]
  },
  {
   "cell_type": "markdown",
   "metadata": {},
   "source": [
    "As we can see the ATE is rather close to zero (especially when compared with ATE of `Treatment` on `Growth`) when calculating using front-door adjustment based on our assumption that there is a relationship between `dCoA` to `Growth` - which is in line with our original DAG where there is no relationship between `Treatment` and `Growth`, therefore $ATE=ATET=0$ ."
   ]
  },
  {
   "cell_type": "markdown",
   "metadata": {},
   "source": [
    "To test the independence formally let's use the chi-squared test for independence:"
   ]
  },
  {
   "cell_type": "code",
   "execution_count": 12,
   "metadata": {},
   "outputs": [
    {
     "data": {
      "text/html": [
       "<div>\n",
       "<style scoped>\n",
       "    .dataframe tbody tr th:only-of-type {\n",
       "        vertical-align: middle;\n",
       "    }\n",
       "\n",
       "    .dataframe tbody tr th {\n",
       "        vertical-align: top;\n",
       "    }\n",
       "\n",
       "    .dataframe thead th {\n",
       "        text-align: right;\n",
       "    }\n",
       "</style>\n",
       "<table border=\"1\" class=\"dataframe\">\n",
       "  <thead>\n",
       "    <tr style=\"text-align: right;\">\n",
       "      <th>Growth</th>\n",
       "      <th>0</th>\n",
       "      <th>1</th>\n",
       "    </tr>\n",
       "    <tr>\n",
       "      <th>Treatment</th>\n",
       "      <th></th>\n",
       "      <th></th>\n",
       "    </tr>\n",
       "  </thead>\n",
       "  <tbody>\n",
       "    <tr>\n",
       "      <th>0</th>\n",
       "      <td>51</td>\n",
       "      <td>26</td>\n",
       "    </tr>\n",
       "    <tr>\n",
       "      <th>1</th>\n",
       "      <td>34</td>\n",
       "      <td>32</td>\n",
       "    </tr>\n",
       "  </tbody>\n",
       "</table>\n",
       "</div>"
      ],
      "text/plain": [
       "Growth      0   1\n",
       "Treatment        \n",
       "0          51  26\n",
       "1          34  32"
      ]
     },
     "execution_count": 12,
     "metadata": {},
     "output_type": "execute_result"
    }
   ],
   "source": [
    "ct = pd.crosstab(df['Treatment'], df['Growth'])\n",
    "ct"
   ]
  },
  {
   "cell_type": "markdown",
   "metadata": {},
   "source": [
    "### Chi squared test for independence\n",
    "$H_0$: treatment and growth are independent\n",
    "\n",
    "$H_1$: $H_0$ is false"
   ]
  },
  {
   "cell_type": "code",
   "execution_count": 13,
   "metadata": {},
   "outputs": [
    {
     "data": {
      "text/plain": [
       "(2.612101564763837,\n",
       " 0.10605113732163217,\n",
       " 1,\n",
       " array([[45.76923077, 31.23076923],\n",
       "        [39.23076923, 26.76923077]]))"
      ]
     },
     "execution_count": 13,
     "metadata": {},
     "output_type": "execute_result"
    }
   ],
   "source": [
    "stats.chi2_contingency(ct)"
   ]
  },
  {
   "cell_type": "markdown",
   "metadata": {},
   "source": [
    "$p=0.11 > 0.05$ – null hypothesis is not rejected, therefore `Treatment` and `Growth` are independent. Also none of the expected counts (the array returned above) are below 5, so chi-squared test is accurate."
   ]
  }
 ],
 "metadata": {
  "interpreter": {
   "hash": "d3f2b24b0b653742766f2625efc40aff31f395bb5e317ac2ae19a632273de973"
  },
  "kernelspec": {
   "display_name": "Python 3",
   "language": "python",
   "name": "python3"
  },
  "language_info": {
   "codemirror_mode": {
    "name": "ipython",
    "version": 3
   },
   "file_extension": ".py",
   "mimetype": "text/x-python",
   "name": "python",
   "nbconvert_exporter": "python",
   "pygments_lexer": "ipython3",
   "version": "3.7.6"
  }
 },
 "nbformat": 4,
 "nbformat_minor": 2
}
