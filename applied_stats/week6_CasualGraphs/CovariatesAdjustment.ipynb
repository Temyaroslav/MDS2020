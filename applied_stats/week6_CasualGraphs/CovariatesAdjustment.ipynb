{
 "cells": [
  {
   "cell_type": "code",
   "execution_count": 1,
   "source": [
    "import numpy as np\r\n",
    "import pandas as pd\r\n",
    "import statsmodels.formula.api as smf\r\n",
    "import statsmodels.stats.api as sms\r\n",
    "import matplotlib.pyplot as plt\r\n",
    "\r\n",
    "import seaborn as sns\r\n",
    "sns.set_style(\"whitegrid\")\r\n",
    "sns.set_context(\"notebook\", font_scale=1.5, rc={\"lines.linewidth\": 2.5})\r\n",
    "plt.rcParams['figure.figsize'] = 10, 8"
   ],
   "outputs": [],
   "metadata": {}
  },
  {
   "cell_type": "markdown",
   "source": [
    "# Sodium intake and blood pressure\n",
    "The following example is taken from Introduction to Causal Inference from a Machine Learning Perspective by Brady Neal (https://www.bradyneal.com/Introduction_to_Causal_Inference-Dec9_2020-Neal.pdf), who adapted it from Luque-Fernandez et al. (2018), 'Educational Note: Paradoxical collider effect in the analysis of non-communicable disease epidemiological data: a reproducible illustration and web application'.\n",
    "\n",
    "The outcome of interest is (systolic) blood pressure. This is an important outcome because a large proportion of adults have high blood pressure, and high blood pressure is associated with increased risk of mortality. The “treatment” of interest is sodium intake. Sodium intake is a continuous variable; we will binarize it by letting $T = 1$ denote daily sodium intake above 3.5 grams and letting $T = 0$ denote daily sodium intake below 3.5 grams. We will be estimating the causal effect of sodium intake on blood pressure. In our data, we also have the age\n",
    "of the individuals and amount of protein in their urine (proteinuria) as covariates.\n",
    "\n",
    "Luque-Fernandez et al. run a simulation, taking care to be sure that the range of values is “biologically plausible and as close to reality as possible.”"
   ],
   "metadata": {}
  },
  {
   "cell_type": "code",
   "execution_count": 2,
   "source": [
    "def generate_data(n=1000, seed=0, beta1=1.05, alpha1=0.4, alpha2=0.3, binary_treatment=True, binary_cutoff=3.5):\r\n",
    "    np.random.seed(seed)\r\n",
    "    age = np.random.normal(65, 5, n)\r\n",
    "    sodium = age / 18 + np.random.normal(size=n)\r\n",
    "    if binary_treatment:\r\n",
    "        if binary_cutoff is None:\r\n",
    "            binary_cutoff = sodium.mean()\r\n",
    "        sodium = (sodium > binary_cutoff).astype(int)\r\n",
    "    blood_pressure = beta1 * sodium + 2 * age + np.random.normal(size=n)\r\n",
    "    proteinuria = alpha1 * sodium + alpha2 * blood_pressure + np.random.normal(size=n)\r\n",
    "    return pd.DataFrame({'blood_pressure': blood_pressure, 'sodium': sodium,\r\n",
    "                         'age': age, 'proteinuria': proteinuria})\r\n",
    "\r\n",
    "df = generate_data(beta1=1.05, alpha1=.4, alpha2=.3, binary_treatment=True, n=10000)\r\n",
    "df.describe()"
   ],
   "outputs": [
    {
     "output_type": "execute_result",
     "data": {
      "text/html": [
       "<div>\n",
       "<style scoped>\n",
       "    .dataframe tbody tr th:only-of-type {\n",
       "        vertical-align: middle;\n",
       "    }\n",
       "\n",
       "    .dataframe tbody tr th {\n",
       "        vertical-align: top;\n",
       "    }\n",
       "\n",
       "    .dataframe thead th {\n",
       "        text-align: right;\n",
       "    }\n",
       "</style>\n",
       "<table border=\"1\" class=\"dataframe\">\n",
       "  <thead>\n",
       "    <tr style=\"text-align: right;\">\n",
       "      <th></th>\n",
       "      <th>blood_pressure</th>\n",
       "      <th>sodium</th>\n",
       "      <th>age</th>\n",
       "      <th>proteinuria</th>\n",
       "    </tr>\n",
       "  </thead>\n",
       "  <tbody>\n",
       "    <tr>\n",
       "      <th>count</th>\n",
       "      <td>10000.000000</td>\n",
       "      <td>10000.000000</td>\n",
       "      <td>10000.000000</td>\n",
       "      <td>10000.000000</td>\n",
       "    </tr>\n",
       "    <tr>\n",
       "      <th>mean</th>\n",
       "      <td>130.380570</td>\n",
       "      <td>0.543400</td>\n",
       "      <td>64.907831</td>\n",
       "      <td>39.329525</td>\n",
       "    </tr>\n",
       "    <tr>\n",
       "      <th>std</th>\n",
       "      <td>10.049835</td>\n",
       "      <td>0.498138</td>\n",
       "      <td>4.938030</td>\n",
       "      <td>3.238240</td>\n",
       "    </tr>\n",
       "    <tr>\n",
       "      <th>min</th>\n",
       "      <td>93.920465</td>\n",
       "      <td>0.000000</td>\n",
       "      <td>46.299497</td>\n",
       "      <td>27.350540</td>\n",
       "    </tr>\n",
       "    <tr>\n",
       "      <th>25%</th>\n",
       "      <td>123.526001</td>\n",
       "      <td>0.000000</td>\n",
       "      <td>61.551466</td>\n",
       "      <td>37.090305</td>\n",
       "    </tr>\n",
       "    <tr>\n",
       "      <th>50%</th>\n",
       "      <td>130.323792</td>\n",
       "      <td>1.000000</td>\n",
       "      <td>64.864637</td>\n",
       "      <td>39.308601</td>\n",
       "    </tr>\n",
       "    <tr>\n",
       "      <th>75%</th>\n",
       "      <td>137.087790</td>\n",
       "      <td>1.000000</td>\n",
       "      <td>68.230445</td>\n",
       "      <td>41.491794</td>\n",
       "    </tr>\n",
       "    <tr>\n",
       "      <th>max</th>\n",
       "      <td>169.056247</td>\n",
       "      <td>1.000000</td>\n",
       "      <td>84.008301</td>\n",
       "      <td>51.247123</td>\n",
       "    </tr>\n",
       "  </tbody>\n",
       "</table>\n",
       "</div>"
      ],
      "text/plain": [
       "       blood_pressure        sodium           age   proteinuria\n",
       "count    10000.000000  10000.000000  10000.000000  10000.000000\n",
       "mean       130.380570      0.543400     64.907831     39.329525\n",
       "std         10.049835      0.498138      4.938030      3.238240\n",
       "min         93.920465      0.000000     46.299497     27.350540\n",
       "25%        123.526001      0.000000     61.551466     37.090305\n",
       "50%        130.323792      1.000000     64.864637     39.308601\n",
       "75%        137.087790      1.000000     68.230445     41.491794\n",
       "max        169.056247      1.000000     84.008301     51.247123"
      ]
     },
     "metadata": {},
     "execution_count": 2
    }
   ],
   "metadata": {}
  },
  {
   "cell_type": "markdown",
   "source": [
    "Because we simulate the data, we know that the true ATE of sodium on blood pressure is 1.05. Let's try to estimate it to see how closely the estimate would match the true value.\n",
    "\n",
    "Naive estimator of ATE:"
   ],
   "metadata": {}
  },
  {
   "cell_type": "code",
   "execution_count": 3,
   "source": [
    "df.blood_pressure[df.sodium == 1].mean() - df.blood_pressure[df.sodium == 0].mean()"
   ],
   "outputs": [
    {
     "output_type": "execute_result",
     "data": {
      "text/plain": [
       "5.179692033288873"
      ]
     },
     "metadata": {},
     "execution_count": 3
    }
   ],
   "metadata": {}
  },
  {
   "cell_type": "markdown",
   "source": [
    "As you can see, it's very biased because the data are not from a randomized experiment – there are features we need to adjust for."
   ],
   "metadata": {}
  },
  {
   "cell_type": "markdown",
   "source": [
    "# Regression\n",
    "\n",
    "Let's try taking two covariates into account, and use linear regression to estimate ATE:"
   ],
   "metadata": {}
  },
  {
   "cell_type": "code",
   "execution_count": 4,
   "source": [
    "m = smf.ols('blood_pressure ~ sodium + age + proteinuria', data=df)\r\n",
    "fitted = m.fit()\r\n",
    "print(fitted.summary())"
   ],
   "outputs": [
    {
     "output_type": "stream",
     "name": "stdout",
     "text": [
      "                            OLS Regression Results                            \n",
      "==============================================================================\n",
      "Dep. Variable:         blood_pressure   R-squared:                       0.991\n",
      "Model:                            OLS   Adj. R-squared:                  0.991\n",
      "Method:                 Least Squares   F-statistic:                 3.661e+05\n",
      "Date:                Mon, 18 Jan 2021   Prob (F-statistic):               0.00\n",
      "Time:                        01:10:53   Log-Likelihood:                -13722.\n",
      "No. Observations:               10000   AIC:                         2.745e+04\n",
      "Df Residuals:                    9996   BIC:                         2.748e+04\n",
      "Df Model:                           3                                         \n",
      "Covariance Type:            nonrobust                                         \n",
      "===============================================================================\n",
      "                  coef    std err          t      P>|t|      [0.025      0.975]\n",
      "-------------------------------------------------------------------------------\n",
      "Intercept      -0.0307      0.127     -0.242      0.809      -0.279       0.218\n",
      "sodium          0.8474      0.021     40.743      0.000       0.807       0.888\n",
      "age             1.8357      0.006    317.744      0.000       1.824       1.847\n",
      "proteinuria     0.2745      0.009     30.300      0.000       0.257       0.292\n",
      "==============================================================================\n",
      "Omnibus:                        5.623   Durbin-Watson:                   1.994\n",
      "Prob(Omnibus):                  0.060   Jarque-Bera (JB):                5.596\n",
      "Skew:                          -0.052   Prob(JB):                       0.0609\n",
      "Kurtosis:                       3.050   Cond. No.                     1.01e+03\n",
      "==============================================================================\n",
      "\n",
      "Notes:\n",
      "[1] Standard Errors assume that the covariance matrix of the errors is correctly specified.\n",
      "[2] The condition number is large, 1.01e+03. This might indicate that there are\n",
      "strong multicollinearity or other numerical problems.\n"
     ]
    }
   ],
   "metadata": {}
  },
  {
   "cell_type": "markdown",
   "source": [
    "ATE estimate is the coeficient if sodium variable - 0.84. Much better, but still not very close. Given that the dataset is quite large (and we could make it as large as we want, and the estimate would still be not very close to the true value), it indicates that there's bias. \n",
    "\n",
    "Here's where it comes from:\n",
    "\n",
    "![title](sodium_DAG.png)\n",
    "\n",
    "Proteinuria variable here is a collider, so adjusting for it introduces additional bias. We should have drawn the DAG before trying to estimate ATE!\n",
    "\n",
    "With the DAG of the problem it's clear now that we only have to adjust for age. Let's see what we'd get:"
   ],
   "metadata": {}
  },
  {
   "cell_type": "code",
   "execution_count": 5,
   "source": [
    "m = smf.ols('blood_pressure ~ sodium + age', data=df)\r\n",
    "fitted = m.fit()\r\n",
    "print(fitted.summary())"
   ],
   "outputs": [
    {
     "output_type": "stream",
     "name": "stdout",
     "text": [
      "                            OLS Regression Results                            \n",
      "==============================================================================\n",
      "Dep. Variable:         blood_pressure   R-squared:                       0.990\n",
      "Model:                            OLS   Adj. R-squared:                  0.990\n",
      "Method:                 Least Squares   F-statistic:                 5.026e+05\n",
      "Date:                Mon, 18 Jan 2021   Prob (F-statistic):               0.00\n",
      "Time:                        01:10:53   Log-Likelihood:                -14162.\n",
      "No. Observations:               10000   AIC:                         2.833e+04\n",
      "Df Residuals:                    9997   BIC:                         2.835e+04\n",
      "Df Model:                           2                                         \n",
      "Covariance Type:            nonrobust                                         \n",
      "==============================================================================\n",
      "                 coef    std err          t      P>|t|      [0.025      0.975]\n",
      "------------------------------------------------------------------------------\n",
      "Intercept     -0.0265      0.133     -0.200      0.841      -0.286       0.233\n",
      "sodium         1.0591      0.020     51.738      0.000       1.019       1.099\n",
      "age            2.0002      0.002    968.646      0.000       1.996       2.004\n",
      "==============================================================================\n",
      "Omnibus:                        3.936   Durbin-Watson:                   1.995\n",
      "Prob(Omnibus):                  0.140   Jarque-Bera (JB):                3.925\n",
      "Skew:                          -0.038   Prob(JB):                        0.140\n",
      "Kurtosis:                       3.059   Cond. No.                         865.\n",
      "==============================================================================\n",
      "\n",
      "Notes:\n",
      "[1] Standard Errors assume that the covariance matrix of the errors is correctly specified.\n"
     ]
    }
   ],
   "metadata": {}
  },
  {
   "cell_type": "markdown",
   "source": [
    "Very close to the true effect now! Note that the coefficient is significantly different from 0 (P>|t| column), and the 95% confidence interval for it contains true value."
   ],
   "metadata": {}
  },
  {
   "cell_type": "markdown",
   "source": [
    "# Propensity score weighting"
   ],
   "metadata": {}
  },
  {
   "cell_type": "code",
   "execution_count": 6,
   "source": [
    "from sklearn.linear_model import LogisticRegression\r\n",
    "from sklearn.calibration import CalibratedClassifierCV\r\n",
    "\r\n",
    "# classifier to estimate the propensity score\r\n",
    "cls = LogisticRegression()\r\n",
    "\r\n",
    "# calibration of the classifier\r\n",
    "cls = CalibratedClassifierCV(cls)\r\n",
    "\r\n",
    "X = df[['age']]\r\n",
    "y = df['sodium']\r\n",
    "cls.fit(X, y)\r\n",
    "df['e'] = cls.predict_proba(X)[:,1].tolist()\r\n",
    "df.head()"
   ],
   "outputs": [
    {
     "output_type": "execute_result",
     "data": {
      "text/html": [
       "<div>\n",
       "<style scoped>\n",
       "    .dataframe tbody tr th:only-of-type {\n",
       "        vertical-align: middle;\n",
       "    }\n",
       "\n",
       "    .dataframe tbody tr th {\n",
       "        vertical-align: top;\n",
       "    }\n",
       "\n",
       "    .dataframe thead th {\n",
       "        text-align: right;\n",
       "    }\n",
       "</style>\n",
       "<table border=\"1\" class=\"dataframe\">\n",
       "  <thead>\n",
       "    <tr style=\"text-align: right;\">\n",
       "      <th></th>\n",
       "      <th>blood_pressure</th>\n",
       "      <th>sodium</th>\n",
       "      <th>age</th>\n",
       "      <th>proteinuria</th>\n",
       "      <th>e</th>\n",
       "    </tr>\n",
       "  </thead>\n",
       "  <tbody>\n",
       "    <tr>\n",
       "      <th>0</th>\n",
       "      <td>149.020569</td>\n",
       "      <td>1</td>\n",
       "      <td>73.820262</td>\n",
       "      <td>45.477403</td>\n",
       "      <td>0.724639</td>\n",
       "    </tr>\n",
       "    <tr>\n",
       "      <th>1</th>\n",
       "      <td>134.001092</td>\n",
       "      <td>0</td>\n",
       "      <td>67.000786</td>\n",
       "      <td>40.505112</td>\n",
       "      <td>0.590681</td>\n",
       "    </tr>\n",
       "    <tr>\n",
       "      <th>2</th>\n",
       "      <td>141.655496</td>\n",
       "      <td>1</td>\n",
       "      <td>69.893690</td>\n",
       "      <td>43.400773</td>\n",
       "      <td>0.650624</td>\n",
       "    </tr>\n",
       "    <tr>\n",
       "      <th>3</th>\n",
       "      <td>153.887146</td>\n",
       "      <td>1</td>\n",
       "      <td>76.204466</td>\n",
       "      <td>46.701443</td>\n",
       "      <td>0.764467</td>\n",
       "    </tr>\n",
       "    <tr>\n",
       "      <th>4</th>\n",
       "      <td>147.221633</td>\n",
       "      <td>1</td>\n",
       "      <td>74.337790</td>\n",
       "      <td>45.220249</td>\n",
       "      <td>0.733633</td>\n",
       "    </tr>\n",
       "  </tbody>\n",
       "</table>\n",
       "</div>"
      ],
      "text/plain": [
       "   blood_pressure  sodium        age  proteinuria         e\n",
       "0      149.020569       1  73.820262    45.477403  0.724639\n",
       "1      134.001092       0  67.000786    40.505112  0.590681\n",
       "2      141.655496       1  69.893690    43.400773  0.650624\n",
       "3      153.887146       1  76.204466    46.701443  0.764467\n",
       "4      147.221633       1  74.337790    45.220249  0.733633"
      ]
     },
     "metadata": {},
     "execution_count": 6
    }
   ],
   "metadata": {}
  },
  {
   "cell_type": "code",
   "execution_count": 7,
   "source": [
    "df['w'] = df['sodium'] / df['e'] + (1 - df['sodium']) / (1 - df['e'])"
   ],
   "outputs": [],
   "metadata": {}
  },
  {
   "cell_type": "markdown",
   "source": [
    "Notice we calibrate the classifier above to have propensity scores accurately estimating the probabilities!\n",
    "\n",
    "A simple way to estimate ATE is to calculate the difference of weighted means between treated and control groups. A slightly more smart way would be to pass these weights to the regression function – this way we'd also get p-value and confidence interval automatically. Notice we're using wls (weighted least squares) instead of the ols (ordinary least squares)."
   ],
   "metadata": {}
  },
  {
   "cell_type": "code",
   "execution_count": 8,
   "source": [
    "m = smf.wls('blood_pressure ~ sodium + age', data=df, weights=df['w'])\r\n",
    "fitted = m.fit()\r\n",
    "print(fitted.summary())"
   ],
   "outputs": [
    {
     "output_type": "stream",
     "name": "stdout",
     "text": [
      "                            WLS Regression Results                            \n",
      "==============================================================================\n",
      "Dep. Variable:         blood_pressure   R-squared:                       0.990\n",
      "Model:                            WLS   Adj. R-squared:                  0.990\n",
      "Method:                 Least Squares   F-statistic:                 4.953e+05\n",
      "Date:                Mon, 18 Jan 2021   Prob (F-statistic):               0.00\n",
      "Time:                        01:10:53   Log-Likelihood:                -14265.\n",
      "No. Observations:               10000   AIC:                         2.854e+04\n",
      "Df Residuals:                    9997   BIC:                         2.856e+04\n",
      "Df Model:                           2                                         \n",
      "Covariance Type:            nonrobust                                         \n",
      "==============================================================================\n",
      "                 coef    std err          t      P>|t|      [0.025      0.975]\n",
      "------------------------------------------------------------------------------\n",
      "Intercept     -0.0606      0.131     -0.461      0.645      -0.318       0.197\n",
      "sodium         1.0578      0.020     53.166      0.000       1.019       1.097\n",
      "age            2.0008      0.002    993.863      0.000       1.997       2.005\n",
      "==============================================================================\n",
      "Omnibus:                       14.825   Durbin-Watson:                   1.993\n",
      "Prob(Omnibus):                  0.001   Jarque-Bera (JB):               17.109\n",
      "Skew:                          -0.031   Prob(JB):                     0.000193\n",
      "Kurtosis:                       3.193   Cond. No.                         860.\n",
      "==============================================================================\n",
      "\n",
      "Notes:\n",
      "[1] Standard Errors assume that the covariance matrix of the errors is correctly specified.\n"
     ]
    }
   ],
   "metadata": {}
  },
  {
   "cell_type": "markdown",
   "source": [
    "# Doubly robust estimator\r\n",
    "\r\n",
    "To build doubly robust estimator, we'd need two additional linear regression models, each using features from the selected adjustment set (which contains only age in this case and not proteinuria)."
   ],
   "metadata": {}
  },
  {
   "cell_type": "code",
   "execution_count": 9,
   "source": [
    "from sklearn.linear_model import LinearRegression\r\n",
    "\r\n",
    "y0 = LinearRegression().fit(df[df.sodium == 0][['age']], df[df.sodium == 0]['blood_pressure']).predict(df[['age']])\r\n",
    "y1 = LinearRegression().fit(df[df.sodium == 1][['age']], df[df.sodium == 1]['blood_pressure']).predict(df[['age']])\r\n",
    "\r\n",
    "df['DR0'] = (1-df['sodium']) * (df['blood_pressure'] - y0)/(1-df['e']) + y0\r\n",
    "df['DR1'] =    df['sodium']  * (df['blood_pressure'] - y1)/   df['e']  + y1"
   ],
   "outputs": [],
   "metadata": {}
  },
  {
   "cell_type": "code",
   "execution_count": 10,
   "source": [
    "df['DR1'].mean() - df['DR0'].mean()"
   ],
   "outputs": [
    {
     "output_type": "execute_result",
     "data": {
      "text/plain": [
       "1.0578232752447718"
      ]
     },
     "metadata": {},
     "execution_count": 10
    }
   ],
   "metadata": {}
  },
  {
   "cell_type": "markdown",
   "source": [
    "# Matching with Machalanobis distance\n",
    "\n",
    "For matching, we're going to use CausalInference library: https://github.com/laurencium/causalinference You'd have to install it, for example, using 'pip install CausalInference'. It's not very popular, so I'd be cautious of the results, but it's what we have."
   ],
   "metadata": {}
  },
  {
   "cell_type": "code",
   "execution_count": 11,
   "source": [
    "from causalinference import CausalModel\r\n",
    "adjustment_set = ['age']\r\n",
    "\r\n",
    "causal = CausalModel(\r\n",
    "    Y=df['blood_pressure'].values, # outcome\r\n",
    "    D=df['sodium'].values, # treatment\r\n",
    "    X=df[adjustment_set].values\r\n",
    ")"
   ],
   "outputs": [],
   "metadata": {}
  },
  {
   "cell_type": "code",
   "execution_count": 12,
   "source": [
    "causal.est_via_matching(bias_adj=True)\r\n",
    "print(causal.estimates)"
   ],
   "outputs": [
    {
     "output_type": "stream",
     "name": "stderr",
     "text": [
      "/Users/maratstelman/opt/anaconda3/lib/python3.8/site-packages/causalinference/estimators/matching.py:100: FutureWarning: `rcond` parameter will change to the default of machine precision times ``max(M, N)`` where M and N are the input matrix dimensions.\n",
      "To use the future default and silence this warning we advise to pass `rcond=None`, to keep using the old, explicitly pass `rcond=-1`.\n",
      "  return np.linalg.lstsq(X, Y)[0][1:]  # don't need intercept coef\n"
     ]
    },
    {
     "output_type": "stream",
     "name": "stdout",
     "text": [
      "\n",
      "Treatment Effect Estimates: Matching\n",
      "\n",
      "                     Est.       S.e.          z      P>|z|      [95% Conf. int.]\n",
      "--------------------------------------------------------------------------------\n",
      "           ATE      1.060      0.035     30.672      0.000      0.992      1.127\n",
      "           ATC      1.053      0.040     26.533      0.000      0.975      1.131\n",
      "           ATT      1.065      0.040     26.950      0.000      0.987      1.142\n",
      "\n"
     ]
    }
   ],
   "metadata": {}
  },
  {
   "cell_type": "markdown",
   "source": [
    "# Propensity score matching\n",
    "We'll use the same library as above, but pass propensity score column for matching:"
   ],
   "metadata": {}
  },
  {
   "cell_type": "code",
   "execution_count": 13,
   "source": [
    "causal = CausalModel(\r\n",
    "    Y=df['blood_pressure'].values, # outcome\r\n",
    "    D=df['sodium'].values, # treatment\r\n",
    "    X=df['e'].values\r\n",
    ")\r\n",
    "causal.est_via_matching(bias_adj=True)\r\n",
    "print(causal.estimates)"
   ],
   "outputs": [
    {
     "output_type": "stream",
     "name": "stdout",
     "text": [
      "\n",
      "Treatment Effect Estimates: Matching\n",
      "\n",
      "                     Est.       S.e.          z      P>|z|      [95% Conf. int.]\n",
      "--------------------------------------------------------------------------------\n",
      "           ATE      1.060      0.035     30.670      0.000      0.992      1.127\n",
      "           ATC      1.054      0.040     26.538      0.000      0.976      1.131\n",
      "           ATT      1.065      0.040     26.944      0.000      0.987      1.142\n",
      "\n"
     ]
    }
   ],
   "metadata": {}
  },
  {
   "cell_type": "code",
   "execution_count": null,
   "source": [
    " "
   ],
   "outputs": [],
   "metadata": {}
  }
 ],
 "metadata": {
  "kernelspec": {
   "name": "python3",
   "display_name": "Python 3.9.4 64-bit"
  },
  "language_info": {
   "codemirror_mode": {
    "name": "ipython",
    "version": 3
   },
   "file_extension": ".py",
   "mimetype": "text/x-python",
   "name": "python",
   "nbconvert_exporter": "python",
   "pygments_lexer": "ipython3",
   "version": "3.9.4"
  },
  "interpreter": {
   "hash": "d3f2b24b0b653742766f2625efc40aff31f395bb5e317ac2ae19a632273de973"
  }
 },
 "nbformat": 4,
 "nbformat_minor": 4
}