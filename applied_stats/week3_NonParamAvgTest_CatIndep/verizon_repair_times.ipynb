{
 "cells": [
  {
   "cell_type": "code",
   "execution_count": 1,
   "id": "57439e8f",
   "metadata": {},
   "outputs": [],
   "source": [
    "import itertools\n",
    "import numpy as np\n",
    "import pandas as pd\n",
    "\n",
    "from scipy import stats\n",
    "# from statsmodels.stats.descriptivestats import sign_test\n",
    "\n",
    "import matplotlib.pyplot as plt"
   ]
  },
  {
   "cell_type": "code",
   "execution_count": 37,
   "id": "8c84260d",
   "metadata": {},
   "outputs": [],
   "source": [
    "def permutation_t_stat_2s(sample1, sample2):\n",
    "    return np.mean(sample1) - np.mean(sample2)\n",
    "\n",
    "def get_random_combinations(n1, n2, max_permutations):\n",
    "    index = np.array(range(n1 + n2))\n",
    "    indices = set([tuple(index)])\n",
    "    for i in range(max_permutations - 1):\n",
    "        np.random.shuffle(index)\n",
    "        indices.add(tuple(index))\n",
    "    return [(index[:n1], index[n1:]) for index in indices]\n",
    "\n",
    "def permutation_null_dist_2s(sample1, sample2, max_permutations = None):\n",
    "    pooled_sample = np.hstack((sample1, sample2))\n",
    "    n1 = len(sample1)\n",
    "    n2 = len(sample2)\n",
    "    n = n1 + n2\n",
    "    \n",
    "    if max_permutations:\n",
    "        indices = get_random_combinations(n1, n2, max_permutations)\n",
    "    else:\n",
    "        indices = [(list(index), filter(lambda x: x not in index, range(n))) \\\n",
    "                    for index in itertools.combinations(range(n), n1)]\n",
    "    \n",
    "    distr = [permutation_t_stat_2s(pooled_sample[list(i[0])], pooled_sample[list(i[1])]) \\\n",
    "             for i in indices]\n",
    "    return distr\n",
    "\n",
    "def permutation_test_2s(sample1, sample2, max_permutations = None, alternative = 'two-sided', return_distr = False):\n",
    "    if alternative not in ('two-sided', 'less', 'greater'):\n",
    "        raise ValueError(\"alternative not recognized\\n\"\n",
    "                         \"should be 'two-sided', 'less' or 'greater'\")\n",
    "    \n",
    "    t_stat = permutation_t_stat_2s(sample1, sample2)\n",
    "    \n",
    "    null_distr = permutation_null_dist_2s(sample1, sample2, max_permutations)\n",
    "    \n",
    "    if alternative == 'two-sided':\n",
    "        p = sum([1. if abs(x) >= abs(t_stat) else 0. for x in null_distr]) / len(null_distr)\n",
    "    elif alternative == 'less':\n",
    "        p = sum([1. if x <= t_stat else 0. for x in null_distr]) / len(null_distr)\n",
    "    else: # alternative == 'greater':\n",
    "        p = sum([1. if x >= t_stat else 0. for x in null_distr]) / len(null_distr)\n",
    "    \n",
    "    if return_distr:\n",
    "        return {'t': t_stat, 'p': p, 'null_distr': null_distr}\n",
    "    else:\n",
    "        return {'t': t_stat, 'p': p}"
   ]
  },
  {
   "cell_type": "code",
   "execution_count": 4,
   "id": "324a665c",
   "metadata": {},
   "outputs": [
    {
     "data": {
      "text/html": [
       "<div>\n",
       "<style scoped>\n",
       "    .dataframe tbody tr th:only-of-type {\n",
       "        vertical-align: middle;\n",
       "    }\n",
       "\n",
       "    .dataframe tbody tr th {\n",
       "        vertical-align: top;\n",
       "    }\n",
       "\n",
       "    .dataframe thead th {\n",
       "        text-align: right;\n",
       "    }\n",
       "</style>\n",
       "<table border=\"1\" class=\"dataframe\">\n",
       "  <thead>\n",
       "    <tr style=\"text-align: right;\">\n",
       "      <th></th>\n",
       "      <th>Time</th>\n",
       "      <th>Group</th>\n",
       "    </tr>\n",
       "  </thead>\n",
       "  <tbody>\n",
       "    <tr>\n",
       "      <th>0</th>\n",
       "      <td>17.50</td>\n",
       "      <td>ILEC</td>\n",
       "    </tr>\n",
       "    <tr>\n",
       "      <th>1</th>\n",
       "      <td>2.40</td>\n",
       "      <td>ILEC</td>\n",
       "    </tr>\n",
       "    <tr>\n",
       "      <th>2</th>\n",
       "      <td>0.00</td>\n",
       "      <td>ILEC</td>\n",
       "    </tr>\n",
       "    <tr>\n",
       "      <th>3</th>\n",
       "      <td>0.65</td>\n",
       "      <td>ILEC</td>\n",
       "    </tr>\n",
       "    <tr>\n",
       "      <th>4</th>\n",
       "      <td>22.23</td>\n",
       "      <td>ILEC</td>\n",
       "    </tr>\n",
       "  </tbody>\n",
       "</table>\n",
       "</div>"
      ],
      "text/plain": [
       "    Time Group\n",
       "0  17.50  ILEC\n",
       "1   2.40  ILEC\n",
       "2   0.00  ILEC\n",
       "3   0.65  ILEC\n",
       "4  22.23  ILEC"
      ]
     },
     "execution_count": 4,
     "metadata": {},
     "output_type": "execute_result"
    }
   ],
   "source": [
    "data = pd.read_csv('verizon.txt', sep='\\t')\n",
    "data.head()"
   ]
  },
  {
   "cell_type": "code",
   "execution_count": 14,
   "id": "ffa33a8a",
   "metadata": {},
   "outputs": [
    {
     "data": {
      "image/png": "[encoded data removed]",
      "text/plain": [
       "<Figure size 720x144 with 2 Axes>"
      ]
     },
     "metadata": {
      "needs_background": "light"
     },
     "output_type": "display_data"
    }
   ],
   "source": [
    "plt.figure(figsize=(10, 2))\n",
    "\n",
    "plt.subplot(1, 2, 1)\n",
    "plt.hist(data[data['Group'] == 'ILEC']['Time'])\n",
    "\n",
    "plt.subplot(1, 2, 2)\n",
    "plt.hist(data[data['Group'] == 'CLEC']['Time'], color='r')\n",
    "\n",
    "plt.show()"
   ]
  },
  {
   "cell_type": "code",
   "execution_count": 16,
   "id": "3fcda009",
   "metadata": {},
   "outputs": [
    {
     "data": {
      "image/png": "[encoded data removed]",
      "text/plain": [
       "<Figure size 720x432 with 2 Axes>"
      ]
     },
     "metadata": {
      "needs_background": "light"
     },
     "output_type": "display_data"
    }
   ],
   "source": [
    "plt.figure(figsize=(10, 6))\n",
    "\n",
    "plt.subplot(1, 2, 1)\n",
    "plt.boxplot(data[data['Group'] == 'ILEC']['Time'])\n",
    "\n",
    "plt.subplot(1, 2, 2)\n",
    "plt.boxplot(data[data['Group'] == 'CLEC']['Time'])\n",
    "\n",
    "plt.show()"
   ]
  },
  {
   "cell_type": "code",
   "execution_count": 18,
   "id": "b63bb8d0",
   "metadata": {},
   "outputs": [
    {
     "name": "stdout",
     "output_type": "stream",
     "text": [
      "Diff in means:  -8.1\n"
     ]
    }
   ],
   "source": [
    "print('Diff in means: ', round(data[data['Group'] == 'ILEC'].Time.mean() - data[data['Group'] == 'CLEC'].Time.mean(), 1))"
   ]
  },
  {
   "cell_type": "markdown",
   "id": "b0412f5f",
   "metadata": {},
   "source": [
    "#### Sign test"
   ]
  },
  {
   "cell_type": "code",
   "execution_count": 22,
   "id": "bda1c869",
   "metadata": {},
   "outputs": [
    {
     "name": "stdout",
     "output_type": "stream",
     "text": [
      "Sign test p-value:\n"
     ]
    },
    {
     "data": {
      "text/plain": [
       "0.10501980781555176"
      ]
     },
     "execution_count": 22,
     "metadata": {},
     "output_type": "execute_result"
    }
   ],
   "source": [
    "print('Sign test p-value:')\n",
    "1 - stats.binom.cdf(\n",
    "    k=data[(data['Group'] == 'CLEC') & (data['Time'] > 8.)].shape[0] - 1,\n",
    "    n=len(data[data['Group'] == 'CLEC']['Time']),\n",
    "    p=0.5)"
   ]
  },
  {
   "cell_type": "code",
   "execution_count": 23,
   "id": "32ffd04a",
   "metadata": {},
   "outputs": [
    {
     "data": {
      "text/plain": [
       "0.105"
      ]
     },
     "execution_count": 23,
     "metadata": {},
     "output_type": "execute_result"
    }
   ],
   "source": [
    "round(0.10501980781555176, 4)"
   ]
  },
  {
   "cell_type": "markdown",
   "id": "07748136",
   "metadata": {},
   "source": [
    "####  t-test hypothesis of equal means"
   ]
  },
  {
   "cell_type": "code",
   "execution_count": 26,
   "id": "93416d72",
   "metadata": {},
   "outputs": [
    {
     "name": "stdout",
     "output_type": "stream",
     "text": [
      "t-test: \n"
     ]
    },
    {
     "data": {
      "text/plain": [
       "Ttest_indResult(statistic=1.9833785404229538, pvalue=0.02987306070737932)"
      ]
     },
     "execution_count": 26,
     "metadata": {},
     "output_type": "execute_result"
    }
   ],
   "source": [
    "print('t-test: ')\n",
    "stats.ttest_ind(data[data['Group'] == 'CLEC']['Time'], \n",
    "                data[data['Group'] == 'ILEC']['Time'], \n",
    "                equal_var = False,\n",
    "               alternative='greater')"
   ]
  },
  {
   "cell_type": "code",
   "execution_count": 28,
   "id": "068ebfc0",
   "metadata": {},
   "outputs": [
    {
     "data": {
      "text/plain": [
       "0.0299"
      ]
     },
     "execution_count": 28,
     "metadata": {},
     "output_type": "execute_result"
    }
   ],
   "source": [
    "round(0.02987306070737932, 4)"
   ]
  },
  {
   "cell_type": "markdown",
   "id": "6b619d0c",
   "metadata": {},
   "source": [
    "#### Rank test"
   ]
  },
  {
   "cell_type": "code",
   "execution_count": 35,
   "id": "c388bc21",
   "metadata": {},
   "outputs": [
    {
     "name": "stdout",
     "output_type": "stream",
     "text": [
      "Mann-Whitney test:\n"
     ]
    },
    {
     "data": {
      "text/plain": [
       "MannwhitneyuResult(statistic=26820.0, pvalue=0.00045651384433380884)"
      ]
     },
     "execution_count": 35,
     "metadata": {},
     "output_type": "execute_result"
    }
   ],
   "source": [
    "print(\"Mann-Whitney test:\")\n",
    "stats.mannwhitneyu(data[data['Group'] == 'CLEC']['Time'], \n",
    "                   data[data['Group'] == 'ILEC']['Time'],\n",
    "                  alternative='greater')"
   ]
  },
  {
   "cell_type": "code",
   "execution_count": 36,
   "id": "c33f62bd",
   "metadata": {},
   "outputs": [
    {
     "data": {
      "text/plain": [
       "0.00046"
      ]
     },
     "execution_count": 36,
     "metadata": {},
     "output_type": "execute_result"
    }
   ],
   "source": [
    "round(0.00045651384433380884, 5)"
   ]
  },
  {
   "cell_type": "markdown",
   "id": "a22b586f",
   "metadata": {},
   "source": [
    "#### Permutation test"
   ]
  },
  {
   "cell_type": "code",
   "execution_count": 39,
   "id": "3a3fcbd9",
   "metadata": {},
   "outputs": [
    {
     "name": "stdout",
     "output_type": "stream",
     "text": [
      "Permutation test: t = 8.097520, p = 0.017900\n"
     ]
    }
   ],
   "source": [
    "np.random.seed(0)\n",
    "res = permutation_test_2s(data[data['Group'] == 'CLEC']['Time'], \n",
    "                          data[data['Group'] == 'ILEC']['Time'], \n",
    "                          max_permutations=10000,\n",
    "                          alternative='greater',\n",
    "                          return_distr = True)\n",
    "print(\"Permutation test: t = %f, p = %f\" % (res['t'], res['p']))"
   ]
  },
  {
   "cell_type": "code",
   "execution_count": null,
   "id": "9a1acd8f",
   "metadata": {},
   "outputs": [],
   "source": []
  }
 ],
 "metadata": {
  "kernelspec": {
   "display_name": "Python 3",
   "language": "python",
   "name": "python3"
  },
  "language_info": {
   "codemirror_mode": {
    "name": "ipython",
    "version": 3
   },
   "file_extension": ".py",
   "mimetype": "text/x-python",
   "name": "python",
   "nbconvert_exporter": "python",
   "pygments_lexer": "ipython3",
   "version": "3.9.4"
  }
 },
 "nbformat": 4,
 "nbformat_minor": 5
}
