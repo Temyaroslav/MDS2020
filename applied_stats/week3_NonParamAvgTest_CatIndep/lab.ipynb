{
 "cells": [
  {
   "cell_type": "code",
   "execution_count": 46,
   "metadata": {},
   "outputs": [
    {
     "name": "stdout",
     "output_type": "stream",
     "text": [
      "Populating the interactive namespace from numpy and matplotlib\n"
     ]
    }
   ],
   "source": [
    "import seaborn as sns\n",
    "import numpy as np\n",
    "import pandas as pd\n",
    "import scipy as sc\n",
    "import itertools\n",
    "\n",
    "from statsmodels.stats.descriptivestats import sign_test\n",
    "from statsmodels.stats.weightstats import zconfint\n",
    "\n",
    "from bootstrap_stat import bootstrap_stat as bp\n",
    "\n",
    "from statsmodels.stats.proportion import proportion_confint, proportions_ztest, \\\n",
    "confint_proportions_2indep, test_proportions_2indep\n",
    "\n",
    "%pylab inline"
   ]
  },
  {
   "cell_type": "code",
   "execution_count": 2,
   "metadata": {},
   "outputs": [],
   "source": [
    "def permutation_t_stat_2s(sample1, sample2):\n",
    "    return np.mean(sample1) - np.mean(sample2)\n",
    "\n",
    "def get_random_combinations(n1, n2, max_permutations):\n",
    "    index = np.array(range(n1 + n2))\n",
    "    indices = set([tuple(index)])\n",
    "    for i in range(max_permutations - 1):\n",
    "        np.random.shuffle(index)\n",
    "        indices.add(tuple(index))\n",
    "    return [(index[:n1], index[n1:]) for index in indices]\n",
    "\n",
    "def permutation_null_dist_2s(sample1, sample2, max_permutations = None):\n",
    "    pooled_sample = np.hstack((sample1, sample2))\n",
    "    n1 = len(sample1)\n",
    "    n2 = len(sample2)\n",
    "    n = n1 + n2\n",
    "    \n",
    "    if max_permutations:\n",
    "        indices = get_random_combinations(n1, n2, max_permutations)\n",
    "    else:\n",
    "        indices = [(list(index), filter(lambda i: i not in index, range(n))) \\\n",
    "                    for index in itertools.combinations(range(n), n1)]\n",
    "    \n",
    "    distr = [permutation_t_stat_2s(pooled_sample[list(i[0])], pooled_sample[list(i[1])]) \\\n",
    "             for i in indices]\n",
    "    return distr\n",
    "\n",
    "def permutation_test_2s(sample1, sample2, max_permutations = None, alternative = 'two-sided', return_distr = False):\n",
    "    if alternative not in ('two-sided', 'less', 'greater'):\n",
    "        raise ValueError(\"alternative not recognized\\n\"\n",
    "                         \"should be 'two-sided', 'less' or 'greater'\")\n",
    "    \n",
    "    t_stat = permutation_t_stat_2s(sample1, sample2)\n",
    "    \n",
    "    null_distr = permutation_null_dist_2s(sample1, sample2, max_permutations)\n",
    "    \n",
    "    if alternative == 'two-sided':\n",
    "        p = sum([1. if abs(x) >= abs(t_stat) else 0. for x in null_distr]) / len(null_distr)\n",
    "    elif alternative == 'less':\n",
    "        p = sum([1. if x <= t_stat else 0. for x in null_distr]) / len(null_distr)\n",
    "    else: # alternative == 'greater':\n",
    "        p = sum([1. if x >= t_stat else 0. for x in null_distr]) / len(null_distr)\n",
    "    \n",
    "    if return_distr:\n",
    "        return {'t': t_stat, 'p': p, 'null_distr': null_distr}\n",
    "    else:\n",
    "        return {'t': t_stat, 'p': p}"
   ]
  },
  {
   "cell_type": "code",
   "execution_count": 12,
   "metadata": {},
   "outputs": [],
   "source": [
    "def get_bootstrap_samples(x, n_resamples):\n",
    "    indices = np.random.randint(0, len(x), (n_resamples, len(x)))\n",
    "    resamples = x[indices]\n",
    "    return resamples"
   ]
  },
  {
   "cell_type": "code",
   "execution_count": 13,
   "metadata": {},
   "outputs": [],
   "source": [
    "def percentile_interval(stat, alpha):\n",
    "    boundaries = np.percentile(stat, [100 * alpha / 2., 100 * (1 - alpha / 2.)])\n",
    "    return boundaries"
   ]
  },
  {
   "cell_type": "code",
   "execution_count": 48,
   "metadata": {},
   "outputs": [],
   "source": [
    "def permutation_stat_cat_ind(sample1, sample2):\n",
    "    ct = pd.crosstab(sample1, sample2)\n",
    "    return stats.chi2_contingency(ct)[0]\n",
    "\n",
    "def get_random_permutations(n, max_permutations):\n",
    "    index = np.array(range(n))\n",
    "    indices = set([tuple(index)])        \n",
    "    for i in range(max_permutations - 1):\n",
    "        np.random.shuffle(index)\n",
    "        indices.add(tuple(index))\n",
    "    return list(indices)\n",
    "\n",
    "def permutation_null_dist_cat_ind(sample1, sample2, max_permutations = None):\n",
    "    if not len(sample1) == len(sample2):\n",
    "        raise ValueError(\"Samples should be paired and have the same size\")\n",
    "        \n",
    "    n = len(sample1)\n",
    "    \n",
    "    if max_permutations:\n",
    "        indices = get_random_permutations(n, max_permutations)\n",
    "    else:\n",
    "        indices = list(itertools.permutations(list(range(n))))\n",
    "    \n",
    "    distr = [permutation_stat_cat_ind(sample1, sample2[list(i)]) for i in indices]\n",
    "    return distr\n",
    "\n",
    "def permutation_test_cat_ind(sample1, sample2, max_permutations = None, return_distr = False):    \n",
    "    t_stat = permutation_stat_cat_ind(sample1, sample2)\n",
    "    \n",
    "    null_distr = permutation_null_dist_cat_ind(sample1, sample2, max_permutations)\n",
    "    \n",
    "    p = sum([1. if x >= t_stat else 0. for x in null_distr]) / len(null_distr)\n",
    "        \n",
    "    if return_distr:\n",
    "        return {'t': t_stat, 'p': p, 'null_distr': null_distr}\n",
    "    else:\n",
    "        return {'t': t_stat, 'p': p}"
   ]
  },
  {
   "cell_type": "code",
   "execution_count": 52,
   "metadata": {},
   "outputs": [],
   "source": [
    "def st_pearson_residuals(ct):\n",
    "    e = stats.chi2_contingency(ct)[3]\n",
    "    r = e\n",
    "    n_plus_j = sum(ct, axis=0)\n",
    "    n_i_plus = sum(ct, axis=1)\n",
    "    n = sum(n_plus_j)\n",
    "    for i in range(len(n_i_plus)):\n",
    "        for j in range(len(n_plus_j)):\n",
    "            r[i,j] = (ct.values[i,j] - e[i,j]) / np.sqrt(e[i,j] * (1 - n_i_plus[i] / n) * (1 - n_plus_j[j] / n))\n",
    "    return pd.DataFrame(data=r, index = ct.index, columns = ct.columns)\n",
    "    "
   ]
  },
  {
   "cell_type": "code",
   "execution_count": 3,
   "metadata": {},
   "outputs": [],
   "source": [
    "data = pd.read_csv('test.csv')"
   ]
  },
  {
   "cell_type": "code",
   "execution_count": 4,
   "metadata": {},
   "outputs": [
    {
     "data": {
      "text/html": [
       "<div>\n",
       "<style scoped>\n",
       "    .dataframe tbody tr th:only-of-type {\n",
       "        vertical-align: middle;\n",
       "    }\n",
       "\n",
       "    .dataframe tbody tr th {\n",
       "        vertical-align: top;\n",
       "    }\n",
       "\n",
       "    .dataframe thead th {\n",
       "        text-align: right;\n",
       "    }\n",
       "</style>\n",
       "<table border=\"1\" class=\"dataframe\">\n",
       "  <thead>\n",
       "    <tr style=\"text-align: right;\">\n",
       "      <th></th>\n",
       "      <th>ID</th>\n",
       "      <th>LIMIT_BAL</th>\n",
       "      <th>GENDER</th>\n",
       "      <th>EDUCATION</th>\n",
       "      <th>MARITAL</th>\n",
       "      <th>AGE</th>\n",
       "      <th>PAY_SEP</th>\n",
       "      <th>PAY_AUG</th>\n",
       "      <th>PAY_JUL</th>\n",
       "      <th>PAY_JUN</th>\n",
       "      <th>...</th>\n",
       "      <th>BILL_JUN</th>\n",
       "      <th>BILL_MAY</th>\n",
       "      <th>BILL_APR</th>\n",
       "      <th>PAY_SEP.1</th>\n",
       "      <th>PAY_AUG.1</th>\n",
       "      <th>PAY_JUL.1</th>\n",
       "      <th>PAY_JUN.1</th>\n",
       "      <th>PAY_MAY.1</th>\n",
       "      <th>PAY_APR.1</th>\n",
       "      <th>default</th>\n",
       "    </tr>\n",
       "  </thead>\n",
       "  <tbody>\n",
       "    <tr>\n",
       "      <th>0</th>\n",
       "      <td>1</td>\n",
       "      <td>20000</td>\n",
       "      <td>2</td>\n",
       "      <td>2</td>\n",
       "      <td>1</td>\n",
       "      <td>24</td>\n",
       "      <td>2</td>\n",
       "      <td>2</td>\n",
       "      <td>0</td>\n",
       "      <td>0</td>\n",
       "      <td>...</td>\n",
       "      <td>0</td>\n",
       "      <td>0</td>\n",
       "      <td>0</td>\n",
       "      <td>0</td>\n",
       "      <td>689</td>\n",
       "      <td>0</td>\n",
       "      <td>0</td>\n",
       "      <td>0</td>\n",
       "      <td>0</td>\n",
       "      <td>1</td>\n",
       "    </tr>\n",
       "    <tr>\n",
       "      <th>1</th>\n",
       "      <td>2</td>\n",
       "      <td>120000</td>\n",
       "      <td>2</td>\n",
       "      <td>2</td>\n",
       "      <td>2</td>\n",
       "      <td>26</td>\n",
       "      <td>0</td>\n",
       "      <td>2</td>\n",
       "      <td>0</td>\n",
       "      <td>0</td>\n",
       "      <td>...</td>\n",
       "      <td>3272</td>\n",
       "      <td>3455</td>\n",
       "      <td>3261</td>\n",
       "      <td>0</td>\n",
       "      <td>1000</td>\n",
       "      <td>1000</td>\n",
       "      <td>1000</td>\n",
       "      <td>0</td>\n",
       "      <td>2000</td>\n",
       "      <td>1</td>\n",
       "    </tr>\n",
       "    <tr>\n",
       "      <th>2</th>\n",
       "      <td>3</td>\n",
       "      <td>90000</td>\n",
       "      <td>2</td>\n",
       "      <td>2</td>\n",
       "      <td>2</td>\n",
       "      <td>34</td>\n",
       "      <td>0</td>\n",
       "      <td>0</td>\n",
       "      <td>0</td>\n",
       "      <td>0</td>\n",
       "      <td>...</td>\n",
       "      <td>14331</td>\n",
       "      <td>14948</td>\n",
       "      <td>15549</td>\n",
       "      <td>1518</td>\n",
       "      <td>1500</td>\n",
       "      <td>1000</td>\n",
       "      <td>1000</td>\n",
       "      <td>1000</td>\n",
       "      <td>5000</td>\n",
       "      <td>0</td>\n",
       "    </tr>\n",
       "    <tr>\n",
       "      <th>3</th>\n",
       "      <td>4</td>\n",
       "      <td>50000</td>\n",
       "      <td>2</td>\n",
       "      <td>2</td>\n",
       "      <td>1</td>\n",
       "      <td>37</td>\n",
       "      <td>0</td>\n",
       "      <td>0</td>\n",
       "      <td>0</td>\n",
       "      <td>0</td>\n",
       "      <td>...</td>\n",
       "      <td>28314</td>\n",
       "      <td>28959</td>\n",
       "      <td>29547</td>\n",
       "      <td>2000</td>\n",
       "      <td>2019</td>\n",
       "      <td>1200</td>\n",
       "      <td>1100</td>\n",
       "      <td>1069</td>\n",
       "      <td>1000</td>\n",
       "      <td>0</td>\n",
       "    </tr>\n",
       "    <tr>\n",
       "      <th>4</th>\n",
       "      <td>5</td>\n",
       "      <td>50000</td>\n",
       "      <td>1</td>\n",
       "      <td>2</td>\n",
       "      <td>1</td>\n",
       "      <td>57</td>\n",
       "      <td>0</td>\n",
       "      <td>0</td>\n",
       "      <td>0</td>\n",
       "      <td>0</td>\n",
       "      <td>...</td>\n",
       "      <td>20940</td>\n",
       "      <td>19146</td>\n",
       "      <td>19131</td>\n",
       "      <td>2000</td>\n",
       "      <td>36681</td>\n",
       "      <td>10000</td>\n",
       "      <td>9000</td>\n",
       "      <td>689</td>\n",
       "      <td>679</td>\n",
       "      <td>0</td>\n",
       "    </tr>\n",
       "  </tbody>\n",
       "</table>\n",
       "<p>5 rows × 25 columns</p>\n",
       "</div>"
      ],
      "text/plain": [
       "   ID  LIMIT_BAL  GENDER  EDUCATION  MARITAL  AGE  PAY_SEP  PAY_AUG  PAY_JUL  \\\n",
       "0   1      20000       2          2        1   24        2        2        0   \n",
       "1   2     120000       2          2        2   26        0        2        0   \n",
       "2   3      90000       2          2        2   34        0        0        0   \n",
       "3   4      50000       2          2        1   37        0        0        0   \n",
       "4   5      50000       1          2        1   57        0        0        0   \n",
       "\n",
       "   PAY_JUN  ...  BILL_JUN  BILL_MAY  BILL_APR  PAY_SEP.1  PAY_AUG.1  \\\n",
       "0        0  ...         0         0         0          0        689   \n",
       "1        0  ...      3272      3455      3261          0       1000   \n",
       "2        0  ...     14331     14948     15549       1518       1500   \n",
       "3        0  ...     28314     28959     29547       2000       2019   \n",
       "4        0  ...     20940     19146     19131       2000      36681   \n",
       "\n",
       "   PAY_JUL.1  PAY_JUN.1  PAY_MAY.1  PAY_APR.1  default  \n",
       "0          0          0          0          0        1  \n",
       "1       1000       1000          0       2000        1  \n",
       "2       1000       1000       1000       5000        0  \n",
       "3       1200       1100       1069       1000        0  \n",
       "4      10000       9000        689        679        0  \n",
       "\n",
       "[5 rows x 25 columns]"
      ]
     },
     "execution_count": 4,
     "metadata": {},
     "output_type": "execute_result"
    }
   ],
   "source": [
    "data.head()"
   ]
  },
  {
   "cell_type": "code",
   "execution_count": 5,
   "metadata": {},
   "outputs": [
    {
     "data": {
      "text/plain": [
       "Index(['ID', 'LIMIT_BAL', 'GENDER', 'EDUCATION', 'MARITAL', 'AGE', 'PAY_SEP',\n",
       "       'PAY_AUG', 'PAY_JUL', 'PAY_JUN', 'PAY_MAY', 'PAY_APR', 'BILL_SEP',\n",
       "       'BILL_AUG', 'BILL_JUL', 'BILL_JUN', 'BILL_MAY', 'BILL_APR', 'PAY_SEP.1',\n",
       "       'PAY_AUG.1', 'PAY_JUL.1', 'PAY_JUN.1', 'PAY_MAY.1', 'PAY_APR.1',\n",
       "       'default'],\n",
       "      dtype='object')"
      ]
     },
     "execution_count": 5,
     "metadata": {},
     "output_type": "execute_result"
    }
   ],
   "source": [
    "data.columns"
   ]
  },
  {
   "cell_type": "markdown",
   "metadata": {},
   "source": [
    "**Task 1. Credit limit: test whether there are differences between median credit limits of two groups.**"
   ]
  },
  {
   "cell_type": "code",
   "execution_count": 6,
   "metadata": {},
   "outputs": [
    {
     "data": {
      "image/png": "[encoded data removed]",
      "text/plain": [
       "<Figure size 432x288 with 1 Axes>"
      ]
     },
     "metadata": {
      "needs_background": "light"
     },
     "output_type": "display_data"
    }
   ],
   "source": [
    "ax = sns.boxplot(x = 'default', y = 'LIMIT_BAL', data=data)"
   ]
  },
  {
   "cell_type": "code",
   "execution_count": 7,
   "metadata": {},
   "outputs": [
    {
     "data": {
      "text/plain": [
       "<seaborn.axisgrid.FacetGrid at 0x7fe9114c8c70>"
      ]
     },
     "execution_count": 7,
     "metadata": {},
     "output_type": "execute_result"
    },
    {
     "data": {
      "image/png": "[encoded data removed]",
      "text/plain": [
       "<Figure size 403.375x360 with 1 Axes>"
      ]
     },
     "metadata": {
      "needs_background": "light"
     },
     "output_type": "display_data"
    }
   ],
   "source": [
    "sns.displot(data, x = 'LIMIT_BAL', hue = 'default', kind = 'kde')"
   ]
  },
  {
   "cell_type": "code",
   "execution_count": 8,
   "metadata": {},
   "outputs": [
    {
     "data": {
      "text/plain": [
       "default\n",
       "0    150000.0\n",
       "1     90000.0\n",
       "Name: LIMIT_BAL, dtype: float64"
      ]
     },
     "execution_count": 8,
     "metadata": {},
     "output_type": "execute_result"
    }
   ],
   "source": [
    "data.groupby('default')['LIMIT_BAL'].quantile(0.5)"
   ]
  },
  {
   "cell_type": "code",
   "execution_count": 33,
   "metadata": {},
   "outputs": [
    {
     "data": {
      "text/plain": [
       "-0.4"
      ]
     },
     "execution_count": 33,
     "metadata": {},
     "output_type": "execute_result"
    }
   ],
   "source": [
    "data.groupby('default')['LIMIT_BAL'].quantile(0.5)[1]/data.groupby('default')['LIMIT_BAL'].quantile(0.5)[0]-1"
   ]
  },
  {
   "cell_type": "markdown",
   "metadata": {},
   "source": [
    "We have **two samples**, so we should use test for two independent samples. From the plot above we observe that samples come from **not normal distribution** so we should use non parametric tests. We have options: Mann-Whitney test or Permutation test. We know that permutation test preserve more information about samples. But it's computationally complex and we may use it with max_permutations limitation. To define confidence intervals for median differene between samples we may use bootstrap. \n",
    "\n",
    "X1 - credit limit for not defaulted customers\n",
    "\n",
    "X2 - credit limit for defaulted customers\n",
    "\n",
    "H0: Fx1(x) = Fx2(x) distributions of samples are equal\n",
    "\n",
    "H1: Fx1(x) != Fx2(x)"
   ]
  },
  {
   "cell_type": "code",
   "execution_count": 29,
   "metadata": {},
   "outputs": [
    {
     "name": "stdout",
     "output_type": "stream",
     "text": [
      "Mann-Whitney test: MannwhitneyuResult(statistic=59257217.5, pvalue=6.127742909111652e-190)\n"
     ]
    }
   ],
   "source": [
    "print(\"Mann-Whitney test:\", sc.stats.mannwhitneyu(data[data['default'] == 0]['LIMIT_BAL'], data[data['default'] == 1]['LIMIT_BAL']))"
   ]
  },
  {
   "cell_type": "code",
   "execution_count": 17,
   "metadata": {},
   "outputs": [
    {
     "name": "stdout",
     "output_type": "stream",
     "text": [
      "Permutation test: t = 47990.069655, p = 0.000100\n"
     ]
    }
   ],
   "source": [
    "res = permutation_test_2s(data[data['default'] == 0]['LIMIT_BAL'], data[data['default'] == 1]['LIMIT_BAL'], max_permutations = 10000, return_distr = True)\n",
    "print(\"Permutation test: t = %f, p = %f\" % (res['t'], res['p']))"
   ]
  },
  {
   "cell_type": "code",
   "execution_count": 27,
   "metadata": {},
   "outputs": [
    {
     "name": "stdout",
     "output_type": "stream",
     "text": [
      "Estimated difference between credit limit: 60000.0\n",
      "95% confidence interval for the difference between median credit limit: [-70000. -60000.]\n"
     ]
    }
   ],
   "source": [
    "defaulted_median_scores = list(map(np.median, get_bootstrap_samples(data[data['default'] == 0]['LIMIT_BAL'].values, 5000)))\n",
    "notdefaulted_median_scores = list(map(np.median, get_bootstrap_samples(data[data['default'] == 1]['LIMIT_BAL'].values, 5000)))\n",
    "\n",
    "print(\"Estimated difference between credit limit:\", np.median(data[data['default'] == 0]['LIMIT_BAL']) - np.median(data[data['default'] == 1]['LIMIT_BAL']))\n",
    "\n",
    "delta_median_scores = list(map(lambda x: x[1] - x[0], zip(defaulted_median_scores, notdefaulted_median_scores)))\n",
    "print(\"95% confidence interval for the difference between median credit limit:\",  \n",
    "      percentile_interval(delta_median_scores, 0.05))"
   ]
  },
  {
   "cell_type": "markdown",
   "metadata": {},
   "source": [
    "As p_value of Permutation test < 0.05 we **reject H0**. We know that these samples come from different distribution and they have different medians. \n",
    "Defaulted customers credit limit median 40% lower than non-defaulted customers. The difference between medians is around [-70000. -60000.]$. **It's practically significant.**"
   ]
  },
  {
   "cell_type": "markdown",
   "metadata": {},
   "source": [
    "**Task 2. Gender: test whether gender composition of two groups differ.**"
   ]
  },
  {
   "cell_type": "code",
   "execution_count": 135,
   "metadata": {},
   "outputs": [
    {
     "data": {
      "text/plain": [
       "<AxesSubplot:xlabel='GENDER', ylabel='count'>"
      ]
     },
     "execution_count": 135,
     "metadata": {},
     "output_type": "execute_result"
    },
    {
     "data": {
      "image/png": "[encoded data removed]",
      "text/plain": [
       "<Figure size 432x288 with 1 Axes>"
      ]
     },
     "metadata": {
      "needs_background": "light"
     },
     "output_type": "display_data"
    }
   ],
   "source": [
    "sns.countplot(data=data,x='GENDER',hue='default')"
   ]
  },
  {
   "cell_type": "code",
   "execution_count": 133,
   "metadata": {},
   "outputs": [
    {
     "data": {
      "text/plain": [
       "GENDER  default\n",
       "1       0           9015\n",
       "        1           2873\n",
       "2       0          14349\n",
       "        1           3763\n",
       "Name: ID, dtype: int64"
      ]
     },
     "execution_count": 133,
     "metadata": {},
     "output_type": "execute_result"
    }
   ],
   "source": [
    "data.groupby(['GENDER', 'default'])['ID'].count()"
   ]
  },
  {
   "cell_type": "markdown",
   "metadata": {},
   "source": [
    "We have **two samples** with distrubution of customers by gender, so we have proportions of each gender among group of defaulted customers and non-defaulted customers. We may use **Two proportions test for independent samples** to test their equality. \n",
    "Let's test proportion of women in two samles.\n",
    "\n",
    "P1 - proportion of women in non-defaulted customers\n",
    "\n",
    "P2 - proportions of women in defalted customers\n",
    "\n",
    "H0: P1=P2\n",
    "\n",
    "H1: P1 != P2 \n"
   ]
  },
  {
   "cell_type": "code",
   "execution_count": 44,
   "metadata": {},
   "outputs": [
    {
     "name": "stdout",
     "output_type": "stream",
     "text": [
      "P1 =  0.6141499743194658\n",
      "P2 =  0.5670584689572031\n"
     ]
    }
   ],
   "source": [
    "print(\"P1 = \", 14349/(9015+14349))\n",
    "print(\"P2 = \", 3763/(2873+3763))"
   ]
  },
  {
   "cell_type": "code",
   "execution_count": 47,
   "metadata": {},
   "outputs": [
    {
     "name": "stdout",
     "output_type": "stream",
     "text": [
      "Wilson's interval based test: (6.921259731350102, 4.4764487319331085e-12)\n",
      "Wald's interval: (0.03363493274962867, 0.060548077974896725)\n"
     ]
    }
   ],
   "source": [
    "print(\"Wilson's interval based test:\", \n",
    "      test_proportions_2indep(14349, (9015+14349), 3763,(2873+3763), alternative = 'two-sided', \n",
    "                              method = 'score', correction=False, return_results=False))\n",
    "\n",
    "print(\"Wald's interval:\", confint_proportions_2indep(14349, (9015+14349), 3763,(2873+3763), method = 'wald', compare='diff'))"
   ]
  },
  {
   "cell_type": "markdown",
   "metadata": {},
   "source": [
    "In Wilson's interval based test p_value < 0.05, we **reject H0**. Proportions of women in non-defaulted customers is higher than in defaulted customers. The difference is around (0.03363493274962867, 0.060548077974896725) p.p. So gender composition of two groups differ. It's seems like not practically significant."
   ]
  },
  {
   "cell_type": "markdown",
   "metadata": {},
   "source": [
    "**Task 3. Education: test whether education levels differs between two groups. If it does, then how exactly?**"
   ]
  },
  {
   "cell_type": "code",
   "execution_count": 136,
   "metadata": {},
   "outputs": [
    {
     "data": {
      "text/plain": [
       "<AxesSubplot:xlabel='EDUCATION', ylabel='count'>"
      ]
     },
     "execution_count": 136,
     "metadata": {},
     "output_type": "execute_result"
    },
    {
     "data": {
      "image/png": "[encoded data removed]",
      "text/plain": [
       "<Figure size 432x288 with 1 Axes>"
      ]
     },
     "metadata": {
      "needs_background": "light"
     },
     "output_type": "display_data"
    }
   ],
   "source": [
    "sns.countplot(data=data,x='EDUCATION',hue='default')"
   ]
  },
  {
   "cell_type": "code",
   "execution_count": 49,
   "metadata": {},
   "outputs": [
    {
     "data": {
      "text/html": [
       "<div>\n",
       "<style scoped>\n",
       "    .dataframe tbody tr th:only-of-type {\n",
       "        vertical-align: middle;\n",
       "    }\n",
       "\n",
       "    .dataframe tbody tr th {\n",
       "        vertical-align: top;\n",
       "    }\n",
       "\n",
       "    .dataframe thead th {\n",
       "        text-align: right;\n",
       "    }\n",
       "</style>\n",
       "<table border=\"1\" class=\"dataframe\">\n",
       "  <thead>\n",
       "    <tr style=\"text-align: right;\">\n",
       "      <th>EDUCATION</th>\n",
       "      <th>0</th>\n",
       "      <th>1</th>\n",
       "      <th>2</th>\n",
       "      <th>3</th>\n",
       "      <th>4</th>\n",
       "      <th>5</th>\n",
       "      <th>6</th>\n",
       "    </tr>\n",
       "    <tr>\n",
       "      <th>default</th>\n",
       "      <th></th>\n",
       "      <th></th>\n",
       "      <th></th>\n",
       "      <th></th>\n",
       "      <th></th>\n",
       "      <th></th>\n",
       "      <th></th>\n",
       "    </tr>\n",
       "  </thead>\n",
       "  <tbody>\n",
       "    <tr>\n",
       "      <th>0</th>\n",
       "      <td>14</td>\n",
       "      <td>8549</td>\n",
       "      <td>10700</td>\n",
       "      <td>3680</td>\n",
       "      <td>116</td>\n",
       "      <td>262</td>\n",
       "      <td>43</td>\n",
       "    </tr>\n",
       "    <tr>\n",
       "      <th>1</th>\n",
       "      <td>0</td>\n",
       "      <td>2036</td>\n",
       "      <td>3330</td>\n",
       "      <td>1237</td>\n",
       "      <td>7</td>\n",
       "      <td>18</td>\n",
       "      <td>8</td>\n",
       "    </tr>\n",
       "  </tbody>\n",
       "</table>\n",
       "</div>"
      ],
      "text/plain": [
       "EDUCATION   0     1      2     3    4    5   6\n",
       "default                                       \n",
       "0          14  8549  10700  3680  116  262  43\n",
       "1           0  2036   3330  1237    7   18   8"
      ]
     },
     "execution_count": 49,
     "metadata": {},
     "output_type": "execute_result"
    }
   ],
   "source": [
    "ct = pd.crosstab(data['default'], data['EDUCATION'])\n",
    "ct"
   ]
  },
  {
   "cell_type": "markdown",
   "metadata": {},
   "source": [
    "We have **two variables** with Education Level and binary indicator of a default. Both of them we may consider as categorical to make permutation test for independence of categorical variables. We need this test to understand if there is a relationship between these two variables. \n",
    "\n",
    "X1 - is_defaulted customers labels\n",
    "\n",
    "X2 - education level labels\n",
    "\n",
    "H0: X1 and X2 are independent\n",
    "\n",
    "H1: H0 is False"
   ]
  },
  {
   "cell_type": "code",
   "execution_count": 51,
   "metadata": {},
   "outputs": [
    {
     "name": "stdout",
     "output_type": "stream",
     "text": [
      "Permutation test: t = 163.216558, p = 0.000100\n"
     ]
    }
   ],
   "source": [
    "from scipy import stats\n",
    "res= permutation_test_cat_ind(data['default'].values, data['EDUCATION'].values, \n",
    "                              max_permutations = 10000, return_distr = True)\n",
    "print(\"Permutation test: t = %f, p = %f\" % (res['t'], res['p']))"
   ]
  },
  {
   "cell_type": "markdown",
   "metadata": {},
   "source": [
    "We may see that p_value of Premitation test < 0.05, so there is difference between education levels of groups. To understand teh exact difference we may use **Two Proportons test for independent samples**.\n",
    "\n",
    "P1i - proportion of level i customers among nondefaulted\n",
    "\n",
    "P2i - proportion of level i customers among defaulted\n",
    "\n",
    "Ho: P1i = P2i\n",
    "\n",
    "H1: P1i != P2i"
   ]
  },
  {
   "cell_type": "code",
   "execution_count": 65,
   "metadata": {},
   "outputs": [],
   "source": [
    "default = data.groupby('default')['ID'].count()\n",
    "test = data.groupby(['default','EDUCATION' ])['ID'].count().reset_index()\n",
    "nondefault_size = default[0]\n",
    "default_size = default[1]\n",
    "education_levels = set(data['EDUCATION'])"
   ]
  },
  {
   "cell_type": "code",
   "execution_count": 107,
   "metadata": {},
   "outputs": [
    {
     "name": "stdout",
     "output_type": "stream",
     "text": [
      "Z test: (-3.7427789146946226, 0.00018199634546898827)\n",
      "P1 =  0.0005992124636192433\n",
      "P2 =  0.0\n",
      "Wald's interval: (-0.0009129993248122074, -0.0002854256024262791)\n"
     ]
    }
   ],
   "source": [
    "print(\"Z test:\", test_proportions_2indep(0, default_size, 14, nondefault_size, alternative = 'two-sided',\n",
    "                                          method = 'wald',  return_results=False))\n",
    "print(\"P1 = \", 14/nondefault_size)\n",
    "print(\"P2 = \", 0/default_size)\n",
    "print(\"Wald's interval:\", confint_proportions_2indep(0, default_size, 14, nondefault_size, method = 'wald', compare='diff'))"
   ]
  },
  {
   "cell_type": "code",
   "execution_count": 104,
   "metadata": {},
   "outputs": [
    {
     "name": "stdout",
     "output_type": "stream",
     "text": [
      "Level =  1\n",
      "8549 2036\n",
      "Wilson's interval based test: (8.890078676360108, 6.10656547696024e-19)\n",
      "P1 =  0.36590481082006504\n",
      "P2 =  0.30681133212778783\n",
      "Wald's interval: (0.046394523643617125, 0.0717924337409373)\n",
      "Level =  2\n",
      "10700 3330\n",
      "Wilson's interval based test: (-6.3162231669007065, 2.680329168621276e-10)\n",
      "P1 =  0.4579695257661359\n",
      "P2 =  0.5018083182640145\n",
      "Wald's interval: (-0.05745982538725076, -0.030217759608506416)\n",
      "Level =  3\n",
      "3680 1237\n",
      "Wilson's interval based test: (-5.612303581315207, 1.996507738117169e-08)\n",
      "P1 =  0.15750727615134394\n",
      "P2 =  0.18640747438215793\n",
      "Wald's interval: (-0.03936972923406703, -0.01843066722756096)\n",
      "Level =  4\n",
      "116 7\n",
      "Wilson's interval based test: (4.398874215496198, 1.0881386820949822e-05)\n",
      "P1 =  0.004964903269988016\n",
      "P2 =  0.0010548523206751054\n",
      "Wald's interval: (0.002717467045698944, 0.005102634852926877)\n",
      "Level =  5\n",
      "262 18\n",
      "Wilson's interval based test: (6.355722888873257, 2.0744870760859705e-10)\n",
      "P1 =  0.011213833247731553\n",
      "P2 =  0.0027124773960217\n",
      "Wald's interval: (0.006660425867000461, 0.010342285836419246)\n",
      "Level =  6\n",
      "43 8\n",
      "Wilson's interval based test: (1.1079095557055845, 0.2679008783197179)\n",
      "P1 =  0.0018404382811162473\n",
      "P2 =  0.0012055455093429777\n",
      "Wald's interval: (-0.0003646425687927285, 0.0016344281123392677)\n"
     ]
    }
   ],
   "source": [
    "for level in range(1,7):\n",
    "    print(\"Level = \", level)\n",
    "    \n",
    "    nondefault_level = test[(test['default'] == 0) & (test['EDUCATION'] == level)]['ID'].values[0]\n",
    "    default_level = test[(test['default'] == 1) & (test['EDUCATION'] == level)]['ID'].values[0]\n",
    "    \n",
    "    print(nondefault_level, default_level)\n",
    "    \n",
    "    print(\"Wilson's interval based test:\", \n",
    "      test_proportions_2indep(nondefault_level, nondefault_size, default_level, default_size, alternative = 'two-sided', \n",
    "                              method = 'score', correction=False, return_results=False))\n",
    "    print(\"P1 = \", nondefault_level/nondefault_size)\n",
    "    print(\"P2 = \", default_level/default_size)\n",
    "    print(\"Wald's interval:\", confint_proportions_2indep(nondefault_level, nondefault_size, default_level, default_size, method = 'wald', compare='diff'))"
   ]
  },
  {
   "cell_type": "markdown",
   "metadata": {},
   "source": [
    "Doctorate: proportion of customers with such education level among nondefaul customers (0.0002854256024262791, 0.0009129993248122074) p.p. **higher** that among default customers.(p_value < 0.05)\n",
    "\n",
    "Masters: proportion of customers with such education level among nondefaul customers (0.046394523643617125, 0.0717924337409373) p.p. **higher** that among default customers.(p_value < 0.05)\n",
    "\n",
    "Bachelor: proportion of customers with such education level among nondefaul customers (-0.05745982538725076, -0.030217759608506416) p.p. **lower** that among default customers.(p_value < 0.05)\n",
    "\n",
    "School graduate: proportion of customers with such education level among nondefaul customers (-0.03936972923406703, -0.01843066722756096) p.p. **lower** that among default customers.(p_value < 0.05)\n",
    "\n",
    "Elementary education: proportion of customers with such education level among nondefaul customers (0.002717467045698944, 0.005102634852926877) p.p. **higher** that among default customers.(p_value < 0.05)\n",
    "\n",
    "Other: proportion of customers with such education level among nondefaul customers (0.0002854256024262791, 0.0009129993248122074) p.p. **higher** that among default customers.(p_value < 0.05)\n",
    "\n",
    "There is no difference between groups by customers with no data. \n",
    "\n",
    "It's practically significant."
   ]
  },
  {
   "cell_type": "markdown",
   "metadata": {},
   "source": [
    "**Task 4.Marital status: Check how marital status is related to the default indicator: you need to propose a measure by which you can measure the possible relationship of these variables and calculate its value.**"
   ]
  },
  {
   "cell_type": "markdown",
   "metadata": {},
   "source": [
    "MARITAL: marital status: 0 = no answer; 1 = married; 2 = single; 3 = no data. "
   ]
  },
  {
   "cell_type": "markdown",
   "metadata": {},
   "source": [
    "We have **two variables** with Marital Status and binary indicator of a default. Both of them we may consider as categorical to make permutation test for independence of categorical variables. We need this test to understand if there is a relationship between these two variables. \n",
    "\n",
    "X1 - is_defaulted customers labels\n",
    "\n",
    "X2 - marital status level labels\n",
    "\n",
    "H0: X1 and X2 are independent\n",
    "\n",
    "H1: H0 is False"
   ]
  },
  {
   "cell_type": "code",
   "execution_count": 137,
   "metadata": {},
   "outputs": [
    {
     "data": {
      "text/plain": [
       "<AxesSubplot:xlabel='MARITAL', ylabel='count'>"
      ]
     },
     "execution_count": 137,
     "metadata": {},
     "output_type": "execute_result"
    },
    {
     "data": {
      "image/png": "[encoded data removed]",
      "text/plain": [
       "<Figure size 432x288 with 1 Axes>"
      ]
     },
     "metadata": {
      "needs_background": "light"
     },
     "output_type": "display_data"
    }
   ],
   "source": [
    "sns.countplot(data=data,x='MARITAL',hue='default')"
   ]
  },
  {
   "cell_type": "code",
   "execution_count": 109,
   "metadata": {},
   "outputs": [
    {
     "data": {
      "text/html": [
       "<div>\n",
       "<style scoped>\n",
       "    .dataframe tbody tr th:only-of-type {\n",
       "        vertical-align: middle;\n",
       "    }\n",
       "\n",
       "    .dataframe tbody tr th {\n",
       "        vertical-align: top;\n",
       "    }\n",
       "\n",
       "    .dataframe thead th {\n",
       "        text-align: right;\n",
       "    }\n",
       "</style>\n",
       "<table border=\"1\" class=\"dataframe\">\n",
       "  <thead>\n",
       "    <tr style=\"text-align: right;\">\n",
       "      <th>MARITAL</th>\n",
       "      <th>0</th>\n",
       "      <th>1</th>\n",
       "      <th>2</th>\n",
       "      <th>3</th>\n",
       "    </tr>\n",
       "    <tr>\n",
       "      <th>default</th>\n",
       "      <th></th>\n",
       "      <th></th>\n",
       "      <th></th>\n",
       "      <th></th>\n",
       "    </tr>\n",
       "  </thead>\n",
       "  <tbody>\n",
       "    <tr>\n",
       "      <th>0</th>\n",
       "      <td>49</td>\n",
       "      <td>10453</td>\n",
       "      <td>12623</td>\n",
       "      <td>239</td>\n",
       "    </tr>\n",
       "    <tr>\n",
       "      <th>1</th>\n",
       "      <td>5</td>\n",
       "      <td>3206</td>\n",
       "      <td>3341</td>\n",
       "      <td>84</td>\n",
       "    </tr>\n",
       "  </tbody>\n",
       "</table>\n",
       "</div>"
      ],
      "text/plain": [
       "MARITAL   0      1      2    3\n",
       "default                       \n",
       "0        49  10453  12623  239\n",
       "1         5   3206   3341   84"
      ]
     },
     "execution_count": 109,
     "metadata": {},
     "output_type": "execute_result"
    }
   ],
   "source": [
    "ct = pd.crosstab(data['default'], data['MARITAL'])\n",
    "ct"
   ]
  },
  {
   "cell_type": "code",
   "execution_count": 108,
   "metadata": {},
   "outputs": [
    {
     "name": "stdout",
     "output_type": "stream",
     "text": [
      "Permutation test: t = 35.662396, p = 0.000100\n"
     ]
    }
   ],
   "source": [
    "res= permutation_test_cat_ind(data['default'].values, data['MARITAL'].values, \n",
    "                              max_permutations = 10000, return_distr = True)\n",
    "print(\"Permutation test: t = %f, p = %f\" % (res['t'], res['p']))"
   ]
  },
  {
   "cell_type": "markdown",
   "metadata": {},
   "source": [
    "We may see that p_value of Premitation test < 0.05, so there is difference between marital status of groups. To understand teh exact difference we may use **Two Proportons test for independent samples**.\n",
    "\n",
    "P1i - proportion of level i customers among nondefaulted\n",
    "\n",
    "P2i - proportion of level i customers among defaulted\n",
    "\n",
    "Ho: P1i = P2i\n",
    "\n",
    "H1: P1i != P2i"
   ]
  },
  {
   "cell_type": "code",
   "execution_count": 111,
   "metadata": {},
   "outputs": [
    {
     "name": "stdout",
     "output_type": "stream",
     "text": [
      "Level =  0\n",
      "49 5\n",
      "Wilson's interval based test: (2.2789841746508346, 0.022668006048002617)\n",
      "P1 =  0.0020972436226673516\n",
      "P2 =  0.0007534659433393611\n",
      "Wald's interval: (0.00046063549648618803, 0.002226919862169793)\n",
      "Level =  1\n",
      "10453 3206\n",
      "Wilson's interval based test: (-5.157027848383254, 2.5090049917692524e-07)\n",
      "P1 =  0.44739770587228217\n",
      "P2 =  0.4831223628691983\n",
      "Wald's interval: (-0.04933366293043459, -0.022115651063397662)\n",
      "Level =  2\n",
      "12623 3341\n",
      "Wilson's interval based test: (5.303344616783128, 1.1369998690296422e-07)\n",
      "P1 =  0.5402756377332648\n",
      "P2 =  0.503465943339361\n",
      "Wald's interval: (0.023187975579911483, 0.050431413207896125)\n",
      "Level =  3\n",
      "239 84\n",
      "Wilson's interval based test: (-1.6918558872341205, 0.09067345461935598)\n",
      "P1 =  0.010229412771785653\n",
      "P2 =  0.012658227848101266\n",
      "Wald's interval: (-0.005412027246568973, 0.0005543970939377485)\n"
     ]
    }
   ],
   "source": [
    "default = data.groupby('default')['ID'].count()\n",
    "test = data.groupby(['default','MARITAL'])['ID'].count().reset_index()\n",
    "nondefault_size = default[0]\n",
    "default_size = default[1]\n",
    "education_levels = set(data['MARITAL'])\n",
    "\n",
    "for level in range(4):\n",
    "    print(\"Level = \", level)\n",
    "    \n",
    "    nondefault_level = test[(test['default'] == 0) & (test['MARITAL'] == level)]['ID'].values[0]\n",
    "    default_level = test[(test['default'] == 1) & (test['MARITAL'] == level)]['ID'].values[0]\n",
    "    \n",
    "    print(nondefault_level, default_level)\n",
    "    \n",
    "    print(\"Wilson's interval based test:\", \n",
    "      test_proportions_2indep(nondefault_level, nondefault_size, default_level, default_size, alternative = 'two-sided', \n",
    "                              method = 'score', correction=False, return_results=False))\n",
    "    print(\"P1 = \", nondefault_level/nondefault_size)\n",
    "    print(\"P2 = \", default_level/default_size)\n",
    "    print(\"Wald's interval:\", confint_proportions_2indep(nondefault_level, nondefault_size, default_level, default_size, method = 'wald', compare='diff'))"
   ]
  },
  {
   "cell_type": "markdown",
   "metadata": {},
   "source": [
    "We can see that nondefaulted customers (0.00046063549648618803, 0.002226919862169793) p.p. often prefer not to specify their marilal status. Among them (0.023187975579911483, 0.050431413207896125) p.p. more single customers. So among defalted customers more married customers. There is no difference among group by no data labels."
   ]
  },
  {
   "cell_type": "markdown",
   "metadata": {},
   "source": [
    "**To measure possible relationship between marital status and default label** we may calculate mean value of marital status between defaulted and non-defalted users. We can think of this as an ordinal variable. We will leave only two values (1,2), the rest of the values are not numerous in the samples. Is sample mean of one group is higher than in this group number if single customers is higher. We know that distribution is not normal so we will use nonparametric tests.\n",
    "\n",
    "X1 - marital status for not defaulted customers\n",
    "\n",
    "X2 - marital status for defaulted customers\n",
    "\n",
    "H0: Fx1(x) = Fx2(x) distributions of samples are equal\n",
    "\n",
    "H1: Fx1(x) != Fx2(x)"
   ]
  },
  {
   "cell_type": "code",
   "execution_count": 116,
   "metadata": {},
   "outputs": [
    {
     "data": {
      "text/plain": [
       "default\n",
       "0    1.547019\n",
       "1    1.510310\n",
       "Name: MARITAL, dtype: float64"
      ]
     },
     "execution_count": 116,
     "metadata": {},
     "output_type": "execute_result"
    }
   ],
   "source": [
    "test = data[data['MARITAL'].isin([1,2])]\n",
    "test.groupby('default')['MARITAL'].mean()"
   ]
  },
  {
   "cell_type": "markdown",
   "metadata": {},
   "source": [
    "We have two samples, so we should use test for two independent samples. From the plot above we observe that samples come from not normal distribution so we should use non parametric tests. We have options: Mann-Whitney test or Permutation test. We know that permutation test preserve more information about samples. But it's computationally complex and we may use it with max_permutations limitation. "
   ]
  },
  {
   "cell_type": "code",
   "execution_count": 119,
   "metadata": {},
   "outputs": [
    {
     "name": "stdout",
     "output_type": "stream",
     "text": [
      "Permutation test: t = 0.030608, p = 0.000200\n"
     ]
    }
   ],
   "source": [
    "res = permutation_test_2s(data[data['default'] == 0]['MARITAL'], data[data['default'] == 1]['MARITAL'], max_permutations = 10000, return_distr = True)\n",
    "print(\"Permutation test: t = %f, p = %f\" % (res['t'], res['p']))"
   ]
  },
  {
   "cell_type": "markdown",
   "metadata": {},
   "source": [
    "As p_value < 0.05 we can say that definetely in nindefaulted group tehre are more single customers. "
   ]
  },
  {
   "cell_type": "markdown",
   "metadata": {},
   "source": [
    "**Task 5.Age: test whether there are differences between mean ages of clients in two groups.**"
   ]
  },
  {
   "cell_type": "code",
   "execution_count": 121,
   "metadata": {},
   "outputs": [
    {
     "data": {
      "text/plain": [
       "<seaborn.axisgrid.FacetGrid at 0x7fe9111fe2e0>"
      ]
     },
     "execution_count": 121,
     "metadata": {},
     "output_type": "execute_result"
    },
    {
     "data": {
      "image/png": "[encoded data removed]",
      "text/plain": [
       "<Figure size 403.375x360 with 1 Axes>"
      ]
     },
     "metadata": {
      "needs_background": "light"
     },
     "output_type": "display_data"
    }
   ],
   "source": [
    "sns.displot(data, x = 'AGE', hue = 'default', kind = 'kde')"
   ]
  },
  {
   "cell_type": "code",
   "execution_count": 122,
   "metadata": {},
   "outputs": [
    {
     "data": {
      "image/png": "[encoded data removed]",
      "text/plain": [
       "<Figure size 432x288 with 1 Axes>"
      ]
     },
     "metadata": {
      "needs_background": "light"
     },
     "output_type": "display_data"
    }
   ],
   "source": [
    "ax = sns.boxplot(x = 'default', y = 'AGE', data=data)"
   ]
  },
  {
   "cell_type": "markdown",
   "metadata": {},
   "source": [
    "We have **two samples**, so we should use test for two independent samples. From the plot above we observe that samples come from **not normal distribution** so we should use non parametric tests. We have options: Mann-Whitney test or Permutation test. We know that permutation test preserve more information about samples. But it's computationally complex and we may use it with max_permutations limitation. To define confidence intervals for mean differene between samples we may use bootstrap. \n",
    "\n",
    "X1 - age for not defaulted customers\n",
    "\n",
    "X2 - age for defaulted customers\n",
    "\n",
    "H0: Fx1(x) = Fx2(x) distributions of samples are equal\n",
    "\n",
    "H1: Fx1(x) != Fx2(x)"
   ]
  },
  {
   "cell_type": "code",
   "execution_count": 126,
   "metadata": {},
   "outputs": [
    {
     "data": {
      "text/plain": [
       "default\n",
       "0    35.417266\n",
       "1    35.725738\n",
       "Name: AGE, dtype: float64"
      ]
     },
     "execution_count": 126,
     "metadata": {},
     "output_type": "execute_result"
    }
   ],
   "source": [
    "data.groupby('default')['AGE'].mean()"
   ]
  },
  {
   "cell_type": "code",
   "execution_count": 123,
   "metadata": {},
   "outputs": [
    {
     "name": "stdout",
     "output_type": "stream",
     "text": [
      "Permutation test: t = -0.308473, p = 0.017300\n"
     ]
    }
   ],
   "source": [
    "res = permutation_test_2s(data[data['default'] == 0]['AGE'], data[data['default'] == 1]['AGE'], max_permutations = 10000, return_distr = True)\n",
    "print(\"Permutation test: t = %f, p = %f\" % (res['t'], res['p']))"
   ]
  },
  {
   "cell_type": "code",
   "execution_count": 127,
   "metadata": {},
   "outputs": [
    {
     "name": "stdout",
     "output_type": "stream",
     "text": [
      "Estimated difference between neab age: -0.308472517494188\n",
      "95% confidence interval for the difference between median credit limit: [0.04913799 0.58015333]\n"
     ]
    }
   ],
   "source": [
    "defaulted_mean_scores = list(map(np.mean, get_bootstrap_samples(data[data['default'] == 0]['AGE'].values, 5000)))\n",
    "notdefaulted_mean_scores = list(map(np.mean, get_bootstrap_samples(data[data['default'] == 1]['AGE'].values, 5000)))\n",
    "\n",
    "print(\"Estimated difference between neab age:\", np.mean(data[data['default'] == 0]['AGE']) - np.mean(data[data['default'] == 1]['AGE']))\n",
    "\n",
    "delta_mean_scores = list(map(lambda x: x[1] - x[0], zip(defaulted_mean_scores, notdefaulted_mean_scores)))\n",
    "print(\"95% confidence interval for the difference between median credit limit:\",  \n",
    "      percentile_interval(delta_mean_scores, 0.05))"
   ]
  },
  {
   "cell_type": "markdown",
   "metadata": {},
   "source": [
    "As p_value of Permutation test < 0.05 we **reject H0**. But it this case the **mean difference between group is not Practically significant**."
   ]
  }
 ],
 "metadata": {
  "kernelspec": {
   "display_name": "Python 3",
   "language": "python",
   "name": "python3"
  },
  "language_info": {
   "codemirror_mode": {
    "name": "ipython",
    "version": 3
   },
   "file_extension": ".py",
   "mimetype": "text/x-python",
   "name": "python",
   "nbconvert_exporter": "python",
   "pygments_lexer": "ipython3",
   "version": "3.8.2"
  }
 },
 "nbformat": 4,
 "nbformat_minor": 4
}
