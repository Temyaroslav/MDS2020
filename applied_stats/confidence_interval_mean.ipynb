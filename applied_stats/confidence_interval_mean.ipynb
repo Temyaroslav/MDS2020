{
 "cells": [
  {
   "cell_type": "code",
   "execution_count": 2,
   "source": [
    "import numpy as np\r\n",
    "from numpy import loadtxt\r\n",
    "import pandas as pd\r\n",
    "import scipy as sc\r\n",
    "\r\n",
    "import matplotlib.pyplot as plt"
   ],
   "outputs": [],
   "metadata": {}
  },
  {
   "cell_type": "markdown",
   "source": [
    "## Data: biochemistry graduate students\r\n",
    "\r\n",
    "For a sample of 915 biochemistry graduate students we now how many papers they produced during the last 3 years of their PhD prodram. \r\n",
    "\r\n",
    "How do we estimate the average number of papers with uncertainty?"
   ],
   "metadata": {}
  },
  {
   "cell_type": "code",
   "execution_count": 3,
   "source": [
    "bio_papers = loadtxt(\"bioChemists.txt\")\r\n",
    "plt.hist(bio_papers)\r\n",
    "plt.show()"
   ],
   "outputs": [
    {
     "output_type": "display_data",
     "data": {
      "text/plain": [
       "<Figure size 432x288 with 1 Axes>"
      ],
      "image/png": "[encoded data removed]"
     },
     "metadata": {
      "needs_background": "light"
     }
    }
   ],
   "metadata": {}
  },
  {
   "cell_type": "markdown",
   "source": [
    "## Estimating the mean\n",
    "Simple point estimate of the mean:"
   ],
   "metadata": {}
  },
  {
   "cell_type": "code",
   "execution_count": 4,
   "source": [
    "bio_papers.mean()"
   ],
   "outputs": [
    {
     "output_type": "execute_result",
     "data": {
      "text/plain": [
       "1.692896174863388"
      ]
     },
     "metadata": {},
     "execution_count": 4
    }
   ],
   "metadata": {}
  },
  {
   "cell_type": "markdown",
   "source": [
    "Asymptotic confidence interval:"
   ],
   "metadata": {}
  },
  {
   "cell_type": "code",
   "execution_count": 5,
   "source": [
    "from statsmodels.stats.weightstats import DescrStatsW \r\n",
    "print(\"95% confidence interval:\", DescrStatsW(bio_papers).tconfint_mean())"
   ],
   "outputs": [
    {
     "output_type": "stream",
     "name": "stdout",
     "text": [
      "95% confidence interval: (1.5679321925466905, 1.8178601571800854)\n"
     ]
    }
   ],
   "metadata": {}
  },
  {
   "cell_type": "markdown",
   "source": [
    "Another way to calculate it:"
   ],
   "metadata": {}
  },
  {
   "cell_type": "code",
   "execution_count": 6,
   "source": [
    "from statsmodels.stats.weightstats import _tconfint_generic\r\n",
    "n = len(bio_papers)\r\n",
    "print(\"95% confidence interval:\", _tconfint_generic(bio_papers.mean(), \r\n",
    "                                                    bio_papers.std(ddof=1) / np.sqrt(n),\r\n",
    "                                                    dof=n-1,\r\n",
    "                                                    alpha=0.05,\r\n",
    "                                                    alternative = 'two-sided'))"
   ],
   "outputs": [
    {
     "output_type": "stream",
     "name": "stdout",
     "text": [
      "95% confidence interval: (1.5679321925466905, 1.8178601571800854)\n"
     ]
    }
   ],
   "metadata": {}
  },
  {
   "cell_type": "markdown",
   "source": [
    "Yet another way, without any external libraries:"
   ],
   "metadata": {}
  },
  {
   "cell_type": "code",
   "execution_count": 8,
   "source": [
    "mean = bio_papers.mean()\r\n",
    "std = bio_papers.std(ddof=1)\r\n",
    "n = len(bio_papers)\r\n",
    "alpha = 0.05\r\n",
    "CI = (mean - sc.stats.t.ppf(1 - alpha / 2.0, n-1) * std / np.sqrt(n),\r\n",
    "      mean + sc.stats.t.ppf(1 - alpha / 2.0, n-1) * std / np.sqrt(n))\r\n",
    "        \r\n",
    "print(\"95% confidence interval:\", CI)"
   ],
   "outputs": [
    {
     "output_type": "stream",
     "name": "stdout",
     "text": [
      "95% confidence interval: (1.5679321925466905, 1.8178601571800854)\n"
     ]
    }
   ],
   "metadata": {}
  },
  {
   "cell_type": "markdown",
   "source": [
    "### Data: Failure times of CPU (Homework)"
   ],
   "metadata": {}
  },
  {
   "cell_type": "code",
   "execution_count": 27,
   "source": [
    "data = loadtxt(\"failure_times.txt\")\r\n",
    "plt.hist(data)\r\n",
    "plt.show()"
   ],
   "outputs": [
    {
     "output_type": "display_data",
     "data": {
      "text/plain": [
       "<Figure size 432x288 with 1 Axes>"
      ],
      "image/png": "[encoded data removed]"
     },
     "metadata": {
      "needs_background": "light"
     }
    }
   ],
   "metadata": {}
  },
  {
   "cell_type": "code",
   "execution_count": 34,
   "source": [
    "sample_mean = data.mean()\r\n",
    "sample_std = data.std(ddof=1)\r\n",
    "n = len(data)\r\n",
    "alpha = 0.05\r\n",
    "CI = (sample_mean - sc.stats.t.ppf(1 - alpha / 2.0, n-1) * sample_std / np.sqrt(n),\r\n",
    "      sample_mean + sc.stats.t.ppf(1 - alpha / 2.0, n-1) * sample_std / np.sqrt(n))\r\n",
    "        \r\n",
    "print(\"95% confidence interval:\", CI)"
   ],
   "outputs": [
    {
     "output_type": "stream",
     "name": "stdout",
     "text": [
      "95% confidence interval: (20733.754590174318, 28765.5836451198)\n"
     ]
    }
   ],
   "metadata": {}
  },
  {
   "cell_type": "code",
   "execution_count": null,
   "source": [],
   "outputs": [],
   "metadata": {}
  }
 ],
 "metadata": {
  "kernelspec": {
   "name": "python3",
   "display_name": "Python 3.9.4 64-bit"
  },
  "language_info": {
   "codemirror_mode": {
    "name": "ipython",
    "version": 3
   },
   "file_extension": ".py",
   "mimetype": "text/x-python",
   "name": "python",
   "nbconvert_exporter": "python",
   "pygments_lexer": "ipython3",
   "version": "3.9.4"
  },
  "interpreter": {
   "hash": "d3f2b24b0b653742766f2625efc40aff31f395bb5e317ac2ae19a632273de973"
  }
 },
 "nbformat": 4,
 "nbformat_minor": 4
}