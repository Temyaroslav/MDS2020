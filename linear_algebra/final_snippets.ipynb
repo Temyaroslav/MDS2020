{
 "cells": [
  {
   "cell_type": "code",
   "execution_count": 6,
   "id": "crude-inside",
   "metadata": {},
   "outputs": [],
   "source": [
    "import numpy as np\n",
    "import numpy.linalg as LA\n",
    "from numpy import sqrt"
   ]
  },
  {
   "cell_type": "markdown",
   "id": "painted-currency",
   "metadata": {},
   "source": [
    "### Task 1"
   ]
  },
  {
   "cell_type": "code",
   "execution_count": 2,
   "id": "coral-aberdeen",
   "metadata": {},
   "outputs": [],
   "source": [
    "A = np.array([[2, -3], [-1, 2]])\n",
    "B = np.array([[2, -1], [4, -2]])\n",
    "T = np.array([[2, -1], [-1, -2]])"
   ]
  },
  {
   "cell_type": "code",
   "execution_count": 5,
   "id": "fiscal-metallic",
   "metadata": {},
   "outputs": [
    {
     "data": {
      "text/plain": [
       "array([[ 0.,  0.],\n",
       "       [-2., 11.]])"
      ]
     },
     "execution_count": 5,
     "metadata": {},
     "output_type": "execute_result"
    }
   ],
   "source": [
    "LA.inv(T) @ B @ LA.inv(A) @ T"
   ]
  },
  {
   "cell_type": "code",
   "execution_count": 12,
   "id": "tamil-carrier",
   "metadata": {},
   "outputs": [],
   "source": [
    "del A, B, T"
   ]
  },
  {
   "cell_type": "markdown",
   "id": "analyzed-atlanta",
   "metadata": {},
   "source": [
    "### Task 2"
   ]
  },
  {
   "cell_type": "code",
   "execution_count": 7,
   "id": "tutorial-report",
   "metadata": {},
   "outputs": [],
   "source": [
    "A = np.array([[2, 1, 2], [-2, -1, -2], [4, 2, 4], [2, 1, 2]])\n",
    "\n",
    "U = np.array([[1/sqrt(7), 1/sqrt(2), -1/sqrt(3), -1/sqrt(42)],\n",
    "              [-1/sqrt(7), 1/sqrt(2), 1/sqrt(3), 1/sqrt(42)],\n",
    "              [2/sqrt(7), 0, 1/sqrt(3), -sqrt(2/21)],\n",
    "              [1/sqrt(7), 0, 0, sqrt(6/7)]])\n",
    "\n",
    "S = np.array([[sqrt(63), 0, 0], [0, 0, 0], [0, 0, 0], [0, 0, 0]])\n",
    "\n",
    "V = np.array([[-2/3, sqrt(2)/6, 1/sqrt(2)],\n",
    "              [-1/3, -sqrt(8)/3, 0],\n",
    "              [-2/3, sqrt(2)/6, -1/sqrt(2)]]) * (-1)"
   ]
  },
  {
   "cell_type": "code",
   "execution_count": 10,
   "id": "metropolitan-prescription",
   "metadata": {},
   "outputs": [
    {
     "data": {
      "text/plain": [
       "True"
      ]
     },
     "execution_count": 10,
     "metadata": {},
     "output_type": "execute_result"
    }
   ],
   "source": [
    "np.allclose(A, U @ S @ V.T)"
   ]
  },
  {
   "cell_type": "code",
   "execution_count": 11,
   "id": "driven-firmware",
   "metadata": {},
   "outputs": [
    {
     "data": {
      "text/plain": [
       "array([[ 2.,  1.,  2.],\n",
       "       [-2., -1., -2.],\n",
       "       [ 4.,  2.,  4.],\n",
       "       [ 2.,  1.,  2.]])"
      ]
     },
     "execution_count": 11,
     "metadata": {},
     "output_type": "execute_result"
    }
   ],
   "source": [
    "U @ S @ V.T"
   ]
  },
  {
   "cell_type": "code",
   "execution_count": 13,
   "id": "placed-fantasy",
   "metadata": {},
   "outputs": [],
   "source": [
    "del A, U, S, V"
   ]
  },
  {
   "cell_type": "markdown",
   "id": "lesser-function",
   "metadata": {},
   "source": [
    "### Task 3"
   ]
  },
  {
   "cell_type": "code",
   "execution_count": null,
   "id": "functioning-telephone",
   "metadata": {},
   "outputs": [],
   "source": [
    "A = np.array([[0, 0, 1, 1],\n",
    "              [0, 1, 0, 1],\n",
    "              [1, 0, 0, 0],\n",
    "              [1, 0, 1, 1]])\n",
    "\n",
    "# Markov transition matrix from row i to col j\n",
    "P = np.array([[0, 0, 1/2, 1/2],\n",
    "             [0, 1/2, 0, 1/2],\n",
    "             [1, 0, 0, 0],\n",
    "             [1/3, 0, 1/3, 1/3]])\n",
    "P = P.T"
   ]
  },
  {
   "cell_type": "code",
   "execution_count": 59,
   "id": "recreational-length",
   "metadata": {},
   "outputs": [],
   "source": [
    "P = 0.85 * P + 0.15 * 1 / A.shape[0] * np.ones(A.shape)"
   ]
  },
  {
   "cell_type": "code",
   "execution_count": 60,
   "id": "appropriate-canada",
   "metadata": {},
   "outputs": [
    {
     "data": {
      "text/plain": [
       "array([[0.0375    , 0.0375    , 0.8875    , 0.32083333],\n",
       "       [0.0375    , 0.4625    , 0.0375    , 0.0375    ],\n",
       "       [0.4625    , 0.0375    , 0.0375    , 0.32083333],\n",
       "       [0.4625    , 0.4625    , 0.0375    , 0.32083333]])"
      ]
     },
     "execution_count": 60,
     "metadata": {},
     "output_type": "execute_result"
    }
   ],
   "source": [
    "P"
   ]
  },
  {
   "cell_type": "code",
   "execution_count": 61,
   "id": "comfortable-aside",
   "metadata": {},
   "outputs": [
    {
     "name": "stdout",
     "output_type": "stream",
     "text": [
      "[ 1.   -0.57  0.43 -0.  ]\n",
      "[[0.65 0.82 0.57 0.53]\n",
      " [0.12 0.   0.67 0.  ]\n",
      " [0.5  0.41 0.38 0.27]\n",
      " [0.55 0.41 0.29 0.8 ]]\n"
     ]
    }
   ],
   "source": [
    "v, w = LA.eig(P)\n",
    "print(v.round(2))\n",
    "print(np.abs(w.round(2)))"
   ]
  },
  {
   "cell_type": "code",
   "execution_count": 62,
   "id": "economic-making",
   "metadata": {},
   "outputs": [
    {
     "data": {
      "text/plain": [
       "array([0.35703631, 0.06521739, 0.27501445, 0.30273185])"
      ]
     },
     "execution_count": 62,
     "metadata": {},
     "output_type": "execute_result"
    }
   ],
   "source": [
    "# using iterative method\n",
    "res = P @ np.array([0.25, 0.25, 0.25, 0.25])\n",
    "for _ in range(1000):\n",
    "    res = P @ res\n",
    "\n",
    "res"
   ]
  },
  {
   "cell_type": "code",
   "execution_count": 65,
   "id": "incredible-jerusalem",
   "metadata": {},
   "outputs": [],
   "source": [
    "del A, P, v, w, res"
   ]
  },
  {
   "cell_type": "markdown",
   "id": "unauthorized-stocks",
   "metadata": {},
   "source": [
    "### Task 4"
   ]
  },
  {
   "cell_type": "code",
   "execution_count": 72,
   "id": "altered-necklace",
   "metadata": {},
   "outputs": [],
   "source": [
    "# Markov transition matrix\n",
    "A = np.array([[0.73, 0.12, 0.1], \n",
    "              [0.15, 0.73, 0.2], \n",
    "              [0.12, 0.15, 0.7]])"
   ]
  },
  {
   "cell_type": "code",
   "execution_count": 73,
   "id": "overall-forge",
   "metadata": {},
   "outputs": [
    {
     "name": "stdout",
     "output_type": "stream",
     "text": [
      "[1.   0.62 0.54]\n",
      "[[ 0.5   0.81  0.18]\n",
      " [ 0.68 -0.46 -0.78]\n",
      " [ 0.54 -0.36  0.6 ]]\n"
     ]
    }
   ],
   "source": [
    "v, w = LA.eig(A)\n",
    "print(v.round(2))\n",
    "print(w.round(2))"
   ]
  },
  {
   "cell_type": "code",
   "execution_count": 85,
   "id": "activated-astrology",
   "metadata": {},
   "outputs": [],
   "source": [
    "C = w  # matrix of eigenvectors\n",
    "\n",
    "B = np.array([[9400], [500], [100]])"
   ]
  },
  {
   "cell_type": "code",
   "execution_count": 86,
   "id": "plain-explosion",
   "metadata": {},
   "outputs": [
    {
     "data": {
      "text/plain": [
       "array([[5824.05384286],\n",
       "       [8028.80416915],\n",
       "       [-307.16520015]])"
      ]
     },
     "execution_count": 86,
     "metadata": {},
     "output_type": "execute_result"
    }
   ],
   "source": [
    "c = LA.inv(C) @ B\n",
    "c"
   ]
  },
  {
   "cell_type": "code",
   "execution_count": 88,
   "id": "broadband-sally",
   "metadata": {},
   "outputs": [
    {
     "data": {
      "text/plain": [
       "array([2916., 3945., 3139.])"
      ]
     },
     "execution_count": 88,
     "metadata": {},
     "output_type": "execute_result"
    }
   ],
   "source": [
    "u_t = c[0] * w.T[0]\n",
    "u_t.round(0)"
   ]
  },
  {
   "cell_type": "code",
   "execution_count": 89,
   "id": "hybrid-participation",
   "metadata": {},
   "outputs": [
    {
     "data": {
      "text/plain": [
       "10000.0"
      ]
     },
     "execution_count": 89,
     "metadata": {},
     "output_type": "execute_result"
    }
   ],
   "source": [
    "sum(u_t.round())"
   ]
  },
  {
   "cell_type": "code",
   "execution_count": 83,
   "id": "occupational-improvement",
   "metadata": {},
   "outputs": [
    {
     "data": {
      "text/plain": [
       "10000"
      ]
     },
     "execution_count": 83,
     "metadata": {},
     "output_type": "execute_result"
    }
   ],
   "source": [
    "2916 + 3945+ 3139"
   ]
  },
  {
   "cell_type": "code",
   "execution_count": null,
   "id": "combined-blocking",
   "metadata": {},
   "outputs": [],
   "source": []
  }
 ],
 "metadata": {
  "kernelspec": {
   "display_name": "Python 3",
   "language": "python",
   "name": "python3"
  },
  "language_info": {
   "codemirror_mode": {
    "name": "ipython",
    "version": 3
   },
   "file_extension": ".py",
   "mimetype": "text/x-python",
   "name": "python",
   "nbconvert_exporter": "python",
   "pygments_lexer": "ipython3",
   "version": "3.6.8"
  }
 },
 "nbformat": 4,
 "nbformat_minor": 5
}
