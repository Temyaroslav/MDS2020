{
 "cells": [
  {
   "cell_type": "markdown",
   "metadata": {},
   "source": [
    "# Playing with Encodings\n",
    "\n",
    "## Week 1. Practice Programming Assignment 1\n",
    "\n",
    "In this assignment we will check, that everything is set up so coursera graders work fine in programming assignments, and will practice python encoding functions a bit."
   ]
  },
  {
   "cell_type": "markdown",
   "metadata": {},
   "source": [
    "##### Import coursera grader tools"
   ]
  },
  {
   "cell_type": "code",
   "execution_count": 81,
   "metadata": {},
   "outputs": [],
   "source": [
    "import sys\n",
    "sys.path.append(\"..\")\n",
    "import grading\n",
    "grader = grading.Grader(assignment_key=\"BWTScac0SDGglNs7aK8CLA\", \n",
    "                      all_parts=[\"EsbZk\", \"j9e6W\", \"k2flq\", \"2kPZj\", \"RUDvM\"])"
   ]
  },
  {
   "cell_type": "code",
   "execution_count": null,
   "metadata": {},
   "outputs": [],
   "source": [
    "# token expires every 30 min\n",
    "COURSERA_EMAIL = ### YOUR EMAIL HERE\n",
    "COURSERA_TOKEN = ### YOUR TOKEN "
   ]
  },
  {
   "cell_type": "markdown",
   "metadata": {},
   "source": [
    "<br><br><br><br>"
   ]
  },
  {
   "cell_type": "markdown",
   "metadata": {},
   "source": [
    "### Part 1. Number conversion"
   ]
  },
  {
   "cell_type": "markdown",
   "metadata": {},
   "source": [
    "In this part you don't have to do anything but go through and submit an answer. Just checking that the grader works.\n",
    "\n",
    "<br><br>\n",
    "Let's look at a character 'h'."
   ]
  },
  {
   "cell_type": "code",
   "execution_count": 45,
   "metadata": {},
   "outputs": [
    {
     "data": {
      "text/plain": [
       "104"
      ]
     },
     "execution_count": 45,
     "metadata": {},
     "output_type": "execute_result"
    }
   ],
   "source": [
    "# we can find its code point number in decimal system\n",
    "ord('h')"
   ]
  },
  {
   "cell_type": "code",
   "execution_count": 46,
   "metadata": {},
   "outputs": [
    {
     "data": {
      "text/plain": [
       "'0x68'"
      ]
     },
     "execution_count": 46,
     "metadata": {},
     "output_type": "execute_result"
    }
   ],
   "source": [
    "# we can convert it into a hexadicmal form\n",
    "# remember, that '0x' is just a prefix, meaning that this is a hexadecimal form of a number\n",
    "hex(104)"
   ]
  },
  {
   "cell_type": "code",
   "execution_count": 47,
   "metadata": {},
   "outputs": [
    {
     "data": {
      "text/plain": [
       "104"
      ]
     },
     "execution_count": 47,
     "metadata": {},
     "output_type": "execute_result"
    }
   ],
   "source": [
    "# or we can conver it back to decimal\n",
    "int('68', 16)"
   ]
  },
  {
   "cell_type": "code",
   "execution_count": 48,
   "metadata": {},
   "outputs": [
    {
     "data": {
      "text/plain": [
       "'0b1101000'"
      ]
     },
     "execution_count": 48,
     "metadata": {},
     "output_type": "execute_result"
    }
   ],
   "source": [
    "# we can convert it into a binary form\n",
    "# remember, that '0b' is just a prefix, meaning that this is a binary form of a number\n",
    "bin(104)"
   ]
  },
  {
   "cell_type": "code",
   "execution_count": 53,
   "metadata": {},
   "outputs": [
    {
     "data": {
      "text/plain": [
       "104"
      ]
     },
     "execution_count": 53,
     "metadata": {},
     "output_type": "execute_result"
    }
   ],
   "source": [
    "# or back again\n",
    "int('1101000', 2)"
   ]
  },
  {
   "cell_type": "code",
   "execution_count": 54,
   "metadata": {},
   "outputs": [
    {
     "name": "stdout",
     "output_type": "stream",
     "text": [
      "h\n",
      "h\n",
      "h\n"
     ]
    }
   ],
   "source": [
    "# and we can print any character by its code point\n",
    "print('\\x68')\n",
    "print('\\u0068')\n",
    "print('\\U00000068')"
   ]
  },
  {
   "cell_type": "markdown",
   "metadata": {},
   "source": [
    "What is letter 'h' code point number in hexadecimal form?"
   ]
  },
  {
   "cell_type": "code",
   "execution_count": 63,
   "metadata": {},
   "outputs": [],
   "source": [
    "answer_part_1 = 68"
   ]
  },
  {
   "cell_type": "markdown",
   "metadata": {},
   "source": [
    "What is letter 'h' code point number in binary form?\n"
   ]
  },
  {
   "cell_type": "code",
   "execution_count": 83,
   "metadata": {},
   "outputs": [],
   "source": [
    "answer_part_2 = 2"
   ]
  },
  {
   "cell_type": "code",
   "execution_count": 84,
   "metadata": {},
   "outputs": [],
   "source": [
    "answer_part_2 = 1101000"
   ]
  },
  {
   "cell_type": "code",
   "execution_count": 85,
   "metadata": {},
   "outputs": [],
   "source": [
    "# Setting our answers to grader. Do not change!\n",
    "grader.set_answer(\"EsbZk\", answer_part_1)\n",
    "grader.set_answer(\"j9e6W\", answer_part_2)"
   ]
  },
  {
   "cell_type": "code",
   "execution_count": 72,
   "metadata": {},
   "outputs": [
    {
     "name": "stdout",
     "output_type": "stream",
     "text": [
      "Submitted to Coursera platform. See results on assignment page!\n"
     ]
    }
   ],
   "source": [
    "# you can make submission with answers so far to check yourself at this stage\n",
    "grader.submit(COURSERA_EMAIL, COURSERA_TOKEN)"
   ]
  },
  {
   "cell_type": "markdown",
   "metadata": {},
   "source": [
    "<br><br><br>\n",
    "### Part 2. Decoding secret messages"
   ]
  },
  {
   "cell_type": "markdown",
   "metadata": {},
   "source": [
    "In this part you are given several byte-strings. These are some messages encoded by some of the encodings covered in lectures. I suggest you to try different encodings to decode the messages until you will get some meaningful result. The results should be submited via grader."
   ]
  },
  {
   "cell_type": "markdown",
   "metadata": {},
   "source": [
    "<br>"
   ]
  },
  {
   "cell_type": "code",
   "execution_count": 86,
   "metadata": {},
   "outputs": [],
   "source": [
    "secret_message_1 = b'\\xff\\xfeY\\x00e\\x00a\\x00h\\x00s\\x00!\\x00 \\x00I\\x00 '\\\n",
    "                   b'\\x00d\\x00e\\x00c\\x00o\\x00d\\x00e\\x00d\\x00 \\x00t\\x00h\\x00e\\x00 '\\\n",
    "                   b'\\x00s\\x00e\\x00c\\x00r\\x00e\\x00t\\x00 \\x00m\\x00e\\x00s\\x00s\\x00a'\\\n",
    "                   b'\\x00g\\x00e\\x00'"
   ]
  },
  {
   "cell_type": "code",
   "execution_count": 88,
   "metadata": {},
   "outputs": [],
   "source": [
    "secret_message_1.decode(...)"
   ]
  },
  {
   "cell_type": "code",
   "execution_count": null,
   "metadata": {},
   "outputs": [],
   "source": [
    "# put decoded message here\n",
    "answer_part_3 = ..."
   ]
  },
  {
   "cell_type": "code",
   "execution_count": 89,
   "metadata": {},
   "outputs": [],
   "source": [
    "# Setting our answers to grader. Do not change!\n",
    "grader.set_answer(\"k2flq\", answer_part_3)"
   ]
  },
  {
   "cell_type": "code",
   "execution_count": null,
   "metadata": {},
   "outputs": [],
   "source": [
    "# you can make submission with answers so far to check yourself at this stage\n",
    "grader.submit(COURSERA_EMAIL, COURSERA_TOKEN)"
   ]
  },
  {
   "cell_type": "markdown",
   "metadata": {},
   "source": [
    "<br>"
   ]
  },
  {
   "cell_type": "code",
   "execution_count": 77,
   "metadata": {},
   "outputs": [],
   "source": [
    "secret_message_2 = b\"\\xff\\xfe\\x00\\x00T\\x00\\x00\\x00o\\x00\\x00\\x00 \"\\\n",
    "                   b\"\\x00\\x00\\x00d\\x00\\x00\\x00e\\x00\\x00\\x00c\\x00\"\\\n",
    "                   b\"\\x00\\x00o\\x00\\x00\\x00d\\x00\\x00\\x00e\\x00\\x00\"\\\n",
    "                   b\"\\x00 \\x00\\x00\\x00t\\x00\\x00\\x00h\\x00\\x00\\x00e\"\\\n",
    "                   b\"\\x00\\x00\\x00 \\x00\\x00\\x00t\\x00\\x00\\x00h\\x00\"\\\n",
    "                   b\"\\x00\\x00i\\x00\\x00\\x00r\\x00\\x00\\x00d\\x00\\x00\"\\\n",
    "                   b\"\\x00 \\x00\\x00\\x00s\\x00\\x00\\x00e\\x00\\x00\\x00c\"\\\n",
    "                   b\"\\x00\\x00\\x00r\\x00\\x00\\x00e\\x00\\x00\\x00t\\x00\\x00\"\\\n",
    "                   b\"\\x00 \\x00\\x00\\x00m\\x00\\x00\\x00e\\x00\\x00\\x00s\\x00\"\\\n",
    "                   b\"\\x00\\x00s\\x00\\x00\\x00a\\x00\\x00\\x00g\\x00\\x00\\x00e\\x00\"\\\n",
    "                   b\"\\x00\\x00 \\x00\\x00\\x00y\\x00\\x00\\x00o\\x00\\x00\\x00u\\x00\\x00\"\\\n",
    "                   b\"\\x00 \\x00\\x00\\x00s\\x00\\x00\\x00h\\x00\\x00\\x00o\\x00\\x00\\x00u\"\\\n",
    "                   b\"\\x00\\x00\\x00l\\x00\\x00\\x00d\\x00\\x00\\x00 \\x00\\x00\\x00u\\x00\\x00\"\\\n",
    "                   b\"\\x00s\\x00\\x00\\x00e\\x00\\x00\\x00 \\x00\\x00\\x00'\\x00\\x00\\x00s\\x00\"\\\n",
    "                   b\"\\x00\\x00h\\x00\\x00\\x00i\\x00\\x00\\x00f\\x00\\x00\\x00t\\x00\\x00\"\\\n",
    "                   b\"\\x00_\\x00\\x00\\x00j\\x00\\x00\\x00i\\x00\\x00\\x00s\\x00\\x00\"\\\n",
    "                   b\"\\x00'\\x00\\x00\\x00 \\x00\\x00\\x00e\\x00\\x00\\x00n\\x00\\x00\\x00c\\x00\"\\\n",
    "                   b\"\\x00\\x00o\\x00\\x00\\x00d\\x00\\x00\\x00i\\x00\\x00\\x00n\\x00\\x00\\x00g\\x00\\x00\\x00\""
   ]
  },
  {
   "cell_type": "code",
   "execution_count": 95,
   "metadata": {},
   "outputs": [],
   "source": [
    "secret_message_2.decode(...)"
   ]
  },
  {
   "cell_type": "code",
   "execution_count": null,
   "metadata": {},
   "outputs": [],
   "source": [
    "# put decoded message here\n",
    "answer_part_4 = ..."
   ]
  },
  {
   "cell_type": "code",
   "execution_count": 96,
   "metadata": {},
   "outputs": [],
   "source": [
    "# Setting our answers to grader. Do not change!\n",
    "grader.set_answer(\"2kPZj\", answer_part_4)"
   ]
  },
  {
   "cell_type": "code",
   "execution_count": null,
   "metadata": {},
   "outputs": [],
   "source": [
    "# you can make submission with answers so far to check yourself at this stage\n",
    "grader.submit(COURSERA_EMAIL, COURSERA_TOKEN)"
   ]
  },
  {
   "cell_type": "markdown",
   "metadata": {},
   "source": [
    "<br>"
   ]
  },
  {
   "cell_type": "code",
   "execution_count": 79,
   "metadata": {},
   "outputs": [],
   "source": [
    "secret_message_3 = b'\\x83n\\x83\\x8d\\x81[\\x83\\x8f\\x81[\\x83\\x8b\\x83h'"
   ]
  },
  {
   "cell_type": "code",
   "execution_count": null,
   "metadata": {},
   "outputs": [],
   "source": [
    "secret_message_3.decode(...)"
   ]
  },
  {
   "cell_type": "code",
   "execution_count": null,
   "metadata": {},
   "outputs": [],
   "source": [
    "# put decoded message here\n",
    "answer_part_5 = ..."
   ]
  },
  {
   "cell_type": "code",
   "execution_count": 98,
   "metadata": {},
   "outputs": [],
   "source": [
    "# Setting our answers to grader. Do not change!\n",
    "grader.set_answer(\"RUDvM\", answer_part_5)"
   ]
  },
  {
   "cell_type": "code",
   "execution_count": 99,
   "metadata": {},
   "outputs": [
    {
     "name": "stdout",
     "output_type": "stream",
     "text": [
      "Submitted to Coursera platform. See results on assignment page!\n"
     ]
    }
   ],
   "source": [
    "# you can make submission with answers so far to check yourself at this stage\n",
    "grader.submit(COURSERA_EMAIL, COURSERA_TOKEN)"
   ]
  },
  {
   "cell_type": "code",
   "execution_count": null,
   "metadata": {},
   "outputs": [],
   "source": []
  }
 ],
 "metadata": {
  "kernelspec": {
   "display_name": "Python 3",
   "language": "python",
   "name": "python3"
  },
  "language_info": {
   "codemirror_mode": {
    "name": "ipython",
    "version": 3
   },
   "file_extension": ".py",
   "mimetype": "text/x-python",
   "name": "python",
   "nbconvert_exporter": "python",
   "pygments_lexer": "ipython3",
   "version": "3.7.6"
  }
 },
 "nbformat": 4,
 "nbformat_minor": 4
}
