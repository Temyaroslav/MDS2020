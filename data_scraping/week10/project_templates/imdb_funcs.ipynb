{
 "metadata": {
  "language_info": {
   "codemirror_mode": {
    "name": "ipython",
    "version": 3
   },
   "file_extension": ".py",
   "mimetype": "text/x-python",
   "name": "python",
   "nbconvert_exporter": "python",
   "pygments_lexer": "ipython3",
   "version": "3.9.4"
  },
  "orig_nbformat": 4,
  "kernelspec": {
   "name": "python3",
   "display_name": "Python 3.9.4 64-bit"
  },
  "interpreter": {
   "hash": "d3f2b24b0b653742766f2625efc40aff31f395bb5e317ac2ae19a632273de973"
  }
 },
 "nbformat": 4,
 "nbformat_minor": 2,
 "cells": [
  {
   "cell_type": "code",
   "execution_count": 1,
   "metadata": {},
   "outputs": [],
   "source": [
    "import requests\n",
    "import re\n",
    "import urllib\n",
    "from bs4 import BeautifulSoup"
   ]
  },
  {
   "cell_type": "code",
   "execution_count": 2,
   "metadata": {},
   "outputs": [],
   "source": [
    "def __has_valid_parentheses(s):\n",
    "    count = 0\n",
    "    for i in s:\n",
    "        if i == \"(\":\n",
    "            count += 1\n",
    "        elif i == \")\":\n",
    "            count -= 1\n",
    "        if count < 0:\n",
    "            return False\n",
    "    return count == 0\n",
    "\n",
    "def __check_bad_movie_type(s):\n",
    "    bad_types = ['TV Series', 'Short', 'Video Game', 'Video short', 'Video', 'TV Movie', 'TV Mini-Series', 'TV Series short', 'TV Special', 'Documentary short', 'Documentary', 'voice', 'uncredited', 'unconfirmed']\n",
    "    for bad_type in bad_types:\n",
    "        if bad_type in s:\n",
    "            return True\n",
    "    return False\n",
    "\n",
    "def __check_bad_release(el) -> bool:\n",
    "    result = el.find_all('a')\n",
    "    if len(result) != 1:\n",
    "        return True\n",
    "    return False\n",
    "\n",
    "def __extract_year(el) -> None:\n",
    "    result = el.find('span', attrs={'class': 'year_column'})\n",
    "    if len(result) != 0:\n",
    "        result.extract()\n",
    "\n",
    "def __extract_movie_name_url(el) -> (str, str):\n",
    "    result = el.find('b')\n",
    "    result.extract()\n",
    "    return result.text.strip(), result.find('a')['href']    \n",
    "    "
   ]
  },
  {
   "cell_type": "code",
   "execution_count": 34,
   "metadata": {},
   "outputs": [],
   "source": [
    "_url = 'https://www.imdb.com/'\n",
    "headers = {'Accept-Language': 'en', 'X-FORWARDED-FOR': '2.21.184.0'}\n",
    "\n",
    "url = 'https://www.imdb.com/name/nm0000001/'"
   ]
  },
  {
   "cell_type": "code",
   "execution_count": 35,
   "metadata": {},
   "outputs": [],
   "source": [
    "response = requests.get(url, headers=headers)\n",
    "assert response.ok\n",
    "soup = BeautifulSoup(response.text, \"html.parser\")"
   ]
  },
  {
   "cell_type": "code",
   "execution_count": 36,
   "metadata": {},
   "outputs": [
    {
     "output_type": "stream",
     "name": "stdout",
     "text": [
      "=========================\nZiegfeld Follies has some unidentified brackets:\nFred Astaire ('Here's to the Ladies') / Raffles ('This Heart of Mine') / Tai Long ('Limehouse Blues') / ...\n"
     ]
    }
   ],
   "source": [
    "output = []\n",
    "result = soup.find_all('div', attrs={'id': re.compile('actor-*'), 'class': 'filmo-row'})\n",
    "# check if it is actor or actress\n",
    "if len(result) == 0:\n",
    "    result = soup.find_all('div', attrs={'id': re.compile('actress-*'), 'class': 'filmo-row'})\n",
    "assert len(result) != 0, 'Something wrong with the actor/actress soup.'\n",
    "for el in result:\n",
    "    # get rid of year\n",
    "    __extract_year(el)\n",
    "\n",
    "    # check for the release and movie type\n",
    "    if __check_bad_release(el) or __check_bad_movie_type(el.text.strip()):\n",
    "        continue\n",
    "\n",
    "    # get movie name and url\n",
    "    movie_name, movie_url = __extract_movie_name_url(el)\n",
    "    # get element text\n",
    "    text = el.text.strip()\n",
    "\n",
    "    # check if there are some unidentified brackets left\n",
    "    if '(' in text and __has_valid_parentheses(text):\n",
    "        print('='*25)\n",
    "        print(f'{movie_name} has some unidentified brackets:\\n{text}')\n",
    "    \n",
    "    output.append((movie_name, urllib.parse.urljoin(_url, movie_url)))"
   ]
  },
  {
   "cell_type": "code",
   "execution_count": 37,
   "metadata": {},
   "outputs": [
    {
     "output_type": "execute_result",
     "data": {
      "text/plain": [
       "[('Ghost Story', 'https://www.imdb.com/title/tt0082449/'),\n",
       " ('The Purple Taxi', 'https://www.imdb.com/title/tt0076851/'),\n",
       " ('The Amazing Dobermans', 'https://www.imdb.com/title/tt0074130/'),\n",
       " ('The Towering Inferno', 'https://www.imdb.com/title/tt0072308/'),\n",
       " ('Midas Run', 'https://www.imdb.com/title/tt0064664/'),\n",
       " (\"Finian's Rainbow\", 'https://www.imdb.com/title/tt0062974/'),\n",
       " ('The Notorious Landlady', 'https://www.imdb.com/title/tt0056289/'),\n",
       " ('The Pleasure of His Company', 'https://www.imdb.com/title/tt0055307/'),\n",
       " ('On the Beach', 'https://www.imdb.com/title/tt0053137/'),\n",
       " ('Silk Stockings', 'https://www.imdb.com/title/tt0050972/'),\n",
       " ('Funny Face', 'https://www.imdb.com/title/tt0050419/'),\n",
       " ('Daddy Long Legs', 'https://www.imdb.com/title/tt0047969/'),\n",
       " ('The Band Wagon', 'https://www.imdb.com/title/tt0045537/'),\n",
       " ('The Belle of New York', 'https://www.imdb.com/title/tt0044408/'),\n",
       " ('Royal Wedding', 'https://www.imdb.com/title/tt0043983/'),\n",
       " (\"Let's Dance\", 'https://www.imdb.com/title/tt0042674/'),\n",
       " ('Three Little Words', 'https://www.imdb.com/title/tt0043044/'),\n",
       " ('The Barkleys of Broadway', 'https://www.imdb.com/title/tt0041158/'),\n",
       " ('Easter Parade', 'https://www.imdb.com/title/tt0040308/'),\n",
       " ('Blue Skies', 'https://www.imdb.com/title/tt0038370/'),\n",
       " ('Yolanda and the Thief', 'https://www.imdb.com/title/tt0038262/'),\n",
       " ('Ziegfeld Follies', 'https://www.imdb.com/title/tt0039116/'),\n",
       " (\"The Sky's the Limit\", 'https://www.imdb.com/title/tt0036363/'),\n",
       " ('You Were Never Lovelier', 'https://www.imdb.com/title/tt0035583/'),\n",
       " ('Holiday Inn', 'https://www.imdb.com/title/tt0034862/'),\n",
       " (\"You'll Never Get Rich\", 'https://www.imdb.com/title/tt0034409/'),\n",
       " ('Second Chorus', 'https://www.imdb.com/title/tt0033029/'),\n",
       " ('Broadway Melody of 1940', 'https://www.imdb.com/title/tt0032284/'),\n",
       " ('The Story of Vernon and Irene Castle',\n",
       "  'https://www.imdb.com/title/tt0031983/'),\n",
       " ('Carefree', 'https://www.imdb.com/title/tt0029971/'),\n",
       " ('A Damsel in Distress', 'https://www.imdb.com/title/tt0028757/'),\n",
       " ('Shall We Dance', 'https://www.imdb.com/title/tt0029546/'),\n",
       " ('Swing Time', 'https://www.imdb.com/title/tt0028333/'),\n",
       " ('Follow the Fleet', 'https://www.imdb.com/title/tt0027630/'),\n",
       " ('Top Hat', 'https://www.imdb.com/title/tt0027125/'),\n",
       " ('Roberta', 'https://www.imdb.com/title/tt0026942/'),\n",
       " ('The Gay Divorcee', 'https://www.imdb.com/title/tt0025164/'),\n",
       " ('Flying Down to Rio', 'https://www.imdb.com/title/tt0024025/'),\n",
       " ('Dancing Lady', 'https://www.imdb.com/title/tt0023926/')]"
      ]
     },
     "metadata": {},
     "execution_count": 37
    }
   ],
   "source": [
    "output"
   ]
  },
  {
   "cell_type": "code",
   "execution_count": 9,
   "metadata": {},
   "outputs": [],
   "source": [
    "correct = [('The Tomorrow War', 'https:www.imdb.com/title/tt9777666'), ('Avengers: Endgame', 'https:www.imdb.com/title/tt4154796'), ('The Kid', 'https:www.imdb.com/title/tt4975920'), ('Jurassic World: Fallen Kingdom', 'https:www.imdb.com/title/tt4881806'), ('Avengers: Infinity War', 'https:www.imdb.com/title/tt4154756'), ('Guardians of the Galaxy Vol. 2', 'https:www.imdb.com/title/tt3896198'), ('Passengers', 'https:www.imdb.com/title/tt1355644'), ('The Magnificent Seven', 'https:www.imdb.com/title/tt2404435'), ('Jem and the Holograms', 'https:www.imdb.com/title/tt3614530'), ('Jurassic World', 'https:www.imdb.com/title/tt0369610'), ('Guardians of the Galaxy', 'https:www.imdb.com/title/tt2015381'), ('Delivery Man', 'https:www.imdb.com/title/tt2387559'), ('Her', 'https:www.imdb.com/title/tt1798709'), ('Movie 43', 'https:www.imdb.com/title/tt1333125'), ('Zero Dark Thirty', 'https:www.imdb.com/title/tt1790885'), ('The Five-Year Engagement', 'https:www.imdb.com/title/tt1195478'), (\"What's Your Number?\", 'https:www.imdb.com/title/tt0770703'), ('10 Years', 'https:www.imdb.com/title/tt1715873'), ('Moneyball', 'https:www.imdb.com/title/tt1210166'), ('Take Me Home Tonight', 'https:www.imdb.com/title/tt0810922'), (\"Jennifer's Body\", 'https:www.imdb.com/title/tt1131734'), ('Deep in the Valley', 'https:www.imdb.com/title/tt1078885'), ('Bride Wars', 'https:www.imdb.com/title/tt0901476'), ('Wanted', 'https:www.imdb.com/title/tt0493464'), ('Wieners', 'https:www.imdb.com/title/tt0800268'), ('Walk the Talk', 'https:www.imdb.com/title/tt0462601'), ('Strangers with Candy', 'https:www.imdb.com/title/tt0369994'), ('The Extreme Team', 'https:www.imdb.com/title/tt0295249')]"
   ]
  },
  {
   "cell_type": "code",
   "execution_count": 11,
   "metadata": {},
   "outputs": [
    {
     "output_type": "execute_result",
     "data": {
      "text/plain": [
       "(28, 28)"
      ]
     },
     "metadata": {},
     "execution_count": 11
    }
   ],
   "source": [
    "output_set = set([x[0] for x in output])\n",
    "for x in correct:\n",
    "    if x[0] not in output_set:\n",
    "        print(x)\n",
    "        break\n",
    "len(output_set), len(correct)"
   ]
  }
 ]
}