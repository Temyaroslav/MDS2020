{
 "metadata": {
  "language_info": {
   "codemirror_mode": {
    "name": "ipython",
    "version": 3
   },
   "file_extension": ".py",
   "mimetype": "text/x-python",
   "name": "python",
   "nbconvert_exporter": "python",
   "pygments_lexer": "ipython3",
   "version": "3.9.4"
  },
  "orig_nbformat": 4,
  "kernelspec": {
   "name": "python3",
   "display_name": "Python 3.9.4 64-bit"
  },
  "interpreter": {
   "hash": "d3f2b24b0b653742766f2625efc40aff31f395bb5e317ac2ae19a632273de973"
  }
 },
 "nbformat": 4,
 "nbformat_minor": 2,
 "cells": [
  {
   "cell_type": "code",
   "execution_count": 1,
   "metadata": {},
   "outputs": [],
   "source": [
    "import requests\n",
    "import re\n",
    "import urllib\n",
    "from bs4 import BeautifulSoup"
   ]
  },
  {
   "cell_type": "code",
   "execution_count": 2,
   "metadata": {},
   "outputs": [],
   "source": [
    "def __has_valid_parentheses(s):\n",
    "    count = 0\n",
    "    for i in s:\n",
    "        if i == \"(\":\n",
    "            count += 1\n",
    "        elif i == \")\":\n",
    "            count -= 1\n",
    "        if count < 0:\n",
    "            return False\n",
    "    return count == 0\n",
    "\n",
    "def __check_bad_movie_type(s):\n",
    "    bad_types = ['TV Series', 'Short', 'Video Game', 'Video short', 'Video', 'TV Movie', 'TV Mini-Series', 'TV Series short', 'TV Special', 'Documentary short', 'Documentary', 'voice', 'uncredited', 'unconfirmed']\n",
    "    for bad_type in bad_types:\n",
    "        if bad_type in s:\n",
    "            return True\n",
    "    return False\n",
    "\n",
    "def __check_bad_release(el) -> bool:\n",
    "    result = el.find_all('a')\n",
    "    if len(result) != 1:\n",
    "        return True\n",
    "    return False\n",
    "\n",
    "def __extract_year(el) -> None:\n",
    "    result = el.find('span', attrs={'class': 'year_column'})\n",
    "    if len(result) != 0:\n",
    "        result.extract()\n",
    "\n",
    "def __extract_movie_name_url(el) -> (str, str):\n",
    "    result = el.find('b')\n",
    "    result.extract()\n",
    "    return result.text.strip(), result.find('a')['href'] \n",
    "    "
   ]
  },
  {
   "cell_type": "code",
   "execution_count": 6,
   "metadata": {},
   "outputs": [],
   "source": [
    "_url = 'https://www.imdb.com/'\n",
    "headers = {'Accept-Language': 'en', 'X-FORWARDED-FOR': '2.21.184.0'}\n",
    "\n",
    "url = 'https://www.imdb.com/name/nm0272581/'"
   ]
  },
  {
   "cell_type": "code",
   "execution_count": 7,
   "metadata": {},
   "outputs": [],
   "source": [
    "response = requests.get(url, headers=headers)\n",
    "assert response.ok\n",
    "soup = BeautifulSoup(response.text, \"html.parser\")"
   ]
  },
  {
   "cell_type": "code",
   "execution_count": 36,
   "metadata": {},
   "outputs": [
    {
     "output_type": "stream",
     "name": "stdout",
     "text": [
      "=========================\nZiegfeld Follies has some unidentified brackets:\nFred Astaire ('Here's to the Ladies') / Raffles ('This Heart of Mine') / Tai Long ('Limehouse Blues') / ...\n"
     ]
    }
   ],
   "source": [
    "output = []\n",
    "result = soup.find_all('div', attrs={'id': re.compile('actor-*'), 'class': 'filmo-row'})\n",
    "# check if it is actor or actress\n",
    "if len(result) == 0:\n",
    "    result = soup.find_all('div', attrs={'id': re.compile('actress-*'), 'class': 'filmo-row'})\n",
    "assert len(result) != 0, 'Something wrong with the actor/actress soup.'\n",
    "for el in result:\n",
    "    # get rid of year\n",
    "    __extract_year(el)\n",
    "\n",
    "    # check for the release and movie type\n",
    "    if __check_bad_release(el) or __check_bad_movie_type(el.text.strip()):\n",
    "        continue\n",
    "\n",
    "    # get movie name and url\n",
    "    movie_name, movie_url = __extract_movie_name_url(el)\n",
    "    # get element text\n",
    "    text = el.text.strip()\n",
    "\n",
    "    # check if there are some unidentified brackets left\n",
    "    if '(' in text and __has_valid_parentheses(text):\n",
    "        print('='*25)\n",
    "        print(f'{movie_name} has some unidentified brackets:\\n{text}')\n",
    "    \n",
    "    output.append((movie_name, urllib.parse.urljoin(_url, movie_url)))"
   ]
  },
  {
   "cell_type": "code",
   "execution_count": 8,
   "metadata": {},
   "outputs": [
    {
     "output_type": "execute_result",
     "data": {
      "text/plain": [
       "'Rebecca Ferguson'"
      ]
     },
     "metadata": {},
     "execution_count": 8
    }
   ],
   "source": [
    "soup.find('span', attrs={'itemprop'}).text"
   ]
  }
 ]
}