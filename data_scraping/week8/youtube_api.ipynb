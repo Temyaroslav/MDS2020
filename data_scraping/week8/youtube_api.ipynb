{
 "cells": [
  {
   "cell_type": "code",
   "execution_count": 7,
   "metadata": {},
   "outputs": [],
   "source": [
    "import requests\n",
    "import json\n",
    "import pandas as pd\n",
    "from bs4 import BeautifulSoup"
   ]
  },
  {
   "cell_type": "markdown",
   "metadata": {},
   "source": [
    "## Youtube API"
   ]
  },
  {
   "cell_type": "code",
   "execution_count": 279,
   "metadata": {},
   "outputs": [],
   "source": [
    "token = <put your token here>"
   ]
  },
  {
   "cell_type": "code",
   "execution_count": null,
   "metadata": {},
   "outputs": [],
   "source": [
    "'https://www.youtube.com/user/AdeleVEVO/videos'"
   ]
  },
  {
   "cell_type": "markdown",
   "metadata": {},
   "source": [
    "1. Get channel ID by username"
   ]
  },
  {
   "cell_type": "code",
   "execution_count": 283,
   "metadata": {},
   "outputs": [],
   "source": [
    "channel_name = 'AdeleVEVO'\n",
    "\n",
    "url = 'https://www.googleapis.com/youtube/v3/channels'\n",
    "\n",
    "params = {'part': 'snippet',\n",
    "          'forUsername': channel_name,\n",
    "          'key': token}"
   ]
  },
  {
   "cell_type": "code",
   "execution_count": 286,
   "metadata": {},
   "outputs": [
    {
     "name": "stdout",
     "output_type": "stream",
     "text": [
      "200\n"
     ]
    }
   ],
   "source": [
    "response = requests.get(url, params)\n",
    "print(response.status_code)"
   ]
  },
  {
   "cell_type": "code",
   "execution_count": 288,
   "metadata": {},
   "outputs": [
    {
     "data": {
      "text/plain": [
       "'UComP_epzeKzvBX156r6pm1Q'"
      ]
     },
     "execution_count": 288,
     "metadata": {},
     "output_type": "execute_result"
    }
   ],
   "source": [
    "response.json()['items'][0]['id']"
   ]
  },
  {
   "cell_type": "markdown",
   "metadata": {},
   "source": [
    "2. Get all videos by channel ID"
   ]
  },
  {
   "cell_type": "code",
   "execution_count": 289,
   "metadata": {},
   "outputs": [],
   "source": [
    "channelId = response.json()['items'][0]['id']"
   ]
  },
  {
   "cell_type": "code",
   "execution_count": 315,
   "metadata": {},
   "outputs": [],
   "source": [
    "url = \"https://www.googleapis.com/youtube/v3/search\""
   ]
  },
  {
   "cell_type": "code",
   "execution_count": 327,
   "metadata": {},
   "outputs": [],
   "source": [
    "params = {'part': 'snippet',\n",
    "          'channelId': channelId,\n",
    "          'maxResults': 20,\n",
    "          'key': token,\n",
    "          'order': 'date',\n",
    "          'type': 'video'}"
   ]
  },
  {
   "cell_type": "code",
   "execution_count": 328,
   "metadata": {},
   "outputs": [
    {
     "name": "stdout",
     "output_type": "stream",
     "text": [
      "200\n"
     ]
    }
   ],
   "source": [
    "response = requests.get(url, params=params)\n",
    "print(response.status_code)"
   ]
  },
  {
   "cell_type": "code",
   "execution_count": 329,
   "metadata": {},
   "outputs": [],
   "source": [
    "videos = {}"
   ]
  },
  {
   "cell_type": "code",
   "execution_count": 330,
   "metadata": {},
   "outputs": [
    {
     "name": "stdout",
     "output_type": "stream",
     "text": [
      "Adele - Send My Love (To Your New Lover)\n",
      "Adele - When We Were Young - Live at The BRIT Awards 2016\n",
      "Adele - When We Were Young (Live on SNL)\n",
      "Adele - When We Were Young (Live at The Church Studios)\n",
      "Adele - Hello (Live at the NRJ Awards)\n",
      "Adele - Hello\n",
      "Adele - Skyfall (Lyric Video)\n",
      "Adele - Turning Tables (Live at The Royal Albert Hall)\n",
      "Adele - Set Fire To The Rain (Live at The Royal Albert Hall)\n",
      "Adele - Someone Like You (Official Music Video)\n",
      "Adele - Make You Feel My Love (Live on Letterman)\n",
      "Adele - Hometown Glory (Live on Letterman)\n",
      "Adele - Don&#39;t You Remember (Live at Largo)\n",
      "Adele - Someone Like You (Live at Largo)\n",
      "Adele - Adele&#39;s 21: The Inspiration - Part 3\n",
      "Adele - Turning Tables (Live at Largo)\n",
      "Adele - Adele&#39;s 21: The Inspiration - Part 2\n",
      "Adele - Adele&#39;s 21: The Inspiration - Part 1\n",
      "Adele - Someone Like You (Live in Her Home)\n",
      "Adele - Rolling In The Deep (Live at Largo)\n"
     ]
    }
   ],
   "source": [
    "for el in response.json()['items']:\n",
    "    video_title = el['snippet']['title']\n",
    "    video_id = el['id']['videoId']\n",
    "    videos[video_title] = video_id\n",
    "    print(video_title)"
   ]
  },
  {
   "cell_type": "code",
   "execution_count": 331,
   "metadata": {},
   "outputs": [
    {
     "data": {
      "text/plain": [
       "20"
      ]
     },
     "execution_count": 331,
     "metadata": {},
     "output_type": "execute_result"
    }
   ],
   "source": [
    "len(videos)"
   ]
  },
  {
   "cell_type": "code",
   "execution_count": 332,
   "metadata": {},
   "outputs": [
    {
     "data": {
      "text/plain": [
       "'CBQQAA'"
      ]
     },
     "execution_count": 332,
     "metadata": {},
     "output_type": "execute_result"
    }
   ],
   "source": [
    "response.json()['nextPageToken']"
   ]
  },
  {
   "cell_type": "code",
   "execution_count": 333,
   "metadata": {},
   "outputs": [],
   "source": [
    "params['pageToken'] = response.json()['nextPageToken']"
   ]
  },
  {
   "cell_type": "code",
   "execution_count": 334,
   "metadata": {},
   "outputs": [
    {
     "name": "stdout",
     "output_type": "stream",
     "text": [
      "200\n"
     ]
    }
   ],
   "source": [
    "response = requests.get(url, params=params)\n",
    "print(response.status_code)"
   ]
  },
  {
   "cell_type": "code",
   "execution_count": 335,
   "metadata": {},
   "outputs": [],
   "source": [
    "# response.json()['nextPageToken']"
   ]
  },
  {
   "cell_type": "code",
   "execution_count": 336,
   "metadata": {},
   "outputs": [
    {
     "name": "stdout",
     "output_type": "stream",
     "text": [
      "Adele - Rolling in the Deep (Official Music Video)\n",
      "Adele - Chasing Pavements\n",
      "Adele - Hometown Glory\n"
     ]
    }
   ],
   "source": [
    "for el in response.json()['items']:\n",
    "    video_title = el['snippet']['title']\n",
    "    video_id = el['id']['videoId']\n",
    "    videos[video_title] = video_id\n",
    "    print(video_title)"
   ]
  },
  {
   "cell_type": "markdown",
   "metadata": {},
   "source": [
    "3. Get like count by video"
   ]
  },
  {
   "cell_type": "code",
   "execution_count": 337,
   "metadata": {},
   "outputs": [],
   "source": [
    "url = \"https://www.googleapis.com/youtube/v3/videos\""
   ]
  },
  {
   "cell_type": "code",
   "execution_count": 363,
   "metadata": {},
   "outputs": [],
   "source": [
    "params = {'part': 'snippet,statistics',\n",
    "          # 'id': video_id,\n",
    "          'id': ','.join(videos.values()),\n",
    "          'key': token}"
   ]
  },
  {
   "cell_type": "code",
   "execution_count": 364,
   "metadata": {},
   "outputs": [
    {
     "name": "stdout",
     "output_type": "stream",
     "text": [
      "200\n"
     ]
    }
   ],
   "source": [
    "response = requests.get(url, params=params)\n",
    "print(response.status_code)"
   ]
  },
  {
   "cell_type": "code",
   "execution_count": 365,
   "metadata": {},
   "outputs": [
    {
     "data": {
      "text/plain": [
       "23"
      ]
     },
     "execution_count": 365,
     "metadata": {},
     "output_type": "execute_result"
    }
   ],
   "source": [
    "len(response.json()['items'])"
   ]
  },
  {
   "cell_type": "code",
   "execution_count": 357,
   "metadata": {},
   "outputs": [
    {
     "data": {
      "text/plain": [
       "{'viewCount': '653800681',\n",
       " 'likeCount': '4001638',\n",
       " 'dislikeCount': '135036',\n",
       " 'favoriteCount': '0',\n",
       " 'commentCount': '150325'}"
      ]
     },
     "execution_count": 357,
     "metadata": {},
     "output_type": "execute_result"
    }
   ],
   "source": [
    "response.json()['items'][0]['statistics']"
   ]
  },
  {
   "cell_type": "code",
   "execution_count": 1,
   "metadata": {},
   "outputs": [],
   "source": [
    "columns = ['name', 'viewCount', 'likeCount', 'dislikeCount', 'favoriteCount', 'commentCount']\n",
    "data = []\n",
    "\n",
    "for el in response.json()['items']:\n",
    "    row = [el['snippet']['title'], list(map(lambda x: float(x) *el['statistics'].values()))]\n",
    "    data.append(row)\n",
    "    # print(el['snippet']['title'])"
   ]
  },
  {
   "cell_type": "code",
   "execution_count": 374,
   "metadata": {},
   "outputs": [],
   "source": [
    "import pandas as pd"
   ]
  },
  {
   "cell_type": "code",
   "execution_count": 375,
   "metadata": {},
   "outputs": [],
   "source": [
    "df = pd.DataFrame(data=data, columns=columns)"
   ]
  },
  {
   "cell_type": "code",
   "execution_count": 440,
   "metadata": {},
   "outputs": [
    {
     "data": {
      "text/html": [
       "<div>\n",
       "<style scoped>\n",
       "    .dataframe tbody tr th:only-of-type {\n",
       "        vertical-align: middle;\n",
       "    }\n",
       "\n",
       "    .dataframe tbody tr th {\n",
       "        vertical-align: top;\n",
       "    }\n",
       "\n",
       "    .dataframe thead th {\n",
       "        text-align: right;\n",
       "    }\n",
       "</style>\n",
       "<table border=\"1\" class=\"dataframe\">\n",
       "  <thead>\n",
       "    <tr style=\"text-align: right;\">\n",
       "      <th></th>\n",
       "      <th>name</th>\n",
       "      <th>viewCount</th>\n",
       "      <th>likeCount</th>\n",
       "      <th>dislikeCount</th>\n",
       "      <th>favoriteCount</th>\n",
       "      <th>commentCount</th>\n",
       "      <th>LikeToViewRatio</th>\n",
       "    </tr>\n",
       "  </thead>\n",
       "  <tbody>\n",
       "    <tr>\n",
       "      <th>0</th>\n",
       "      <td>Adele - Send My Love (To Your New Lover)</td>\n",
       "      <td>653800681</td>\n",
       "      <td>4001641</td>\n",
       "      <td>135036</td>\n",
       "      <td>0</td>\n",
       "      <td>150325</td>\n",
       "      <td>0.006121</td>\n",
       "    </tr>\n",
       "    <tr>\n",
       "      <th>1</th>\n",
       "      <td>Adele - When We Were Young - Live at The BRIT ...</td>\n",
       "      <td>45375477</td>\n",
       "      <td>493712</td>\n",
       "      <td>12692</td>\n",
       "      <td>0</td>\n",
       "      <td>14753</td>\n",
       "      <td>0.010881</td>\n",
       "    </tr>\n",
       "    <tr>\n",
       "      <th>2</th>\n",
       "      <td>Adele - When We Were Young (Live on SNL)</td>\n",
       "      <td>31133653</td>\n",
       "      <td>319255</td>\n",
       "      <td>7203</td>\n",
       "      <td>0</td>\n",
       "      <td>11802</td>\n",
       "      <td>0.010254</td>\n",
       "    </tr>\n",
       "    <tr>\n",
       "      <th>3</th>\n",
       "      <td>Adele - When We Were Young (Live at The Church...</td>\n",
       "      <td>524832804</td>\n",
       "      <td>2556270</td>\n",
       "      <td>89529</td>\n",
       "      <td>0</td>\n",
       "      <td>79273</td>\n",
       "      <td>0.004871</td>\n",
       "    </tr>\n",
       "    <tr>\n",
       "      <th>4</th>\n",
       "      <td>Adele - Hello (Live at the NRJ Awards)</td>\n",
       "      <td>88270861</td>\n",
       "      <td>824301</td>\n",
       "      <td>29253</td>\n",
       "      <td>0</td>\n",
       "      <td>42462</td>\n",
       "      <td>0.009338</td>\n",
       "    </tr>\n",
       "    <tr>\n",
       "      <th>5</th>\n",
       "      <td>Adele - Hello</td>\n",
       "      <td>2667763369</td>\n",
       "      <td>15511488</td>\n",
       "      <td>833661</td>\n",
       "      <td>0</td>\n",
       "      <td>888139</td>\n",
       "      <td>0.005814</td>\n",
       "    </tr>\n",
       "    <tr>\n",
       "      <th>6</th>\n",
       "      <td>Adele - Skyfall (Lyric Video)</td>\n",
       "      <td>396335225</td>\n",
       "      <td>2140117</td>\n",
       "      <td>60347</td>\n",
       "      <td>0</td>\n",
       "      <td>92723</td>\n",
       "      <td>0.005400</td>\n",
       "    </tr>\n",
       "    <tr>\n",
       "      <th>7</th>\n",
       "      <td>Adele - Turning Tables (Live at The Royal Albe...</td>\n",
       "      <td>84158112</td>\n",
       "      <td>260692</td>\n",
       "      <td>8386</td>\n",
       "      <td>0</td>\n",
       "      <td>8872</td>\n",
       "      <td>0.003098</td>\n",
       "    </tr>\n",
       "    <tr>\n",
       "      <th>8</th>\n",
       "      <td>Adele - Set Fire To The Rain (Live at The Roya...</td>\n",
       "      <td>573527494</td>\n",
       "      <td>2448866</td>\n",
       "      <td>73783</td>\n",
       "      <td>0</td>\n",
       "      <td>95124</td>\n",
       "      <td>0.004270</td>\n",
       "    </tr>\n",
       "    <tr>\n",
       "      <th>9</th>\n",
       "      <td>Adele - Someone Like You (Official Music Video)</td>\n",
       "      <td>1507059006</td>\n",
       "      <td>6762011</td>\n",
       "      <td>237770</td>\n",
       "      <td>0</td>\n",
       "      <td>305292</td>\n",
       "      <td>0.004487</td>\n",
       "    </tr>\n",
       "    <tr>\n",
       "      <th>10</th>\n",
       "      <td>Adele - Make You Feel My Love (Live on Letterman)</td>\n",
       "      <td>51768515</td>\n",
       "      <td>180054</td>\n",
       "      <td>4623</td>\n",
       "      <td>0</td>\n",
       "      <td>7083</td>\n",
       "      <td>0.003478</td>\n",
       "    </tr>\n",
       "    <tr>\n",
       "      <th>11</th>\n",
       "      <td>Adele - Hometown Glory (Live on Letterman)</td>\n",
       "      <td>4609358</td>\n",
       "      <td>21688</td>\n",
       "      <td>566</td>\n",
       "      <td>0</td>\n",
       "      <td>994</td>\n",
       "      <td>0.004705</td>\n",
       "    </tr>\n",
       "    <tr>\n",
       "      <th>12</th>\n",
       "      <td>Adele - Don't You Remember (Live at Largo)</td>\n",
       "      <td>106422317</td>\n",
       "      <td>263792</td>\n",
       "      <td>8132</td>\n",
       "      <td>0</td>\n",
       "      <td>9177</td>\n",
       "      <td>0.002479</td>\n",
       "    </tr>\n",
       "    <tr>\n",
       "      <th>13</th>\n",
       "      <td>Adele - Someone Like You (Live at Largo)</td>\n",
       "      <td>16007145</td>\n",
       "      <td>79022</td>\n",
       "      <td>2486</td>\n",
       "      <td>0</td>\n",
       "      <td>1742</td>\n",
       "      <td>0.004937</td>\n",
       "    </tr>\n",
       "    <tr>\n",
       "      <th>14</th>\n",
       "      <td>Adele - Adele's 21: The Inspiration - Part 3</td>\n",
       "      <td>1402811</td>\n",
       "      <td>4687</td>\n",
       "      <td>179</td>\n",
       "      <td>0</td>\n",
       "      <td>141</td>\n",
       "      <td>0.003341</td>\n",
       "    </tr>\n",
       "    <tr>\n",
       "      <th>15</th>\n",
       "      <td>Adele - Turning Tables (Live at Largo)</td>\n",
       "      <td>19729441</td>\n",
       "      <td>51155</td>\n",
       "      <td>1207</td>\n",
       "      <td>0</td>\n",
       "      <td>3216</td>\n",
       "      <td>0.002593</td>\n",
       "    </tr>\n",
       "    <tr>\n",
       "      <th>16</th>\n",
       "      <td>Adele - Adele's 21: The Inspiration - Part 2</td>\n",
       "      <td>1681614</td>\n",
       "      <td>5022</td>\n",
       "      <td>224</td>\n",
       "      <td>0</td>\n",
       "      <td>191</td>\n",
       "      <td>0.002986</td>\n",
       "    </tr>\n",
       "    <tr>\n",
       "      <th>17</th>\n",
       "      <td>Adele - Adele's 21: The Inspiration - Part 1</td>\n",
       "      <td>1386054</td>\n",
       "      <td>4961</td>\n",
       "      <td>166</td>\n",
       "      <td>0</td>\n",
       "      <td>172</td>\n",
       "      <td>0.003579</td>\n",
       "    </tr>\n",
       "    <tr>\n",
       "      <th>18</th>\n",
       "      <td>Adele - Someone Like You (Live in Her Home)</td>\n",
       "      <td>107400599</td>\n",
       "      <td>490188</td>\n",
       "      <td>10375</td>\n",
       "      <td>0</td>\n",
       "      <td>52174</td>\n",
       "      <td>0.004564</td>\n",
       "    </tr>\n",
       "    <tr>\n",
       "      <th>19</th>\n",
       "      <td>Adele - Rolling In The Deep (Live at Largo)</td>\n",
       "      <td>4605228</td>\n",
       "      <td>36836</td>\n",
       "      <td>677</td>\n",
       "      <td>0</td>\n",
       "      <td>1653</td>\n",
       "      <td>0.007999</td>\n",
       "    </tr>\n",
       "    <tr>\n",
       "      <th>20</th>\n",
       "      <td>Adele - Rolling in the Deep (Official Music Vi...</td>\n",
       "      <td>1688720419</td>\n",
       "      <td>7148357</td>\n",
       "      <td>256154</td>\n",
       "      <td>0</td>\n",
       "      <td>363534</td>\n",
       "      <td>0.004233</td>\n",
       "    </tr>\n",
       "    <tr>\n",
       "      <th>21</th>\n",
       "      <td>Adele - Chasing Pavements</td>\n",
       "      <td>153141846</td>\n",
       "      <td>543251</td>\n",
       "      <td>15907</td>\n",
       "      <td>0</td>\n",
       "      <td>19996</td>\n",
       "      <td>0.003547</td>\n",
       "    </tr>\n",
       "    <tr>\n",
       "      <th>22</th>\n",
       "      <td>Adele - Hometown Glory</td>\n",
       "      <td>108480343</td>\n",
       "      <td>367564</td>\n",
       "      <td>10369</td>\n",
       "      <td>0</td>\n",
       "      <td>15900</td>\n",
       "      <td>0.003388</td>\n",
       "    </tr>\n",
       "  </tbody>\n",
       "</table>\n",
       "</div>"
      ],
      "text/plain": [
       "                                                 name   viewCount likeCount  \\\n",
       "0            Adele - Send My Love (To Your New Lover)   653800681   4001641   \n",
       "1   Adele - When We Were Young - Live at The BRIT ...    45375477    493712   \n",
       "2            Adele - When We Were Young (Live on SNL)    31133653    319255   \n",
       "3   Adele - When We Were Young (Live at The Church...   524832804   2556270   \n",
       "4              Adele - Hello (Live at the NRJ Awards)    88270861    824301   \n",
       "5                                       Adele - Hello  2667763369  15511488   \n",
       "6                       Adele - Skyfall (Lyric Video)   396335225   2140117   \n",
       "7   Adele - Turning Tables (Live at The Royal Albe...    84158112    260692   \n",
       "8   Adele - Set Fire To The Rain (Live at The Roya...   573527494   2448866   \n",
       "9     Adele - Someone Like You (Official Music Video)  1507059006   6762011   \n",
       "10  Adele - Make You Feel My Love (Live on Letterman)    51768515    180054   \n",
       "11         Adele - Hometown Glory (Live on Letterman)     4609358     21688   \n",
       "12         Adele - Don't You Remember (Live at Largo)   106422317    263792   \n",
       "13           Adele - Someone Like You (Live at Largo)    16007145     79022   \n",
       "14       Adele - Adele's 21: The Inspiration - Part 3     1402811      4687   \n",
       "15             Adele - Turning Tables (Live at Largo)    19729441     51155   \n",
       "16       Adele - Adele's 21: The Inspiration - Part 2     1681614      5022   \n",
       "17       Adele - Adele's 21: The Inspiration - Part 1     1386054      4961   \n",
       "18        Adele - Someone Like You (Live in Her Home)   107400599    490188   \n",
       "19        Adele - Rolling In The Deep (Live at Largo)     4605228     36836   \n",
       "20  Adele - Rolling in the Deep (Official Music Vi...  1688720419   7148357   \n",
       "21                          Adele - Chasing Pavements   153141846    543251   \n",
       "22                             Adele - Hometown Glory   108480343    367564   \n",
       "\n",
       "   dislikeCount favoriteCount commentCount  LikeToViewRatio  \n",
       "0        135036             0       150325         0.006121  \n",
       "1         12692             0        14753         0.010881  \n",
       "2          7203             0        11802         0.010254  \n",
       "3         89529             0        79273         0.004871  \n",
       "4         29253             0        42462         0.009338  \n",
       "5        833661             0       888139         0.005814  \n",
       "6         60347             0        92723         0.005400  \n",
       "7          8386             0         8872         0.003098  \n",
       "8         73783             0        95124         0.004270  \n",
       "9        237770             0       305292         0.004487  \n",
       "10         4623             0         7083         0.003478  \n",
       "11          566             0          994         0.004705  \n",
       "12         8132             0         9177         0.002479  \n",
       "13         2486             0         1742         0.004937  \n",
       "14          179             0          141         0.003341  \n",
       "15         1207             0         3216         0.002593  \n",
       "16          224             0          191         0.002986  \n",
       "17          166             0          172         0.003579  \n",
       "18        10375             0        52174         0.004564  \n",
       "19          677             0         1653         0.007999  \n",
       "20       256154             0       363534         0.004233  \n",
       "21        15907             0        19996         0.003547  \n",
       "22        10369             0        15900         0.003388  "
      ]
     },
     "execution_count": 440,
     "metadata": {},
     "output_type": "execute_result"
    }
   ],
   "source": [
    "df"
   ]
  },
  {
   "cell_type": "code",
   "execution_count": 378,
   "metadata": {},
   "outputs": [
    {
     "data": {
      "text/html": [
       "<div>\n",
       "<style scoped>\n",
       "    .dataframe tbody tr th:only-of-type {\n",
       "        vertical-align: middle;\n",
       "    }\n",
       "\n",
       "    .dataframe tbody tr th {\n",
       "        vertical-align: top;\n",
       "    }\n",
       "\n",
       "    .dataframe thead th {\n",
       "        text-align: right;\n",
       "    }\n",
       "</style>\n",
       "<table border=\"1\" class=\"dataframe\">\n",
       "  <thead>\n",
       "    <tr style=\"text-align: right;\">\n",
       "      <th></th>\n",
       "      <th>name</th>\n",
       "      <th>viewCount</th>\n",
       "      <th>likeCount</th>\n",
       "      <th>dislikeCount</th>\n",
       "      <th>favoriteCount</th>\n",
       "      <th>commentCount</th>\n",
       "    </tr>\n",
       "  </thead>\n",
       "  <tbody>\n",
       "    <tr>\n",
       "      <th>4</th>\n",
       "      <td>Adele - Hello (Live at the NRJ Awards)</td>\n",
       "      <td>88270861</td>\n",
       "      <td>824301</td>\n",
       "      <td>29253</td>\n",
       "      <td>0</td>\n",
       "      <td>42462</td>\n",
       "    </tr>\n",
       "  </tbody>\n",
       "</table>\n",
       "</div>"
      ],
      "text/plain": [
       "                                     name viewCount likeCount dislikeCount  \\\n",
       "4  Adele - Hello (Live at the NRJ Awards)  88270861    824301        29253   \n",
       "\n",
       "  favoriteCount commentCount  \n",
       "4             0        42462  "
      ]
     },
     "execution_count": 378,
     "metadata": {},
     "output_type": "execute_result"
    }
   ],
   "source": [
    "df[df['viewCount'] == df['viewCount'].max()]"
   ]
  },
  {
   "cell_type": "code",
   "execution_count": 379,
   "metadata": {},
   "outputs": [
    {
     "data": {
      "text/html": [
       "<div>\n",
       "<style scoped>\n",
       "    .dataframe tbody tr th:only-of-type {\n",
       "        vertical-align: middle;\n",
       "    }\n",
       "\n",
       "    .dataframe tbody tr th {\n",
       "        vertical-align: top;\n",
       "    }\n",
       "\n",
       "    .dataframe thead th {\n",
       "        text-align: right;\n",
       "    }\n",
       "</style>\n",
       "<table border=\"1\" class=\"dataframe\">\n",
       "  <thead>\n",
       "    <tr style=\"text-align: right;\">\n",
       "      <th></th>\n",
       "      <th>name</th>\n",
       "      <th>viewCount</th>\n",
       "      <th>likeCount</th>\n",
       "      <th>dislikeCount</th>\n",
       "      <th>favoriteCount</th>\n",
       "      <th>commentCount</th>\n",
       "    </tr>\n",
       "  </thead>\n",
       "  <tbody>\n",
       "    <tr>\n",
       "      <th>4</th>\n",
       "      <td>Adele - Hello (Live at the NRJ Awards)</td>\n",
       "      <td>88270861</td>\n",
       "      <td>824301</td>\n",
       "      <td>29253</td>\n",
       "      <td>0</td>\n",
       "      <td>42462</td>\n",
       "    </tr>\n",
       "  </tbody>\n",
       "</table>\n",
       "</div>"
      ],
      "text/plain": [
       "                                     name viewCount likeCount dislikeCount  \\\n",
       "4  Adele - Hello (Live at the NRJ Awards)  88270861    824301        29253   \n",
       "\n",
       "  favoriteCount commentCount  \n",
       "4             0        42462  "
      ]
     },
     "execution_count": 379,
     "metadata": {},
     "output_type": "execute_result"
    }
   ],
   "source": [
    "df[df['likeCount'] == df['likeCount'].max()]"
   ]
  },
  {
   "cell_type": "code",
   "execution_count": 380,
   "metadata": {},
   "outputs": [
    {
     "data": {
      "text/html": [
       "<div>\n",
       "<style scoped>\n",
       "    .dataframe tbody tr th:only-of-type {\n",
       "        vertical-align: middle;\n",
       "    }\n",
       "\n",
       "    .dataframe tbody tr th {\n",
       "        vertical-align: top;\n",
       "    }\n",
       "\n",
       "    .dataframe thead th {\n",
       "        text-align: right;\n",
       "    }\n",
       "</style>\n",
       "<table border=\"1\" class=\"dataframe\">\n",
       "  <thead>\n",
       "    <tr style=\"text-align: right;\">\n",
       "      <th></th>\n",
       "      <th>name</th>\n",
       "      <th>viewCount</th>\n",
       "      <th>likeCount</th>\n",
       "      <th>dislikeCount</th>\n",
       "      <th>favoriteCount</th>\n",
       "      <th>commentCount</th>\n",
       "    </tr>\n",
       "  </thead>\n",
       "  <tbody>\n",
       "    <tr>\n",
       "      <th>11</th>\n",
       "      <td>Adele - Hometown Glory (Live on Letterman)</td>\n",
       "      <td>4609358</td>\n",
       "      <td>21688</td>\n",
       "      <td>566</td>\n",
       "      <td>0</td>\n",
       "      <td>994</td>\n",
       "    </tr>\n",
       "  </tbody>\n",
       "</table>\n",
       "</div>"
      ],
      "text/plain": [
       "                                          name viewCount likeCount  \\\n",
       "11  Adele - Hometown Glory (Live on Letterman)   4609358     21688   \n",
       "\n",
       "   dislikeCount favoriteCount commentCount  \n",
       "11          566             0          994  "
      ]
     },
     "execution_count": 380,
     "metadata": {},
     "output_type": "execute_result"
    }
   ],
   "source": [
    "df[df['commentCount'] == df['commentCount'].max()]"
   ]
  },
  {
   "cell_type": "code",
   "execution_count": 384,
   "metadata": {},
   "outputs": [],
   "source": [
    "df['LikeToViewRatio'] = df['likeCount'].astype(float) / df['viewCount'].astype(float)"
   ]
  },
  {
   "cell_type": "code",
   "execution_count": 389,
   "metadata": {},
   "outputs": [
    {
     "data": {
      "text/plain": [
       "0     0.006121\n",
       "1     0.010881\n",
       "2     0.010254\n",
       "3     0.004871\n",
       "4     0.009338\n",
       "5     0.005814\n",
       "6     0.005400\n",
       "7     0.003098\n",
       "8     0.004270\n",
       "9     0.004487\n",
       "10    0.003478\n",
       "11    0.004705\n",
       "12    0.002479\n",
       "13    0.004937\n",
       "14    0.003341\n",
       "15    0.002593\n",
       "16    0.002986\n",
       "17    0.003579\n",
       "18    0.004564\n",
       "19    0.007999\n",
       "20    0.004233\n",
       "21    0.003547\n",
       "22    0.003388\n",
       "Name: LikeToViewRatio, dtype: float64"
      ]
     },
     "execution_count": 389,
     "metadata": {},
     "output_type": "execute_result"
    }
   ],
   "source": [
    "df['LikeToViewRatio']"
   ]
  },
  {
   "cell_type": "code",
   "execution_count": 388,
   "metadata": {},
   "outputs": [
    {
     "data": {
      "text/html": [
       "<div>\n",
       "<style scoped>\n",
       "    .dataframe tbody tr th:only-of-type {\n",
       "        vertical-align: middle;\n",
       "    }\n",
       "\n",
       "    .dataframe tbody tr th {\n",
       "        vertical-align: top;\n",
       "    }\n",
       "\n",
       "    .dataframe thead th {\n",
       "        text-align: right;\n",
       "    }\n",
       "</style>\n",
       "<table border=\"1\" class=\"dataframe\">\n",
       "  <thead>\n",
       "    <tr style=\"text-align: right;\">\n",
       "      <th></th>\n",
       "      <th>name</th>\n",
       "      <th>viewCount</th>\n",
       "      <th>likeCount</th>\n",
       "      <th>dislikeCount</th>\n",
       "      <th>favoriteCount</th>\n",
       "      <th>commentCount</th>\n",
       "      <th>LikeToViewRatio</th>\n",
       "    </tr>\n",
       "  </thead>\n",
       "  <tbody>\n",
       "    <tr>\n",
       "      <th>1</th>\n",
       "      <td>Adele - When We Were Young - Live at The BRIT ...</td>\n",
       "      <td>45375477</td>\n",
       "      <td>493712</td>\n",
       "      <td>12692</td>\n",
       "      <td>0</td>\n",
       "      <td>14753</td>\n",
       "      <td>0.010881</td>\n",
       "    </tr>\n",
       "  </tbody>\n",
       "</table>\n",
       "</div>"
      ],
      "text/plain": [
       "                                                name viewCount likeCount  \\\n",
       "1  Adele - When We Were Young - Live at The BRIT ...  45375477    493712   \n",
       "\n",
       "  dislikeCount favoriteCount commentCount  LikeToViewRatio  \n",
       "1        12692             0        14753         0.010881  "
      ]
     },
     "execution_count": 388,
     "metadata": {},
     "output_type": "execute_result"
    }
   ],
   "source": [
    "df[df['LikeToViewRatio'] == df['LikeToViewRatio'].max()]"
   ]
  },
  {
   "cell_type": "code",
   "execution_count": null,
   "metadata": {},
   "outputs": [],
   "source": []
  }
 ],
 "metadata": {
  "kernelspec": {
   "display_name": "Python 3",
   "language": "python",
   "name": "python3"
  },
  "language_info": {
   "codemirror_mode": {
    "name": "ipython",
    "version": 3
   },
   "file_extension": ".py",
   "mimetype": "text/x-python",
   "name": "python",
   "nbconvert_exporter": "python",
   "pygments_lexer": "ipython3",
   "version": "3.7.6"
  }
 },
 "nbformat": 4,
 "nbformat_minor": 4
}