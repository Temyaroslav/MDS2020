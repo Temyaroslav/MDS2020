{
 "cells": [
  {
   "cell_type": "code",
   "execution_count": 1,
   "metadata": {},
   "outputs": [],
   "source": [
    "import xml.etree.ElementTree as ET"
   ]
  },
  {
   "cell_type": "code",
   "execution_count": 2,
   "metadata": {},
   "outputs": [],
   "source": [
    "xml_from_file = ET.parse('xml_example_1.xml')"
   ]
  },
  {
   "cell_type": "code",
   "execution_count": 3,
   "metadata": {},
   "outputs": [
    {
     "data": {
      "text/plain": [
       "xml.etree.ElementTree.ElementTree"
      ]
     },
     "execution_count": 3,
     "metadata": {},
     "output_type": "execute_result"
    }
   ],
   "source": [
    "type(xml_from_file)"
   ]
  },
  {
   "cell_type": "code",
   "execution_count": 4,
   "metadata": {},
   "outputs": [],
   "source": [
    "root = xml_from_file.getroot()"
   ]
  },
  {
   "cell_type": "code",
   "execution_count": 5,
   "metadata": {},
   "outputs": [
    {
     "data": {
      "text/plain": [
       "xml.etree.ElementTree.Element"
      ]
     },
     "execution_count": 5,
     "metadata": {},
     "output_type": "execute_result"
    }
   ],
   "source": [
    "type(root)"
   ]
  },
  {
   "cell_type": "code",
   "execution_count": 31,
   "metadata": {},
   "outputs": [],
   "source": [
    "xml_string = '''\n",
    "    <mail>\n",
    "      <to>Mark</to>\n",
    "      <from>Jani</from>\n",
    "      <heading>Reminder from Jani</heading>\n",
    "      <body>Hi, Mark! Remember we are meeting tomorrow at 5.</body>\n",
    "    </mail>\n",
    "    '''"
   ]
  },
  {
   "cell_type": "code",
   "execution_count": 7,
   "metadata": {},
   "outputs": [
    {
     "name": "stdout",
     "output_type": "stream",
     "text": [
      "\n",
      "    <mail>\n",
      "      <to>Mark</to>\n",
      "      <from>Jani</from>\n",
      "      <heading>Reminder from Jani</heading>\n",
      "      <body>Hi, Mark! Remember we are meeting tomorrow at 5.</body>\n",
      "    </mail>\n",
      "    \n"
     ]
    }
   ],
   "source": [
    "print(xml_string)"
   ]
  },
  {
   "cell_type": "code",
   "execution_count": 8,
   "metadata": {},
   "outputs": [],
   "source": [
    "xml_from_string = ET.fromstring(xml_string)"
   ]
  },
  {
   "cell_type": "code",
   "execution_count": 9,
   "metadata": {},
   "outputs": [
    {
     "data": {
      "text/plain": [
       "<Element 'mail' at 0x7fdd90492040>"
      ]
     },
     "execution_count": 9,
     "metadata": {},
     "output_type": "execute_result"
    }
   ],
   "source": [
    "xml_from_string"
   ]
  },
  {
   "cell_type": "code",
   "execution_count": 11,
   "metadata": {},
   "outputs": [
    {
     "name": "stdout",
     "output_type": "stream",
     "text": [
      "mail\n"
     ]
    },
    {
     "data": {
      "text/plain": [
       "{}"
      ]
     },
     "execution_count": 11,
     "metadata": {},
     "output_type": "execute_result"
    }
   ],
   "source": [
    "print(root.tag)\n",
    "root.attrib"
   ]
  },
  {
   "cell_type": "code",
   "execution_count": 12,
   "metadata": {},
   "outputs": [
    {
     "data": {
      "text/plain": [
       "4"
      ]
     },
     "execution_count": 12,
     "metadata": {},
     "output_type": "execute_result"
    }
   ],
   "source": [
    "len(root)"
   ]
  },
  {
   "cell_type": "code",
   "execution_count": 13,
   "metadata": {},
   "outputs": [
    {
     "name": "stdout",
     "output_type": "stream",
     "text": [
      "to {}\n",
      "from {}\n",
      "heading {}\n",
      "body {}\n"
     ]
    }
   ],
   "source": [
    "for child in root:\n",
    "    print(child.tag, child.attrib)"
   ]
  },
  {
   "cell_type": "code",
   "execution_count": 14,
   "metadata": {},
   "outputs": [
    {
     "data": {
      "text/plain": [
       "'Reminder from Jani'"
      ]
     },
     "execution_count": 14,
     "metadata": {},
     "output_type": "execute_result"
    }
   ],
   "source": [
    "root[2].text"
   ]
  },
  {
   "cell_type": "code",
   "execution_count": 17,
   "metadata": {},
   "outputs": [],
   "source": [
    "import requests"
   ]
  },
  {
   "cell_type": "code",
   "execution_count": 18,
   "metadata": {},
   "outputs": [],
   "source": [
    "response = requests.get('http://iss.moex.com/iss/history/engines/stock/markets/shares/boards/tqbr/securities.xml')"
   ]
  },
  {
   "cell_type": "code",
   "execution_count": 19,
   "metadata": {},
   "outputs": [],
   "source": [
    "shares = ET.fromstring(response.content)"
   ]
  },
  {
   "cell_type": "code",
   "execution_count": 20,
   "metadata": {},
   "outputs": [
    {
     "data": {
      "text/plain": [
       "{'id': 'history'}"
      ]
     },
     "execution_count": 20,
     "metadata": {},
     "output_type": "execute_result"
    }
   ],
   "source": [
    "shares[0].attrib"
   ]
  },
  {
   "cell_type": "code",
   "execution_count": 21,
   "metadata": {},
   "outputs": [
    {
     "name": "stdout",
     "output_type": "stream",
     "text": [
      "column {'name': 'BOARDID', 'type': 'string', 'bytes': '12', 'max_size': '0'}\n",
      "column {'name': 'TRADEDATE', 'type': 'date', 'bytes': '10', 'max_size': '0'}\n",
      "column {'name': 'SHORTNAME', 'type': 'string', 'bytes': '189', 'max_size': '0'}\n",
      "column {'name': 'SECID', 'type': 'string', 'bytes': '36', 'max_size': '0'}\n",
      "column {'name': 'NUMTRADES', 'type': 'double'}\n",
      "column {'name': 'VALUE', 'type': 'double'}\n",
      "column {'name': 'OPEN', 'type': 'double'}\n",
      "column {'name': 'LOW', 'type': 'double'}\n",
      "column {'name': 'HIGH', 'type': 'double'}\n",
      "column {'name': 'LEGALCLOSEPRICE', 'type': 'double'}\n",
      "column {'name': 'WAPRICE', 'type': 'double'}\n",
      "column {'name': 'CLOSE', 'type': 'double'}\n",
      "column {'name': 'VOLUME', 'type': 'double'}\n",
      "column {'name': 'MARKETPRICE2', 'type': 'double'}\n",
      "column {'name': 'MARKETPRICE3', 'type': 'double'}\n",
      "column {'name': 'ADMITTEDQUOTE', 'type': 'double'}\n",
      "column {'name': 'MP2VALTRD', 'type': 'double'}\n",
      "column {'name': 'MARKETPRICE3TRADESVALUE', 'type': 'double'}\n",
      "column {'name': 'ADMITTEDVALUE', 'type': 'double'}\n",
      "column {'name': 'WAVAL', 'type': 'double'}\n",
      "column {'name': 'TRADINGSESSION', 'type': 'int32'}\n",
      "column {'name': 'INDEX', 'type': 'int64'}\n",
      "column {'name': 'TOTAL', 'type': 'int64'}\n",
      "column {'name': 'PAGESIZE', 'type': 'int64'}\n"
     ]
    }
   ],
   "source": [
    "for column in shares.iter('column'):\n",
    "    print(column.tag, column.attrib)"
   ]
  },
  {
   "cell_type": "code",
   "execution_count": 22,
   "metadata": {},
   "outputs": [
    {
     "data": {
      "text/plain": [
       "[<Element 'row' at 0x7fdd90113ea0>,\n",
       " <Element 'row' at 0x7fdd90113ef0>,\n",
       " <Element 'row' at 0x7fdd90113f40>,\n",
       " <Element 'row' at 0x7fdd90113f90>,\n",
       " <Element 'row' at 0x7fdd90124040>,\n",
       " <Element 'row' at 0x7fdd90124090>,\n",
       " <Element 'row' at 0x7fdd901240e0>,\n",
       " <Element 'row' at 0x7fdd90124130>,\n",
       " <Element 'row' at 0x7fdd90124180>,\n",
       " <Element 'row' at 0x7fdd901241d0>]"
      ]
     },
     "execution_count": 22,
     "metadata": {},
     "output_type": "execute_result"
    }
   ],
   "source": [
    "shares.findall('data/rows/row')[:10]"
   ]
  },
  {
   "cell_type": "code",
   "execution_count": 23,
   "metadata": {},
   "outputs": [
    {
     "name": "stdout",
     "output_type": "stream",
     "text": [
      "196.5\n",
      "5.84\n",
      "32.1\n",
      "70.32\n",
      "930\n",
      "6066\n",
      "65\n",
      "\n",
      "114.86\n",
      "12.195\n",
      "13.784\n",
      "287\n",
      "6.04\n",
      "1.181\n",
      "1115\n",
      "1531\n",
      "1169\n",
      "3660\n",
      "\n",
      "9.15\n",
      "6.885\n",
      "1215\n",
      "74.99\n",
      "33.458\n",
      "6.52\n",
      "314\n",
      "43\n",
      "5940\n",
      "1822\n",
      "4405\n",
      "15.56\n",
      "12.5\n",
      "\n",
      "7.35\n",
      "148\n",
      "0.794\n",
      "2085\n",
      "1950\n",
      "7.68\n",
      "177\n",
      "895\n",
      "0.7808\n",
      "118.5\n",
      "0.22796\n",
      "14.99\n",
      "2231\n",
      "662.5\n",
      "89.38\n",
      "454.5\n",
      "361\n",
      "\n",
      "260.04\n",
      "\n",
      "\n",
      "2276.5\n",
      "690\n",
      "458\n",
      "27134\n",
      "35.5\n",
      "\n",
      "2965\n",
      "\n",
      "8\n",
      "0.8238\n",
      "1077\n",
      "1034\n",
      "1553\n",
      "5.0435\n",
      "11.48\n",
      "25\n",
      "35.3\n",
      "18.8\n",
      "14.06\n",
      "214.4\n",
      "220\n",
      "130.5\n",
      "190.4\n",
      "\n",
      "0.424\n",
      "53\n",
      "54.6\n",
      "9.91\n",
      "69.9\n",
      "1250.5\n",
      "\n",
      "50200\n",
      "13750\n",
      "16780\n",
      "\n",
      "15.345\n",
      "408.5\n",
      "308.5\n",
      "10.94\n",
      "11.36\n",
      "\n",
      "0.628\n",
      "\n",
      "70\n",
      "\n",
      "0.02903\n"
     ]
    }
   ],
   "source": [
    "for el in shares.findall('data[1]/rows/row'):\n",
    "    print (el.attrib['OPEN'])"
   ]
  },
  {
   "cell_type": "markdown",
   "metadata": {},
   "source": [
    "#### working with broken xml"
   ]
  },
  {
   "cell_type": "code",
   "execution_count": 24,
   "metadata": {},
   "outputs": [],
   "source": [
    "xml_string_broken = '''\n",
    "    <mail>\n",
    "      <to>Mark</to>\n",
    "      <from>Jani</from>\n",
    "      <heading>Reminder from Jani</heading>\n",
    "      <body>Hi, Mark! Remember we are meeting tomorrow at 5.</body>\n",
    "    '''"
   ]
  },
  {
   "cell_type": "code",
   "execution_count": 27,
   "metadata": {},
   "outputs": [],
   "source": [
    "import lxml.etree"
   ]
  },
  {
   "cell_type": "code",
   "execution_count": 28,
   "metadata": {},
   "outputs": [],
   "source": [
    "parser = lxml.etree.XMLParser(recover=True)"
   ]
  },
  {
   "cell_type": "code",
   "execution_count": 29,
   "metadata": {},
   "outputs": [],
   "source": [
    "xml = lxml.etree.fromstring(xml_string_broken, parser)"
   ]
  },
  {
   "cell_type": "code",
   "execution_count": 30,
   "metadata": {},
   "outputs": [
    {
     "data": {
      "text/plain": [
       "<Element mail at 0x7fdd795330c0>"
      ]
     },
     "execution_count": 30,
     "metadata": {},
     "output_type": "execute_result"
    }
   ],
   "source": [
    "xml"
   ]
  },
  {
   "cell_type": "code",
   "execution_count": null,
   "metadata": {},
   "outputs": [],
   "source": []
  }
 ],
 "metadata": {
  "kernelspec": {
   "display_name": "Python 3",
   "language": "python",
   "name": "python3"
  },
  "language_info": {
   "codemirror_mode": {
    "name": "ipython",
    "version": 3
   },
   "file_extension": ".py",
   "mimetype": "text/x-python",
   "name": "python",
   "nbconvert_exporter": "python",
   "pygments_lexer": "ipython3",
   "version": "3.8.5"
  }
 },
 "nbformat": 4,
 "nbformat_minor": 4
}
