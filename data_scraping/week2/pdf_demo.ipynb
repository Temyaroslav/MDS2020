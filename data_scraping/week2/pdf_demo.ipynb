{
 "cells": [
  {
   "cell_type": "markdown",
   "metadata": {},
   "source": [
    "## 1. Get text from PDF"
   ]
  },
  {
   "cell_type": "code",
   "execution_count": 1,
   "metadata": {},
   "outputs": [],
   "source": [
    "import fitz"
   ]
  },
  {
   "cell_type": "code",
   "execution_count": 2,
   "metadata": {},
   "outputs": [],
   "source": [
    "filename = 'file-sample_150kB.pdf'"
   ]
  },
  {
   "cell_type": "code",
   "execution_count": 3,
   "metadata": {},
   "outputs": [],
   "source": [
    "doc = fitz.open(filename) "
   ]
  },
  {
   "cell_type": "code",
   "execution_count": 4,
   "metadata": {},
   "outputs": [
    {
     "data": {
      "text/plain": [
       "fitz.fitz.Document"
      ]
     },
     "execution_count": 4,
     "metadata": {},
     "output_type": "execute_result"
    }
   ],
   "source": [
    "type(doc)"
   ]
  },
  {
   "cell_type": "code",
   "execution_count": 5,
   "metadata": {},
   "outputs": [
    {
     "data": {
      "text/plain": [
       "4"
      ]
     },
     "execution_count": 5,
     "metadata": {},
     "output_type": "execute_result"
    }
   ],
   "source": [
    "doc.pageCount"
   ]
  },
  {
   "cell_type": "code",
   "execution_count": 6,
   "metadata": {},
   "outputs": [
    {
     "data": {
      "text/plain": [
       "[[1,\n",
       "  'Lorem ipsum dolor sit amet, consectetur adipiscing elit. Nunc ac faucibus odio.',\n",
       "  1],\n",
       " [1, 'Cras fringilla ipsum magna, in fringilla dui commodo a.', 2],\n",
       " [1, 'Lorem ipsum dolor sit amet, consectetur adipiscing elit.', 3],\n",
       " [2,\n",
       "  'Maecenas mauris lectus, lobortis et purus mattis, blandit dictum tellus.',\n",
       "  3],\n",
       " [2, 'In eleifend velit vitae libero sollicitudin euismod.', 3]]"
      ]
     },
     "execution_count": 6,
     "metadata": {},
     "output_type": "execute_result"
    }
   ],
   "source": [
    "doc.getToC()"
   ]
  },
  {
   "cell_type": "code",
   "execution_count": 10,
   "metadata": {},
   "outputs": [
    {
     "data": {
      "text/plain": [
       "'In non mauris justo. Duis vehicula mi vel mi pretium, a viverra erat efficitur. Cras aliquam\\nest ac eros varius, id iaculis dui auctor. Duis pretium neque ligula, et pulvinar mi placerat\\net. Nulla nec nunc sit amet nunc posuere vestibulum. Ut id neque eget tortor mattis\\ntristique. Donec ante est, blandit sit amet tristique vel, lacinia pulvinar arcu. Pellentesque\\nscelerisque fermentum erat, id posuere justo pulvinar ut. Cras id eros sed enim aliquam\\nlobortis. Sed lobortis nisl ut eros efficitur tincidunt. Cras justo mi, porttitor quis mattis vel,\\nultricies ut purus. Ut facilisis et lacus eu cursus.\\nIn eleifend velit vitae libero sollicitudin euismod. Fusce vitae vestibulum velit. Pellentesque\\nvulputate lectus quis pellentesque commodo. Aliquam erat volutpat. Vestibulum in egestas\\nvelit. Pellentesque fermentum nisl vitae fringilla venenatis. Etiam id mauris vitae orci\\nmaximus ultricies. \\nCras fringilla ipsum magna, in fringilla dui commodo \\na.\\nLorem ipsum\\nLorem ipsum\\nLorem ipsum\\n1\\nIn eleifend velit vitae libero sollicitudin euismod.\\nLorem\\n2\\nCras fringilla ipsum magna, in fringilla dui commodo\\na.\\nIpsum\\n3\\nAliquam erat volutpat. \\nLorem\\n4\\nFusce vitae vestibulum velit. \\nLorem\\n5\\nEtiam vehicula luctus fermentum.\\nIpsum\\nEtiam vehicula luctus fermentum. In vel metus congue, pulvinar lectus vel, fermentum dui.\\nMaecenas ante orci, egestas ut aliquet sit amet, sagittis a magna. Aliquam ante quam,\\npellentesque ut dignissim quis, laoreet eget est. Aliquam erat volutpat. Class aptent taciti\\nsociosqu ad litora torquent per conubia nostra, per inceptos himenaeos. Ut ullamcorper\\njusto sapien, in cursus libero viverra eget. Vivamus auctor imperdiet urna, at pulvinar leo\\nposuere laoreet. Suspendisse neque nisl, fringilla at iaculis scelerisque, ornare vel dolor. Ut\\net  pulvinar  nunc.  Pellentesque  fringilla  mollis  efficitur.  Nullam  venenatis  commodo\\nimperdiet. Morbi velit neque, semper quis lorem quis, efficitur dignissim ipsum. Ut ac lorem\\nsed turpis imperdiet eleifend sit amet id sapien.\\n'"
      ]
     },
     "execution_count": 10,
     "metadata": {},
     "output_type": "execute_result"
    }
   ],
   "source": [
    "doc.loadPage(1).getText()"
   ]
  },
  {
   "cell_type": "code",
   "execution_count": 8,
   "metadata": {},
   "outputs": [],
   "source": [
    "text = ''\n",
    "\n",
    "for page_num in range(doc.pageCount):\n",
    "    text += doc.loadPage(page_num).getText()"
   ]
  },
  {
   "cell_type": "code",
   "execution_count": 9,
   "metadata": {},
   "outputs": [
    {
     "name": "stdout",
     "output_type": "stream",
     "text": [
      "Lorem ipsum \n",
      "Lorem ipsum dolor sit amet, consectetur adipiscing \n",
      "elit. Nunc ac faucibus odio. \n",
      "Vestibulum neque massa, scelerisque sit amet ligula eu, congue molestie mi. Praesent ut\n",
      "varius sem. Nullam at porttitor arcu, nec lacinia nisi. Ut ac dolor vitae odio interdum\n",
      "condimentum.  Vivamus  dapibus  sodales  ex,  vitae  malesuada  ipsum  cursus\n",
      "convallis. Maecenas sed egestas nulla, ac condimentum orci.  Mauris diam felis,\n",
      "vulputate ac suscipit et, iaculis non est. Curabitur semper arcu ac ligula semper, nec luctus\n",
      "nisl blandit. Integer lacinia ante ac libero lobortis imperdiet. Nullam mollis convallis ipsum,\n",
      "ac accumsan nunc vehicula vitae. Nulla eget justo in felis tristique fringilla. Morbi sit amet\n",
      "tortor quis risus auctor condimentum. Morbi in ullamcorper elit. Nulla iaculis tellus sit amet\n",
      "mauris tempus fringilla.\n",
      "Maecenas mauris lectus, lobortis et purus mattis, blandit dictum tellus.\n",
      "\n",
      "Maecenas non lorem quis tellus placerat varius. \n",
      "\n",
      "Nulla facilisi. \n",
      "\n",
      "Aenean congue fringilla justo ut aliquam. \n",
      "\n",
      "Mauris id ex erat. Nunc vulputate neque vitae justo facilisis, non condimentum ante\n",
      "sagittis. \n",
      "\n",
      "Morbi viverra semper lorem nec molestie. \n",
      "\n",
      "Maecenas tincidunt est efficitur ligula euismod, sit amet ornare est vulputate.\n",
      "Row 1\n",
      "Row 2\n",
      "Row 3\n",
      "Row 4\n",
      "0\n",
      "2\n",
      "4\n",
      "6\n",
      "8\n",
      "10\n",
      "12\n",
      "Column 1\n",
      "Column 2\n",
      "Column 3\n",
      "In non mauris justo. Duis vehicula mi vel mi pretium, a viverra erat efficitur. Cras aliquam\n",
      "est ac eros varius, id iaculis dui auctor. Duis pretium neque ligula, et pulvinar mi placerat\n",
      "et. Nulla nec nunc sit amet nunc posuere vestibulum. Ut id neque eget tortor mattis\n",
      "tristique. Donec ante est, blandit sit amet tristique vel, lacinia pulvinar arcu. Pellentesque\n",
      "scelerisque fermentum erat, id posuere justo pulvinar ut. Cras id eros sed enim aliquam\n",
      "lobortis. Sed lobortis nisl ut eros efficitur tincidunt. Cras justo mi, porttitor quis mattis vel,\n",
      "ultricies ut purus. Ut facilisis et lacus eu cursus.\n",
      "In eleifend velit vitae libero sollicitudin euismod. Fusce vitae vestibulum velit. Pellentesque\n",
      "vulputate lectus quis pellentesque commodo. Aliquam erat volutpat. Vestibulum in egestas\n",
      "velit. Pellentesque fermentum nisl vitae fringilla venenatis. Etiam id mauris vitae orci\n",
      "maximus ultricies. \n",
      "Cras fringilla ipsum magna, in fringilla dui commodo \n",
      "a.\n",
      "Lorem ipsum\n",
      "Lorem ipsum\n",
      "Lorem ipsum\n",
      "1\n",
      "In eleifend velit vitae libero sollicitudin euismod.\n",
      "Lorem\n",
      "2\n",
      "Cras fringilla ipsum magna, in fringilla dui commodo\n",
      "a.\n",
      "Ipsum\n",
      "3\n",
      "Aliquam erat volutpat. \n",
      "Lorem\n",
      "4\n",
      "Fusce vitae vestibulum velit. \n",
      "Lorem\n",
      "5\n",
      "Etiam vehicula luctus fermentum.\n",
      "Ipsum\n",
      "Etiam vehicula luctus fermentum. In vel metus congue, pulvinar lectus vel, fermentum dui.\n",
      "Maecenas ante orci, egestas ut aliquet sit amet, sagittis a magna. Aliquam ante quam,\n",
      "pellentesque ut dignissim quis, laoreet eget est. Aliquam erat volutpat. Class aptent taciti\n",
      "sociosqu ad litora torquent per conubia nostra, per inceptos himenaeos. Ut ullamcorper\n",
      "justo sapien, in cursus libero viverra eget. Vivamus auctor imperdiet urna, at pulvinar leo\n",
      "posuere laoreet. Suspendisse neque nisl, fringilla at iaculis scelerisque, ornare vel dolor. Ut\n",
      "et  pulvinar  nunc.  Pellentesque  fringilla  mollis  efficitur.  Nullam  venenatis  commodo\n",
      "imperdiet. Morbi velit neque, semper quis lorem quis, efficitur dignissim ipsum. Ut ac lorem\n",
      "sed turpis imperdiet eleifend sit amet id sapien.\n",
      "Lorem ipsum dolor sit amet, consectetur adipiscing \n",
      "elit. \n",
      "Nunc ac faucibus odio. Vestibulum neque massa, scelerisque sit amet ligula eu, congue\n",
      "molestie mi. Praesent ut varius sem. Nullam at porttitor arcu, nec lacinia nisi. Ut ac dolor\n",
      "vitae odio interdum condimentum. Vivamus dapibus sodales ex, vitae malesuada ipsum\n",
      "cursus convallis. Maecenas sed egestas nulla, ac condimentum orci. Mauris diam felis,\n",
      "vulputate ac suscipit et, iaculis non est. Curabitur semper arcu ac ligula semper, nec luctus\n",
      "nisl blandit. Integer lacinia ante ac libero lobortis imperdiet. Nullam mollis convallis ipsum,\n",
      "ac accumsan nunc vehicula vitae. Nulla eget justo in felis tristique fringilla. Morbi sit amet\n",
      "tortor quis risus auctor condimentum. Morbi in ullamcorper elit. Nulla iaculis tellus sit amet\n",
      "mauris tempus fringilla.\n",
      "Maecenas mauris lectus, lobortis et purus mattis, blandit \n",
      "dictum tellus. \n",
      "Maecenas non lorem quis tellus placerat varius. Nulla facilisi. Aenean congue fringilla justo\n",
      "ut aliquam. Mauris id ex erat. Nunc vulputate neque vitae justo facilisis, non condimentum\n",
      "ante sagittis. Morbi viverra semper lorem nec molestie. Maecenas tincidunt est efficitur\n",
      "ligula euismod, sit amet ornare est vulputate.\n",
      "In non mauris justo. Duis vehicula mi vel mi pretium, a viverra erat efficitur. Cras aliquam\n",
      "est ac eros varius, id iaculis dui auctor. Duis pretium neque ligula, et pulvinar mi placerat\n",
      "et. Nulla nec nunc sit amet nunc posuere vestibulum. Ut id neque eget tortor mattis\n",
      "tristique. Donec ante est, blandit sit amet tristique vel, lacinia pulvinar arcu. Pellentesque\n",
      "scelerisque fermentum erat, id posuere justo pulvinar ut. Cras id eros sed enim aliquam\n",
      "lobortis. Sed lobortis nisl ut eros efficitur tincidunt. Cras justo mi, porttitor quis mattis vel,\n",
      "ultricies ut purus. Ut facilisis et lacus eu cursus.\n",
      "In eleifend velit vitae libero sollicitudin euismod. \n",
      "Fusce vitae vestibulum velit. Pellentesque vulputate lectus quis pellentesque commodo.\n",
      "Aliquam  erat volutpat.  Vestibulum  in  egestas  velit. Pellentesque  fermentum nisl  vitae\n",
      "fringilla  venenatis.  Etiam  id  mauris  vitae  orci  maximus  ultricies.  Cras  fringilla  ipsum\n",
      "magna, in fringilla dui commodo a.\n",
      "Etiam vehicula luctus fermentum. In vel metus congue, pulvinar lectus vel, fermentum dui.\n",
      "Maecenas ante orci, egestas ut aliquet sit amet, sagittis a magna. Aliquam ante quam,\n",
      "pellentesque ut dignissim quis, laoreet eget est. Aliquam erat volutpat. Class aptent taciti\n",
      "sociosqu ad litora torquent per conubia nostra, per inceptos himenaeos. Ut ullamcorper\n",
      "justo sapien, in cursus libero viverra eget. Vivamus auctor imperdiet urna, at pulvinar leo\n",
      "posuere laoreet. Suspendisse neque nisl, fringilla at iaculis scelerisque, ornare vel dolor. Ut\n",
      "et  pulvinar  nunc.  Pellentesque  fringilla  mollis  efficitur.  Nullam  venenatis  commodo\n",
      "imperdiet. Morbi velit neque, semper quis lorem quis, efficitur dignissim ipsum. Ut ac lorem\n",
      "sed turpis imperdiet eleifend sit amet id sapien.\n",
      "\n"
     ]
    }
   ],
   "source": [
    "print(text)"
   ]
  },
  {
   "cell_type": "markdown",
   "metadata": {},
   "source": [
    "## 2. Get pictures from PDF"
   ]
  },
  {
   "cell_type": "code",
   "execution_count": 11,
   "metadata": {},
   "outputs": [
    {
     "data": {
      "text/plain": [
       "[(13, 0, 600, 401, 8, 'DeviceRGB', '', 'Im13', 'DCTDecode')]"
      ]
     },
     "execution_count": 11,
     "metadata": {},
     "output_type": "execute_result"
    }
   ],
   "source": [
    "doc.getPageImageList(3)"
   ]
  },
  {
   "cell_type": "code",
   "execution_count": 12,
   "metadata": {},
   "outputs": [
    {
     "name": "stdout",
     "output_type": "stream",
     "text": [
      "0 [(13, 0, 600, 401, 8, 'DeviceRGB', '', 'Im13', 'DCTDecode')]\n",
      "pic 3\n",
      "1 [(13, 0, 600, 401, 8, 'DeviceRGB', '', 'Im13', 'DCTDecode')]\n",
      "pic 3\n",
      "2 [(13, 0, 600, 401, 8, 'DeviceRGB', '', 'Im13', 'DCTDecode')]\n",
      "pic 3\n",
      "3 [(13, 0, 600, 401, 8, 'DeviceRGB', '', 'Im13', 'DCTDecode')]\n",
      "pic 3\n"
     ]
    }
   ],
   "source": [
    "for page_num in range(doc.pageCount):\n",
    "    temp = doc.loadPage(page_num)\n",
    "    print(temp.number, temp.getImageList())\n",
    "    for img in temp.getImageList():\n",
    "        xref = img[0]\n",
    "        pix = fitz.Pixmap(doc, 13)\n",
    "        print('pic', pix.n)\n",
    "        pix.writePNG(f'{page_num}.png')"
   ]
  },
  {
   "cell_type": "code",
   "execution_count": 13,
   "metadata": {},
   "outputs": [],
   "source": [
    "doc.close()"
   ]
  },
  {
   "cell_type": "markdown",
   "metadata": {},
   "source": [
    "## 3. Get pictures from PDF"
   ]
  },
  {
   "cell_type": "code",
   "execution_count": 18,
   "metadata": {},
   "outputs": [],
   "source": [
    "import tabula"
   ]
  },
  {
   "cell_type": "code",
   "execution_count": 19,
   "metadata": {},
   "outputs": [
    {
     "ename": "AttributeError",
     "evalue": "module 'tabula' has no attribute 'read_pdf'",
     "output_type": "error",
     "traceback": [
      "\u001b[0;31m---------------------------------------------------------------------------\u001b[0m",
      "\u001b[0;31mAttributeError\u001b[0m                            Traceback (most recent call last)",
      "\u001b[0;32m<ipython-input-19-3ab2ffefd4bb>\u001b[0m in \u001b[0;36m<module>\u001b[0;34m\u001b[0m\n\u001b[0;32m----> 1\u001b[0;31m \u001b[0mtemp\u001b[0m \u001b[0;34m=\u001b[0m \u001b[0mtabula\u001b[0m\u001b[0;34m.\u001b[0m\u001b[0mread_pdf\u001b[0m\u001b[0;34m(\u001b[0m\u001b[0mfilename\u001b[0m\u001b[0;34m,\u001b[0m \u001b[0mpages\u001b[0m\u001b[0;34m=\u001b[0m\u001b[0;36m2\u001b[0m\u001b[0;34m)\u001b[0m\u001b[0;34m\u001b[0m\u001b[0;34m\u001b[0m\u001b[0m\n\u001b[0m",
      "\u001b[0;31mAttributeError\u001b[0m: module 'tabula' has no attribute 'read_pdf'"
     ]
    }
   ],
   "source": [
    "temp = tabula.read_pdf(filename, pages=2)"
   ]
  },
  {
   "cell_type": "code",
   "execution_count": 22,
   "metadata": {},
   "outputs": [
    {
     "data": {
      "text/html": [
       "<div>\n",
       "<style scoped>\n",
       "    .dataframe tbody tr th:only-of-type {\n",
       "        vertical-align: middle;\n",
       "    }\n",
       "\n",
       "    .dataframe tbody tr th {\n",
       "        vertical-align: top;\n",
       "    }\n",
       "\n",
       "    .dataframe thead th {\n",
       "        text-align: right;\n",
       "    }\n",
       "</style>\n",
       "<table border=\"1\" class=\"dataframe\">\n",
       "  <thead>\n",
       "    <tr style=\"text-align: right;\">\n",
       "      <th></th>\n",
       "      <th>Unnamed: 0</th>\n",
       "      <th>Lorem ipsum</th>\n",
       "      <th>Lorem ipsum.1</th>\n",
       "      <th>Lorem ipsum.2</th>\n",
       "    </tr>\n",
       "  </thead>\n",
       "  <tbody>\n",
       "    <tr>\n",
       "      <th>0</th>\n",
       "      <td>1.0</td>\n",
       "      <td>In eleifend velit vitae libero sollicitudin eu...</td>\n",
       "      <td>Lorem</td>\n",
       "      <td>NaN</td>\n",
       "    </tr>\n",
       "    <tr>\n",
       "      <th>1</th>\n",
       "      <td>2.0</td>\n",
       "      <td>Cras fringilla ipsum magna, in fringilla dui c...</td>\n",
       "      <td>Ipsum</td>\n",
       "      <td>NaN</td>\n",
       "    </tr>\n",
       "    <tr>\n",
       "      <th>2</th>\n",
       "      <td>NaN</td>\n",
       "      <td>a.</td>\n",
       "      <td>NaN</td>\n",
       "      <td>NaN</td>\n",
       "    </tr>\n",
       "    <tr>\n",
       "      <th>3</th>\n",
       "      <td>3.0</td>\n",
       "      <td>Aliquam erat volutpat.</td>\n",
       "      <td>Lorem</td>\n",
       "      <td>NaN</td>\n",
       "    </tr>\n",
       "    <tr>\n",
       "      <th>4</th>\n",
       "      <td>4.0</td>\n",
       "      <td>Fusce vitae vestibulum velit.</td>\n",
       "      <td>Lorem</td>\n",
       "      <td>NaN</td>\n",
       "    </tr>\n",
       "    <tr>\n",
       "      <th>5</th>\n",
       "      <td>5.0</td>\n",
       "      <td>Etiam vehicula luctus fermentum.</td>\n",
       "      <td>Ipsum</td>\n",
       "      <td>NaN</td>\n",
       "    </tr>\n",
       "  </tbody>\n",
       "</table>\n",
       "</div>"
      ],
      "text/plain": [
       "   Unnamed: 0                                        Lorem ipsum  \\\n",
       "0         1.0  In eleifend velit vitae libero sollicitudin eu...   \n",
       "1         2.0  Cras fringilla ipsum magna, in fringilla dui c...   \n",
       "2         NaN                                                 a.   \n",
       "3         3.0                             Aliquam erat volutpat.   \n",
       "4         4.0                      Fusce vitae vestibulum velit.   \n",
       "5         5.0                   Etiam vehicula luctus fermentum.   \n",
       "\n",
       "  Lorem ipsum.1  Lorem ipsum.2  \n",
       "0         Lorem            NaN  \n",
       "1         Ipsum            NaN  \n",
       "2           NaN            NaN  \n",
       "3         Lorem            NaN  \n",
       "4         Lorem            NaN  \n",
       "5         Ipsum            NaN  "
      ]
     },
     "execution_count": 22,
     "metadata": {},
     "output_type": "execute_result"
    }
   ],
   "source": [
    "temp"
   ]
  },
  {
   "cell_type": "code",
   "execution_count": null,
   "metadata": {},
   "outputs": [],
   "source": []
  }
 ],
 "metadata": {
  "kernelspec": {
   "display_name": "Python 3",
   "language": "python",
   "name": "python3"
  },
  "language_info": {
   "codemirror_mode": {
    "name": "ipython",
    "version": 3
   },
   "file_extension": ".py",
   "mimetype": "text/x-python",
   "name": "python",
   "nbconvert_exporter": "python",
   "pygments_lexer": "ipython3",
   "version": "3.8.5"
  }
 },
 "nbformat": 4,
 "nbformat_minor": 4
}
