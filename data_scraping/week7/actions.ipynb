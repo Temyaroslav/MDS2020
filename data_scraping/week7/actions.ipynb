{
 "cells": [
  {
   "cell_type": "code",
   "execution_count": 1,
   "metadata": {},
   "outputs": [],
   "source": [
    "from selenium import webdriver\n",
    "import requests\n",
    "import re\n",
    "from bs4 import BeautifulSoup"
   ]
  },
  {
   "cell_type": "markdown",
   "metadata": {},
   "source": [
    "<br><br><br><br><br><br><br><br><br><br><br><br><br><br><br><br><br><br><br><br>\n",
    "\n",
    "### Actions\n",
    "\n",
    "`ActionChains`-object and methods:\n",
    "\n",
    "* `click(on_element=None)`\n",
    "* `click_and_hold(on_element=None)`\n",
    "* `release(on_element=None)`\n",
    "* `move_by_offset(xoffset, yoffset)`\n",
    "* `move_to_element(to_element)`\n",
    "* `send_keys_to_element(element, *keys_to_send)`\n",
    "* `perform()`\n",
    "* `...` see [doc](https://selenium-python.readthedocs.io/api.html#module-selenium.webdriver.common.action_chains) for more\n",
    "\n",
    "\n",
    "### Keys\n",
    "\n",
    "* Letters like in video with facebook sigh-up form\n",
    "* Any other keyboard keys: see [doc](https://selenium-python.readthedocs.io/api.html#module-selenium.webdriver.common.keys)\n",
    "\n",
    "<br><br><br><br><br><br><br><br><br><br><br><br><br><br><br><br><br><br><br><br>"
   ]
  },
  {
   "cell_type": "code",
   "execution_count": 1,
   "metadata": {},
   "outputs": [],
   "source": [
    "from selenium.webdriver.common.action_chains import ActionChains"
   ]
  },
  {
   "cell_type": "code",
   "execution_count": null,
   "metadata": {},
   "outputs": [],
   "source": [
    "driver = webdriver.Firefox()\n",
    "driver.get('https://jspaint.app')"
   ]
  },
  {
   "cell_type": "code",
   "execution_count": null,
   "metadata": {},
   "outputs": [],
   "source": [
    "element = driver.find_element_by_css_selector('canvas.main-canvas')"
   ]
  },
  {
   "cell_type": "code",
   "execution_count": null,
   "metadata": {},
   "outputs": [],
   "source": [
    "action_chain = ActionChains(driver)\n",
    "action_chain.move_to_element(element)\n",
    "\n",
    "action_chain.click_and_hold()\n",
    "action_chain.move_by_offset(xoffset=0, yoffset=50)\n",
    "action_chain.release()\n",
    "\n",
    "action_chain.move_by_offset(xoffset=0, yoffset=-25)\n",
    "action_chain.click_and_hold()\n",
    "action_chain.move_by_offset(xoffset=20, yoffset=0)\n",
    "action_chain.move_by_offset(xoffset=0, yoffset=-25)\n",
    "action_chain.move_by_offset(xoffset=0, yoffset=50)\n",
    "action_chain.release()\n",
    "\n",
    "\n",
    "action_chain.move_by_offset(xoffset=20, yoffset=-50)\n",
    "action_chain.click_and_hold()\n",
    "action_chain.move_by_offset(xoffset=0, yoffset=50)\n",
    "action_chain.release()"
   ]
  },
  {
   "cell_type": "code",
   "execution_count": null,
   "metadata": {},
   "outputs": [],
   "source": [
    "action_chain.perform()"
   ]
  },
  {
   "cell_type": "code",
   "execution_count": null,
   "metadata": {},
   "outputs": [],
   "source": []
  },
  {
   "cell_type": "code",
   "execution_count": null,
   "metadata": {},
   "outputs": [],
   "source": []
  }
 ],
 "metadata": {
  "kernelspec": {
   "display_name": "Python 3",
   "language": "python",
   "name": "python3"
  },
  "language_info": {
   "codemirror_mode": {
    "name": "ipython",
    "version": 3
   },
   "file_extension": ".py",
   "mimetype": "text/x-python",
   "name": "python",
   "nbconvert_exporter": "python",
   "pygments_lexer": "ipython3",
   "version": "3.9.4"
  }
 },
 "nbformat": 4,
 "nbformat_minor": 4
}
