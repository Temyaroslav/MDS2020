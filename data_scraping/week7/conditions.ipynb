{
 "cells": [
  {
   "cell_type": "code",
   "execution_count": 1,
   "metadata": {},
   "outputs": [],
   "source": [
    "from selenium import webdriver\n",
    "import requests\n",
    "import re\n",
    "from bs4 import BeautifulSoup"
   ]
  },
  {
   "cell_type": "code",
   "execution_count": 2,
   "metadata": {},
   "outputs": [],
   "source": [
    "driver = webdriver.Firefox()"
   ]
  },
  {
   "cell_type": "code",
   "execution_count": null,
   "metadata": {},
   "outputs": [],
   "source": [
    "driver.implicitly_wait"
   ]
  },
  {
   "cell_type": "markdown",
   "metadata": {},
   "source": [
    "<br><br><br><br><br><br><br><br><br><br><br><br><br><br><br><br><br><br><br><br>\n",
    "\n",
    "#### EC-conditions\n",
    "\n",
    "\n",
    "\n",
    "\n",
    "* `element_to_be_clickable(locator)`\n",
    "* `number_of_windows_to_be(num_windows)`\n",
    "* `presence_of_all_elements_located(locator)`\n",
    "* `staleness_of(element)`\n",
    "* `text_to_be_present_in_element(locator, text_)`\n",
    "* `text_to_be_present_in_element_value(locator, text_)`\n",
    "* `title_is(title)`\n",
    "* `url_to_be(url)`\n",
    "* `visibility_of(element)`\n",
    "* ...\n",
    "* for more see [doc](https://selenium-python.readthedocs.io/api.html#module-selenium.webdriver.support.expected_conditions)\n"
   ]
  },
  {
   "cell_type": "code",
   "execution_count": 3,
   "metadata": {},
   "outputs": [],
   "source": [
    "from selenium.webdriver.common.by import By\n",
    "from selenium.webdriver.support.ui import WebDriverWait\n",
    "from selenium.webdriver.support import expected_conditions as EC"
   ]
  },
  {
   "cell_type": "code",
   "execution_count": 4,
   "metadata": {},
   "outputs": [],
   "source": [
    "url = 'https://twitter.com/search?q=covid+stats'"
   ]
  },
  {
   "cell_type": "code",
   "execution_count": 5,
   "metadata": {},
   "outputs": [],
   "source": [
    "driver = webdriver.Firefox()"
   ]
  },
  {
   "cell_type": "code",
   "execution_count": 6,
   "metadata": {},
   "outputs": [],
   "source": [
    "driver.get(url)\n",
    "driver.implicitly_wait(3)\n",
    "elements = driver.find_elements_by_css_selector('article')"
   ]
  },
  {
   "cell_type": "code",
   "execution_count": 7,
   "metadata": {},
   "outputs": [],
   "source": [
    "elements = WebDriverWait(driver, 5).until(EC.presence_of_all_elements_located((By.CSS_SELECTOR, 'article')))"
   ]
  },
  {
   "cell_type": "code",
   "execution_count": 9,
   "metadata": {},
   "outputs": [],
   "source": [
    "class at_least_2_present(object):\n",
    "    def __init__(self, locator):\n",
    "        self.locator = locator\n",
    "        \n",
    "    def __call__(self, driver):\n",
    "        elements = driver.find_elements(*self.locator)\n",
    "        if len(elements) >= 2:\n",
    "            return elements\n",
    "        else:\n",
    "            return False"
   ]
  },
  {
   "cell_type": "code",
   "execution_count": 10,
   "metadata": {},
   "outputs": [],
   "source": [
    "elements = WebDriverWait(driver, 2).until(at_least_2_present((By.CSS_SELECTOR, 'article')))"
   ]
  },
  {
   "cell_type": "code",
   "execution_count": 18,
   "metadata": {},
   "outputs": [],
   "source": [
    "class at_least_n_present(object):\n",
    "    def __init__(self, locator, n):\n",
    "        self.locator = locator\n",
    "        self.n = n\n",
    "        \n",
    "    def __call__(self, driver):\n",
    "        elements = driver.find_elements(*self.locator)\n",
    "        if len(elements) >= self.n:\n",
    "            return elements\n",
    "        else:\n",
    "            return False"
   ]
  },
  {
   "cell_type": "code",
   "execution_count": 20,
   "metadata": {},
   "outputs": [],
   "source": [
    "elements = WebDriverWait(driver, 4).until(at_least_n_present((By.CSS_SELECTOR, 'article'), 5))"
   ]
  },
  {
   "cell_type": "code",
   "execution_count": 21,
   "metadata": {},
   "outputs": [
    {
     "data": {
      "text/plain": [
       "[<selenium.webdriver.firefox.webelement.FirefoxWebElement (session=\"25bafc9a-6fff-0f46-a243-7789e8ce89db\", element=\"41d51116-9730-6944-b1bd-b68de9545a7c\")>,\n",
       " <selenium.webdriver.firefox.webelement.FirefoxWebElement (session=\"25bafc9a-6fff-0f46-a243-7789e8ce89db\", element=\"2365a0a3-c7c4-7e48-98cb-ad2bf585c435\")>,\n",
       " <selenium.webdriver.firefox.webelement.FirefoxWebElement (session=\"25bafc9a-6fff-0f46-a243-7789e8ce89db\", element=\"e811c674-8271-2c43-8fe1-8fec695566d5\")>,\n",
       " <selenium.webdriver.firefox.webelement.FirefoxWebElement (session=\"25bafc9a-6fff-0f46-a243-7789e8ce89db\", element=\"d603708f-220d-614d-893d-dc26b71d9e89\")>,\n",
       " <selenium.webdriver.firefox.webelement.FirefoxWebElement (session=\"25bafc9a-6fff-0f46-a243-7789e8ce89db\", element=\"f46574f2-97e6-a542-88a0-b5abafa9446b\")>,\n",
       " <selenium.webdriver.firefox.webelement.FirefoxWebElement (session=\"25bafc9a-6fff-0f46-a243-7789e8ce89db\", element=\"c1ec7a6e-613c-2e48-8442-2440c1c9fdd3\")>,\n",
       " <selenium.webdriver.firefox.webelement.FirefoxWebElement (session=\"25bafc9a-6fff-0f46-a243-7789e8ce89db\", element=\"9736fad9-3f33-9c48-ab8b-9a1fea358dd2\")>]"
      ]
     },
     "execution_count": 21,
     "metadata": {},
     "output_type": "execute_result"
    }
   ],
   "source": [
    "elements"
   ]
  },
  {
   "cell_type": "code",
   "execution_count": 22,
   "metadata": {},
   "outputs": [],
   "source": [
    "driver.quit()"
   ]
  },
  {
   "cell_type": "code",
   "execution_count": null,
   "metadata": {},
   "outputs": [],
   "source": []
  }
 ],
 "metadata": {
  "kernelspec": {
   "display_name": "Python 3",
   "language": "python",
   "name": "python3"
  },
  "language_info": {
   "codemirror_mode": {
    "name": "ipython",
    "version": 3
   },
   "file_extension": ".py",
   "mimetype": "text/x-python",
   "name": "python",
   "nbconvert_exporter": "python",
   "pygments_lexer": "ipython3",
   "version": "3.9.4"
  }
 },
 "nbformat": 4,
 "nbformat_minor": 4
}
