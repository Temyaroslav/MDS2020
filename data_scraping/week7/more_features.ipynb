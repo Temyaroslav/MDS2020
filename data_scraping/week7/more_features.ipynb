{
 "cells": [
  {
   "cell_type": "code",
   "execution_count": 2,
   "metadata": {},
   "outputs": [],
   "source": [
    "from selenium import webdriver\n",
    "import requests\n",
    "import re\n",
    "from bs4 import BeautifulSoup"
   ]
  },
  {
   "cell_type": "code",
   "execution_count": 3,
   "metadata": {},
   "outputs": [],
   "source": [
    "driver = webdriver.Firefox()"
   ]
  },
  {
   "cell_type": "code",
   "execution_count": 4,
   "metadata": {},
   "outputs": [],
   "source": [
    "driver.get('https://facebook.com')"
   ]
  },
  {
   "cell_type": "markdown",
   "metadata": {},
   "source": [
    "<br><br><br><br><br><br><br><br><br><br><br><br><br><br><br><br><br><br><br><br>\n",
    "### More on driver\n",
    "\n",
    "* More on webdriver\n",
    "    * navigation in browser\n",
    "        * driver.forward()\n",
    "        * driver.back()\n",
    "        * driver.window_handles\n",
    "            * driver.current_window_handle\n",
    "            * driver.switch_to.window\n",
    "            * driver.close()\n",
    "    * Cookies\n",
    "        * driver.add_cookie(...)\n",
    "        * driver.get_cookies()\n",
    "    * driver.save_screenshot('screenshot.png’)\n",
    "    * Executing JS\n",
    "        * driver.execute_script(\"window.scrollTo(0, document.body.scrollHeight);\")"
   ]
  },
  {
   "cell_type": "code",
   "execution_count": 5,
   "metadata": {},
   "outputs": [],
   "source": [
    "driver.get('https://en.wikipedia.org')"
   ]
  },
  {
   "cell_type": "code",
   "execution_count": 6,
   "metadata": {},
   "outputs": [],
   "source": [
    "driver.back()"
   ]
  },
  {
   "cell_type": "code",
   "execution_count": 8,
   "metadata": {},
   "outputs": [
    {
     "data": {
      "text/plain": [
       "['19']"
      ]
     },
     "execution_count": 8,
     "metadata": {},
     "output_type": "execute_result"
    }
   ],
   "source": [
    "driver.window_handles"
   ]
  },
  {
   "cell_type": "code",
   "execution_count": 10,
   "metadata": {},
   "outputs": [],
   "source": [
    "driver.switch_to.window('19')"
   ]
  },
  {
   "cell_type": "code",
   "execution_count": 11,
   "metadata": {},
   "outputs": [
    {
     "data": {
      "text/plain": [
       "[{'name': 'sb',\n",
       "  'value': 'iVJ2XyuV8fsGvHwmGeiMOvnL',\n",
       "  'path': '/',\n",
       "  'domain': '.facebook.com',\n",
       "  'secure': True,\n",
       "  'httpOnly': True,\n",
       "  'expiry': 1664661897},\n",
       " {'name': 'datr',\n",
       "  'value': 'iVJ2X7Nq8-wl6bvkoUekP5TW',\n",
       "  'path': '/',\n",
       "  'domain': '.facebook.com',\n",
       "  'secure': True,\n",
       "  'httpOnly': True,\n",
       "  'expiry': 1664661926},\n",
       " {'name': 'fr',\n",
       "  'value': '1lzytIeD9kbpwWvzb..BfdlKJ.4C.AAA.0.0.BfdlLB.AWVbIO5S',\n",
       "  'path': '/',\n",
       "  'domain': '.facebook.com',\n",
       "  'secure': True,\n",
       "  'httpOnly': True,\n",
       "  'expiry': 1609365952},\n",
       " {'name': 'wd',\n",
       "  'value': '1280x661',\n",
       "  'path': '/',\n",
       "  'domain': '.facebook.com',\n",
       "  'secure': True,\n",
       "  'httpOnly': False,\n",
       "  'expiry': 1602194755}]"
      ]
     },
     "execution_count": 11,
     "metadata": {},
     "output_type": "execute_result"
    }
   ],
   "source": [
    "driver.get_cookies()"
   ]
  },
  {
   "cell_type": "code",
   "execution_count": 12,
   "metadata": {},
   "outputs": [],
   "source": [
    "?driver.add_cookie"
   ]
  },
  {
   "cell_type": "code",
   "execution_count": 13,
   "metadata": {},
   "outputs": [],
   "source": [
    "driver.save_screenshot('screenshot.png')"
   ]
  },
  {
   "cell_type": "code",
   "execution_count": 14,
   "metadata": {},
   "outputs": [],
   "source": [
    "driver.execute_script(\"window.scrollTo(0, document.body.scrollHeight);\")"
   ]
  },
  {
   "cell_type": "markdown",
   "metadata": {},
   "source": [
    "<br><br><br><br><br><br><br><br><br><br><br><br><br><br><br><br><br><br><br><br>\n",
    "### By-locator types\n",
    "\n",
    "* By.ID\n",
    "    * `find_element_by_id(...)` == `find_element(By.ID, ...)`\n",
    "* By.XPATH\n",
    "    * `find_element_by_xpath(...)` == `find_element(By.XPATH, ...)`\n",
    "* By.NAME\n",
    "* By.TAG_NAME\n",
    "* By.CLASS_NAME\n",
    "* By.CSS_SELECTOR\n",
    "* By.LINK_TEXT\n",
    "* By.PARTIAL_LINK_TEXT"
   ]
  },
  {
   "cell_type": "code",
   "execution_count": null,
   "metadata": {},
   "outputs": [],
   "source": []
  },
  {
   "cell_type": "code",
   "execution_count": 16,
   "metadata": {},
   "outputs": [],
   "source": [
    "# driver.quit()"
   ]
  },
  {
   "cell_type": "code",
   "execution_count": null,
   "metadata": {},
   "outputs": [],
   "source": []
  }
 ],
 "metadata": {
  "kernelspec": {
   "display_name": "Python 3",
   "language": "python",
   "name": "python3"
  },
  "language_info": {
   "codemirror_mode": {
    "name": "ipython",
    "version": 3
   },
   "file_extension": ".py",
   "mimetype": "text/x-python",
   "name": "python",
   "nbconvert_exporter": "python",
   "pygments_lexer": "ipython3",
   "version": "3.7.6"
  }
 },
 "nbformat": 4,
 "nbformat_minor": 4
}