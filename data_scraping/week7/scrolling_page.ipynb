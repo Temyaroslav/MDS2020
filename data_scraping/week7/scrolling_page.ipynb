{
 "cells": [
  {
   "cell_type": "code",
   "execution_count": 1,
   "metadata": {},
   "outputs": [],
   "source": [
    "from selenium import webdriver\n",
    "import requests\n",
    "import re\n",
    "from bs4 import BeautifulSoup"
   ]
  },
  {
   "cell_type": "code",
   "execution_count": 2,
   "metadata": {},
   "outputs": [],
   "source": [
    "webdriver_path = r'C:\\Users\\Yaroslav\\Documents\\MDS2020\\coding\\data_scraping\\chromedriver.exe'"
   ]
  },
  {
   "cell_type": "code",
   "execution_count": 4,
   "metadata": {},
   "outputs": [],
   "source": [
    "url = 'https://twitter.com/search?q=covid stats'"
   ]
  },
  {
   "cell_type": "code",
   "execution_count": 5,
   "metadata": {},
   "outputs": [],
   "source": [
    "driver = webdriver.Chrome(webdriver_path)"
   ]
  },
  {
   "cell_type": "code",
   "execution_count": 6,
   "metadata": {},
   "outputs": [],
   "source": [
    "driver.get(url)"
   ]
  },
  {
   "cell_type": "code",
   "execution_count": 7,
   "metadata": {},
   "outputs": [],
   "source": [
    "from selenium.webdriver.common.keys import Keys"
   ]
  },
  {
   "cell_type": "code",
   "execution_count": 8,
   "metadata": {},
   "outputs": [],
   "source": [
    "driver.find_element_by_tag_name('html').send_keys([Keys.PAGE_DOWN for i in range(10)])"
   ]
  },
  {
   "cell_type": "code",
   "execution_count": 11,
   "metadata": {},
   "outputs": [],
   "source": [
    "tweets = []\n",
    "i = 0\n",
    "while True:\n",
    "    for tweet in driver.find_elements_by_css_selector('article'):\n",
    "        tweets.append(tweet.text)\n",
    "    driver.find_element_by_tag_name('html').send_keys([Keys.PAGE_DOWN for i in range(10)])\n",
    "    time.sleep(3)\n",
    "    i += 1\n",
    "    if i > 10:\n",
    "        break"
   ]
  },
  {
   "cell_type": "code",
   "execution_count": 12,
   "metadata": {},
   "outputs": [
    {
     "name": "stdout",
     "output_type": "stream",
     "text": [
      "Naomi Seibt\n",
      "@SeibtNaomi\n",
      "·\n",
      "Sep 26\n",
      "COVID DEATH STATS \n",
      "\n",
      "Official COVID deaths: 0.0125% of the global population (979,388)\n",
      "\n",
      "6% of US COVID deaths were caused by on average 2.6 other comorbidities (source: CDC)\n",
      "\n",
      "Apply that to the global population:\n",
      "58.763 / 7.833.326.049 * 100 =\n",
      "\n",
      "0,00075 % COVID deaths globally\n",
      "33\n",
      "142\n",
      "361\n"
     ]
    }
   ],
   "source": [
    "print(tweets[5])"
   ]
  },
  {
   "cell_type": "code",
   "execution_count": 14,
   "metadata": {},
   "outputs": [],
   "source": [
    "driver.quit()"
   ]
  },
  {
   "cell_type": "code",
   "execution_count": null,
   "metadata": {},
   "outputs": [],
   "source": []
  }
 ],
 "metadata": {
  "kernelspec": {
   "display_name": "Python 3",
   "language": "python",
   "name": "python3"
  },
  "language_info": {
   "codemirror_mode": {
    "name": "ipython",
    "version": 3
   },
   "file_extension": ".py",
   "mimetype": "text/x-python",
   "name": "python",
   "nbconvert_exporter": "python",
   "pygments_lexer": "ipython3",
   "version": "3.9.4"
  }
 },
 "nbformat": 4,
 "nbformat_minor": 4
}
