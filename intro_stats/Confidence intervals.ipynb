{
 "cells": [
  {
   "cell_type": "code",
   "execution_count": 1,
   "metadata": {},
   "outputs": [],
   "source": [
    "import numpy as np"
   ]
  },
  {
   "cell_type": "code",
   "execution_count": 2,
   "metadata": {},
   "outputs": [],
   "source": [
    "sample_size = 10\n",
    "pop_mean = 3\n",
    "pop_range = 4\n",
    "sample = np.random.uniform(pop_mean - pop_range, \n",
    "                           pop_mean + pop_range,\n",
    "                          size=sample_size)"
   ]
  },
  {
   "cell_type": "code",
   "execution_count": 3,
   "metadata": {},
   "outputs": [],
   "source": [
    "stderr = np.std(sample, ddof=1) / np.sqrt(sample_size)\n",
    "r = 1.96 * stderr\n",
    "sample_mean = np.mean(sample)\n",
    "confint = (sample_mean - r, sample_mean + r)"
   ]
  },
  {
   "cell_type": "code",
   "execution_count": 4,
   "metadata": {},
   "outputs": [
    {
     "data": {
      "text/plain": [
       "(1.3985781200763308, 4.5398846071565275)"
      ]
     },
     "execution_count": 4,
     "metadata": {},
     "output_type": "execute_result"
    }
   ],
   "source": [
    "confint"
   ]
  },
  {
   "cell_type": "markdown",
   "metadata": {},
   "source": [
    "As we see true population mean lies within our confidence interval. How often our true population mean does not lie in the confidence interval?"
   ]
  },
  {
   "cell_type": "code",
   "execution_count": 13,
   "metadata": {},
   "outputs": [
    {
     "name": "stdout",
     "output_type": "stream",
     "text": [
      "91.84\n"
     ]
    }
   ],
   "source": [
    "iterations = 10000\n",
    "counter = 0\n",
    "\n",
    "for i in range(iterations):\n",
    "    sample = np.random.uniform(pop_mean - pop_range, \n",
    "                           pop_mean + pop_range,\n",
    "                          size=sample_size)\n",
    "    stderr = np.std(sample, ddof=1) / np.sqrt(sample_size)\n",
    "    r = 1.96 * stderr\n",
    "    sample_mean = np.mean(sample)\n",
    "    confint = (sample_mean - r, sample_mean + r)\n",
    "    if confint[0] < pop_mean < confint[1]:\n",
    "        counter += 1\n",
    "\n",
    "print(counter / iterations * 100)"
   ]
  },
  {
   "cell_type": "markdown",
   "metadata": {},
   "source": [
    "As we see the number is not quite 95%. Why is that? Apparently sample size is too low for the CLT to start working and 1.96 is coming from the Standard Normal Distribution."
   ]
  },
  {
   "cell_type": "markdown",
   "metadata": {},
   "source": [
    "### Confidence intervals: beyond 1.96"
   ]
  },
  {
   "cell_type": "code",
   "execution_count": 18,
   "metadata": {},
   "outputs": [],
   "source": [
    "import scipy.stats as stats\n",
    "import matplotlib.pyplot as plt"
   ]
  },
  {
   "cell_type": "code",
   "execution_count": 17,
   "metadata": {},
   "outputs": [
    {
     "data": {
      "text/plain": [
       "(-1.959963984540054, 1.959963984540054)"
      ]
     },
     "execution_count": 17,
     "metadata": {},
     "output_type": "execute_result"
    }
   ],
   "source": [
    "stats.norm.interval(.95)"
   ]
  },
  {
   "cell_type": "code",
   "execution_count": 23,
   "metadata": {},
   "outputs": [
    {
     "data": {
      "image/png": "[encoded data removed]",
      "text/plain": [
       "<Figure size 432x288 with 1 Axes>"
      ]
     },
     "metadata": {
      "needs_background": "light"
     },
     "output_type": "display_data"
    }
   ],
   "source": [
    "conf_level = .95\n",
    "left, right = stats.norm.interval(conf_level)\n",
    "x = np.linspace(-7, 7, 200)\n",
    "x_int = np.linspace(left, right, 200)\n",
    "\n",
    "plt.plot(x, stats.norm.pdf(x))\n",
    "plt.fill_between(x_int, stats.norm.pdf(x_int))\n",
    "plt.plot(x, np.zeros_like(x))\n",
    "plt.title('Normal distribution')\n",
    "plt.show()"
   ]
  },
  {
   "cell_type": "markdown",
   "metadata": {},
   "source": [
    "If the sample size is too small we might be better to consider T distribution"
   ]
  },
  {
   "cell_type": "code",
   "execution_count": 26,
   "metadata": {},
   "outputs": [
    {
     "data": {
      "image/png": "[encoded data removed]",
      "text/plain": [
       "<Figure size 432x288 with 1 Axes>"
      ]
     },
     "metadata": {
      "needs_background": "light"
     },
     "output_type": "display_data"
    }
   ],
   "source": [
    "conf_level = .95\n",
    "df = 5  # sample size - 1\n",
    "left, right = stats.t.interval(conf_level, df=df)\n",
    "x = np.linspace(-7, 7, 200)\n",
    "x_int = np.linspace(left, right, 200)\n",
    "\n",
    "plt.plot(x, stats.t.pdf(x, df=df))\n",
    "plt.fill_between(x_int, stats.t.pdf(x_int, df=df))\n",
    "plt.plot(x, np.zeros_like(x))\n",
    "plt.title('T distribution')\n",
    "plt.show()"
   ]
  },
  {
   "cell_type": "markdown",
   "metadata": {},
   "source": [
    "Let's see how it works on some simulation"
   ]
  },
  {
   "cell_type": "code",
   "execution_count": 27,
   "metadata": {},
   "outputs": [],
   "source": [
    "sample_size = 10\n",
    "pop_mean = 3\n",
    "pop_range = 4\n",
    "df = sample_size - 1\n",
    "_, right = stats.t.interval(conf_level, df=df)"
   ]
  },
  {
   "cell_type": "code",
   "execution_count": 28,
   "metadata": {},
   "outputs": [
    {
     "name": "stdout",
     "output_type": "stream",
     "text": [
      "94.54\n"
     ]
    }
   ],
   "source": [
    "iterations = 10000\n",
    "counter = 0\n",
    "\n",
    "for i in range(iterations):\n",
    "    sample = np.random.uniform(pop_mean - pop_range, \n",
    "                           pop_mean + pop_range,\n",
    "                          size=sample_size)\n",
    "    stderr = np.std(sample, ddof=1) / np.sqrt(sample_size)\n",
    "    r = right * stderr\n",
    "    sample_mean = np.mean(sample)\n",
    "    confint = (sample_mean - r, sample_mean + r)\n",
    "    if confint[0] < pop_mean < confint[1]:\n",
    "        counter += 1\n",
    "\n",
    "print(counter / iterations * 100)"
   ]
  },
  {
   "cell_type": "markdown",
   "metadata": {},
   "source": [
    "The count is much closer to the 95% using the same sample size as in the example above with the Normal distribution."
   ]
  },
  {
   "cell_type": "code",
   "execution_count": null,
   "metadata": {},
   "outputs": [],
   "source": []
  }
 ],
 "metadata": {
  "kernelspec": {
   "display_name": "Python 3",
   "language": "python",
   "name": "python3"
  },
  "language_info": {
   "codemirror_mode": {
    "name": "ipython",
    "version": 3
   },
   "file_extension": ".py",
   "mimetype": "text/x-python",
   "name": "python",
   "nbconvert_exporter": "python",
   "pygments_lexer": "ipython3",
   "version": "3.7.6"
  }
 },
 "nbformat": 4,
 "nbformat_minor": 4
}
