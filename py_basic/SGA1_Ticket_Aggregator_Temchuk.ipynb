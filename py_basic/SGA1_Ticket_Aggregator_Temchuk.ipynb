{
 "cells": [
  {
   "cell_type": "markdown",
   "metadata": {},
   "source": [
    "#### (1) Ticket Aggregator (version1)"
   ]
  },
  {
   "cell_type": "markdown",
   "metadata": {},
   "source": [
    "Let's assume that the ticket price is entered as as integer without cents."
   ]
  },
  {
   "cell_type": "code",
   "execution_count": 1,
   "metadata": {},
   "outputs": [
    {
     "name": "stdout",
     "output_type": "stream",
     "text": [
      "Enter the ticket price: 200\n",
      "Enter the number of transfers: 2\n",
      "Is luggage included? [y/n]: n\n",
      "Is refund available? [y/n]: y\n",
      "==============================\n",
      "Offer details: \n",
      "Ticket price: 200$ \n",
      "Number of transfers: 2\n",
      "Luggage included: No \n",
      "Refund availabe: Yes\n",
      "Resulting category: good enough\n"
     ]
    }
   ],
   "source": [
    "ticket_price = int(input('Enter the ticket price: '))\n",
    "n_transfers = int(input('Enter the number of transfers: '))\n",
    "luggage, refund = input('Is luggage included? [y/n]: '), input('Is refund available? [y/n]: ')\n",
    "print('='*30)\n",
    "\n",
    "# check data inputs\n",
    "\n",
    "if ticket_price <= 0:\n",
    "    raise ValueError('Please enter the correct price.')\n",
    "if n_transfers < 0:\n",
    "    raise ValueError('Please enter the correct number of transfers.')\n",
    "if refund.lower() not in ['y', 'n']:\n",
    "    raise ValueError(\"Please use either 'y'-yes or 'n'-no as an input for the refund availability.\")\n",
    "else:\n",
    "    refund = True if refund.lower() == 'y' else False\n",
    "if luggage.lower() not in ['y', 'n']:\n",
    "    raise ValueError(\"Please use either 'y'-yes or 'n'-no as an input for the luggage inclusion.\")\n",
    "else:\n",
    "    luggage = True if luggage.lower() == 'y' else False\n",
    "    \n",
    "# classify the offer\n",
    "\n",
    "if ticket_price < 200 and n_transfers <= 1 and refund and luggage:\n",
    "    offer = 'the best offer'\n",
    "elif 200 <= ticket_price <= 250 and n_transfers <= 2:\n",
    "    offer = 'good enough'\n",
    "elif ticket_price > 250 and n_transfers >=3:\n",
    "    offer = 'the worst offer'\n",
    "else:\n",
    "    offer = 'other'\n",
    "    \n",
    "# output the results\n",
    "\n",
    "print('Offer details: \\nTicket price: {}$ \\nNumber of transfers: {}' \\\n",
    "      '\\nLuggage included: {} \\nRefund availabe: {}' \\\n",
    "     '\\nResulting category: {}'.format(ticket_price, n_transfers,\n",
    "                                            'Yes' if luggage else 'No', 'Yes' if refund else 'No',\n",
    "                                            offer))"
   ]
  },
  {
   "cell_type": "markdown",
   "metadata": {},
   "source": [
    "#### (2) Ticket Aggregator (version1) feedback"
   ]
  },
  {
   "cell_type": "markdown",
   "metadata": {},
   "source": [
    "The aggregator offers a reasonable classification of tickets based on the suggested criteria. On the bright side it uses the price of the ticket and the number of transfers as the main features to classify the offer, which are often the shaping factors when choosing a ticket. However, criteria like refund and luggage availability seem almost negligible, which is far from truth when it comes to the real life situations. \n",
    "Overall, I think that the set of criteria is rather sufficient whereas the classification rule is lacking complexity and would result in \"other\" category far too often. The proper aggregator should take into the account all the criteria given to classify the offer."
   ]
  },
  {
   "cell_type": "markdown",
   "metadata": {},
   "source": [
    "#### (3) Ticket Aggregator (version2)"
   ]
  },
  {
   "cell_type": "markdown",
   "metadata": {},
   "source": [
    "In this version of ticket aggregator I've decided to add a few more criteria which we usually see on flight search websites and consider when choosing tickets. These would be free seat selection, priority check-in & boarding and lounge availability."
   ]
  },
  {
   "cell_type": "markdown",
   "metadata": {},
   "source": [
    "In terms of the classification, I would like to introduce the scoring approach. This would take into the account all the criteria supplied with a ticket offer and provide more flexible classification."
   ]
  },
  {
   "cell_type": "markdown",
   "metadata": {},
   "source": [
    "Let's assume that for each type of boolean criteria we will add 0.1 to our final score (e.g. if refund and luggage is included, we will add 0.2 to our final score). With the number of transfers we will deduct 0.1 per trasnfer from our final score (e.g. if we have 2 transfer - 0.2 will be deducted). The similar goes with the ticket price, let's assume that the maximum score we can get for the ticket is 0.5 and we will deduct 0.1 per each 100\\\\$ (e.g. if the ticket price is 300$, we will get 0.5 - 300 * 0.1 / 100 = 0.2 as the ticket price score). Let's also assume that the ticket price score will be of the form max(0.5, 0)."
   ]
  },
  {
   "cell_type": "markdown",
   "metadata": {},
   "source": [
    "When we sum all the criteria the classification will depend on where we end up in the range from 0 to 1. We will get the worst offer if the final score <= 0.33, reasonable offer if 0.33 < final score <= 0.66, the best offer if final score > 0.66."
   ]
  },
  {
   "cell_type": "code",
   "execution_count": 2,
   "metadata": {},
   "outputs": [
    {
     "name": "stdout",
     "output_type": "stream",
     "text": [
      "Enter the ticket price: 250\n",
      "Enter the number of transfers: 0\n",
      "Is luggage included? [y/n]: y\n",
      "Is refund available? [y/n]: n\n",
      "Is free seat selection included? [y/n]: y\n",
      "Is priority check-in & boarding included? [y/n]: n\n",
      "Is lounge zone available? [y/n]: n\n",
      "==============================\n",
      "Offer details: \n",
      "Ticket price: 250$ \n",
      "Number of transfers: 0\n",
      "Luggage included: Yes \n",
      "Refund availabe: No\n",
      "Free seat selection included: Yes \n",
      "Priority check-in & boarding availabe: No \n",
      "Lounge zone available availabe: No\n",
      "Resulting category: reasonable offer\n"
     ]
    }
   ],
   "source": [
    "ticket_price = int(input('Enter the ticket price: '))\n",
    "n_transfers = int(input('Enter the number of transfers: '))\n",
    "luggage, refund = input('Is luggage included? [y/n]: '), input('Is refund available? [y/n]: ')\n",
    "seat = input('Is free seat selection included? [y/n]: ')\n",
    "priority, lounge = input('Is priority check-in & boarding included? [y/n]: '), input('Is lounge zone available? [y/n]: ')\n",
    "print('='*30)\n",
    "\n",
    "# check data inputs\n",
    "\n",
    "if ticket_price <= 0:\n",
    "    raise ValueError('Please enter the correct price.')\n",
    "    \n",
    "if n_transfers < 0:\n",
    "    raise ValueError('Please enter the correct number of transfers.')\n",
    "    \n",
    "if refund.lower() not in ['y', 'n']:\n",
    "    raise ValueError(\"Please use either 'y'-yes or 'n'-no as an input for the refund availability.\")\n",
    "else:\n",
    "    refund = True if refund.lower() == 'y' else False\n",
    "    \n",
    "if luggage.lower() not in ['y', 'n']:\n",
    "    raise ValueError(\"Please use either 'y'-yes or 'n'-no as an input for the luggage inclusion.\")\n",
    "else:\n",
    "    luggage = True if luggage.lower() == 'y' else False\n",
    "    \n",
    "if seat.lower() not in ['y', 'n']:\n",
    "    raise ValueError(\"Please use either 'y'-yes or 'n'-no as an input for the free seat selection inclusion.\")\n",
    "else:\n",
    "    seat = True if seat.lower() == 'y' else False\n",
    "    \n",
    "if priority.lower() not in ['y', 'n']:\n",
    "    raise ValueError(\"Please use either 'y'-yes or 'n'-no as an input for the priority check-in & boarding inclusion.\")\n",
    "else:\n",
    "    priority = True if priority.lower() == 'y' else False\n",
    "    \n",
    "if lounge.lower() not in ['y', 'n']:\n",
    "    raise ValueError(\"Please use either 'y'-yes or 'n'-no as an input for the lounge availability.\")\n",
    "else:\n",
    "    lounge = True if lounge.lower() == 'y' else False\n",
    "    \n",
    "# classify the offer\n",
    "\n",
    "final_score = (luggage + refund + seat + priority + lounge) * 0.1\n",
    "final_score -= n_transfers * 0.1\n",
    "final_score += max(0.5 - ticket_price * 0.1 / 100, 0) \n",
    "\n",
    "if final_score <= 0.33:\n",
    "    offer = 'the worst offer'\n",
    "elif 0.33 < final_score <= 0.66:\n",
    "    offer = 'reasonable offer'\n",
    "else:\n",
    "    offer = 'the best offer'\n",
    "    \n",
    "# output the results\n",
    "\n",
    "print('Offer details: \\nTicket price: {}$ \\nNumber of transfers: {}' \\\n",
    "      '\\nLuggage included: {} \\nRefund availabe: {}' \\\n",
    "      '\\nFree seat selection included: {} \\nPriority check-in & boarding availabe: {} ' \\\n",
    "      '\\nLounge zone available availabe: {}'\n",
    "     '\\nResulting category: {}'.format(ticket_price, n_transfers,\n",
    "                                       'Yes' if luggage else 'No', 'Yes' if refund else 'No',\n",
    "                                       'Yes' if seat else 'No', 'Yes' if priority else 'No',\n",
    "                                       'Yes' if lounge else 'No',\n",
    "                                       offer))"
   ]
  },
  {
   "cell_type": "code",
   "execution_count": null,
   "metadata": {},
   "outputs": [],
   "source": []
  }
 ],
 "metadata": {
  "kernelspec": {
   "display_name": "Python 3",
   "language": "python",
   "name": "python3"
  },
  "language_info": {
   "codemirror_mode": {
    "name": "ipython",
    "version": 3
   },
   "file_extension": ".py",
   "mimetype": "text/x-python",
   "name": "python",
   "nbconvert_exporter": "python",
   "pygments_lexer": "ipython3",
   "version": "3.6.5"
  }
 },
 "nbformat": 4,
 "nbformat_minor": 4
}
